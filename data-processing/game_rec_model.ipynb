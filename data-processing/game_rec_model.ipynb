{
  "cells": [
    {
      "cell_type": "markdown",
      "metadata": {
        "id": "view-in-github",
        "colab_type": "text"
      },
      "source": [
        "<a href=\"https://colab.research.google.com/github/reemchaaban/game_system/blob/main/data-processing/game_rec_model.ipynb\" target=\"_parent\"><img src=\"https://colab.research.google.com/assets/colab-badge.svg\" alt=\"Open In Colab\"/></a>"
      ]
    },
    {
      "cell_type": "markdown",
      "source": [
        "# GAME RECOMMENDATION MODEL"
      ],
      "metadata": {
        "id": "oX7aB-Dhb5wD"
      }
    },
    {
      "cell_type": "markdown",
      "source": [
        "Installing needed packages"
      ],
      "metadata": {
        "id": "GjGi-9Z8b9Sq"
      }
    },
    {
      "cell_type": "code",
      "source": [
        "!pip install lightfm --quiet\n",
        "!pip install huggingface_hub --quiet\n",
        "!pip install mlflow --quiet\n",
        "!pip install pyngrok --quiet\n",
        "!pip install prometheus-client --quiet"
      ],
      "metadata": {
        "colab": {
          "base_uri": "https://localhost:8080/"
        },
        "id": "w6STi4c1b9fM",
        "outputId": "b7303f0c-f4ae-4bfb-a88e-ff163076ba3b"
      },
      "execution_count": 1,
      "outputs": [
        {
          "output_type": "stream",
          "name": "stdout",
          "text": [
            "\u001b[?25l     \u001b[90m━━━━━━━━━━━━━━━━━━━━━━━━━━━━━━━━━━━━━━━━\u001b[0m \u001b[32m0.0/316.4 kB\u001b[0m \u001b[31m?\u001b[0m eta \u001b[36m-:--:--\u001b[0m\r\u001b[2K     \u001b[91m━━━━━━━━━━━━━━━━━━━━━━━━━━━━━━━━━━\u001b[0m\u001b[90m╺\u001b[0m\u001b[90m━━━━\u001b[0m \u001b[32m276.5/316.4 kB\u001b[0m \u001b[31m8.7 MB/s\u001b[0m eta \u001b[36m0:00:01\u001b[0m\r\u001b[2K     \u001b[90m━━━━━━━━━━━━━━━━━━━━━━━━━━━━━━━━━━━━━━━\u001b[0m \u001b[32m316.4/316.4 kB\u001b[0m \u001b[31m5.1 MB/s\u001b[0m eta \u001b[36m0:00:00\u001b[0m\n",
            "\u001b[?25h  Preparing metadata (setup.py) ... \u001b[?25l\u001b[?25hdone\n",
            "  Building wheel for lightfm (setup.py) ... \u001b[?25l\u001b[?25hdone\n",
            "\u001b[2K   \u001b[90m━━━━━━━━━━━━━━━━━━━━━━━━━━━━━━━━━━━━━━━━\u001b[0m \u001b[32m28.2/28.2 MB\u001b[0m \u001b[31m70.2 MB/s\u001b[0m eta \u001b[36m0:00:00\u001b[0m\n",
            "\u001b[2K   \u001b[90m━━━━━━━━━━━━━━━━━━━━━━━━━━━━━━━━━━━━━━━━\u001b[0m \u001b[32m6.1/6.1 MB\u001b[0m \u001b[31m77.1 MB/s\u001b[0m eta \u001b[36m0:00:00\u001b[0m\n",
            "\u001b[2K   \u001b[90m━━━━━━━━━━━━━━━━━━━━━━━━━━━━━━━━━━━━━━━━\u001b[0m \u001b[32m231.9/231.9 kB\u001b[0m \u001b[31m16.0 MB/s\u001b[0m eta \u001b[36m0:00:00\u001b[0m\n",
            "\u001b[2K   \u001b[90m━━━━━━━━━━━━━━━━━━━━━━━━━━━━━━━━━━━━━━━━\u001b[0m \u001b[32m147.8/147.8 kB\u001b[0m \u001b[31m11.5 MB/s\u001b[0m eta \u001b[36m0:00:00\u001b[0m\n",
            "\u001b[2K   \u001b[90m━━━━━━━━━━━━━━━━━━━━━━━━━━━━━━━━━━━━━━━━\u001b[0m \u001b[32m114.9/114.9 kB\u001b[0m \u001b[31m8.0 MB/s\u001b[0m eta \u001b[36m0:00:00\u001b[0m\n",
            "\u001b[2K   \u001b[90m━━━━━━━━━━━━━━━━━━━━━━━━━━━━━━━━━━━━━━━━\u001b[0m \u001b[32m85.0/85.0 kB\u001b[0m \u001b[31m6.2 MB/s\u001b[0m eta \u001b[36m0:00:00\u001b[0m\n",
            "\u001b[2K   \u001b[90m━━━━━━━━━━━━━━━━━━━━━━━━━━━━━━━━━━━━━━━━\u001b[0m \u001b[32m692.3/692.3 kB\u001b[0m \u001b[31m35.8 MB/s\u001b[0m eta \u001b[36m0:00:00\u001b[0m\n",
            "\u001b[2K   \u001b[90m━━━━━━━━━━━━━━━━━━━━━━━━━━━━━━━━━━━━━━━━\u001b[0m \u001b[32m95.2/95.2 kB\u001b[0m \u001b[31m7.3 MB/s\u001b[0m eta \u001b[36m0:00:00\u001b[0m\n",
            "\u001b[2K   \u001b[90m━━━━━━━━━━━━━━━━━━━━━━━━━━━━━━━━━━━━━━━━\u001b[0m \u001b[32m203.4/203.4 kB\u001b[0m \u001b[31m14.1 MB/s\u001b[0m eta \u001b[36m0:00:00\u001b[0m\n",
            "\u001b[2K   \u001b[90m━━━━━━━━━━━━━━━━━━━━━━━━━━━━━━━━━━━━━━━━\u001b[0m \u001b[32m62.5/62.5 kB\u001b[0m \u001b[31m4.0 MB/s\u001b[0m eta \u001b[36m0:00:00\u001b[0m\n",
            "\u001b[2K   \u001b[90m━━━━━━━━━━━━━━━━━━━━━━━━━━━━━━━━━━━━━━━━\u001b[0m \u001b[32m72.0/72.0 kB\u001b[0m \u001b[31m4.5 MB/s\u001b[0m eta \u001b[36m0:00:00\u001b[0m\n",
            "\u001b[?25h"
          ]
        }
      ]
    },
    {
      "cell_type": "markdown",
      "source": [
        "Importing needed libraries"
      ],
      "metadata": {
        "id": "ZPggSmS-cDZV"
      }
    },
    {
      "cell_type": "code",
      "execution_count": 2,
      "metadata": {
        "id": "AszY8GjykvB1"
      },
      "outputs": [],
      "source": [
        "import os\n",
        "import json\n",
        "from google.colab import drive, files, userdata\n",
        "import shutil\n",
        "import pandas as pd\n",
        "import numpy as np\n",
        "import seaborn as sns\n",
        "import matplotlib.pyplot as plt\n",
        "\n",
        "import pickle\n",
        "from scipy.sparse import coo_matrix\n",
        "\n",
        "from lightfm import LightFM\n",
        "from lightfm.data import Dataset\n",
        "from lightfm.evaluation import precision_at_k, recall_at_k, reciprocal_rank, auc_score\n",
        "from sklearn.preprocessing import MinMaxScaler\n",
        "\n",
        "from huggingface_hub import login, upload_folder\n",
        "from pyngrok import ngrok\n",
        "import mlflow\n",
        "from tqdm.notebook import trange\n",
        "from tqdm import trange\n",
        "\n",
        "from prometheus_client import start_http_server, Gauge, REGISTRY\n",
        "import psutil\n",
        "import threading\n",
        "import time"
      ]
    },
    {
      "cell_type": "markdown",
      "source": [
        "Authenticating Hugging Face & ngrok using tokens from Secrets"
      ],
      "metadata": {
        "id": "ol7AOQSxcTf1"
      }
    },
    {
      "cell_type": "code",
      "source": [
        "HF_TOKEN = userdata.get(\"HF_TOKEN\")\n",
        "NGROK_AUTH_TOKEN = userdata.get('NGROK_AUTH_TOKEN')\n",
        "\n",
        "login(token=HF_TOKEN)"
      ],
      "metadata": {
        "id": "qK1IcuWHcruQ"
      },
      "execution_count": 3,
      "outputs": []
    },
    {
      "cell_type": "markdown",
      "source": [
        "Loading dataset from Drive"
      ],
      "metadata": {
        "id": "IWjrO5NLcapw"
      }
    },
    {
      "cell_type": "code",
      "execution_count": 4,
      "metadata": {
        "colab": {
          "base_uri": "https://localhost:8080/"
        },
        "id": "eTxlQIzZmnv9",
        "outputId": "ac6611e7-b73c-4f20-b41e-48f334ee2fd4"
      },
      "outputs": [
        {
          "output_type": "stream",
          "name": "stdout",
          "text": [
            "Mounted at /content/drive\n"
          ]
        }
      ],
      "source": [
        "drive.mount('/content/drive')\n",
        "drive_base_path = '/content/drive/My Drive/503Nproj/datasets'\n",
        "\n",
        "games_df = pd.read_csv(os.path.join(drive_base_path, 'game_library_data.csv'))\n",
        "\n",
        "file_path = os.path.join(drive_base_path, 'synthetic_training_data.json')\n",
        "\n",
        "with open(file_path, 'r') as file:\n",
        "    player_data = json.load(file)"
      ]
    },
    {
      "cell_type": "markdown",
      "source": [
        "Flatten nested JSON player libraries into dataframe"
      ],
      "metadata": {
        "id": "OEPgb_s7cpn5"
      }
    },
    {
      "cell_type": "code",
      "execution_count": 5,
      "metadata": {
        "id": "ztshXZ3knp9T"
      },
      "outputs": [],
      "source": [
        "records = []\n",
        "for player_id, pdata in player_data.items():\n",
        "    for game_id, gdata in pdata['games'].items():\n",
        "        records.append({\n",
        "            'player_id': player_id,\n",
        "            'game_id': game_id,\n",
        "            'game_name': gdata['name'],\n",
        "            'rating_ratio': float(gdata['rating_ratio']),\n",
        "            'price': float(gdata['price']),\n",
        "            'genres': gdata['genre'], #list\n",
        "            'tags': gdata['tags'], #list\n",
        "            'playtime_hours': gdata['hours']\n",
        "        })\n",
        "\n",
        "player_libraries = pd.DataFrame(records)\n",
        "\n",
        "#normalizing playtime per player, where most-played game by player = 1.0 & others are relative\n",
        "player_libraries['normalized_playtime'] = player_libraries.groupby('player_id')['playtime_hours'].transform(lambda x: x / x.max())"
      ]
    },
    {
      "cell_type": "code",
      "execution_count": 6,
      "metadata": {
        "colab": {
          "base_uri": "https://localhost:8080/",
          "height": 608
        },
        "id": "dG5yUa5eo1-q",
        "outputId": "279c1621-cd86-4562-f053-677844b03b6e"
      },
      "outputs": [
        {
          "output_type": "execute_result",
          "data": {
            "text/plain": [
              "  player_id  game_id                   game_name  rating_ratio   price  \\\n",
              "0         0  1551360             Forza Horizon 5         7.785  5999.0   \n",
              "1         0   244210               Assetto Corsa        12.532  1999.0   \n",
              "2         0   284160                BeamNG.drive        37.755  2499.0   \n",
              "3         0   252950               Rocket League         6.945     0.0   \n",
              "4         0   211500  RaceRoom Racing Experience         3.045     0.0   \n",
              "\n",
              "                                            genres  \\\n",
              "0  [Action, Adventure, Racing, Simulation, Sports]   \n",
              "1              [Indie, Racing, Simulation, Sports]   \n",
              "2               [Racing, Simulation, Early Access]   \n",
              "3                  [Action, Indie, Racing, Sports]   \n",
              "4       [Racing, Simulation, Sports, Free To Play]   \n",
              "\n",
              "                                                tags  playtime_hours  \\\n",
              "0  [Racing, Open World, Driving, Multiplayer, Aut...              49   \n",
              "1  [Racing, Automobile Sim, Simulation, Driving, ...             235   \n",
              "2  [Simulation, Driving, Physics, Realistic, Dest...             313   \n",
              "3  [Multiplayer, Football (Soccer), Competitive, ...              92   \n",
              "4  [Free to Play, Racing, Automobile Sim, Realist...               3   \n",
              "\n",
              "   normalized_playtime  \n",
              "0             0.156550  \n",
              "1             0.750799  \n",
              "2             1.000000  \n",
              "3             0.293930  \n",
              "4             0.009585  "
            ],
            "text/html": [
              "\n",
              "  <div id=\"df-d3c5eee9-3afb-4a37-bc22-760fdb7566b5\" class=\"colab-df-container\">\n",
              "    <div>\n",
              "<style scoped>\n",
              "    .dataframe tbody tr th:only-of-type {\n",
              "        vertical-align: middle;\n",
              "    }\n",
              "\n",
              "    .dataframe tbody tr th {\n",
              "        vertical-align: top;\n",
              "    }\n",
              "\n",
              "    .dataframe thead th {\n",
              "        text-align: right;\n",
              "    }\n",
              "</style>\n",
              "<table border=\"1\" class=\"dataframe\">\n",
              "  <thead>\n",
              "    <tr style=\"text-align: right;\">\n",
              "      <th></th>\n",
              "      <th>player_id</th>\n",
              "      <th>game_id</th>\n",
              "      <th>game_name</th>\n",
              "      <th>rating_ratio</th>\n",
              "      <th>price</th>\n",
              "      <th>genres</th>\n",
              "      <th>tags</th>\n",
              "      <th>playtime_hours</th>\n",
              "      <th>normalized_playtime</th>\n",
              "    </tr>\n",
              "  </thead>\n",
              "  <tbody>\n",
              "    <tr>\n",
              "      <th>0</th>\n",
              "      <td>0</td>\n",
              "      <td>1551360</td>\n",
              "      <td>Forza Horizon 5</td>\n",
              "      <td>7.785</td>\n",
              "      <td>5999.0</td>\n",
              "      <td>[Action, Adventure, Racing, Simulation, Sports]</td>\n",
              "      <td>[Racing, Open World, Driving, Multiplayer, Aut...</td>\n",
              "      <td>49</td>\n",
              "      <td>0.156550</td>\n",
              "    </tr>\n",
              "    <tr>\n",
              "      <th>1</th>\n",
              "      <td>0</td>\n",
              "      <td>244210</td>\n",
              "      <td>Assetto Corsa</td>\n",
              "      <td>12.532</td>\n",
              "      <td>1999.0</td>\n",
              "      <td>[Indie, Racing, Simulation, Sports]</td>\n",
              "      <td>[Racing, Automobile Sim, Simulation, Driving, ...</td>\n",
              "      <td>235</td>\n",
              "      <td>0.750799</td>\n",
              "    </tr>\n",
              "    <tr>\n",
              "      <th>2</th>\n",
              "      <td>0</td>\n",
              "      <td>284160</td>\n",
              "      <td>BeamNG.drive</td>\n",
              "      <td>37.755</td>\n",
              "      <td>2499.0</td>\n",
              "      <td>[Racing, Simulation, Early Access]</td>\n",
              "      <td>[Simulation, Driving, Physics, Realistic, Dest...</td>\n",
              "      <td>313</td>\n",
              "      <td>1.000000</td>\n",
              "    </tr>\n",
              "    <tr>\n",
              "      <th>3</th>\n",
              "      <td>0</td>\n",
              "      <td>252950</td>\n",
              "      <td>Rocket League</td>\n",
              "      <td>6.945</td>\n",
              "      <td>0.0</td>\n",
              "      <td>[Action, Indie, Racing, Sports]</td>\n",
              "      <td>[Multiplayer, Football (Soccer), Competitive, ...</td>\n",
              "      <td>92</td>\n",
              "      <td>0.293930</td>\n",
              "    </tr>\n",
              "    <tr>\n",
              "      <th>4</th>\n",
              "      <td>0</td>\n",
              "      <td>211500</td>\n",
              "      <td>RaceRoom Racing Experience</td>\n",
              "      <td>3.045</td>\n",
              "      <td>0.0</td>\n",
              "      <td>[Racing, Simulation, Sports, Free To Play]</td>\n",
              "      <td>[Free to Play, Racing, Automobile Sim, Realist...</td>\n",
              "      <td>3</td>\n",
              "      <td>0.009585</td>\n",
              "    </tr>\n",
              "  </tbody>\n",
              "</table>\n",
              "</div>\n",
              "    <div class=\"colab-df-buttons\">\n",
              "\n",
              "  <div class=\"colab-df-container\">\n",
              "    <button class=\"colab-df-convert\" onclick=\"convertToInteractive('df-d3c5eee9-3afb-4a37-bc22-760fdb7566b5')\"\n",
              "            title=\"Convert this dataframe to an interactive table.\"\n",
              "            style=\"display:none;\">\n",
              "\n",
              "  <svg xmlns=\"http://www.w3.org/2000/svg\" height=\"24px\" viewBox=\"0 -960 960 960\">\n",
              "    <path d=\"M120-120v-720h720v720H120Zm60-500h600v-160H180v160Zm220 220h160v-160H400v160Zm0 220h160v-160H400v160ZM180-400h160v-160H180v160Zm440 0h160v-160H620v160ZM180-180h160v-160H180v160Zm440 0h160v-160H620v160Z\"/>\n",
              "  </svg>\n",
              "    </button>\n",
              "\n",
              "  <style>\n",
              "    .colab-df-container {\n",
              "      display:flex;\n",
              "      gap: 12px;\n",
              "    }\n",
              "\n",
              "    .colab-df-convert {\n",
              "      background-color: #E8F0FE;\n",
              "      border: none;\n",
              "      border-radius: 50%;\n",
              "      cursor: pointer;\n",
              "      display: none;\n",
              "      fill: #1967D2;\n",
              "      height: 32px;\n",
              "      padding: 0 0 0 0;\n",
              "      width: 32px;\n",
              "    }\n",
              "\n",
              "    .colab-df-convert:hover {\n",
              "      background-color: #E2EBFA;\n",
              "      box-shadow: 0px 1px 2px rgba(60, 64, 67, 0.3), 0px 1px 3px 1px rgba(60, 64, 67, 0.15);\n",
              "      fill: #174EA6;\n",
              "    }\n",
              "\n",
              "    .colab-df-buttons div {\n",
              "      margin-bottom: 4px;\n",
              "    }\n",
              "\n",
              "    [theme=dark] .colab-df-convert {\n",
              "      background-color: #3B4455;\n",
              "      fill: #D2E3FC;\n",
              "    }\n",
              "\n",
              "    [theme=dark] .colab-df-convert:hover {\n",
              "      background-color: #434B5C;\n",
              "      box-shadow: 0px 1px 3px 1px rgba(0, 0, 0, 0.15);\n",
              "      filter: drop-shadow(0px 1px 2px rgba(0, 0, 0, 0.3));\n",
              "      fill: #FFFFFF;\n",
              "    }\n",
              "  </style>\n",
              "\n",
              "    <script>\n",
              "      const buttonEl =\n",
              "        document.querySelector('#df-d3c5eee9-3afb-4a37-bc22-760fdb7566b5 button.colab-df-convert');\n",
              "      buttonEl.style.display =\n",
              "        google.colab.kernel.accessAllowed ? 'block' : 'none';\n",
              "\n",
              "      async function convertToInteractive(key) {\n",
              "        const element = document.querySelector('#df-d3c5eee9-3afb-4a37-bc22-760fdb7566b5');\n",
              "        const dataTable =\n",
              "          await google.colab.kernel.invokeFunction('convertToInteractive',\n",
              "                                                    [key], {});\n",
              "        if (!dataTable) return;\n",
              "\n",
              "        const docLinkHtml = 'Like what you see? Visit the ' +\n",
              "          '<a target=\"_blank\" href=https://colab.research.google.com/notebooks/data_table.ipynb>data table notebook</a>'\n",
              "          + ' to learn more about interactive tables.';\n",
              "        element.innerHTML = '';\n",
              "        dataTable['output_type'] = 'display_data';\n",
              "        await google.colab.output.renderOutput(dataTable, element);\n",
              "        const docLink = document.createElement('div');\n",
              "        docLink.innerHTML = docLinkHtml;\n",
              "        element.appendChild(docLink);\n",
              "      }\n",
              "    </script>\n",
              "  </div>\n",
              "\n",
              "\n",
              "<div id=\"df-7d76b379-f470-4215-86d2-ac1bcc9e7514\">\n",
              "  <button class=\"colab-df-quickchart\" onclick=\"quickchart('df-7d76b379-f470-4215-86d2-ac1bcc9e7514')\"\n",
              "            title=\"Suggest charts\"\n",
              "            style=\"display:none;\">\n",
              "\n",
              "<svg xmlns=\"http://www.w3.org/2000/svg\" height=\"24px\"viewBox=\"0 0 24 24\"\n",
              "     width=\"24px\">\n",
              "    <g>\n",
              "        <path d=\"M19 3H5c-1.1 0-2 .9-2 2v14c0 1.1.9 2 2 2h14c1.1 0 2-.9 2-2V5c0-1.1-.9-2-2-2zM9 17H7v-7h2v7zm4 0h-2V7h2v10zm4 0h-2v-4h2v4z\"/>\n",
              "    </g>\n",
              "</svg>\n",
              "  </button>\n",
              "\n",
              "<style>\n",
              "  .colab-df-quickchart {\n",
              "      --bg-color: #E8F0FE;\n",
              "      --fill-color: #1967D2;\n",
              "      --hover-bg-color: #E2EBFA;\n",
              "      --hover-fill-color: #174EA6;\n",
              "      --disabled-fill-color: #AAA;\n",
              "      --disabled-bg-color: #DDD;\n",
              "  }\n",
              "\n",
              "  [theme=dark] .colab-df-quickchart {\n",
              "      --bg-color: #3B4455;\n",
              "      --fill-color: #D2E3FC;\n",
              "      --hover-bg-color: #434B5C;\n",
              "      --hover-fill-color: #FFFFFF;\n",
              "      --disabled-bg-color: #3B4455;\n",
              "      --disabled-fill-color: #666;\n",
              "  }\n",
              "\n",
              "  .colab-df-quickchart {\n",
              "    background-color: var(--bg-color);\n",
              "    border: none;\n",
              "    border-radius: 50%;\n",
              "    cursor: pointer;\n",
              "    display: none;\n",
              "    fill: var(--fill-color);\n",
              "    height: 32px;\n",
              "    padding: 0;\n",
              "    width: 32px;\n",
              "  }\n",
              "\n",
              "  .colab-df-quickchart:hover {\n",
              "    background-color: var(--hover-bg-color);\n",
              "    box-shadow: 0 1px 2px rgba(60, 64, 67, 0.3), 0 1px 3px 1px rgba(60, 64, 67, 0.15);\n",
              "    fill: var(--button-hover-fill-color);\n",
              "  }\n",
              "\n",
              "  .colab-df-quickchart-complete:disabled,\n",
              "  .colab-df-quickchart-complete:disabled:hover {\n",
              "    background-color: var(--disabled-bg-color);\n",
              "    fill: var(--disabled-fill-color);\n",
              "    box-shadow: none;\n",
              "  }\n",
              "\n",
              "  .colab-df-spinner {\n",
              "    border: 2px solid var(--fill-color);\n",
              "    border-color: transparent;\n",
              "    border-bottom-color: var(--fill-color);\n",
              "    animation:\n",
              "      spin 1s steps(1) infinite;\n",
              "  }\n",
              "\n",
              "  @keyframes spin {\n",
              "    0% {\n",
              "      border-color: transparent;\n",
              "      border-bottom-color: var(--fill-color);\n",
              "      border-left-color: var(--fill-color);\n",
              "    }\n",
              "    20% {\n",
              "      border-color: transparent;\n",
              "      border-left-color: var(--fill-color);\n",
              "      border-top-color: var(--fill-color);\n",
              "    }\n",
              "    30% {\n",
              "      border-color: transparent;\n",
              "      border-left-color: var(--fill-color);\n",
              "      border-top-color: var(--fill-color);\n",
              "      border-right-color: var(--fill-color);\n",
              "    }\n",
              "    40% {\n",
              "      border-color: transparent;\n",
              "      border-right-color: var(--fill-color);\n",
              "      border-top-color: var(--fill-color);\n",
              "    }\n",
              "    60% {\n",
              "      border-color: transparent;\n",
              "      border-right-color: var(--fill-color);\n",
              "    }\n",
              "    80% {\n",
              "      border-color: transparent;\n",
              "      border-right-color: var(--fill-color);\n",
              "      border-bottom-color: var(--fill-color);\n",
              "    }\n",
              "    90% {\n",
              "      border-color: transparent;\n",
              "      border-bottom-color: var(--fill-color);\n",
              "    }\n",
              "  }\n",
              "</style>\n",
              "\n",
              "  <script>\n",
              "    async function quickchart(key) {\n",
              "      const quickchartButtonEl =\n",
              "        document.querySelector('#' + key + ' button');\n",
              "      quickchartButtonEl.disabled = true;  // To prevent multiple clicks.\n",
              "      quickchartButtonEl.classList.add('colab-df-spinner');\n",
              "      try {\n",
              "        const charts = await google.colab.kernel.invokeFunction(\n",
              "            'suggestCharts', [key], {});\n",
              "      } catch (error) {\n",
              "        console.error('Error during call to suggestCharts:', error);\n",
              "      }\n",
              "      quickchartButtonEl.classList.remove('colab-df-spinner');\n",
              "      quickchartButtonEl.classList.add('colab-df-quickchart-complete');\n",
              "    }\n",
              "    (() => {\n",
              "      let quickchartButtonEl =\n",
              "        document.querySelector('#df-7d76b379-f470-4215-86d2-ac1bcc9e7514 button');\n",
              "      quickchartButtonEl.style.display =\n",
              "        google.colab.kernel.accessAllowed ? 'block' : 'none';\n",
              "    })();\n",
              "  </script>\n",
              "</div>\n",
              "\n",
              "    </div>\n",
              "  </div>\n"
            ],
            "application/vnd.google.colaboratory.intrinsic+json": {
              "type": "dataframe",
              "variable_name": "player_libraries"
            }
          },
          "metadata": {},
          "execution_count": 6
        }
      ],
      "source": [
        "player_libraries.head()"
      ]
    },
    {
      "cell_type": "markdown",
      "source": [
        "Building dataset"
      ],
      "metadata": {
        "id": "a0qvJ0zhc4gv"
      }
    },
    {
      "cell_type": "code",
      "execution_count": 8,
      "metadata": {
        "id": "e4Elgy9GpHY4"
      },
      "outputs": [],
      "source": [
        "dataset = Dataset()\n",
        "dataset.fit(\n",
        "    users=player_libraries['player_id'],\n",
        "    items=games_df['game_id']\n",
        ")"
      ]
    },
    {
      "cell_type": "markdown",
      "source": [
        "Normalization & saving game-rec scaler"
      ],
      "metadata": {
        "id": "OiBWTZpkc-sq"
      }
    },
    {
      "cell_type": "code",
      "execution_count": 9,
      "metadata": {
        "id": "MM2i1itMpzAx"
      },
      "outputs": [],
      "source": [
        "#normalizing price & rating ratio\n",
        "scaler = MinMaxScaler()\n",
        "player_libraries[['norm_price', 'norm_rating_ratio']] = scaler.fit_transform(player_libraries[['price', 'rating_ratio']])\n",
        "\n",
        "#saving scaler\n",
        "os.makedirs(\"game-rec\", exist_ok=True)\n",
        "with open(\"game-rec/scaler.pkl\", \"wb\") as f:\n",
        "    pickle.dump(scaler, f)"
      ]
    },
    {
      "cell_type": "markdown",
      "source": [
        "Creating item-feature matrix"
      ],
      "metadata": {
        "id": "F_kD5c1EdVfR"
      }
    },
    {
      "cell_type": "code",
      "source": [
        "#combining features\n",
        "player_libraries['feature_list'] = player_libraries.apply(\n",
        "    lambda row: [f'genre:{g}' for g in row['genres']] + #multi-hot categorical feature\n",
        "                [f'tag:{t}' for t in row['tags']] + #multi-hot categorical feature\n",
        "                [f'norm_price:{row.norm_price:.4f}'] +\n",
        "                [f'norm_rating_ratio:{row.norm_rating_ratio:.4f}'], axis=1)\n",
        "\n",
        "#grouping by game ID & aggregate features, i.e., genre, tag, price, rating ratio\n",
        "item_features_df = player_libraries.groupby('game_id').agg({\n",
        "    'feature_list': lambda lists: lists.iloc[0]  #features are the same for each game\n",
        "}).reset_index()"
      ],
      "metadata": {
        "id": "PzHm19QKdOxC"
      },
      "execution_count": 10,
      "outputs": []
    },
    {
      "cell_type": "code",
      "execution_count": 11,
      "metadata": {
        "id": "uqFfbVb6q4E4"
      },
      "outputs": [],
      "source": [
        "#fill with all item features\n",
        "all_features = set()\n",
        "for feats in item_features_df['feature_list']:\n",
        "    all_features.update(feats)\n",
        "\n",
        "dataset.fit_partial(\n",
        "    items=item_features_df['game_id'],\n",
        "    item_features=list(all_features)\n",
        ")"
      ]
    },
    {
      "cell_type": "code",
      "execution_count": 12,
      "metadata": {
        "id": "_YhIddMbq58K"
      },
      "outputs": [],
      "source": [
        "item_features_tuples = list(zip(item_features_df['game_id'], item_features_df['feature_list']))\n",
        "item_features_matrix = dataset.build_item_features(item_features_tuples)\n",
        "\n",
        "with open(\"game-rec/item_features_matrix.pkl\", \"wb\") as f:\n",
        "    pickle.dump(item_features_matrix, f)"
      ]
    },
    {
      "cell_type": "code",
      "execution_count": 13,
      "metadata": {
        "id": "cWuKgMjGq8d6"
      },
      "outputs": [],
      "source": [
        "#building interaction matrix for LightFM w/ weights\n",
        "(interactions, weights) = dataset.build_interactions([\n",
        "    (row['player_id'], row['game_id'], row['normalized_playtime'])\n",
        "    for _, row in player_libraries.iterrows()\n",
        "])"
      ]
    },
    {
      "cell_type": "markdown",
      "source": [
        "Prometheus server"
      ],
      "metadata": {
        "id": "O8GVCVVjdjIq"
      }
    },
    {
      "cell_type": "code",
      "source": [
        "for collector in list(REGISTRY._collector_to_names.keys()):\n",
        "    REGISTRY.unregister(collector)\n",
        "\n",
        "def start_prometheus_server():\n",
        "    start_http_server(8000)\n",
        "    print(\"Prometheus server started on http://localhost:8000/\")\n",
        "\n",
        "threading.Thread(target=start_prometheus_server).start()"
      ],
      "metadata": {
        "colab": {
          "base_uri": "https://localhost:8080/"
        },
        "id": "gWSEYGVjYRam",
        "outputId": "94da6bc5-d52e-4a28-e2de-9725a1317113"
      },
      "execution_count": 15,
      "outputs": [
        {
          "output_type": "stream",
          "name": "stdout",
          "text": [
            "Prometheus server started on http://localhost:8000/"
          ]
        }
      ]
    },
    {
      "cell_type": "code",
      "source": [
        "# terminate any open tunnels\n",
        "ngrok.kill()\n",
        "\n",
        "ngrok.set_auth_token(NGROK_AUTH_TOKEN)\n",
        "prometheus_url = ngrok.connect(8000, proto=\"http\")\n",
        "print(f\" * Prometheus tunnel: {prometheus_url}\")"
      ],
      "metadata": {
        "colab": {
          "base_uri": "https://localhost:8080/"
        },
        "id": "o32ghPRxYaQl",
        "outputId": "fa2d763b-93a7-420b-ca27-d69207d68558"
      },
      "execution_count": 17,
      "outputs": [
        {
          "output_type": "stream",
          "name": "stdout",
          "text": [
            " * Prometheus tunnel: NgrokTunnel: \"https://ad7e-34-81-191-127.ngrok-free.app\" -> \"http://localhost:8000\"\n"
          ]
        }
      ]
    },
    {
      "cell_type": "markdown",
      "source": [
        "Defining Prometheus metrics"
      ],
      "metadata": {
        "id": "uK4HOU30dwrw"
      }
    },
    {
      "cell_type": "code",
      "source": [
        "cpu_usage_metric = Gauge('game_model_cpu_usage_percent', 'CPU usage (%)')\n",
        "memory_usage_metric = Gauge('game_model_memory_usage_percent', 'Memory usage (%)')\n",
        "epoch_duration_metric = Gauge('game_model_epoch_duration_seconds', 'Epoch duration')"
      ],
      "metadata": {
        "id": "bc7ukDifYi4i"
      },
      "execution_count": 18,
      "outputs": []
    },
    {
      "cell_type": "markdown",
      "source": [
        "LightFM model training & evaluation"
      ],
      "metadata": {
        "id": "i2eX-r4Ud5LO"
      }
    },
    {
      "cell_type": "code",
      "execution_count": 19,
      "metadata": {
        "colab": {
          "base_uri": "https://localhost:8080/"
        },
        "id": "ZLu8h4YmrCUT",
        "outputId": "cac7bc3b-a12a-41ed-d07c-bcabd5525f97"
      },
      "outputs": [
        {
          "output_type": "stream",
          "name": "stderr",
          "text": [
            "Training epochs:   2%|▏         | 1/60 [00:18<18:03, 18.36s/it]"
          ]
        },
        {
          "output_type": "stream",
          "name": "stdout",
          "text": [
            "Epoch 0: Duration 18.36s | CPU 38.4% | Memory 42.9%\n"
          ]
        },
        {
          "output_type": "stream",
          "name": "stderr",
          "text": [
            "\rTraining epochs:   3%|▎         | 2/60 [00:36<17:28, 18.08s/it]"
          ]
        },
        {
          "output_type": "stream",
          "name": "stdout",
          "text": [
            "Epoch 1: Duration 17.88s | CPU 74.4% | Memory 42.8%\n"
          ]
        },
        {
          "output_type": "stream",
          "name": "stderr",
          "text": [
            "\rTraining epochs:   5%|▌         | 3/60 [00:55<17:42, 18.64s/it]"
          ]
        },
        {
          "output_type": "stream",
          "name": "stdout",
          "text": [
            "Epoch 2: Duration 19.32s | CPU 75.7% | Memory 42.8%\n"
          ]
        },
        {
          "output_type": "stream",
          "name": "stderr",
          "text": [
            "\rTraining epochs:   7%|▋         | 4/60 [01:14<17:20, 18.58s/it]"
          ]
        },
        {
          "output_type": "stream",
          "name": "stdout",
          "text": [
            "Epoch 3: Duration 18.49s | CPU 75.2% | Memory 42.8%\n"
          ]
        },
        {
          "output_type": "stream",
          "name": "stderr",
          "text": [
            "\rTraining epochs:   8%|▊         | 5/60 [01:31<16:45, 18.29s/it]"
          ]
        },
        {
          "output_type": "stream",
          "name": "stdout",
          "text": [
            "Epoch 4: Duration 17.76s | CPU 74.2% | Memory 42.8%\n"
          ]
        },
        {
          "output_type": "stream",
          "name": "stderr",
          "text": [
            "\rTraining epochs:  10%|█         | 6/60 [01:49<16:16, 18.08s/it]"
          ]
        },
        {
          "output_type": "stream",
          "name": "stdout",
          "text": [
            "Epoch 5: Duration 17.67s | CPU 74.0% | Memory 42.8%\n"
          ]
        },
        {
          "output_type": "stream",
          "name": "stderr",
          "text": [
            "\rTraining epochs:  12%|█▏        | 7/60 [02:08<16:15, 18.41s/it]"
          ]
        },
        {
          "output_type": "stream",
          "name": "stdout",
          "text": [
            "Epoch 6: Duration 19.09s | CPU 75.5% | Memory 42.8%\n"
          ]
        },
        {
          "output_type": "stream",
          "name": "stderr",
          "text": [
            "\rTraining epochs:  13%|█▎        | 8/60 [02:26<15:52, 18.33s/it]"
          ]
        },
        {
          "output_type": "stream",
          "name": "stdout",
          "text": [
            "Epoch 7: Duration 18.15s | CPU 74.6% | Memory 42.8%\n"
          ]
        },
        {
          "output_type": "stream",
          "name": "stderr",
          "text": [
            "\rTraining epochs:  15%|█▌        | 9/60 [02:44<15:23, 18.12s/it]"
          ]
        },
        {
          "output_type": "stream",
          "name": "stdout",
          "text": [
            "Epoch 8: Duration 17.65s | CPU 73.9% | Memory 42.8%\n"
          ]
        },
        {
          "output_type": "stream",
          "name": "stderr",
          "text": [
            "\rTraining epochs:  17%|█▋        | 10/60 [03:04<15:43, 18.87s/it]"
          ]
        },
        {
          "output_type": "stream",
          "name": "stdout",
          "text": [
            "Epoch 9: Duration 20.54s | CPU 77.3% | Memory 43.2%\n"
          ]
        },
        {
          "output_type": "stream",
          "name": "stderr",
          "text": [
            "\rTraining epochs:  18%|█▊        | 11/60 [03:23<15:19, 18.77s/it]"
          ]
        },
        {
          "output_type": "stream",
          "name": "stdout",
          "text": [
            "Epoch 10: Duration 18.56s | CPU 75.6% | Memory 43.0%\n"
          ]
        },
        {
          "output_type": "stream",
          "name": "stderr",
          "text": [
            "\rTraining epochs:  20%|██        | 12/60 [03:41<14:43, 18.41s/it]"
          ]
        },
        {
          "output_type": "stream",
          "name": "stdout",
          "text": [
            "Epoch 11: Duration 17.59s | CPU 73.9% | Memory 43.2%\n"
          ]
        },
        {
          "output_type": "stream",
          "name": "stderr",
          "text": [
            "\rTraining epochs:  22%|██▏       | 13/60 [04:04<15:32, 19.85s/it]"
          ]
        },
        {
          "output_type": "stream",
          "name": "stdout",
          "text": [
            "Epoch 12: Duration 23.16s | CPU 89.3% | Memory 43.2%\n"
          ]
        },
        {
          "output_type": "stream",
          "name": "stderr",
          "text": [
            "\rTraining epochs:  23%|██▎       | 14/60 [04:22<14:45, 19.24s/it]"
          ]
        },
        {
          "output_type": "stream",
          "name": "stdout",
          "text": [
            "Epoch 13: Duration 17.82s | CPU 74.5% | Memory 43.2%\n"
          ]
        },
        {
          "output_type": "stream",
          "name": "stderr",
          "text": [
            "\rTraining epochs:  25%|██▌       | 15/60 [04:39<14:02, 18.73s/it]"
          ]
        },
        {
          "output_type": "stream",
          "name": "stdout",
          "text": [
            "Epoch 14: Duration 17.53s | CPU 74.1% | Memory 43.2%\n"
          ]
        },
        {
          "output_type": "stream",
          "name": "stderr",
          "text": [
            "\rTraining epochs:  27%|██▋       | 16/60 [04:57<13:30, 18.42s/it]"
          ]
        },
        {
          "output_type": "stream",
          "name": "stdout",
          "text": [
            "Epoch 15: Duration 17.70s | CPU 73.9% | Memory 43.3%\n"
          ]
        },
        {
          "output_type": "stream",
          "name": "stderr",
          "text": [
            "\rTraining epochs:  28%|██▊       | 17/60 [05:16<13:21, 18.64s/it]"
          ]
        },
        {
          "output_type": "stream",
          "name": "stdout",
          "text": [
            "Epoch 16: Duration 19.15s | CPU 75.8% | Memory 43.2%\n"
          ]
        },
        {
          "output_type": "stream",
          "name": "stderr",
          "text": [
            "\rTraining epochs:  30%|███       | 18/60 [05:34<12:50, 18.35s/it]"
          ]
        },
        {
          "output_type": "stream",
          "name": "stdout",
          "text": [
            "Epoch 17: Duration 17.69s | CPU 74.3% | Memory 43.1%\n"
          ]
        },
        {
          "output_type": "stream",
          "name": "stderr",
          "text": [
            "\rTraining epochs:  32%|███▏      | 19/60 [05:52<12:26, 18.21s/it]"
          ]
        },
        {
          "output_type": "stream",
          "name": "stdout",
          "text": [
            "Epoch 18: Duration 17.86s | CPU 73.3% | Memory 42.8%\n"
          ]
        },
        {
          "output_type": "stream",
          "name": "stderr",
          "text": [
            "\rTraining epochs:  33%|███▎      | 20/60 [06:09<11:59, 18.00s/it]"
          ]
        },
        {
          "output_type": "stream",
          "name": "stdout",
          "text": [
            "Epoch 19: Duration 17.51s | CPU 73.8% | Memory 42.9%\n"
          ]
        },
        {
          "output_type": "stream",
          "name": "stderr",
          "text": [
            "\rTraining epochs:  35%|███▌      | 21/60 [06:28<11:58, 18.43s/it]"
          ]
        },
        {
          "output_type": "stream",
          "name": "stdout",
          "text": [
            "Epoch 20: Duration 19.45s | CPU 76.5% | Memory 43.0%\n"
          ]
        },
        {
          "output_type": "stream",
          "name": "stderr",
          "text": [
            "\rTraining epochs:  37%|███▋      | 22/60 [06:46<11:30, 18.16s/it]"
          ]
        },
        {
          "output_type": "stream",
          "name": "stdout",
          "text": [
            "Epoch 21: Duration 17.53s | CPU 73.9% | Memory 42.8%\n"
          ]
        },
        {
          "output_type": "stream",
          "name": "stderr",
          "text": [
            "\rTraining epochs:  38%|███▊      | 23/60 [07:03<11:04, 17.96s/it]"
          ]
        },
        {
          "output_type": "stream",
          "name": "stdout",
          "text": [
            "Epoch 22: Duration 17.48s | CPU 74.1% | Memory 42.9%\n"
          ]
        },
        {
          "output_type": "stream",
          "name": "stderr",
          "text": [
            "\rTraining epochs:  40%|████      | 24/60 [07:22<10:49, 18.05s/it]"
          ]
        },
        {
          "output_type": "stream",
          "name": "stdout",
          "text": [
            "Epoch 23: Duration 18.27s | CPU 74.2% | Memory 42.8%\n"
          ]
        },
        {
          "output_type": "stream",
          "name": "stderr",
          "text": [
            "\rTraining epochs:  42%|████▏     | 25/60 [07:42<10:51, 18.60s/it]"
          ]
        },
        {
          "output_type": "stream",
          "name": "stdout",
          "text": [
            "Epoch 24: Duration 19.87s | CPU 77.0% | Memory 42.9%\n"
          ]
        },
        {
          "output_type": "stream",
          "name": "stderr",
          "text": [
            "\rTraining epochs:  43%|████▎     | 26/60 [08:00<10:28, 18.48s/it]"
          ]
        },
        {
          "output_type": "stream",
          "name": "stdout",
          "text": [
            "Epoch 25: Duration 18.19s | CPU 75.1% | Memory 42.9%\n"
          ]
        },
        {
          "output_type": "stream",
          "name": "stderr",
          "text": [
            "\rTraining epochs:  45%|████▌     | 27/60 [08:17<09:59, 18.17s/it]"
          ]
        },
        {
          "output_type": "stream",
          "name": "stdout",
          "text": [
            "Epoch 26: Duration 17.46s | CPU 73.9% | Memory 43.0%\n"
          ]
        },
        {
          "output_type": "stream",
          "name": "stderr",
          "text": [
            "\rTraining epochs:  47%|████▋     | 28/60 [08:35<09:38, 18.09s/it]"
          ]
        },
        {
          "output_type": "stream",
          "name": "stdout",
          "text": [
            "Epoch 27: Duration 17.89s | CPU 73.8% | Memory 42.8%\n"
          ]
        },
        {
          "output_type": "stream",
          "name": "stderr",
          "text": [
            "\rTraining epochs:  48%|████▊     | 29/60 [08:54<09:28, 18.33s/it]"
          ]
        },
        {
          "output_type": "stream",
          "name": "stdout",
          "text": [
            "Epoch 28: Duration 18.88s | CPU 75.9% | Memory 42.8%\n"
          ]
        },
        {
          "output_type": "stream",
          "name": "stderr",
          "text": [
            "\rTraining epochs:  50%|█████     | 30/60 [09:13<09:16, 18.54s/it]"
          ]
        },
        {
          "output_type": "stream",
          "name": "stdout",
          "text": [
            "Epoch 29: Duration 19.02s | CPU 75.6% | Memory 42.8%\n"
          ]
        },
        {
          "output_type": "stream",
          "name": "stderr",
          "text": [
            "\rTraining epochs:  52%|█████▏    | 31/60 [09:31<08:48, 18.22s/it]"
          ]
        },
        {
          "output_type": "stream",
          "name": "stdout",
          "text": [
            "Epoch 30: Duration 17.48s | CPU 73.8% | Memory 42.8%\n"
          ]
        },
        {
          "output_type": "stream",
          "name": "stderr",
          "text": [
            "\rTraining epochs:  53%|█████▎    | 32/60 [09:49<08:35, 18.40s/it]"
          ]
        },
        {
          "output_type": "stream",
          "name": "stdout",
          "text": [
            "Epoch 31: Duration 18.80s | CPU 75.2% | Memory 42.8%\n"
          ]
        },
        {
          "output_type": "stream",
          "name": "stderr",
          "text": [
            "\rTraining epochs:  55%|█████▌    | 33/60 [10:07<08:13, 18.28s/it]"
          ]
        },
        {
          "output_type": "stream",
          "name": "stdout",
          "text": [
            "Epoch 32: Duration 18.02s | CPU 75.1% | Memory 42.9%\n"
          ]
        },
        {
          "output_type": "stream",
          "name": "stderr",
          "text": [
            "\rTraining epochs:  57%|█████▋    | 34/60 [10:25<07:49, 18.05s/it]"
          ]
        },
        {
          "output_type": "stream",
          "name": "stdout",
          "text": [
            "Epoch 33: Duration 17.51s | CPU 73.8% | Memory 42.8%\n"
          ]
        },
        {
          "output_type": "stream",
          "name": "stderr",
          "text": [
            "\rTraining epochs:  58%|█████▊    | 35/60 [10:42<07:27, 17.88s/it]"
          ]
        },
        {
          "output_type": "stream",
          "name": "stdout",
          "text": [
            "Epoch 34: Duration 17.48s | CPU 73.9% | Memory 42.8%\n"
          ]
        },
        {
          "output_type": "stream",
          "name": "stderr",
          "text": [
            "\rTraining epochs:  60%|██████    | 36/60 [11:01<07:15, 18.15s/it]"
          ]
        },
        {
          "output_type": "stream",
          "name": "stdout",
          "text": [
            "Epoch 35: Duration 18.78s | CPU 74.9% | Memory 42.8%\n"
          ]
        },
        {
          "output_type": "stream",
          "name": "stderr",
          "text": [
            "\rTraining epochs:  62%|██████▏   | 37/60 [11:19<06:56, 18.12s/it]"
          ]
        },
        {
          "output_type": "stream",
          "name": "stdout",
          "text": [
            "Epoch 36: Duration 18.04s | CPU 74.7% | Memory 42.8%\n"
          ]
        },
        {
          "output_type": "stream",
          "name": "stderr",
          "text": [
            "\rTraining epochs:  63%|██████▎   | 38/60 [11:37<06:33, 17.89s/it]"
          ]
        },
        {
          "output_type": "stream",
          "name": "stdout",
          "text": [
            "Epoch 37: Duration 17.34s | CPU 73.8% | Memory 42.8%\n"
          ]
        },
        {
          "output_type": "stream",
          "name": "stderr",
          "text": [
            "\rTraining epochs:  65%|██████▌   | 39/60 [11:54<06:12, 17.75s/it]"
          ]
        },
        {
          "output_type": "stream",
          "name": "stdout",
          "text": [
            "Epoch 38: Duration 17.43s | CPU 73.8% | Memory 42.6%\n"
          ]
        },
        {
          "output_type": "stream",
          "name": "stderr",
          "text": [
            "\rTraining epochs:  67%|██████▋   | 40/60 [12:12<05:57, 17.89s/it]"
          ]
        },
        {
          "output_type": "stream",
          "name": "stdout",
          "text": [
            "Epoch 39: Duration 18.22s | CPU 74.0% | Memory 42.9%\n"
          ]
        },
        {
          "output_type": "stream",
          "name": "stderr",
          "text": [
            "\rTraining epochs:  68%|██████▊   | 41/60 [12:31<05:43, 18.06s/it]"
          ]
        },
        {
          "output_type": "stream",
          "name": "stdout",
          "text": [
            "Epoch 40: Duration 18.45s | CPU 75.3% | Memory 42.8%\n"
          ]
        },
        {
          "output_type": "stream",
          "name": "stderr",
          "text": [
            "\rTraining epochs:  70%|███████   | 42/60 [12:48<05:21, 17.89s/it]"
          ]
        },
        {
          "output_type": "stream",
          "name": "stdout",
          "text": [
            "Epoch 41: Duration 17.48s | CPU 73.6% | Memory 42.8%\n"
          ]
        },
        {
          "output_type": "stream",
          "name": "stderr",
          "text": [
            "\rTraining epochs:  72%|███████▏  | 43/60 [13:06<05:01, 17.75s/it]"
          ]
        },
        {
          "output_type": "stream",
          "name": "stdout",
          "text": [
            "Epoch 42: Duration 17.41s | CPU 74.0% | Memory 42.9%\n"
          ]
        },
        {
          "output_type": "stream",
          "name": "stderr",
          "text": [
            "\rTraining epochs:  73%|███████▎  | 44/60 [13:24<04:45, 17.83s/it]"
          ]
        },
        {
          "output_type": "stream",
          "name": "stdout",
          "text": [
            "Epoch 43: Duration 18.01s | CPU 73.8% | Memory 42.8%\n"
          ]
        },
        {
          "output_type": "stream",
          "name": "stderr",
          "text": [
            "\rTraining epochs:  75%|███████▌  | 45/60 [13:42<04:31, 18.09s/it]"
          ]
        },
        {
          "output_type": "stream",
          "name": "stdout",
          "text": [
            "Epoch 44: Duration 18.72s | CPU 75.8% | Memory 42.9%\n"
          ]
        },
        {
          "output_type": "stream",
          "name": "stderr",
          "text": [
            "\rTraining epochs:  77%|███████▋  | 46/60 [14:00<04:10, 17.91s/it]"
          ]
        },
        {
          "output_type": "stream",
          "name": "stdout",
          "text": [
            "Epoch 45: Duration 17.49s | CPU 73.9% | Memory 42.9%\n"
          ]
        },
        {
          "output_type": "stream",
          "name": "stderr",
          "text": [
            "\rTraining epochs:  78%|███████▊  | 47/60 [14:17<03:51, 17.78s/it]"
          ]
        },
        {
          "output_type": "stream",
          "name": "stdout",
          "text": [
            "Epoch 46: Duration 17.45s | CPU 73.8% | Memory 42.9%\n"
          ]
        },
        {
          "output_type": "stream",
          "name": "stderr",
          "text": [
            "\rTraining epochs:  80%|████████  | 48/60 [14:35<03:33, 17.80s/it]"
          ]
        },
        {
          "output_type": "stream",
          "name": "stdout",
          "text": [
            "Epoch 47: Duration 17.87s | CPU 73.9% | Memory 42.8%\n"
          ]
        },
        {
          "output_type": "stream",
          "name": "stderr",
          "text": [
            "\rTraining epochs:  82%|████████▏ | 49/60 [14:54<03:19, 18.16s/it]"
          ]
        },
        {
          "output_type": "stream",
          "name": "stdout",
          "text": [
            "Epoch 48: Duration 18.98s | CPU 76.2% | Memory 42.8%\n"
          ]
        },
        {
          "output_type": "stream",
          "name": "stderr",
          "text": [
            "\rTraining epochs:  83%|████████▎ | 50/60 [15:12<02:59, 17.98s/it]"
          ]
        },
        {
          "output_type": "stream",
          "name": "stdout",
          "text": [
            "Epoch 49: Duration 17.56s | CPU 74.0% | Memory 42.8%\n"
          ]
        },
        {
          "output_type": "stream",
          "name": "stderr",
          "text": [
            "\rTraining epochs:  85%|████████▌ | 51/60 [15:29<02:41, 17.90s/it]"
          ]
        },
        {
          "output_type": "stream",
          "name": "stdout",
          "text": [
            "Epoch 50: Duration 17.73s | CPU 73.8% | Memory 42.8%\n"
          ]
        },
        {
          "output_type": "stream",
          "name": "stderr",
          "text": [
            "\rTraining epochs:  87%|████████▋ | 52/60 [15:47<02:23, 17.92s/it]"
          ]
        },
        {
          "output_type": "stream",
          "name": "stdout",
          "text": [
            "Epoch 51: Duration 17.95s | CPU 74.0% | Memory 42.8%\n"
          ]
        },
        {
          "output_type": "stream",
          "name": "stderr",
          "text": [
            "\rTraining epochs:  88%|████████▊ | 53/60 [16:06<02:07, 18.23s/it]"
          ]
        },
        {
          "output_type": "stream",
          "name": "stdout",
          "text": [
            "Epoch 52: Duration 18.95s | CPU 76.2% | Memory 42.9%\n"
          ]
        },
        {
          "output_type": "stream",
          "name": "stderr",
          "text": [
            "\rTraining epochs:  90%|█████████ | 54/60 [16:24<01:47, 17.99s/it]"
          ]
        },
        {
          "output_type": "stream",
          "name": "stdout",
          "text": [
            "Epoch 53: Duration 17.44s | CPU 73.7% | Memory 42.9%\n"
          ]
        },
        {
          "output_type": "stream",
          "name": "stderr",
          "text": [
            "\rTraining epochs:  92%|█████████▏| 55/60 [16:41<01:29, 17.81s/it]"
          ]
        },
        {
          "output_type": "stream",
          "name": "stdout",
          "text": [
            "Epoch 54: Duration 17.40s | CPU 73.7% | Memory 42.8%\n"
          ]
        },
        {
          "output_type": "stream",
          "name": "stderr",
          "text": [
            "\rTraining epochs:  93%|█████████▎| 56/60 [16:59<01:10, 17.71s/it]"
          ]
        },
        {
          "output_type": "stream",
          "name": "stdout",
          "text": [
            "Epoch 55: Duration 17.46s | CPU 73.1% | Memory 42.9%\n"
          ]
        },
        {
          "output_type": "stream",
          "name": "stderr",
          "text": [
            "\rTraining epochs:  95%|█████████▌| 57/60 [17:18<00:54, 18.22s/it]"
          ]
        },
        {
          "output_type": "stream",
          "name": "stdout",
          "text": [
            "Epoch 56: Duration 19.39s | CPU 76.4% | Memory 42.9%\n"
          ]
        },
        {
          "output_type": "stream",
          "name": "stderr",
          "text": [
            "\rTraining epochs:  97%|█████████▋| 58/60 [17:35<00:35, 17.99s/it]"
          ]
        },
        {
          "output_type": "stream",
          "name": "stdout",
          "text": [
            "Epoch 57: Duration 17.47s | CPU 74.0% | Memory 42.9%\n"
          ]
        },
        {
          "output_type": "stream",
          "name": "stderr",
          "text": [
            "\rTraining epochs:  98%|█████████▊| 59/60 [17:53<00:17, 17.81s/it]"
          ]
        },
        {
          "output_type": "stream",
          "name": "stdout",
          "text": [
            "Epoch 58: Duration 17.39s | CPU 73.5% | Memory 42.7%\n"
          ]
        },
        {
          "output_type": "stream",
          "name": "stderr",
          "text": [
            "Training epochs: 100%|██████████| 60/60 [18:10<00:00, 18.18s/it]"
          ]
        },
        {
          "output_type": "stream",
          "name": "stdout",
          "text": [
            "Epoch 59: Duration 17.52s | CPU 73.7% | Memory 42.8%\n"
          ]
        },
        {
          "output_type": "stream",
          "name": "stderr",
          "text": [
            "\n"
          ]
        }
      ],
      "source": [
        "model = LightFM(loss='warp')\n",
        "\n",
        "num_epochs = 60\n",
        "num_threads = 4\n",
        "\n",
        "with mlflow.start_run(run_name=\"game-recommender\"):\n",
        "    mlflow.log_param(\"loss\", \"warp\")\n",
        "    mlflow.log_param(\"components\", 30)\n",
        "\n",
        "    for epoch in trange(num_epochs, desc=\"Training epochs\"):\n",
        "        start_time = time.time()\n",
        "\n",
        "        model.fit_partial(\n",
        "            interactions,\n",
        "            sample_weight=weights,\n",
        "            item_features=item_features_matrix,\n",
        "            epochs=1,\n",
        "            num_threads=num_threads\n",
        "        )\n",
        "\n",
        "        # evaluation\n",
        "        precision = precision_at_k(model, interactions, k=5, item_features=item_features_matrix).mean()\n",
        "        recall = recall_at_k(model, interactions, k=5, item_features=item_features_matrix).mean()\n",
        "        auc = auc_score(model, interactions, item_features=item_features_matrix).mean()\n",
        "\n",
        "        # logging metrics to MLflow\n",
        "        mlflow.log_metric(\"Precision\", precision, step=epoch)\n",
        "        mlflow.log_metric(\"Recall\", recall, step=epoch)\n",
        "        mlflow.log_metric(\"AUC\", auc, step=epoch)\n",
        "\n",
        "        # logging system metrics to Prometheus\n",
        "        duration = time.time() - start_time\n",
        "        cpu = psutil.cpu_percent()\n",
        "        mem = psutil.virtual_memory().percent\n",
        "\n",
        "        epoch_duration_metric.set(duration)\n",
        "        cpu_usage_metric.set(cpu)\n",
        "        memory_usage_metric.set(mem)\n",
        "\n",
        "        print(f\"Epoch {epoch}: Duration {duration:.2f}s | CPU {cpu}% | Memory {mem}%\")"
      ]
    },
    {
      "cell_type": "markdown",
      "metadata": {
        "id": "jd2sJQmUr3Ag"
      },
      "source": [
        "Model evaluation"
      ]
    },
    {
      "cell_type": "code",
      "execution_count": 20,
      "metadata": {
        "colab": {
          "base_uri": "https://localhost:8080/"
        },
        "id": "uncPNfmGr4U3",
        "outputId": "d07d6650-81da-40e6-b872-5c539ff3da31"
      },
      "outputs": [
        {
          "output_type": "stream",
          "name": "stdout",
          "text": [
            "Precision at k=5: 0.4310\n",
            "Recall at k=5: 0.1408\n",
            "MRR: 0.1408\n"
          ]
        }
      ],
      "source": [
        "# precision at k = how many of top-K recommended items were relevant\n",
        "precision = precision_at_k(model, interactions, item_features=item_features_matrix, k=5).mean()\n",
        "print(f'Precision at k=5: {precision:.4f}')\n",
        "\n",
        "# recall at k = how many of top-k recommended items were relevant & successfully recommended\n",
        "recall = recall_at_k(model, interactions, item_features=item_features_matrix, k=5).mean()\n",
        "print(f'Recall at k=5: {recall:.4f}')\n",
        "\n",
        "# mean reciprocal rank = measures rank position of 1st relevant item in rec list\n",
        "mrr = reciprocal_rank(model, interactions, item_features=item_features_matrix).mean()\n",
        "print(f'MRR: {recall:.4f}')"
      ]
    },
    {
      "cell_type": "markdown",
      "source": [
        "Launch MLflow UI locally on port 5000"
      ],
      "metadata": {
        "id": "XkxkBCQ3ja9I"
      }
    },
    {
      "cell_type": "code",
      "source": [
        "! pkill -f \"mlflow ui\"\n",
        "\n",
        "get_ipython().system_raw(\"mlflow ui --port 5000 &\") # run tracking UI in the background"
      ],
      "metadata": {
        "id": "bTP9I-V4iT9a"
      },
      "execution_count": 21,
      "outputs": []
    },
    {
      "cell_type": "markdown",
      "source": [
        "Expose using ngrok"
      ],
      "metadata": {
        "id": "b_7Jm6ADeSqW"
      }
    },
    {
      "cell_type": "code",
      "source": [
        "ngrok.set_auth_token(NGROK_AUTH_TOKEN)\n",
        "\n",
        "mlflow_url = ngrok.connect(5000, proto=\"http\")\n",
        "\n",
        "print(f\" * Ngrok tunnel: {mlflow_url}\")"
      ],
      "metadata": {
        "colab": {
          "base_uri": "https://localhost:8080/"
        },
        "id": "rTn9LnFciVxB",
        "outputId": "c452474f-c1ee-4c3b-a6ae-6f0ec24ca479"
      },
      "execution_count": 22,
      "outputs": [
        {
          "output_type": "stream",
          "name": "stdout",
          "text": [
            " * Ngrok tunnel: NgrokTunnel: \"https://6a00-34-81-191-127.ngrok-free.app\" -> \"http://localhost:5000\"\n"
          ]
        }
      ]
    },
    {
      "cell_type": "markdown",
      "metadata": {
        "id": "GRZn-Tzur6ip"
      },
      "source": [
        "Generate recommendations"
      ]
    },
    {
      "cell_type": "code",
      "execution_count": 23,
      "metadata": {
        "colab": {
          "base_uri": "https://localhost:8080/"
        },
        "id": "tPnamBl1r-W0",
        "outputId": "a3faee52-3426-4551-e6bf-86b50b912b7a"
      },
      "outputs": [
        {
          "output_type": "stream",
          "name": "stdout",
          "text": [
            "Recommended games for player with ID 6145\n",
            " - Business Tour - Board Game with Online Multiplayer\n",
            " - BattleBlock Theater\n",
            " - Sven Co-op\n",
            " - Paladins\n",
            " - Garry's Mod\n"
          ]
        }
      ],
      "source": [
        "#sample player ID\n",
        "sample_player_id = player_libraries['player_id'].iloc[98375]\n",
        "\n",
        "all_game_ids = games_df['game_id'].tolist()\n",
        "\n",
        "#map player/game IDs to LightFM indices\n",
        "user_id_map, _, item_id_map, item_feature_map = dataset.mapping()\n",
        "with open(\"game-rec/dataset_mappings.pkl\", \"wb\") as f:\n",
        "    pickle.dump({\n",
        "        \"user_id_map\": user_id_map,\n",
        "        \"item_id_map\": item_id_map,\n",
        "        \"item_feature_map\": item_feature_map\n",
        "    }, f)\n",
        "user_index = user_id_map[sample_player_id]\n",
        "\n",
        "#predict scores for all games\n",
        "scores = model.predict(\n",
        "    user_ids=user_index,\n",
        "    item_ids=np.arange(len(item_id_map)),\n",
        "    item_features=item_features_matrix\n",
        ")\n",
        "\n",
        "#get top N game indices (that are not in the player's library)\n",
        "played_game_ids = player_libraries[player_libraries['player_id'] == sample_player_id]['game_id'].tolist()\n",
        "played_game_indices = [item_id_map[g] for g in played_game_ids if g in item_id_map]\n",
        "\n",
        "#mask out games in player's library already\n",
        "scores[played_game_indices] = -np.inf\n",
        "\n",
        "#top 5 recommendations\n",
        "top_indices = np.argsort(-scores)[:5]\n",
        "\n",
        "#reverse mapping of item_index to game_id\n",
        "inv_item_id_map = {v: k for k, v in item_id_map.items()}\n",
        "recommended_game_ids = [inv_item_id_map[i] for i in top_indices]\n",
        "recommended_game_ids = [int(gid) for gid in recommended_game_ids]\n",
        "\n",
        "#print names of recommended games\n",
        "print(\"Recommended games for player with ID\", sample_player_id)\n",
        "for gid in recommended_game_ids:\n",
        "    match = games_df[games_df['game_id'] == gid]\n",
        "    if not match.empty:\n",
        "        name = match['name'].values[0]\n",
        "    else:\n",
        "        name = f\"(Game ID {gid} not found)\"\n",
        "    print(f\" - {name}\")"
      ]
    },
    {
      "cell_type": "markdown",
      "metadata": {
        "id": "utO9z-8WsAjs"
      },
      "source": [
        "Save trained model"
      ]
    },
    {
      "cell_type": "code",
      "execution_count": null,
      "metadata": {
        "id": "mSYsi-vWsDOC",
        "colab": {
          "base_uri": "https://localhost:8080/",
          "height": 36
        },
        "outputId": "177f0e37-780a-4bd0-9baf-ddd7f734b17e"
      },
      "outputs": [
        {
          "output_type": "execute_result",
          "data": {
            "text/plain": [
              "'game-rec/game-rec.pkl'"
            ],
            "application/vnd.google.colaboratory.intrinsic+json": {
              "type": "string"
            }
          },
          "metadata": {},
          "execution_count": 24
        }
      ],
      "source": [
        "with open('game-rec.pkl', 'wb') as f:\n",
        "    pickle.dump(model, f)\n",
        "\n",
        "shutil.copy(\"game-rec.pkl\", \"game-rec/game-rec.pkl\")"
      ]
    },
    {
      "cell_type": "code",
      "source": [
        "upload_folder(\n",
        "    repo_id=\"reemchaaban/game-rec\",\n",
        "    folder_path=\"game-rec\",\n",
        "    path_in_repo=\".\",\n",
        "    repo_type=\"model\"\n",
        ")"
      ],
      "metadata": {
        "colab": {
          "base_uri": "https://localhost:8080/",
          "height": 168,
          "referenced_widgets": [
            "99c1f4cdbe434f1b9e9dfee047a030cb",
            "9559abb623534502a6d5d936ef9adb8a",
            "be4fa7375db84f91849610d4a1039e58",
            "40fbf6ace30e4bdd9a237f84a1b65b2a",
            "c5e6ada10a834bc8bcc1df1d4b47fd31",
            "0e3e4457ebd045e0993e0bd21bd973cd",
            "ebc1d10df90148ee90b37968252c34b0",
            "b5637e20d0c94993b79e128c4e9ea1f4",
            "c079b8707ae6432681d13621632a0ef7",
            "6e79f4b623b94c38a8b427eceff18147",
            "4f700b7c4a424f8281abdfd9ef8dbea6",
            "9365dc9123334cd9997e5c40247c627c",
            "f2f141f5789a40d9b7ac281cfa1ec024",
            "851d1379e66f4f2fa95dc882653f5e9c",
            "a1c0c6f59d02440aa4c3901a12cfa081",
            "a3cc9fd7fb26431f85908998d113c53e",
            "66155dd775574625928d6afe96930028",
            "be8979d81ab44b20a8cc3cf6deafbfdd",
            "8f55dcde1b554d52ab207ad7ea2fdb17",
            "f1b5c475a96448be9c52082b6ba0ba73",
            "a7c68c01f54b4dfda254084397b771bb",
            "1939f4aaf2b44ca08c061393ba48fe7d",
            "847d34efd8114e35a3cd9282c42ba968",
            "6965924beac44e18a1ec9cc71ce99586",
            "26967cf1d9af483595b763f57be781ff",
            "b0cf76eb43604921b1eeafb2d08013b9",
            "40cdea8d28d9472484f74b0b598d15c9",
            "0fd54855f013404e9978f85a45b137f6",
            "482ae994a119435791bb222744397c2e",
            "d0bbe33a83eb499eac3792d438cf887e",
            "f35b079542f24ab2a6ecd4f5df083ceb",
            "11bfd023038743208eaf4567d494a637",
            "821fd3d11c9c4f198c44391481deb5cf"
          ]
        },
        "id": "NvldXvu-i7yi",
        "outputId": "64ed30ac-47d5-452b-9165-b4b425d12da7"
      },
      "execution_count": null,
      "outputs": [
        {
          "output_type": "display_data",
          "data": {
            "text/plain": [
              "dataset_mappings.pkl:   0%|          | 0.00/558k [00:00<?, ?B/s]"
            ],
            "application/vnd.jupyter.widget-view+json": {
              "version_major": 2,
              "version_minor": 0,
              "model_id": "99c1f4cdbe434f1b9e9dfee047a030cb"
            }
          },
          "metadata": {}
        },
        {
          "output_type": "display_data",
          "data": {
            "text/plain": [
              "game-rec.pkl:   0%|          | 0.00/6.73M [00:00<?, ?B/s]"
            ],
            "application/vnd.jupyter.widget-view+json": {
              "version_major": 2,
              "version_minor": 0,
              "model_id": "9365dc9123334cd9997e5c40247c627c"
            }
          },
          "metadata": {}
        },
        {
          "output_type": "display_data",
          "data": {
            "text/plain": [
              "Upload 2 LFS files:   0%|          | 0/2 [00:00<?, ?it/s]"
            ],
            "application/vnd.jupyter.widget-view+json": {
              "version_major": 2,
              "version_minor": 0,
              "model_id": "847d34efd8114e35a3cd9282c42ba968"
            }
          },
          "metadata": {}
        },
        {
          "output_type": "execute_result",
          "data": {
            "text/plain": [
              "CommitInfo(commit_url='https://huggingface.co/reemchaaban/game-rec/commit/42ace7e6bc7b93604b69af3af28afb6a607e85e8', commit_message='Upload folder using huggingface_hub', commit_description='', oid='42ace7e6bc7b93604b69af3af28afb6a607e85e8', pr_url=None, repo_url=RepoUrl('https://huggingface.co/reemchaaban/game-rec', endpoint='https://huggingface.co', repo_type='model', repo_id='reemchaaban/game-rec'), pr_revision=None, pr_num=None)"
            ],
            "application/vnd.google.colaboratory.intrinsic+json": {
              "type": "string"
            }
          },
          "metadata": {},
          "execution_count": 25
        }
      ]
    },
    {
      "cell_type": "markdown",
      "source": [
        "Automating update of model & scaler files in IEP2 folder after retraining"
      ],
      "metadata": {
        "id": "Jbr1BVlAebcX"
      }
    },
    {
      "cell_type": "code",
      "execution_count": null,
      "metadata": {
        "colab": {
          "base_uri": "https://localhost:8080/"
        },
        "id": "62HP0L2-qBgR",
        "outputId": "428bb0b9-275e-42fd-a012-4b914554cb38"
      },
      "outputs": [
        {
          "output_type": "stream",
          "name": "stdout",
          "text": [
            "Cloning into 'game_system'...\n",
            "remote: Enumerating objects: 161, done.\u001b[K\n",
            "remote: Counting objects: 100% (47/47), done.\u001b[K\n",
            "remote: Compressing objects: 100% (42/42), done.\u001b[K\n",
            "remote: Total 161 (delta 20), reused 16 (delta 5), pack-reused 114 (from 1)\u001b[K\n",
            "Receiving objects: 100% (161/161), 16.95 MiB | 26.45 MiB/s, done.\n",
            "Resolving deltas: 100% (57/57), done.\n",
            "/content/game_system\n",
            "[main b6b5bd8] Update IEP2 model and scaler from Colab\n",
            " 3 files changed, 0 insertions(+), 0 deletions(-)\n",
            "Enumerating objects: 13, done.\n",
            "Counting objects: 100% (13/13), done.\n",
            "Delta compression using up to 2 threads\n",
            "Compressing objects: 100% (7/7), done.\n",
            "Writing objects: 100% (7/7), 3.89 MiB | 6.07 MiB/s, done.\n",
            "Total 7 (delta 4), reused 0 (delta 0), pack-reused 0\n",
            "remote: Resolving deltas: 100% (4/4), completed with 4 local objects.\u001b[K\n",
            "To https://github.com/reemchaaban/game_system.git\n",
            "   3afe87e..b6b5bd8  main -> main\n",
            "/content\n"
          ]
        }
      ],
      "source": [
        "GITHUB_USERNAME = \"reemchaaban\"\n",
        "GITHUB_EMAIL = \"reem.chaabann@gmail.com\"\n",
        "REPO_NAME = \"game_system\"\n",
        "BRANCH = \"main\"\n",
        "TARGET_SUBDIR = \"IEP2\"\n",
        "\n",
        "token = userdata.get('GITHUB_PAT')\n",
        "\n",
        "!git config --global user.email \"{GITHUB_EMAIL}\"\n",
        "!git config --global user.name \"{GITHUB_USERNAME}\"\n",
        "\n",
        "!rm -rf {REPO_NAME}\n",
        "!git clone https://{token}@github.com/{GITHUB_USERNAME}/{REPO_NAME}.git\n",
        "\n",
        "!rm -rf {REPO_NAME}/{TARGET_SUBDIR}/model\n",
        "!mkdir -p {REPO_NAME}/{TARGET_SUBDIR}/model\n",
        "!cp game-rec/dataset_mappings.pkl {REPO_NAME}/{TARGET_SUBDIR}/model/\n",
        "!cp game-rec/item_features_matrix.pkl {REPO_NAME}/{TARGET_SUBDIR}/model/\n",
        "\n",
        "!cp game-rec.pkl {REPO_NAME}/{TARGET_SUBDIR}/model/game-rec.pkl\n",
        "\n",
        "%cd {REPO_NAME}\n",
        "!git add .\n",
        "!git commit -m \"Update IEP2 model and scaler from Colab\"\n",
        "!git push origin {BRANCH}\n",
        "\n",
        "%cd .."
      ]
    }
  ],
  "metadata": {
    "colab": {
      "provenance": [],
      "include_colab_link": true
    },
    "kernelspec": {
      "display_name": "Python 3",
      "name": "python3"
    },
    "language_info": {
      "name": "python"
    },
    "widgets": {
      "application/vnd.jupyter.widget-state+json": {
        "99c1f4cdbe434f1b9e9dfee047a030cb": {
          "model_module": "@jupyter-widgets/controls",
          "model_name": "HBoxModel",
          "model_module_version": "1.5.0",
          "state": {
            "_dom_classes": [],
            "_model_module": "@jupyter-widgets/controls",
            "_model_module_version": "1.5.0",
            "_model_name": "HBoxModel",
            "_view_count": null,
            "_view_module": "@jupyter-widgets/controls",
            "_view_module_version": "1.5.0",
            "_view_name": "HBoxView",
            "box_style": "",
            "children": [
              "IPY_MODEL_9559abb623534502a6d5d936ef9adb8a",
              "IPY_MODEL_be4fa7375db84f91849610d4a1039e58",
              "IPY_MODEL_40fbf6ace30e4bdd9a237f84a1b65b2a"
            ],
            "layout": "IPY_MODEL_c5e6ada10a834bc8bcc1df1d4b47fd31"
          }
        },
        "9559abb623534502a6d5d936ef9adb8a": {
          "model_module": "@jupyter-widgets/controls",
          "model_name": "HTMLModel",
          "model_module_version": "1.5.0",
          "state": {
            "_dom_classes": [],
            "_model_module": "@jupyter-widgets/controls",
            "_model_module_version": "1.5.0",
            "_model_name": "HTMLModel",
            "_view_count": null,
            "_view_module": "@jupyter-widgets/controls",
            "_view_module_version": "1.5.0",
            "_view_name": "HTMLView",
            "description": "",
            "description_tooltip": null,
            "layout": "IPY_MODEL_0e3e4457ebd045e0993e0bd21bd973cd",
            "placeholder": "​",
            "style": "IPY_MODEL_ebc1d10df90148ee90b37968252c34b0",
            "value": "dataset_mappings.pkl: 100%"
          }
        },
        "be4fa7375db84f91849610d4a1039e58": {
          "model_module": "@jupyter-widgets/controls",
          "model_name": "FloatProgressModel",
          "model_module_version": "1.5.0",
          "state": {
            "_dom_classes": [],
            "_model_module": "@jupyter-widgets/controls",
            "_model_module_version": "1.5.0",
            "_model_name": "FloatProgressModel",
            "_view_count": null,
            "_view_module": "@jupyter-widgets/controls",
            "_view_module_version": "1.5.0",
            "_view_name": "ProgressView",
            "bar_style": "success",
            "description": "",
            "description_tooltip": null,
            "layout": "IPY_MODEL_b5637e20d0c94993b79e128c4e9ea1f4",
            "max": 558374,
            "min": 0,
            "orientation": "horizontal",
            "style": "IPY_MODEL_c079b8707ae6432681d13621632a0ef7",
            "value": 558374
          }
        },
        "40fbf6ace30e4bdd9a237f84a1b65b2a": {
          "model_module": "@jupyter-widgets/controls",
          "model_name": "HTMLModel",
          "model_module_version": "1.5.0",
          "state": {
            "_dom_classes": [],
            "_model_module": "@jupyter-widgets/controls",
            "_model_module_version": "1.5.0",
            "_model_name": "HTMLModel",
            "_view_count": null,
            "_view_module": "@jupyter-widgets/controls",
            "_view_module_version": "1.5.0",
            "_view_name": "HTMLView",
            "description": "",
            "description_tooltip": null,
            "layout": "IPY_MODEL_6e79f4b623b94c38a8b427eceff18147",
            "placeholder": "​",
            "style": "IPY_MODEL_4f700b7c4a424f8281abdfd9ef8dbea6",
            "value": " 558k/558k [00:00&lt;00:00, 117kB/s]"
          }
        },
        "c5e6ada10a834bc8bcc1df1d4b47fd31": {
          "model_module": "@jupyter-widgets/base",
          "model_name": "LayoutModel",
          "model_module_version": "1.2.0",
          "state": {
            "_model_module": "@jupyter-widgets/base",
            "_model_module_version": "1.2.0",
            "_model_name": "LayoutModel",
            "_view_count": null,
            "_view_module": "@jupyter-widgets/base",
            "_view_module_version": "1.2.0",
            "_view_name": "LayoutView",
            "align_content": null,
            "align_items": null,
            "align_self": null,
            "border": null,
            "bottom": null,
            "display": null,
            "flex": null,
            "flex_flow": null,
            "grid_area": null,
            "grid_auto_columns": null,
            "grid_auto_flow": null,
            "grid_auto_rows": null,
            "grid_column": null,
            "grid_gap": null,
            "grid_row": null,
            "grid_template_areas": null,
            "grid_template_columns": null,
            "grid_template_rows": null,
            "height": null,
            "justify_content": null,
            "justify_items": null,
            "left": null,
            "margin": null,
            "max_height": null,
            "max_width": null,
            "min_height": null,
            "min_width": null,
            "object_fit": null,
            "object_position": null,
            "order": null,
            "overflow": null,
            "overflow_x": null,
            "overflow_y": null,
            "padding": null,
            "right": null,
            "top": null,
            "visibility": null,
            "width": null
          }
        },
        "0e3e4457ebd045e0993e0bd21bd973cd": {
          "model_module": "@jupyter-widgets/base",
          "model_name": "LayoutModel",
          "model_module_version": "1.2.0",
          "state": {
            "_model_module": "@jupyter-widgets/base",
            "_model_module_version": "1.2.0",
            "_model_name": "LayoutModel",
            "_view_count": null,
            "_view_module": "@jupyter-widgets/base",
            "_view_module_version": "1.2.0",
            "_view_name": "LayoutView",
            "align_content": null,
            "align_items": null,
            "align_self": null,
            "border": null,
            "bottom": null,
            "display": null,
            "flex": null,
            "flex_flow": null,
            "grid_area": null,
            "grid_auto_columns": null,
            "grid_auto_flow": null,
            "grid_auto_rows": null,
            "grid_column": null,
            "grid_gap": null,
            "grid_row": null,
            "grid_template_areas": null,
            "grid_template_columns": null,
            "grid_template_rows": null,
            "height": null,
            "justify_content": null,
            "justify_items": null,
            "left": null,
            "margin": null,
            "max_height": null,
            "max_width": null,
            "min_height": null,
            "min_width": null,
            "object_fit": null,
            "object_position": null,
            "order": null,
            "overflow": null,
            "overflow_x": null,
            "overflow_y": null,
            "padding": null,
            "right": null,
            "top": null,
            "visibility": null,
            "width": null
          }
        },
        "ebc1d10df90148ee90b37968252c34b0": {
          "model_module": "@jupyter-widgets/controls",
          "model_name": "DescriptionStyleModel",
          "model_module_version": "1.5.0",
          "state": {
            "_model_module": "@jupyter-widgets/controls",
            "_model_module_version": "1.5.0",
            "_model_name": "DescriptionStyleModel",
            "_view_count": null,
            "_view_module": "@jupyter-widgets/base",
            "_view_module_version": "1.2.0",
            "_view_name": "StyleView",
            "description_width": ""
          }
        },
        "b5637e20d0c94993b79e128c4e9ea1f4": {
          "model_module": "@jupyter-widgets/base",
          "model_name": "LayoutModel",
          "model_module_version": "1.2.0",
          "state": {
            "_model_module": "@jupyter-widgets/base",
            "_model_module_version": "1.2.0",
            "_model_name": "LayoutModel",
            "_view_count": null,
            "_view_module": "@jupyter-widgets/base",
            "_view_module_version": "1.2.0",
            "_view_name": "LayoutView",
            "align_content": null,
            "align_items": null,
            "align_self": null,
            "border": null,
            "bottom": null,
            "display": null,
            "flex": null,
            "flex_flow": null,
            "grid_area": null,
            "grid_auto_columns": null,
            "grid_auto_flow": null,
            "grid_auto_rows": null,
            "grid_column": null,
            "grid_gap": null,
            "grid_row": null,
            "grid_template_areas": null,
            "grid_template_columns": null,
            "grid_template_rows": null,
            "height": null,
            "justify_content": null,
            "justify_items": null,
            "left": null,
            "margin": null,
            "max_height": null,
            "max_width": null,
            "min_height": null,
            "min_width": null,
            "object_fit": null,
            "object_position": null,
            "order": null,
            "overflow": null,
            "overflow_x": null,
            "overflow_y": null,
            "padding": null,
            "right": null,
            "top": null,
            "visibility": null,
            "width": null
          }
        },
        "c079b8707ae6432681d13621632a0ef7": {
          "model_module": "@jupyter-widgets/controls",
          "model_name": "ProgressStyleModel",
          "model_module_version": "1.5.0",
          "state": {
            "_model_module": "@jupyter-widgets/controls",
            "_model_module_version": "1.5.0",
            "_model_name": "ProgressStyleModel",
            "_view_count": null,
            "_view_module": "@jupyter-widgets/base",
            "_view_module_version": "1.2.0",
            "_view_name": "StyleView",
            "bar_color": null,
            "description_width": ""
          }
        },
        "6e79f4b623b94c38a8b427eceff18147": {
          "model_module": "@jupyter-widgets/base",
          "model_name": "LayoutModel",
          "model_module_version": "1.2.0",
          "state": {
            "_model_module": "@jupyter-widgets/base",
            "_model_module_version": "1.2.0",
            "_model_name": "LayoutModel",
            "_view_count": null,
            "_view_module": "@jupyter-widgets/base",
            "_view_module_version": "1.2.0",
            "_view_name": "LayoutView",
            "align_content": null,
            "align_items": null,
            "align_self": null,
            "border": null,
            "bottom": null,
            "display": null,
            "flex": null,
            "flex_flow": null,
            "grid_area": null,
            "grid_auto_columns": null,
            "grid_auto_flow": null,
            "grid_auto_rows": null,
            "grid_column": null,
            "grid_gap": null,
            "grid_row": null,
            "grid_template_areas": null,
            "grid_template_columns": null,
            "grid_template_rows": null,
            "height": null,
            "justify_content": null,
            "justify_items": null,
            "left": null,
            "margin": null,
            "max_height": null,
            "max_width": null,
            "min_height": null,
            "min_width": null,
            "object_fit": null,
            "object_position": null,
            "order": null,
            "overflow": null,
            "overflow_x": null,
            "overflow_y": null,
            "padding": null,
            "right": null,
            "top": null,
            "visibility": null,
            "width": null
          }
        },
        "4f700b7c4a424f8281abdfd9ef8dbea6": {
          "model_module": "@jupyter-widgets/controls",
          "model_name": "DescriptionStyleModel",
          "model_module_version": "1.5.0",
          "state": {
            "_model_module": "@jupyter-widgets/controls",
            "_model_module_version": "1.5.0",
            "_model_name": "DescriptionStyleModel",
            "_view_count": null,
            "_view_module": "@jupyter-widgets/base",
            "_view_module_version": "1.2.0",
            "_view_name": "StyleView",
            "description_width": ""
          }
        },
        "9365dc9123334cd9997e5c40247c627c": {
          "model_module": "@jupyter-widgets/controls",
          "model_name": "HBoxModel",
          "model_module_version": "1.5.0",
          "state": {
            "_dom_classes": [],
            "_model_module": "@jupyter-widgets/controls",
            "_model_module_version": "1.5.0",
            "_model_name": "HBoxModel",
            "_view_count": null,
            "_view_module": "@jupyter-widgets/controls",
            "_view_module_version": "1.5.0",
            "_view_name": "HBoxView",
            "box_style": "",
            "children": [
              "IPY_MODEL_f2f141f5789a40d9b7ac281cfa1ec024",
              "IPY_MODEL_851d1379e66f4f2fa95dc882653f5e9c",
              "IPY_MODEL_a1c0c6f59d02440aa4c3901a12cfa081"
            ],
            "layout": "IPY_MODEL_a3cc9fd7fb26431f85908998d113c53e"
          }
        },
        "f2f141f5789a40d9b7ac281cfa1ec024": {
          "model_module": "@jupyter-widgets/controls",
          "model_name": "HTMLModel",
          "model_module_version": "1.5.0",
          "state": {
            "_dom_classes": [],
            "_model_module": "@jupyter-widgets/controls",
            "_model_module_version": "1.5.0",
            "_model_name": "HTMLModel",
            "_view_count": null,
            "_view_module": "@jupyter-widgets/controls",
            "_view_module_version": "1.5.0",
            "_view_name": "HTMLView",
            "description": "",
            "description_tooltip": null,
            "layout": "IPY_MODEL_66155dd775574625928d6afe96930028",
            "placeholder": "​",
            "style": "IPY_MODEL_be8979d81ab44b20a8cc3cf6deafbfdd",
            "value": "game-rec.pkl: 100%"
          }
        },
        "851d1379e66f4f2fa95dc882653f5e9c": {
          "model_module": "@jupyter-widgets/controls",
          "model_name": "FloatProgressModel",
          "model_module_version": "1.5.0",
          "state": {
            "_dom_classes": [],
            "_model_module": "@jupyter-widgets/controls",
            "_model_module_version": "1.5.0",
            "_model_name": "FloatProgressModel",
            "_view_count": null,
            "_view_module": "@jupyter-widgets/controls",
            "_view_module_version": "1.5.0",
            "_view_name": "ProgressView",
            "bar_style": "success",
            "description": "",
            "description_tooltip": null,
            "layout": "IPY_MODEL_8f55dcde1b554d52ab207ad7ea2fdb17",
            "max": 6731603,
            "min": 0,
            "orientation": "horizontal",
            "style": "IPY_MODEL_f1b5c475a96448be9c52082b6ba0ba73",
            "value": 6731603
          }
        },
        "a1c0c6f59d02440aa4c3901a12cfa081": {
          "model_module": "@jupyter-widgets/controls",
          "model_name": "HTMLModel",
          "model_module_version": "1.5.0",
          "state": {
            "_dom_classes": [],
            "_model_module": "@jupyter-widgets/controls",
            "_model_module_version": "1.5.0",
            "_model_name": "HTMLModel",
            "_view_count": null,
            "_view_module": "@jupyter-widgets/controls",
            "_view_module_version": "1.5.0",
            "_view_name": "HTMLView",
            "description": "",
            "description_tooltip": null,
            "layout": "IPY_MODEL_a7c68c01f54b4dfda254084397b771bb",
            "placeholder": "​",
            "style": "IPY_MODEL_1939f4aaf2b44ca08c061393ba48fe7d",
            "value": " 6.73M/6.73M [00:01&lt;00:00, 12.6MB/s]"
          }
        },
        "a3cc9fd7fb26431f85908998d113c53e": {
          "model_module": "@jupyter-widgets/base",
          "model_name": "LayoutModel",
          "model_module_version": "1.2.0",
          "state": {
            "_model_module": "@jupyter-widgets/base",
            "_model_module_version": "1.2.0",
            "_model_name": "LayoutModel",
            "_view_count": null,
            "_view_module": "@jupyter-widgets/base",
            "_view_module_version": "1.2.0",
            "_view_name": "LayoutView",
            "align_content": null,
            "align_items": null,
            "align_self": null,
            "border": null,
            "bottom": null,
            "display": null,
            "flex": null,
            "flex_flow": null,
            "grid_area": null,
            "grid_auto_columns": null,
            "grid_auto_flow": null,
            "grid_auto_rows": null,
            "grid_column": null,
            "grid_gap": null,
            "grid_row": null,
            "grid_template_areas": null,
            "grid_template_columns": null,
            "grid_template_rows": null,
            "height": null,
            "justify_content": null,
            "justify_items": null,
            "left": null,
            "margin": null,
            "max_height": null,
            "max_width": null,
            "min_height": null,
            "min_width": null,
            "object_fit": null,
            "object_position": null,
            "order": null,
            "overflow": null,
            "overflow_x": null,
            "overflow_y": null,
            "padding": null,
            "right": null,
            "top": null,
            "visibility": null,
            "width": null
          }
        },
        "66155dd775574625928d6afe96930028": {
          "model_module": "@jupyter-widgets/base",
          "model_name": "LayoutModel",
          "model_module_version": "1.2.0",
          "state": {
            "_model_module": "@jupyter-widgets/base",
            "_model_module_version": "1.2.0",
            "_model_name": "LayoutModel",
            "_view_count": null,
            "_view_module": "@jupyter-widgets/base",
            "_view_module_version": "1.2.0",
            "_view_name": "LayoutView",
            "align_content": null,
            "align_items": null,
            "align_self": null,
            "border": null,
            "bottom": null,
            "display": null,
            "flex": null,
            "flex_flow": null,
            "grid_area": null,
            "grid_auto_columns": null,
            "grid_auto_flow": null,
            "grid_auto_rows": null,
            "grid_column": null,
            "grid_gap": null,
            "grid_row": null,
            "grid_template_areas": null,
            "grid_template_columns": null,
            "grid_template_rows": null,
            "height": null,
            "justify_content": null,
            "justify_items": null,
            "left": null,
            "margin": null,
            "max_height": null,
            "max_width": null,
            "min_height": null,
            "min_width": null,
            "object_fit": null,
            "object_position": null,
            "order": null,
            "overflow": null,
            "overflow_x": null,
            "overflow_y": null,
            "padding": null,
            "right": null,
            "top": null,
            "visibility": null,
            "width": null
          }
        },
        "be8979d81ab44b20a8cc3cf6deafbfdd": {
          "model_module": "@jupyter-widgets/controls",
          "model_name": "DescriptionStyleModel",
          "model_module_version": "1.5.0",
          "state": {
            "_model_module": "@jupyter-widgets/controls",
            "_model_module_version": "1.5.0",
            "_model_name": "DescriptionStyleModel",
            "_view_count": null,
            "_view_module": "@jupyter-widgets/base",
            "_view_module_version": "1.2.0",
            "_view_name": "StyleView",
            "description_width": ""
          }
        },
        "8f55dcde1b554d52ab207ad7ea2fdb17": {
          "model_module": "@jupyter-widgets/base",
          "model_name": "LayoutModel",
          "model_module_version": "1.2.0",
          "state": {
            "_model_module": "@jupyter-widgets/base",
            "_model_module_version": "1.2.0",
            "_model_name": "LayoutModel",
            "_view_count": null,
            "_view_module": "@jupyter-widgets/base",
            "_view_module_version": "1.2.0",
            "_view_name": "LayoutView",
            "align_content": null,
            "align_items": null,
            "align_self": null,
            "border": null,
            "bottom": null,
            "display": null,
            "flex": null,
            "flex_flow": null,
            "grid_area": null,
            "grid_auto_columns": null,
            "grid_auto_flow": null,
            "grid_auto_rows": null,
            "grid_column": null,
            "grid_gap": null,
            "grid_row": null,
            "grid_template_areas": null,
            "grid_template_columns": null,
            "grid_template_rows": null,
            "height": null,
            "justify_content": null,
            "justify_items": null,
            "left": null,
            "margin": null,
            "max_height": null,
            "max_width": null,
            "min_height": null,
            "min_width": null,
            "object_fit": null,
            "object_position": null,
            "order": null,
            "overflow": null,
            "overflow_x": null,
            "overflow_y": null,
            "padding": null,
            "right": null,
            "top": null,
            "visibility": null,
            "width": null
          }
        },
        "f1b5c475a96448be9c52082b6ba0ba73": {
          "model_module": "@jupyter-widgets/controls",
          "model_name": "ProgressStyleModel",
          "model_module_version": "1.5.0",
          "state": {
            "_model_module": "@jupyter-widgets/controls",
            "_model_module_version": "1.5.0",
            "_model_name": "ProgressStyleModel",
            "_view_count": null,
            "_view_module": "@jupyter-widgets/base",
            "_view_module_version": "1.2.0",
            "_view_name": "StyleView",
            "bar_color": null,
            "description_width": ""
          }
        },
        "a7c68c01f54b4dfda254084397b771bb": {
          "model_module": "@jupyter-widgets/base",
          "model_name": "LayoutModel",
          "model_module_version": "1.2.0",
          "state": {
            "_model_module": "@jupyter-widgets/base",
            "_model_module_version": "1.2.0",
            "_model_name": "LayoutModel",
            "_view_count": null,
            "_view_module": "@jupyter-widgets/base",
            "_view_module_version": "1.2.0",
            "_view_name": "LayoutView",
            "align_content": null,
            "align_items": null,
            "align_self": null,
            "border": null,
            "bottom": null,
            "display": null,
            "flex": null,
            "flex_flow": null,
            "grid_area": null,
            "grid_auto_columns": null,
            "grid_auto_flow": null,
            "grid_auto_rows": null,
            "grid_column": null,
            "grid_gap": null,
            "grid_row": null,
            "grid_template_areas": null,
            "grid_template_columns": null,
            "grid_template_rows": null,
            "height": null,
            "justify_content": null,
            "justify_items": null,
            "left": null,
            "margin": null,
            "max_height": null,
            "max_width": null,
            "min_height": null,
            "min_width": null,
            "object_fit": null,
            "object_position": null,
            "order": null,
            "overflow": null,
            "overflow_x": null,
            "overflow_y": null,
            "padding": null,
            "right": null,
            "top": null,
            "visibility": null,
            "width": null
          }
        },
        "1939f4aaf2b44ca08c061393ba48fe7d": {
          "model_module": "@jupyter-widgets/controls",
          "model_name": "DescriptionStyleModel",
          "model_module_version": "1.5.0",
          "state": {
            "_model_module": "@jupyter-widgets/controls",
            "_model_module_version": "1.5.0",
            "_model_name": "DescriptionStyleModel",
            "_view_count": null,
            "_view_module": "@jupyter-widgets/base",
            "_view_module_version": "1.2.0",
            "_view_name": "StyleView",
            "description_width": ""
          }
        },
        "847d34efd8114e35a3cd9282c42ba968": {
          "model_module": "@jupyter-widgets/controls",
          "model_name": "HBoxModel",
          "model_module_version": "1.5.0",
          "state": {
            "_dom_classes": [],
            "_model_module": "@jupyter-widgets/controls",
            "_model_module_version": "1.5.0",
            "_model_name": "HBoxModel",
            "_view_count": null,
            "_view_module": "@jupyter-widgets/controls",
            "_view_module_version": "1.5.0",
            "_view_name": "HBoxView",
            "box_style": "",
            "children": [
              "IPY_MODEL_6965924beac44e18a1ec9cc71ce99586",
              "IPY_MODEL_26967cf1d9af483595b763f57be781ff",
              "IPY_MODEL_b0cf76eb43604921b1eeafb2d08013b9"
            ],
            "layout": "IPY_MODEL_40cdea8d28d9472484f74b0b598d15c9"
          }
        },
        "6965924beac44e18a1ec9cc71ce99586": {
          "model_module": "@jupyter-widgets/controls",
          "model_name": "HTMLModel",
          "model_module_version": "1.5.0",
          "state": {
            "_dom_classes": [],
            "_model_module": "@jupyter-widgets/controls",
            "_model_module_version": "1.5.0",
            "_model_name": "HTMLModel",
            "_view_count": null,
            "_view_module": "@jupyter-widgets/controls",
            "_view_module_version": "1.5.0",
            "_view_name": "HTMLView",
            "description": "",
            "description_tooltip": null,
            "layout": "IPY_MODEL_0fd54855f013404e9978f85a45b137f6",
            "placeholder": "​",
            "style": "IPY_MODEL_482ae994a119435791bb222744397c2e",
            "value": "Upload 2 LFS files: 100%"
          }
        },
        "26967cf1d9af483595b763f57be781ff": {
          "model_module": "@jupyter-widgets/controls",
          "model_name": "FloatProgressModel",
          "model_module_version": "1.5.0",
          "state": {
            "_dom_classes": [],
            "_model_module": "@jupyter-widgets/controls",
            "_model_module_version": "1.5.0",
            "_model_name": "FloatProgressModel",
            "_view_count": null,
            "_view_module": "@jupyter-widgets/controls",
            "_view_module_version": "1.5.0",
            "_view_name": "ProgressView",
            "bar_style": "success",
            "description": "",
            "description_tooltip": null,
            "layout": "IPY_MODEL_d0bbe33a83eb499eac3792d438cf887e",
            "max": 2,
            "min": 0,
            "orientation": "horizontal",
            "style": "IPY_MODEL_f35b079542f24ab2a6ecd4f5df083ceb",
            "value": 2
          }
        },
        "b0cf76eb43604921b1eeafb2d08013b9": {
          "model_module": "@jupyter-widgets/controls",
          "model_name": "HTMLModel",
          "model_module_version": "1.5.0",
          "state": {
            "_dom_classes": [],
            "_model_module": "@jupyter-widgets/controls",
            "_model_module_version": "1.5.0",
            "_model_name": "HTMLModel",
            "_view_count": null,
            "_view_module": "@jupyter-widgets/controls",
            "_view_module_version": "1.5.0",
            "_view_name": "HTMLView",
            "description": "",
            "description_tooltip": null,
            "layout": "IPY_MODEL_11bfd023038743208eaf4567d494a637",
            "placeholder": "​",
            "style": "IPY_MODEL_821fd3d11c9c4f198c44391481deb5cf",
            "value": " 2/2 [00:01&lt;00:00,  1.30it/s]"
          }
        },
        "40cdea8d28d9472484f74b0b598d15c9": {
          "model_module": "@jupyter-widgets/base",
          "model_name": "LayoutModel",
          "model_module_version": "1.2.0",
          "state": {
            "_model_module": "@jupyter-widgets/base",
            "_model_module_version": "1.2.0",
            "_model_name": "LayoutModel",
            "_view_count": null,
            "_view_module": "@jupyter-widgets/base",
            "_view_module_version": "1.2.0",
            "_view_name": "LayoutView",
            "align_content": null,
            "align_items": null,
            "align_self": null,
            "border": null,
            "bottom": null,
            "display": null,
            "flex": null,
            "flex_flow": null,
            "grid_area": null,
            "grid_auto_columns": null,
            "grid_auto_flow": null,
            "grid_auto_rows": null,
            "grid_column": null,
            "grid_gap": null,
            "grid_row": null,
            "grid_template_areas": null,
            "grid_template_columns": null,
            "grid_template_rows": null,
            "height": null,
            "justify_content": null,
            "justify_items": null,
            "left": null,
            "margin": null,
            "max_height": null,
            "max_width": null,
            "min_height": null,
            "min_width": null,
            "object_fit": null,
            "object_position": null,
            "order": null,
            "overflow": null,
            "overflow_x": null,
            "overflow_y": null,
            "padding": null,
            "right": null,
            "top": null,
            "visibility": null,
            "width": null
          }
        },
        "0fd54855f013404e9978f85a45b137f6": {
          "model_module": "@jupyter-widgets/base",
          "model_name": "LayoutModel",
          "model_module_version": "1.2.0",
          "state": {
            "_model_module": "@jupyter-widgets/base",
            "_model_module_version": "1.2.0",
            "_model_name": "LayoutModel",
            "_view_count": null,
            "_view_module": "@jupyter-widgets/base",
            "_view_module_version": "1.2.0",
            "_view_name": "LayoutView",
            "align_content": null,
            "align_items": null,
            "align_self": null,
            "border": null,
            "bottom": null,
            "display": null,
            "flex": null,
            "flex_flow": null,
            "grid_area": null,
            "grid_auto_columns": null,
            "grid_auto_flow": null,
            "grid_auto_rows": null,
            "grid_column": null,
            "grid_gap": null,
            "grid_row": null,
            "grid_template_areas": null,
            "grid_template_columns": null,
            "grid_template_rows": null,
            "height": null,
            "justify_content": null,
            "justify_items": null,
            "left": null,
            "margin": null,
            "max_height": null,
            "max_width": null,
            "min_height": null,
            "min_width": null,
            "object_fit": null,
            "object_position": null,
            "order": null,
            "overflow": null,
            "overflow_x": null,
            "overflow_y": null,
            "padding": null,
            "right": null,
            "top": null,
            "visibility": null,
            "width": null
          }
        },
        "482ae994a119435791bb222744397c2e": {
          "model_module": "@jupyter-widgets/controls",
          "model_name": "DescriptionStyleModel",
          "model_module_version": "1.5.0",
          "state": {
            "_model_module": "@jupyter-widgets/controls",
            "_model_module_version": "1.5.0",
            "_model_name": "DescriptionStyleModel",
            "_view_count": null,
            "_view_module": "@jupyter-widgets/base",
            "_view_module_version": "1.2.0",
            "_view_name": "StyleView",
            "description_width": ""
          }
        },
        "d0bbe33a83eb499eac3792d438cf887e": {
          "model_module": "@jupyter-widgets/base",
          "model_name": "LayoutModel",
          "model_module_version": "1.2.0",
          "state": {
            "_model_module": "@jupyter-widgets/base",
            "_model_module_version": "1.2.0",
            "_model_name": "LayoutModel",
            "_view_count": null,
            "_view_module": "@jupyter-widgets/base",
            "_view_module_version": "1.2.0",
            "_view_name": "LayoutView",
            "align_content": null,
            "align_items": null,
            "align_self": null,
            "border": null,
            "bottom": null,
            "display": null,
            "flex": null,
            "flex_flow": null,
            "grid_area": null,
            "grid_auto_columns": null,
            "grid_auto_flow": null,
            "grid_auto_rows": null,
            "grid_column": null,
            "grid_gap": null,
            "grid_row": null,
            "grid_template_areas": null,
            "grid_template_columns": null,
            "grid_template_rows": null,
            "height": null,
            "justify_content": null,
            "justify_items": null,
            "left": null,
            "margin": null,
            "max_height": null,
            "max_width": null,
            "min_height": null,
            "min_width": null,
            "object_fit": null,
            "object_position": null,
            "order": null,
            "overflow": null,
            "overflow_x": null,
            "overflow_y": null,
            "padding": null,
            "right": null,
            "top": null,
            "visibility": null,
            "width": null
          }
        },
        "f35b079542f24ab2a6ecd4f5df083ceb": {
          "model_module": "@jupyter-widgets/controls",
          "model_name": "ProgressStyleModel",
          "model_module_version": "1.5.0",
          "state": {
            "_model_module": "@jupyter-widgets/controls",
            "_model_module_version": "1.5.0",
            "_model_name": "ProgressStyleModel",
            "_view_count": null,
            "_view_module": "@jupyter-widgets/base",
            "_view_module_version": "1.2.0",
            "_view_name": "StyleView",
            "bar_color": null,
            "description_width": ""
          }
        },
        "11bfd023038743208eaf4567d494a637": {
          "model_module": "@jupyter-widgets/base",
          "model_name": "LayoutModel",
          "model_module_version": "1.2.0",
          "state": {
            "_model_module": "@jupyter-widgets/base",
            "_model_module_version": "1.2.0",
            "_model_name": "LayoutModel",
            "_view_count": null,
            "_view_module": "@jupyter-widgets/base",
            "_view_module_version": "1.2.0",
            "_view_name": "LayoutView",
            "align_content": null,
            "align_items": null,
            "align_self": null,
            "border": null,
            "bottom": null,
            "display": null,
            "flex": null,
            "flex_flow": null,
            "grid_area": null,
            "grid_auto_columns": null,
            "grid_auto_flow": null,
            "grid_auto_rows": null,
            "grid_column": null,
            "grid_gap": null,
            "grid_row": null,
            "grid_template_areas": null,
            "grid_template_columns": null,
            "grid_template_rows": null,
            "height": null,
            "justify_content": null,
            "justify_items": null,
            "left": null,
            "margin": null,
            "max_height": null,
            "max_width": null,
            "min_height": null,
            "min_width": null,
            "object_fit": null,
            "object_position": null,
            "order": null,
            "overflow": null,
            "overflow_x": null,
            "overflow_y": null,
            "padding": null,
            "right": null,
            "top": null,
            "visibility": null,
            "width": null
          }
        },
        "821fd3d11c9c4f198c44391481deb5cf": {
          "model_module": "@jupyter-widgets/controls",
          "model_name": "DescriptionStyleModel",
          "model_module_version": "1.5.0",
          "state": {
            "_model_module": "@jupyter-widgets/controls",
            "_model_module_version": "1.5.0",
            "_model_name": "DescriptionStyleModel",
            "_view_count": null,
            "_view_module": "@jupyter-widgets/base",
            "_view_module_version": "1.2.0",
            "_view_name": "StyleView",
            "description_width": ""
          }
        }
      }
    }
  },
  "nbformat": 4,
  "nbformat_minor": 0
}
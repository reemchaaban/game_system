{
  "nbformat": 4,
  "nbformat_minor": 0,
  "metadata": {
    "colab": {
      "provenance": [],
      "include_colab_link": true
    },
    "kernelspec": {
      "name": "python3",
      "display_name": "Python 3"
    },
    "language_info": {
      "name": "python"
    },
    "widgets": {
      "application/vnd.jupyter.widget-state+json": {
        "35d43d2abac4465cbc4f7b9bbebcee91": {
          "model_module": "@jupyter-widgets/controls",
          "model_name": "HBoxModel",
          "model_module_version": "1.5.0",
          "state": {
            "_dom_classes": [],
            "_model_module": "@jupyter-widgets/controls",
            "_model_module_version": "1.5.0",
            "_model_name": "HBoxModel",
            "_view_count": null,
            "_view_module": "@jupyter-widgets/controls",
            "_view_module_version": "1.5.0",
            "_view_name": "HBoxView",
            "box_style": "",
            "children": [
              "IPY_MODEL_326ab0082f3a4d6697a0a3fe376879bc",
              "IPY_MODEL_dac9ee67234d4f5990d29fa7e3ab6650",
              "IPY_MODEL_db5ad6b2eec94b2680902a0bf1ae2d43"
            ],
            "layout": "IPY_MODEL_1017d9d1adfd44ec89a12e9420003b62"
          }
        },
        "326ab0082f3a4d6697a0a3fe376879bc": {
          "model_module": "@jupyter-widgets/controls",
          "model_name": "HTMLModel",
          "model_module_version": "1.5.0",
          "state": {
            "_dom_classes": [],
            "_model_module": "@jupyter-widgets/controls",
            "_model_module_version": "1.5.0",
            "_model_name": "HTMLModel",
            "_view_count": null,
            "_view_module": "@jupyter-widgets/controls",
            "_view_module_version": "1.5.0",
            "_view_name": "HTMLView",
            "description": "",
            "description_tooltip": null,
            "layout": "IPY_MODEL_4a012cda066f40cdba7e278041428b6d",
            "placeholder": "​",
            "style": "IPY_MODEL_552da7a0a29845159e1e917f12eeeef8",
            "value": "Upload 3 LFS files: 100%"
          }
        },
        "dac9ee67234d4f5990d29fa7e3ab6650": {
          "model_module": "@jupyter-widgets/controls",
          "model_name": "FloatProgressModel",
          "model_module_version": "1.5.0",
          "state": {
            "_dom_classes": [],
            "_model_module": "@jupyter-widgets/controls",
            "_model_module_version": "1.5.0",
            "_model_name": "FloatProgressModel",
            "_view_count": null,
            "_view_module": "@jupyter-widgets/controls",
            "_view_module_version": "1.5.0",
            "_view_name": "ProgressView",
            "bar_style": "success",
            "description": "",
            "description_tooltip": null,
            "layout": "IPY_MODEL_3f6d88997142431a8d57ca5827313126",
            "max": 3,
            "min": 0,
            "orientation": "horizontal",
            "style": "IPY_MODEL_a1d687869c7c4492a1bc454ae1668fd2",
            "value": 3
          }
        },
        "db5ad6b2eec94b2680902a0bf1ae2d43": {
          "model_module": "@jupyter-widgets/controls",
          "model_name": "HTMLModel",
          "model_module_version": "1.5.0",
          "state": {
            "_dom_classes": [],
            "_model_module": "@jupyter-widgets/controls",
            "_model_module_version": "1.5.0",
            "_model_name": "HTMLModel",
            "_view_count": null,
            "_view_module": "@jupyter-widgets/controls",
            "_view_module_version": "1.5.0",
            "_view_name": "HTMLView",
            "description": "",
            "description_tooltip": null,
            "layout": "IPY_MODEL_fbaef41fdabe4ea58ac4c73f1812123a",
            "placeholder": "​",
            "style": "IPY_MODEL_56e2f7e1feba4edeb316b3efbbba0cb1",
            "value": " 3/3 [00:00&lt;00:00,  6.54it/s]"
          }
        },
        "1017d9d1adfd44ec89a12e9420003b62": {
          "model_module": "@jupyter-widgets/base",
          "model_name": "LayoutModel",
          "model_module_version": "1.2.0",
          "state": {
            "_model_module": "@jupyter-widgets/base",
            "_model_module_version": "1.2.0",
            "_model_name": "LayoutModel",
            "_view_count": null,
            "_view_module": "@jupyter-widgets/base",
            "_view_module_version": "1.2.0",
            "_view_name": "LayoutView",
            "align_content": null,
            "align_items": null,
            "align_self": null,
            "border": null,
            "bottom": null,
            "display": null,
            "flex": null,
            "flex_flow": null,
            "grid_area": null,
            "grid_auto_columns": null,
            "grid_auto_flow": null,
            "grid_auto_rows": null,
            "grid_column": null,
            "grid_gap": null,
            "grid_row": null,
            "grid_template_areas": null,
            "grid_template_columns": null,
            "grid_template_rows": null,
            "height": null,
            "justify_content": null,
            "justify_items": null,
            "left": null,
            "margin": null,
            "max_height": null,
            "max_width": null,
            "min_height": null,
            "min_width": null,
            "object_fit": null,
            "object_position": null,
            "order": null,
            "overflow": null,
            "overflow_x": null,
            "overflow_y": null,
            "padding": null,
            "right": null,
            "top": null,
            "visibility": null,
            "width": null
          }
        },
        "4a012cda066f40cdba7e278041428b6d": {
          "model_module": "@jupyter-widgets/base",
          "model_name": "LayoutModel",
          "model_module_version": "1.2.0",
          "state": {
            "_model_module": "@jupyter-widgets/base",
            "_model_module_version": "1.2.0",
            "_model_name": "LayoutModel",
            "_view_count": null,
            "_view_module": "@jupyter-widgets/base",
            "_view_module_version": "1.2.0",
            "_view_name": "LayoutView",
            "align_content": null,
            "align_items": null,
            "align_self": null,
            "border": null,
            "bottom": null,
            "display": null,
            "flex": null,
            "flex_flow": null,
            "grid_area": null,
            "grid_auto_columns": null,
            "grid_auto_flow": null,
            "grid_auto_rows": null,
            "grid_column": null,
            "grid_gap": null,
            "grid_row": null,
            "grid_template_areas": null,
            "grid_template_columns": null,
            "grid_template_rows": null,
            "height": null,
            "justify_content": null,
            "justify_items": null,
            "left": null,
            "margin": null,
            "max_height": null,
            "max_width": null,
            "min_height": null,
            "min_width": null,
            "object_fit": null,
            "object_position": null,
            "order": null,
            "overflow": null,
            "overflow_x": null,
            "overflow_y": null,
            "padding": null,
            "right": null,
            "top": null,
            "visibility": null,
            "width": null
          }
        },
        "552da7a0a29845159e1e917f12eeeef8": {
          "model_module": "@jupyter-widgets/controls",
          "model_name": "DescriptionStyleModel",
          "model_module_version": "1.5.0",
          "state": {
            "_model_module": "@jupyter-widgets/controls",
            "_model_module_version": "1.5.0",
            "_model_name": "DescriptionStyleModel",
            "_view_count": null,
            "_view_module": "@jupyter-widgets/base",
            "_view_module_version": "1.2.0",
            "_view_name": "StyleView",
            "description_width": ""
          }
        },
        "3f6d88997142431a8d57ca5827313126": {
          "model_module": "@jupyter-widgets/base",
          "model_name": "LayoutModel",
          "model_module_version": "1.2.0",
          "state": {
            "_model_module": "@jupyter-widgets/base",
            "_model_module_version": "1.2.0",
            "_model_name": "LayoutModel",
            "_view_count": null,
            "_view_module": "@jupyter-widgets/base",
            "_view_module_version": "1.2.0",
            "_view_name": "LayoutView",
            "align_content": null,
            "align_items": null,
            "align_self": null,
            "border": null,
            "bottom": null,
            "display": null,
            "flex": null,
            "flex_flow": null,
            "grid_area": null,
            "grid_auto_columns": null,
            "grid_auto_flow": null,
            "grid_auto_rows": null,
            "grid_column": null,
            "grid_gap": null,
            "grid_row": null,
            "grid_template_areas": null,
            "grid_template_columns": null,
            "grid_template_rows": null,
            "height": null,
            "justify_content": null,
            "justify_items": null,
            "left": null,
            "margin": null,
            "max_height": null,
            "max_width": null,
            "min_height": null,
            "min_width": null,
            "object_fit": null,
            "object_position": null,
            "order": null,
            "overflow": null,
            "overflow_x": null,
            "overflow_y": null,
            "padding": null,
            "right": null,
            "top": null,
            "visibility": null,
            "width": null
          }
        },
        "a1d687869c7c4492a1bc454ae1668fd2": {
          "model_module": "@jupyter-widgets/controls",
          "model_name": "ProgressStyleModel",
          "model_module_version": "1.5.0",
          "state": {
            "_model_module": "@jupyter-widgets/controls",
            "_model_module_version": "1.5.0",
            "_model_name": "ProgressStyleModel",
            "_view_count": null,
            "_view_module": "@jupyter-widgets/base",
            "_view_module_version": "1.2.0",
            "_view_name": "StyleView",
            "bar_color": null,
            "description_width": ""
          }
        },
        "fbaef41fdabe4ea58ac4c73f1812123a": {
          "model_module": "@jupyter-widgets/base",
          "model_name": "LayoutModel",
          "model_module_version": "1.2.0",
          "state": {
            "_model_module": "@jupyter-widgets/base",
            "_model_module_version": "1.2.0",
            "_model_name": "LayoutModel",
            "_view_count": null,
            "_view_module": "@jupyter-widgets/base",
            "_view_module_version": "1.2.0",
            "_view_name": "LayoutView",
            "align_content": null,
            "align_items": null,
            "align_self": null,
            "border": null,
            "bottom": null,
            "display": null,
            "flex": null,
            "flex_flow": null,
            "grid_area": null,
            "grid_auto_columns": null,
            "grid_auto_flow": null,
            "grid_auto_rows": null,
            "grid_column": null,
            "grid_gap": null,
            "grid_row": null,
            "grid_template_areas": null,
            "grid_template_columns": null,
            "grid_template_rows": null,
            "height": null,
            "justify_content": null,
            "justify_items": null,
            "left": null,
            "margin": null,
            "max_height": null,
            "max_width": null,
            "min_height": null,
            "min_width": null,
            "object_fit": null,
            "object_position": null,
            "order": null,
            "overflow": null,
            "overflow_x": null,
            "overflow_y": null,
            "padding": null,
            "right": null,
            "top": null,
            "visibility": null,
            "width": null
          }
        },
        "56e2f7e1feba4edeb316b3efbbba0cb1": {
          "model_module": "@jupyter-widgets/controls",
          "model_name": "DescriptionStyleModel",
          "model_module_version": "1.5.0",
          "state": {
            "_model_module": "@jupyter-widgets/controls",
            "_model_module_version": "1.5.0",
            "_model_name": "DescriptionStyleModel",
            "_view_count": null,
            "_view_module": "@jupyter-widgets/base",
            "_view_module_version": "1.2.0",
            "_view_name": "StyleView",
            "description_width": ""
          }
        },
        "e7c66b98cc2748069ec8f7cb296befb3": {
          "model_module": "@jupyter-widgets/controls",
          "model_name": "HBoxModel",
          "model_module_version": "1.5.0",
          "state": {
            "_dom_classes": [],
            "_model_module": "@jupyter-widgets/controls",
            "_model_module_version": "1.5.0",
            "_model_name": "HBoxModel",
            "_view_count": null,
            "_view_module": "@jupyter-widgets/controls",
            "_view_module_version": "1.5.0",
            "_view_name": "HBoxView",
            "box_style": "",
            "children": [
              "IPY_MODEL_641c11b22f0d41deaaee7db19b2b3622",
              "IPY_MODEL_c754a40d68a74f89b2d562c451bb514f",
              "IPY_MODEL_740aebcfb04448fba4f0261426aacb68"
            ],
            "layout": "IPY_MODEL_d0cde1be6b264a02b75504660ba4ad3f"
          }
        },
        "641c11b22f0d41deaaee7db19b2b3622": {
          "model_module": "@jupyter-widgets/controls",
          "model_name": "HTMLModel",
          "model_module_version": "1.5.0",
          "state": {
            "_dom_classes": [],
            "_model_module": "@jupyter-widgets/controls",
            "_model_module_version": "1.5.0",
            "_model_name": "HTMLModel",
            "_view_count": null,
            "_view_module": "@jupyter-widgets/controls",
            "_view_module_version": "1.5.0",
            "_view_name": "HTMLView",
            "description": "",
            "description_tooltip": null,
            "layout": "IPY_MODEL_219dcd9ddae446c59deffcd456980b04",
            "placeholder": "​",
            "style": "IPY_MODEL_dde887ecac5342bbb4ae8a31843c9a57",
            "value": "fingerprint.pb: 100%"
          }
        },
        "c754a40d68a74f89b2d562c451bb514f": {
          "model_module": "@jupyter-widgets/controls",
          "model_name": "FloatProgressModel",
          "model_module_version": "1.5.0",
          "state": {
            "_dom_classes": [],
            "_model_module": "@jupyter-widgets/controls",
            "_model_module_version": "1.5.0",
            "_model_name": "FloatProgressModel",
            "_view_count": null,
            "_view_module": "@jupyter-widgets/controls",
            "_view_module_version": "1.5.0",
            "_view_name": "ProgressView",
            "bar_style": "success",
            "description": "",
            "description_tooltip": null,
            "layout": "IPY_MODEL_eaa79a983ada4f24a7022124962bbfb2",
            "max": 56,
            "min": 0,
            "orientation": "horizontal",
            "style": "IPY_MODEL_6c6b18a1226e4fd98f65b510bc51aa64",
            "value": 56
          }
        },
        "740aebcfb04448fba4f0261426aacb68": {
          "model_module": "@jupyter-widgets/controls",
          "model_name": "HTMLModel",
          "model_module_version": "1.5.0",
          "state": {
            "_dom_classes": [],
            "_model_module": "@jupyter-widgets/controls",
            "_model_module_version": "1.5.0",
            "_model_name": "HTMLModel",
            "_view_count": null,
            "_view_module": "@jupyter-widgets/controls",
            "_view_module_version": "1.5.0",
            "_view_name": "HTMLView",
            "description": "",
            "description_tooltip": null,
            "layout": "IPY_MODEL_9f94378641e6408489f433944901cb1f",
            "placeholder": "​",
            "style": "IPY_MODEL_e523bc20328d4d0ca5d388824556e58c",
            "value": " 56.0/56.0 [00:00&lt;00:00, 355B/s]"
          }
        },
        "d0cde1be6b264a02b75504660ba4ad3f": {
          "model_module": "@jupyter-widgets/base",
          "model_name": "LayoutModel",
          "model_module_version": "1.2.0",
          "state": {
            "_model_module": "@jupyter-widgets/base",
            "_model_module_version": "1.2.0",
            "_model_name": "LayoutModel",
            "_view_count": null,
            "_view_module": "@jupyter-widgets/base",
            "_view_module_version": "1.2.0",
            "_view_name": "LayoutView",
            "align_content": null,
            "align_items": null,
            "align_self": null,
            "border": null,
            "bottom": null,
            "display": null,
            "flex": null,
            "flex_flow": null,
            "grid_area": null,
            "grid_auto_columns": null,
            "grid_auto_flow": null,
            "grid_auto_rows": null,
            "grid_column": null,
            "grid_gap": null,
            "grid_row": null,
            "grid_template_areas": null,
            "grid_template_columns": null,
            "grid_template_rows": null,
            "height": null,
            "justify_content": null,
            "justify_items": null,
            "left": null,
            "margin": null,
            "max_height": null,
            "max_width": null,
            "min_height": null,
            "min_width": null,
            "object_fit": null,
            "object_position": null,
            "order": null,
            "overflow": null,
            "overflow_x": null,
            "overflow_y": null,
            "padding": null,
            "right": null,
            "top": null,
            "visibility": null,
            "width": null
          }
        },
        "219dcd9ddae446c59deffcd456980b04": {
          "model_module": "@jupyter-widgets/base",
          "model_name": "LayoutModel",
          "model_module_version": "1.2.0",
          "state": {
            "_model_module": "@jupyter-widgets/base",
            "_model_module_version": "1.2.0",
            "_model_name": "LayoutModel",
            "_view_count": null,
            "_view_module": "@jupyter-widgets/base",
            "_view_module_version": "1.2.0",
            "_view_name": "LayoutView",
            "align_content": null,
            "align_items": null,
            "align_self": null,
            "border": null,
            "bottom": null,
            "display": null,
            "flex": null,
            "flex_flow": null,
            "grid_area": null,
            "grid_auto_columns": null,
            "grid_auto_flow": null,
            "grid_auto_rows": null,
            "grid_column": null,
            "grid_gap": null,
            "grid_row": null,
            "grid_template_areas": null,
            "grid_template_columns": null,
            "grid_template_rows": null,
            "height": null,
            "justify_content": null,
            "justify_items": null,
            "left": null,
            "margin": null,
            "max_height": null,
            "max_width": null,
            "min_height": null,
            "min_width": null,
            "object_fit": null,
            "object_position": null,
            "order": null,
            "overflow": null,
            "overflow_x": null,
            "overflow_y": null,
            "padding": null,
            "right": null,
            "top": null,
            "visibility": null,
            "width": null
          }
        },
        "dde887ecac5342bbb4ae8a31843c9a57": {
          "model_module": "@jupyter-widgets/controls",
          "model_name": "DescriptionStyleModel",
          "model_module_version": "1.5.0",
          "state": {
            "_model_module": "@jupyter-widgets/controls",
            "_model_module_version": "1.5.0",
            "_model_name": "DescriptionStyleModel",
            "_view_count": null,
            "_view_module": "@jupyter-widgets/base",
            "_view_module_version": "1.2.0",
            "_view_name": "StyleView",
            "description_width": ""
          }
        },
        "eaa79a983ada4f24a7022124962bbfb2": {
          "model_module": "@jupyter-widgets/base",
          "model_name": "LayoutModel",
          "model_module_version": "1.2.0",
          "state": {
            "_model_module": "@jupyter-widgets/base",
            "_model_module_version": "1.2.0",
            "_model_name": "LayoutModel",
            "_view_count": null,
            "_view_module": "@jupyter-widgets/base",
            "_view_module_version": "1.2.0",
            "_view_name": "LayoutView",
            "align_content": null,
            "align_items": null,
            "align_self": null,
            "border": null,
            "bottom": null,
            "display": null,
            "flex": null,
            "flex_flow": null,
            "grid_area": null,
            "grid_auto_columns": null,
            "grid_auto_flow": null,
            "grid_auto_rows": null,
            "grid_column": null,
            "grid_gap": null,
            "grid_row": null,
            "grid_template_areas": null,
            "grid_template_columns": null,
            "grid_template_rows": null,
            "height": null,
            "justify_content": null,
            "justify_items": null,
            "left": null,
            "margin": null,
            "max_height": null,
            "max_width": null,
            "min_height": null,
            "min_width": null,
            "object_fit": null,
            "object_position": null,
            "order": null,
            "overflow": null,
            "overflow_x": null,
            "overflow_y": null,
            "padding": null,
            "right": null,
            "top": null,
            "visibility": null,
            "width": null
          }
        },
        "6c6b18a1226e4fd98f65b510bc51aa64": {
          "model_module": "@jupyter-widgets/controls",
          "model_name": "ProgressStyleModel",
          "model_module_version": "1.5.0",
          "state": {
            "_model_module": "@jupyter-widgets/controls",
            "_model_module_version": "1.5.0",
            "_model_name": "ProgressStyleModel",
            "_view_count": null,
            "_view_module": "@jupyter-widgets/base",
            "_view_module_version": "1.2.0",
            "_view_name": "StyleView",
            "bar_color": null,
            "description_width": ""
          }
        },
        "9f94378641e6408489f433944901cb1f": {
          "model_module": "@jupyter-widgets/base",
          "model_name": "LayoutModel",
          "model_module_version": "1.2.0",
          "state": {
            "_model_module": "@jupyter-widgets/base",
            "_model_module_version": "1.2.0",
            "_model_name": "LayoutModel",
            "_view_count": null,
            "_view_module": "@jupyter-widgets/base",
            "_view_module_version": "1.2.0",
            "_view_name": "LayoutView",
            "align_content": null,
            "align_items": null,
            "align_self": null,
            "border": null,
            "bottom": null,
            "display": null,
            "flex": null,
            "flex_flow": null,
            "grid_area": null,
            "grid_auto_columns": null,
            "grid_auto_flow": null,
            "grid_auto_rows": null,
            "grid_column": null,
            "grid_gap": null,
            "grid_row": null,
            "grid_template_areas": null,
            "grid_template_columns": null,
            "grid_template_rows": null,
            "height": null,
            "justify_content": null,
            "justify_items": null,
            "left": null,
            "margin": null,
            "max_height": null,
            "max_width": null,
            "min_height": null,
            "min_width": null,
            "object_fit": null,
            "object_position": null,
            "order": null,
            "overflow": null,
            "overflow_x": null,
            "overflow_y": null,
            "padding": null,
            "right": null,
            "top": null,
            "visibility": null,
            "width": null
          }
        },
        "e523bc20328d4d0ca5d388824556e58c": {
          "model_module": "@jupyter-widgets/controls",
          "model_name": "DescriptionStyleModel",
          "model_module_version": "1.5.0",
          "state": {
            "_model_module": "@jupyter-widgets/controls",
            "_model_module_version": "1.5.0",
            "_model_name": "DescriptionStyleModel",
            "_view_count": null,
            "_view_module": "@jupyter-widgets/base",
            "_view_module_version": "1.2.0",
            "_view_name": "StyleView",
            "description_width": ""
          }
        },
        "62def8b327774d8798c93dbc5cbd19b4": {
          "model_module": "@jupyter-widgets/controls",
          "model_name": "HBoxModel",
          "model_module_version": "1.5.0",
          "state": {
            "_dom_classes": [],
            "_model_module": "@jupyter-widgets/controls",
            "_model_module_version": "1.5.0",
            "_model_name": "HBoxModel",
            "_view_count": null,
            "_view_module": "@jupyter-widgets/controls",
            "_view_module_version": "1.5.0",
            "_view_name": "HBoxView",
            "box_style": "",
            "children": [
              "IPY_MODEL_d8c71d2024504ff2a5ce5b14c21ce68e",
              "IPY_MODEL_73feb9d1a70b44c9a8906537493b7dd6",
              "IPY_MODEL_c96136e9a8e34e2197fcf42fc2e66205"
            ],
            "layout": "IPY_MODEL_777d6f8b2f8c4bee9f6f5d907c6e993c"
          }
        },
        "d8c71d2024504ff2a5ce5b14c21ce68e": {
          "model_module": "@jupyter-widgets/controls",
          "model_name": "HTMLModel",
          "model_module_version": "1.5.0",
          "state": {
            "_dom_classes": [],
            "_model_module": "@jupyter-widgets/controls",
            "_model_module_version": "1.5.0",
            "_model_name": "HTMLModel",
            "_view_count": null,
            "_view_module": "@jupyter-widgets/controls",
            "_view_module_version": "1.5.0",
            "_view_name": "HTMLView",
            "description": "",
            "description_tooltip": null,
            "layout": "IPY_MODEL_6b2c9b64d7964b1ca842988247998af4",
            "placeholder": "​",
            "style": "IPY_MODEL_0f7669117bf74f1ead7aa28395a72431",
            "value": "variables.data-00000-of-00001: 100%"
          }
        },
        "73feb9d1a70b44c9a8906537493b7dd6": {
          "model_module": "@jupyter-widgets/controls",
          "model_name": "FloatProgressModel",
          "model_module_version": "1.5.0",
          "state": {
            "_dom_classes": [],
            "_model_module": "@jupyter-widgets/controls",
            "_model_module_version": "1.5.0",
            "_model_name": "FloatProgressModel",
            "_view_count": null,
            "_view_module": "@jupyter-widgets/controls",
            "_view_module_version": "1.5.0",
            "_view_name": "ProgressView",
            "bar_style": "success",
            "description": "",
            "description_tooltip": null,
            "layout": "IPY_MODEL_0f7345fe19ec4d498dbaffdad56f2509",
            "max": 1327040,
            "min": 0,
            "orientation": "horizontal",
            "style": "IPY_MODEL_4c85b336e9264123a5c11f7bf814212a",
            "value": 1327040
          }
        },
        "c96136e9a8e34e2197fcf42fc2e66205": {
          "model_module": "@jupyter-widgets/controls",
          "model_name": "HTMLModel",
          "model_module_version": "1.5.0",
          "state": {
            "_dom_classes": [],
            "_model_module": "@jupyter-widgets/controls",
            "_model_module_version": "1.5.0",
            "_model_name": "HTMLModel",
            "_view_count": null,
            "_view_module": "@jupyter-widgets/controls",
            "_view_module_version": "1.5.0",
            "_view_name": "HTMLView",
            "description": "",
            "description_tooltip": null,
            "layout": "IPY_MODEL_7e95681b5c4f45e8b39cdf057d476b64",
            "placeholder": "​",
            "style": "IPY_MODEL_52ba02e39f264e7f8ccc08db28d17caa",
            "value": " 1.33M/1.33M [00:00&lt;00:00, 126kB/s]"
          }
        },
        "777d6f8b2f8c4bee9f6f5d907c6e993c": {
          "model_module": "@jupyter-widgets/base",
          "model_name": "LayoutModel",
          "model_module_version": "1.2.0",
          "state": {
            "_model_module": "@jupyter-widgets/base",
            "_model_module_version": "1.2.0",
            "_model_name": "LayoutModel",
            "_view_count": null,
            "_view_module": "@jupyter-widgets/base",
            "_view_module_version": "1.2.0",
            "_view_name": "LayoutView",
            "align_content": null,
            "align_items": null,
            "align_self": null,
            "border": null,
            "bottom": null,
            "display": null,
            "flex": null,
            "flex_flow": null,
            "grid_area": null,
            "grid_auto_columns": null,
            "grid_auto_flow": null,
            "grid_auto_rows": null,
            "grid_column": null,
            "grid_gap": null,
            "grid_row": null,
            "grid_template_areas": null,
            "grid_template_columns": null,
            "grid_template_rows": null,
            "height": null,
            "justify_content": null,
            "justify_items": null,
            "left": null,
            "margin": null,
            "max_height": null,
            "max_width": null,
            "min_height": null,
            "min_width": null,
            "object_fit": null,
            "object_position": null,
            "order": null,
            "overflow": null,
            "overflow_x": null,
            "overflow_y": null,
            "padding": null,
            "right": null,
            "top": null,
            "visibility": null,
            "width": null
          }
        },
        "6b2c9b64d7964b1ca842988247998af4": {
          "model_module": "@jupyter-widgets/base",
          "model_name": "LayoutModel",
          "model_module_version": "1.2.0",
          "state": {
            "_model_module": "@jupyter-widgets/base",
            "_model_module_version": "1.2.0",
            "_model_name": "LayoutModel",
            "_view_count": null,
            "_view_module": "@jupyter-widgets/base",
            "_view_module_version": "1.2.0",
            "_view_name": "LayoutView",
            "align_content": null,
            "align_items": null,
            "align_self": null,
            "border": null,
            "bottom": null,
            "display": null,
            "flex": null,
            "flex_flow": null,
            "grid_area": null,
            "grid_auto_columns": null,
            "grid_auto_flow": null,
            "grid_auto_rows": null,
            "grid_column": null,
            "grid_gap": null,
            "grid_row": null,
            "grid_template_areas": null,
            "grid_template_columns": null,
            "grid_template_rows": null,
            "height": null,
            "justify_content": null,
            "justify_items": null,
            "left": null,
            "margin": null,
            "max_height": null,
            "max_width": null,
            "min_height": null,
            "min_width": null,
            "object_fit": null,
            "object_position": null,
            "order": null,
            "overflow": null,
            "overflow_x": null,
            "overflow_y": null,
            "padding": null,
            "right": null,
            "top": null,
            "visibility": null,
            "width": null
          }
        },
        "0f7669117bf74f1ead7aa28395a72431": {
          "model_module": "@jupyter-widgets/controls",
          "model_name": "DescriptionStyleModel",
          "model_module_version": "1.5.0",
          "state": {
            "_model_module": "@jupyter-widgets/controls",
            "_model_module_version": "1.5.0",
            "_model_name": "DescriptionStyleModel",
            "_view_count": null,
            "_view_module": "@jupyter-widgets/base",
            "_view_module_version": "1.2.0",
            "_view_name": "StyleView",
            "description_width": ""
          }
        },
        "0f7345fe19ec4d498dbaffdad56f2509": {
          "model_module": "@jupyter-widgets/base",
          "model_name": "LayoutModel",
          "model_module_version": "1.2.0",
          "state": {
            "_model_module": "@jupyter-widgets/base",
            "_model_module_version": "1.2.0",
            "_model_name": "LayoutModel",
            "_view_count": null,
            "_view_module": "@jupyter-widgets/base",
            "_view_module_version": "1.2.0",
            "_view_name": "LayoutView",
            "align_content": null,
            "align_items": null,
            "align_self": null,
            "border": null,
            "bottom": null,
            "display": null,
            "flex": null,
            "flex_flow": null,
            "grid_area": null,
            "grid_auto_columns": null,
            "grid_auto_flow": null,
            "grid_auto_rows": null,
            "grid_column": null,
            "grid_gap": null,
            "grid_row": null,
            "grid_template_areas": null,
            "grid_template_columns": null,
            "grid_template_rows": null,
            "height": null,
            "justify_content": null,
            "justify_items": null,
            "left": null,
            "margin": null,
            "max_height": null,
            "max_width": null,
            "min_height": null,
            "min_width": null,
            "object_fit": null,
            "object_position": null,
            "order": null,
            "overflow": null,
            "overflow_x": null,
            "overflow_y": null,
            "padding": null,
            "right": null,
            "top": null,
            "visibility": null,
            "width": null
          }
        },
        "4c85b336e9264123a5c11f7bf814212a": {
          "model_module": "@jupyter-widgets/controls",
          "model_name": "ProgressStyleModel",
          "model_module_version": "1.5.0",
          "state": {
            "_model_module": "@jupyter-widgets/controls",
            "_model_module_version": "1.5.0",
            "_model_name": "ProgressStyleModel",
            "_view_count": null,
            "_view_module": "@jupyter-widgets/base",
            "_view_module_version": "1.2.0",
            "_view_name": "StyleView",
            "bar_color": null,
            "description_width": ""
          }
        },
        "7e95681b5c4f45e8b39cdf057d476b64": {
          "model_module": "@jupyter-widgets/base",
          "model_name": "LayoutModel",
          "model_module_version": "1.2.0",
          "state": {
            "_model_module": "@jupyter-widgets/base",
            "_model_module_version": "1.2.0",
            "_model_name": "LayoutModel",
            "_view_count": null,
            "_view_module": "@jupyter-widgets/base",
            "_view_module_version": "1.2.0",
            "_view_name": "LayoutView",
            "align_content": null,
            "align_items": null,
            "align_self": null,
            "border": null,
            "bottom": null,
            "display": null,
            "flex": null,
            "flex_flow": null,
            "grid_area": null,
            "grid_auto_columns": null,
            "grid_auto_flow": null,
            "grid_auto_rows": null,
            "grid_column": null,
            "grid_gap": null,
            "grid_row": null,
            "grid_template_areas": null,
            "grid_template_columns": null,
            "grid_template_rows": null,
            "height": null,
            "justify_content": null,
            "justify_items": null,
            "left": null,
            "margin": null,
            "max_height": null,
            "max_width": null,
            "min_height": null,
            "min_width": null,
            "object_fit": null,
            "object_position": null,
            "order": null,
            "overflow": null,
            "overflow_x": null,
            "overflow_y": null,
            "padding": null,
            "right": null,
            "top": null,
            "visibility": null,
            "width": null
          }
        },
        "52ba02e39f264e7f8ccc08db28d17caa": {
          "model_module": "@jupyter-widgets/controls",
          "model_name": "DescriptionStyleModel",
          "model_module_version": "1.5.0",
          "state": {
            "_model_module": "@jupyter-widgets/controls",
            "_model_module_version": "1.5.0",
            "_model_name": "DescriptionStyleModel",
            "_view_count": null,
            "_view_module": "@jupyter-widgets/base",
            "_view_module_version": "1.2.0",
            "_view_name": "StyleView",
            "description_width": ""
          }
        },
        "eb02d88dd3014c3a8a482e5342dd752b": {
          "model_module": "@jupyter-widgets/controls",
          "model_name": "HBoxModel",
          "model_module_version": "1.5.0",
          "state": {
            "_dom_classes": [],
            "_model_module": "@jupyter-widgets/controls",
            "_model_module_version": "1.5.0",
            "_model_name": "HBoxModel",
            "_view_count": null,
            "_view_module": "@jupyter-widgets/controls",
            "_view_module_version": "1.5.0",
            "_view_name": "HBoxView",
            "box_style": "",
            "children": [
              "IPY_MODEL_54f8b3b62f32449fbafab50455c99f98",
              "IPY_MODEL_38475e47e4114bb8bc0e695e636caa97",
              "IPY_MODEL_44ca09e5e7a6408199bce06a28c15d06"
            ],
            "layout": "IPY_MODEL_5e9fffaaed0d4fd8a0774c6064d24aea"
          }
        },
        "54f8b3b62f32449fbafab50455c99f98": {
          "model_module": "@jupyter-widgets/controls",
          "model_name": "HTMLModel",
          "model_module_version": "1.5.0",
          "state": {
            "_dom_classes": [],
            "_model_module": "@jupyter-widgets/controls",
            "_model_module_version": "1.5.0",
            "_model_name": "HTMLModel",
            "_view_count": null,
            "_view_module": "@jupyter-widgets/controls",
            "_view_module_version": "1.5.0",
            "_view_name": "HTMLView",
            "description": "",
            "description_tooltip": null,
            "layout": "IPY_MODEL_e30696bc1f7a46b3a84e3ad6a82b404f",
            "placeholder": "​",
            "style": "IPY_MODEL_24d1c0a844854213974767ac7a7c9a0c",
            "value": "saved_model.pb: 100%"
          }
        },
        "38475e47e4114bb8bc0e695e636caa97": {
          "model_module": "@jupyter-widgets/controls",
          "model_name": "FloatProgressModel",
          "model_module_version": "1.5.0",
          "state": {
            "_dom_classes": [],
            "_model_module": "@jupyter-widgets/controls",
            "_model_module_version": "1.5.0",
            "_model_name": "FloatProgressModel",
            "_view_count": null,
            "_view_module": "@jupyter-widgets/controls",
            "_view_module_version": "1.5.0",
            "_view_name": "ProgressView",
            "bar_style": "success",
            "description": "",
            "description_tooltip": null,
            "layout": "IPY_MODEL_69bb2d9737fd4f4380d1eb316def098c",
            "max": 129216,
            "min": 0,
            "orientation": "horizontal",
            "style": "IPY_MODEL_3e7a44dd195b41ab9e7bfbf6382dd572",
            "value": 129216
          }
        },
        "44ca09e5e7a6408199bce06a28c15d06": {
          "model_module": "@jupyter-widgets/controls",
          "model_name": "HTMLModel",
          "model_module_version": "1.5.0",
          "state": {
            "_dom_classes": [],
            "_model_module": "@jupyter-widgets/controls",
            "_model_module_version": "1.5.0",
            "_model_name": "HTMLModel",
            "_view_count": null,
            "_view_module": "@jupyter-widgets/controls",
            "_view_module_version": "1.5.0",
            "_view_name": "HTMLView",
            "description": "",
            "description_tooltip": null,
            "layout": "IPY_MODEL_3e10dc65e0ed46b0b71d21969f330d83",
            "placeholder": "​",
            "style": "IPY_MODEL_5d665ff320914c95a4f38a39946bd197",
            "value": " 129k/129k [00:00&lt;00:00, 123kB/s]"
          }
        },
        "5e9fffaaed0d4fd8a0774c6064d24aea": {
          "model_module": "@jupyter-widgets/base",
          "model_name": "LayoutModel",
          "model_module_version": "1.2.0",
          "state": {
            "_model_module": "@jupyter-widgets/base",
            "_model_module_version": "1.2.0",
            "_model_name": "LayoutModel",
            "_view_count": null,
            "_view_module": "@jupyter-widgets/base",
            "_view_module_version": "1.2.0",
            "_view_name": "LayoutView",
            "align_content": null,
            "align_items": null,
            "align_self": null,
            "border": null,
            "bottom": null,
            "display": null,
            "flex": null,
            "flex_flow": null,
            "grid_area": null,
            "grid_auto_columns": null,
            "grid_auto_flow": null,
            "grid_auto_rows": null,
            "grid_column": null,
            "grid_gap": null,
            "grid_row": null,
            "grid_template_areas": null,
            "grid_template_columns": null,
            "grid_template_rows": null,
            "height": null,
            "justify_content": null,
            "justify_items": null,
            "left": null,
            "margin": null,
            "max_height": null,
            "max_width": null,
            "min_height": null,
            "min_width": null,
            "object_fit": null,
            "object_position": null,
            "order": null,
            "overflow": null,
            "overflow_x": null,
            "overflow_y": null,
            "padding": null,
            "right": null,
            "top": null,
            "visibility": null,
            "width": null
          }
        },
        "e30696bc1f7a46b3a84e3ad6a82b404f": {
          "model_module": "@jupyter-widgets/base",
          "model_name": "LayoutModel",
          "model_module_version": "1.2.0",
          "state": {
            "_model_module": "@jupyter-widgets/base",
            "_model_module_version": "1.2.0",
            "_model_name": "LayoutModel",
            "_view_count": null,
            "_view_module": "@jupyter-widgets/base",
            "_view_module_version": "1.2.0",
            "_view_name": "LayoutView",
            "align_content": null,
            "align_items": null,
            "align_self": null,
            "border": null,
            "bottom": null,
            "display": null,
            "flex": null,
            "flex_flow": null,
            "grid_area": null,
            "grid_auto_columns": null,
            "grid_auto_flow": null,
            "grid_auto_rows": null,
            "grid_column": null,
            "grid_gap": null,
            "grid_row": null,
            "grid_template_areas": null,
            "grid_template_columns": null,
            "grid_template_rows": null,
            "height": null,
            "justify_content": null,
            "justify_items": null,
            "left": null,
            "margin": null,
            "max_height": null,
            "max_width": null,
            "min_height": null,
            "min_width": null,
            "object_fit": null,
            "object_position": null,
            "order": null,
            "overflow": null,
            "overflow_x": null,
            "overflow_y": null,
            "padding": null,
            "right": null,
            "top": null,
            "visibility": null,
            "width": null
          }
        },
        "24d1c0a844854213974767ac7a7c9a0c": {
          "model_module": "@jupyter-widgets/controls",
          "model_name": "DescriptionStyleModel",
          "model_module_version": "1.5.0",
          "state": {
            "_model_module": "@jupyter-widgets/controls",
            "_model_module_version": "1.5.0",
            "_model_name": "DescriptionStyleModel",
            "_view_count": null,
            "_view_module": "@jupyter-widgets/base",
            "_view_module_version": "1.2.0",
            "_view_name": "StyleView",
            "description_width": ""
          }
        },
        "69bb2d9737fd4f4380d1eb316def098c": {
          "model_module": "@jupyter-widgets/base",
          "model_name": "LayoutModel",
          "model_module_version": "1.2.0",
          "state": {
            "_model_module": "@jupyter-widgets/base",
            "_model_module_version": "1.2.0",
            "_model_name": "LayoutModel",
            "_view_count": null,
            "_view_module": "@jupyter-widgets/base",
            "_view_module_version": "1.2.0",
            "_view_name": "LayoutView",
            "align_content": null,
            "align_items": null,
            "align_self": null,
            "border": null,
            "bottom": null,
            "display": null,
            "flex": null,
            "flex_flow": null,
            "grid_area": null,
            "grid_auto_columns": null,
            "grid_auto_flow": null,
            "grid_auto_rows": null,
            "grid_column": null,
            "grid_gap": null,
            "grid_row": null,
            "grid_template_areas": null,
            "grid_template_columns": null,
            "grid_template_rows": null,
            "height": null,
            "justify_content": null,
            "justify_items": null,
            "left": null,
            "margin": null,
            "max_height": null,
            "max_width": null,
            "min_height": null,
            "min_width": null,
            "object_fit": null,
            "object_position": null,
            "order": null,
            "overflow": null,
            "overflow_x": null,
            "overflow_y": null,
            "padding": null,
            "right": null,
            "top": null,
            "visibility": null,
            "width": null
          }
        },
        "3e7a44dd195b41ab9e7bfbf6382dd572": {
          "model_module": "@jupyter-widgets/controls",
          "model_name": "ProgressStyleModel",
          "model_module_version": "1.5.0",
          "state": {
            "_model_module": "@jupyter-widgets/controls",
            "_model_module_version": "1.5.0",
            "_model_name": "ProgressStyleModel",
            "_view_count": null,
            "_view_module": "@jupyter-widgets/base",
            "_view_module_version": "1.2.0",
            "_view_name": "StyleView",
            "bar_color": null,
            "description_width": ""
          }
        },
        "3e10dc65e0ed46b0b71d21969f330d83": {
          "model_module": "@jupyter-widgets/base",
          "model_name": "LayoutModel",
          "model_module_version": "1.2.0",
          "state": {
            "_model_module": "@jupyter-widgets/base",
            "_model_module_version": "1.2.0",
            "_model_name": "LayoutModel",
            "_view_count": null,
            "_view_module": "@jupyter-widgets/base",
            "_view_module_version": "1.2.0",
            "_view_name": "LayoutView",
            "align_content": null,
            "align_items": null,
            "align_self": null,
            "border": null,
            "bottom": null,
            "display": null,
            "flex": null,
            "flex_flow": null,
            "grid_area": null,
            "grid_auto_columns": null,
            "grid_auto_flow": null,
            "grid_auto_rows": null,
            "grid_column": null,
            "grid_gap": null,
            "grid_row": null,
            "grid_template_areas": null,
            "grid_template_columns": null,
            "grid_template_rows": null,
            "height": null,
            "justify_content": null,
            "justify_items": null,
            "left": null,
            "margin": null,
            "max_height": null,
            "max_width": null,
            "min_height": null,
            "min_width": null,
            "object_fit": null,
            "object_position": null,
            "order": null,
            "overflow": null,
            "overflow_x": null,
            "overflow_y": null,
            "padding": null,
            "right": null,
            "top": null,
            "visibility": null,
            "width": null
          }
        },
        "5d665ff320914c95a4f38a39946bd197": {
          "model_module": "@jupyter-widgets/controls",
          "model_name": "DescriptionStyleModel",
          "model_module_version": "1.5.0",
          "state": {
            "_model_module": "@jupyter-widgets/controls",
            "_model_module_version": "1.5.0",
            "_model_name": "DescriptionStyleModel",
            "_view_count": null,
            "_view_module": "@jupyter-widgets/base",
            "_view_module_version": "1.2.0",
            "_view_name": "StyleView",
            "description_width": ""
          }
        }
      }
    }
  },
  "cells": [
    {
      "cell_type": "markdown",
      "metadata": {
        "id": "view-in-github",
        "colab_type": "text"
      },
      "source": [
        "<a href=\"https://colab.research.google.com/github/reemchaaban/game_system/blob/main/data-processing/player_count_model.ipynb\" target=\"_parent\"><img src=\"https://colab.research.google.com/assets/colab-badge.svg\" alt=\"Open In Colab\"/></a>"
      ]
    },
    {
      "cell_type": "code",
      "source": [
        "!pip install workalendar\n",
        "!pip install huggingface_hub transformers\n",
        "!pip install mlflow\n",
        "!pip install pyngrok --quiet"
      ],
      "metadata": {
        "colab": {
          "base_uri": "https://localhost:8080/"
        },
        "id": "th5mx-gdQFiF",
        "outputId": "2a5e19d0-7813-4f3f-de62-e816071559ad"
      },
      "execution_count": 1,
      "outputs": [
        {
          "output_type": "stream",
          "name": "stdout",
          "text": [
            "Collecting workalendar\n",
            "  Downloading workalendar-17.0.0-py3-none-any.whl.metadata (8.4 kB)\n",
            "Requirement already satisfied: python-dateutil in /usr/local/lib/python3.11/dist-packages (from workalendar) (2.8.2)\n",
            "Collecting lunardate (from workalendar)\n",
            "  Downloading lunardate-0.2.2-py3-none-any.whl.metadata (3.6 kB)\n",
            "Collecting convertdate (from workalendar)\n",
            "  Downloading convertdate-2.4.0-py3-none-any.whl.metadata (8.3 kB)\n",
            "Collecting pyluach (from workalendar)\n",
            "  Downloading pyluach-2.2.0-py3-none-any.whl.metadata (4.3 kB)\n",
            "Collecting pymeeus<=1,>=0.3.13 (from convertdate->workalendar)\n",
            "  Downloading PyMeeus-0.5.12.tar.gz (5.8 MB)\n",
            "\u001b[2K     \u001b[90m━━━━━━━━━━━━━━━━━━━━━━━━━━━━━━━━━━━━━━━━\u001b[0m \u001b[32m5.8/5.8 MB\u001b[0m \u001b[31m14.3 MB/s\u001b[0m eta \u001b[36m0:00:00\u001b[0m\n",
            "\u001b[?25h  Preparing metadata (setup.py) ... \u001b[?25l\u001b[?25hdone\n",
            "Requirement already satisfied: six>=1.5 in /usr/local/lib/python3.11/dist-packages (from python-dateutil->workalendar) (1.17.0)\n",
            "Downloading workalendar-17.0.0-py3-none-any.whl (210 kB)\n",
            "\u001b[2K   \u001b[90m━━━━━━━━━━━━━━━━━━━━━━━━━━━━━━━━━━━━━━━━\u001b[0m \u001b[32m210.7/210.7 kB\u001b[0m \u001b[31m1.6 MB/s\u001b[0m eta \u001b[36m0:00:00\u001b[0m\n",
            "\u001b[?25hDownloading convertdate-2.4.0-py3-none-any.whl (47 kB)\n",
            "\u001b[2K   \u001b[90m━━━━━━━━━━━━━━━━━━━━━━━━━━━━━━━━━━━━━━━━\u001b[0m \u001b[32m47.9/47.9 kB\u001b[0m \u001b[31m1.5 MB/s\u001b[0m eta \u001b[36m0:00:00\u001b[0m\n",
            "\u001b[?25hDownloading lunardate-0.2.2-py3-none-any.whl (18 kB)\n",
            "Downloading pyluach-2.2.0-py3-none-any.whl (25 kB)\n",
            "Building wheels for collected packages: pymeeus\n",
            "  Building wheel for pymeeus (setup.py) ... \u001b[?25l\u001b[?25hdone\n",
            "  Created wheel for pymeeus: filename=PyMeeus-0.5.12-py3-none-any.whl size=732000 sha256=60d6d8ac4a38a97ce4bcf2d40ce28d790e2aaa8ee42c02e2ee13792978062508\n",
            "  Stored in directory: /root/.cache/pip/wheels/8f/bd/f9/5c4c39b529e0322b08979e1c465e203218bc2cca75d20f7df5\n",
            "Successfully built pymeeus\n",
            "Installing collected packages: pymeeus, lunardate, pyluach, convertdate, workalendar\n",
            "Successfully installed convertdate-2.4.0 lunardate-0.2.2 pyluach-2.2.0 pymeeus-0.5.12 workalendar-17.0.0\n",
            "Requirement already satisfied: huggingface_hub in /usr/local/lib/python3.11/dist-packages (0.30.2)\n",
            "Requirement already satisfied: transformers in /usr/local/lib/python3.11/dist-packages (4.51.3)\n",
            "Requirement already satisfied: filelock in /usr/local/lib/python3.11/dist-packages (from huggingface_hub) (3.18.0)\n",
            "Requirement already satisfied: fsspec>=2023.5.0 in /usr/local/lib/python3.11/dist-packages (from huggingface_hub) (2025.3.2)\n",
            "Requirement already satisfied: packaging>=20.9 in /usr/local/lib/python3.11/dist-packages (from huggingface_hub) (24.2)\n",
            "Requirement already satisfied: pyyaml>=5.1 in /usr/local/lib/python3.11/dist-packages (from huggingface_hub) (6.0.2)\n",
            "Requirement already satisfied: requests in /usr/local/lib/python3.11/dist-packages (from huggingface_hub) (2.32.3)\n",
            "Requirement already satisfied: tqdm>=4.42.1 in /usr/local/lib/python3.11/dist-packages (from huggingface_hub) (4.67.1)\n",
            "Requirement already satisfied: typing-extensions>=3.7.4.3 in /usr/local/lib/python3.11/dist-packages (from huggingface_hub) (4.13.2)\n",
            "Requirement already satisfied: numpy>=1.17 in /usr/local/lib/python3.11/dist-packages (from transformers) (2.0.2)\n",
            "Requirement already satisfied: regex!=2019.12.17 in /usr/local/lib/python3.11/dist-packages (from transformers) (2024.11.6)\n",
            "Requirement already satisfied: tokenizers<0.22,>=0.21 in /usr/local/lib/python3.11/dist-packages (from transformers) (0.21.1)\n",
            "Requirement already satisfied: safetensors>=0.4.3 in /usr/local/lib/python3.11/dist-packages (from transformers) (0.5.3)\n",
            "Requirement already satisfied: charset-normalizer<4,>=2 in /usr/local/lib/python3.11/dist-packages (from requests->huggingface_hub) (3.4.1)\n",
            "Requirement already satisfied: idna<4,>=2.5 in /usr/local/lib/python3.11/dist-packages (from requests->huggingface_hub) (3.10)\n",
            "Requirement already satisfied: urllib3<3,>=1.21.1 in /usr/local/lib/python3.11/dist-packages (from requests->huggingface_hub) (2.3.0)\n",
            "Requirement already satisfied: certifi>=2017.4.17 in /usr/local/lib/python3.11/dist-packages (from requests->huggingface_hub) (2025.1.31)\n",
            "Collecting mlflow\n",
            "  Downloading mlflow-2.21.3-py3-none-any.whl.metadata (30 kB)\n",
            "Collecting mlflow-skinny==2.21.3 (from mlflow)\n",
            "  Downloading mlflow_skinny-2.21.3-py3-none-any.whl.metadata (31 kB)\n",
            "Requirement already satisfied: Flask<4 in /usr/local/lib/python3.11/dist-packages (from mlflow) (3.1.0)\n",
            "Requirement already satisfied: Jinja2<4,>=2.11 in /usr/local/lib/python3.11/dist-packages (from mlflow) (3.1.6)\n",
            "Collecting alembic!=1.10.0,<2 (from mlflow)\n",
            "  Downloading alembic-1.15.2-py3-none-any.whl.metadata (7.3 kB)\n",
            "Collecting docker<8,>=4.0.0 (from mlflow)\n",
            "  Downloading docker-7.1.0-py3-none-any.whl.metadata (3.8 kB)\n",
            "Collecting graphene<4 (from mlflow)\n",
            "  Downloading graphene-3.4.3-py2.py3-none-any.whl.metadata (6.9 kB)\n",
            "Collecting gunicorn<24 (from mlflow)\n",
            "  Downloading gunicorn-23.0.0-py3-none-any.whl.metadata (4.4 kB)\n",
            "Requirement already satisfied: markdown<4,>=3.3 in /usr/local/lib/python3.11/dist-packages (from mlflow) (3.8)\n",
            "Requirement already satisfied: matplotlib<4 in /usr/local/lib/python3.11/dist-packages (from mlflow) (3.10.0)\n",
            "Requirement already satisfied: numpy<3 in /usr/local/lib/python3.11/dist-packages (from mlflow) (2.0.2)\n",
            "Requirement already satisfied: pandas<3 in /usr/local/lib/python3.11/dist-packages (from mlflow) (2.2.2)\n",
            "Requirement already satisfied: pyarrow<20,>=4.0.0 in /usr/local/lib/python3.11/dist-packages (from mlflow) (18.1.0)\n",
            "Requirement already satisfied: scikit-learn<2 in /usr/local/lib/python3.11/dist-packages (from mlflow) (1.6.1)\n",
            "Requirement already satisfied: scipy<2 in /usr/local/lib/python3.11/dist-packages (from mlflow) (1.14.1)\n",
            "Requirement already satisfied: sqlalchemy<3,>=1.4.0 in /usr/local/lib/python3.11/dist-packages (from mlflow) (2.0.40)\n",
            "Requirement already satisfied: cachetools<6,>=5.0.0 in /usr/local/lib/python3.11/dist-packages (from mlflow-skinny==2.21.3->mlflow) (5.5.2)\n",
            "Requirement already satisfied: click<9,>=7.0 in /usr/local/lib/python3.11/dist-packages (from mlflow-skinny==2.21.3->mlflow) (8.1.8)\n",
            "Requirement already satisfied: cloudpickle<4 in /usr/local/lib/python3.11/dist-packages (from mlflow-skinny==2.21.3->mlflow) (3.1.1)\n",
            "Collecting databricks-sdk<1,>=0.20.0 (from mlflow-skinny==2.21.3->mlflow)\n",
            "  Downloading databricks_sdk-0.50.0-py3-none-any.whl.metadata (38 kB)\n",
            "Collecting fastapi<1 (from mlflow-skinny==2.21.3->mlflow)\n",
            "  Downloading fastapi-0.115.12-py3-none-any.whl.metadata (27 kB)\n",
            "Requirement already satisfied: gitpython<4,>=3.1.9 in /usr/local/lib/python3.11/dist-packages (from mlflow-skinny==2.21.3->mlflow) (3.1.44)\n",
            "Requirement already satisfied: importlib_metadata!=4.7.0,<9,>=3.7.0 in /usr/local/lib/python3.11/dist-packages (from mlflow-skinny==2.21.3->mlflow) (8.6.1)\n",
            "Requirement already satisfied: opentelemetry-api<3,>=1.9.0 in /usr/local/lib/python3.11/dist-packages (from mlflow-skinny==2.21.3->mlflow) (1.32.1)\n",
            "Requirement already satisfied: opentelemetry-sdk<3,>=1.9.0 in /usr/local/lib/python3.11/dist-packages (from mlflow-skinny==2.21.3->mlflow) (1.32.1)\n",
            "Requirement already satisfied: packaging<25 in /usr/local/lib/python3.11/dist-packages (from mlflow-skinny==2.21.3->mlflow) (24.2)\n",
            "Requirement already satisfied: protobuf<6,>=3.12.0 in /usr/local/lib/python3.11/dist-packages (from mlflow-skinny==2.21.3->mlflow) (5.29.4)\n",
            "Requirement already satisfied: pydantic<3,>=1.10.8 in /usr/local/lib/python3.11/dist-packages (from mlflow-skinny==2.21.3->mlflow) (2.11.3)\n",
            "Requirement already satisfied: pyyaml<7,>=5.1 in /usr/local/lib/python3.11/dist-packages (from mlflow-skinny==2.21.3->mlflow) (6.0.2)\n",
            "Requirement already satisfied: requests<3,>=2.17.3 in /usr/local/lib/python3.11/dist-packages (from mlflow-skinny==2.21.3->mlflow) (2.32.3)\n",
            "Requirement already satisfied: sqlparse<1,>=0.4.0 in /usr/local/lib/python3.11/dist-packages (from mlflow-skinny==2.21.3->mlflow) (0.5.3)\n",
            "Requirement already satisfied: typing-extensions<5,>=4.0.0 in /usr/local/lib/python3.11/dist-packages (from mlflow-skinny==2.21.3->mlflow) (4.13.2)\n",
            "Collecting uvicorn<1 (from mlflow-skinny==2.21.3->mlflow)\n",
            "  Downloading uvicorn-0.34.2-py3-none-any.whl.metadata (6.5 kB)\n",
            "Requirement already satisfied: Mako in /usr/lib/python3/dist-packages (from alembic!=1.10.0,<2->mlflow) (1.1.3)\n",
            "Requirement already satisfied: urllib3>=1.26.0 in /usr/local/lib/python3.11/dist-packages (from docker<8,>=4.0.0->mlflow) (2.3.0)\n",
            "Requirement already satisfied: Werkzeug>=3.1 in /usr/local/lib/python3.11/dist-packages (from Flask<4->mlflow) (3.1.3)\n",
            "Requirement already satisfied: itsdangerous>=2.2 in /usr/local/lib/python3.11/dist-packages (from Flask<4->mlflow) (2.2.0)\n",
            "Requirement already satisfied: blinker>=1.9 in /usr/local/lib/python3.11/dist-packages (from Flask<4->mlflow) (1.9.0)\n",
            "Collecting graphql-core<3.3,>=3.1 (from graphene<4->mlflow)\n",
            "  Downloading graphql_core-3.2.6-py3-none-any.whl.metadata (11 kB)\n",
            "Collecting graphql-relay<3.3,>=3.1 (from graphene<4->mlflow)\n",
            "  Downloading graphql_relay-3.2.0-py3-none-any.whl.metadata (12 kB)\n",
            "Requirement already satisfied: python-dateutil<3,>=2.7.0 in /usr/local/lib/python3.11/dist-packages (from graphene<4->mlflow) (2.8.2)\n",
            "Requirement already satisfied: MarkupSafe>=2.0 in /usr/local/lib/python3.11/dist-packages (from Jinja2<4,>=2.11->mlflow) (3.0.2)\n",
            "Requirement already satisfied: contourpy>=1.0.1 in /usr/local/lib/python3.11/dist-packages (from matplotlib<4->mlflow) (1.3.2)\n",
            "Requirement already satisfied: cycler>=0.10 in /usr/local/lib/python3.11/dist-packages (from matplotlib<4->mlflow) (0.12.1)\n",
            "Requirement already satisfied: fonttools>=4.22.0 in /usr/local/lib/python3.11/dist-packages (from matplotlib<4->mlflow) (4.57.0)\n",
            "Requirement already satisfied: kiwisolver>=1.3.1 in /usr/local/lib/python3.11/dist-packages (from matplotlib<4->mlflow) (1.4.8)\n",
            "Requirement already satisfied: pillow>=8 in /usr/local/lib/python3.11/dist-packages (from matplotlib<4->mlflow) (11.1.0)\n",
            "Requirement already satisfied: pyparsing>=2.3.1 in /usr/local/lib/python3.11/dist-packages (from matplotlib<4->mlflow) (3.2.3)\n",
            "Requirement already satisfied: pytz>=2020.1 in /usr/local/lib/python3.11/dist-packages (from pandas<3->mlflow) (2025.2)\n",
            "Requirement already satisfied: tzdata>=2022.7 in /usr/local/lib/python3.11/dist-packages (from pandas<3->mlflow) (2025.2)\n",
            "Requirement already satisfied: joblib>=1.2.0 in /usr/local/lib/python3.11/dist-packages (from scikit-learn<2->mlflow) (1.4.2)\n",
            "Requirement already satisfied: threadpoolctl>=3.1.0 in /usr/local/lib/python3.11/dist-packages (from scikit-learn<2->mlflow) (3.6.0)\n",
            "Requirement already satisfied: greenlet>=1 in /usr/local/lib/python3.11/dist-packages (from sqlalchemy<3,>=1.4.0->mlflow) (3.2.0)\n",
            "Requirement already satisfied: google-auth~=2.0 in /usr/local/lib/python3.11/dist-packages (from databricks-sdk<1,>=0.20.0->mlflow-skinny==2.21.3->mlflow) (2.38.0)\n",
            "Collecting starlette<0.47.0,>=0.40.0 (from fastapi<1->mlflow-skinny==2.21.3->mlflow)\n",
            "  Downloading starlette-0.46.2-py3-none-any.whl.metadata (6.2 kB)\n",
            "Requirement already satisfied: gitdb<5,>=4.0.1 in /usr/local/lib/python3.11/dist-packages (from gitpython<4,>=3.1.9->mlflow-skinny==2.21.3->mlflow) (4.0.12)\n",
            "Requirement already satisfied: zipp>=3.20 in /usr/local/lib/python3.11/dist-packages (from importlib_metadata!=4.7.0,<9,>=3.7.0->mlflow-skinny==2.21.3->mlflow) (3.21.0)\n",
            "Requirement already satisfied: deprecated>=1.2.6 in /usr/local/lib/python3.11/dist-packages (from opentelemetry-api<3,>=1.9.0->mlflow-skinny==2.21.3->mlflow) (1.2.18)\n",
            "Requirement already satisfied: opentelemetry-semantic-conventions==0.53b1 in /usr/local/lib/python3.11/dist-packages (from opentelemetry-sdk<3,>=1.9.0->mlflow-skinny==2.21.3->mlflow) (0.53b1)\n",
            "Requirement already satisfied: annotated-types>=0.6.0 in /usr/local/lib/python3.11/dist-packages (from pydantic<3,>=1.10.8->mlflow-skinny==2.21.3->mlflow) (0.7.0)\n",
            "Requirement already satisfied: pydantic-core==2.33.1 in /usr/local/lib/python3.11/dist-packages (from pydantic<3,>=1.10.8->mlflow-skinny==2.21.3->mlflow) (2.33.1)\n",
            "Requirement already satisfied: typing-inspection>=0.4.0 in /usr/local/lib/python3.11/dist-packages (from pydantic<3,>=1.10.8->mlflow-skinny==2.21.3->mlflow) (0.4.0)\n",
            "Requirement already satisfied: six>=1.5 in /usr/local/lib/python3.11/dist-packages (from python-dateutil<3,>=2.7.0->graphene<4->mlflow) (1.17.0)\n",
            "Requirement already satisfied: charset-normalizer<4,>=2 in /usr/local/lib/python3.11/dist-packages (from requests<3,>=2.17.3->mlflow-skinny==2.21.3->mlflow) (3.4.1)\n",
            "Requirement already satisfied: idna<4,>=2.5 in /usr/local/lib/python3.11/dist-packages (from requests<3,>=2.17.3->mlflow-skinny==2.21.3->mlflow) (3.10)\n",
            "Requirement already satisfied: certifi>=2017.4.17 in /usr/local/lib/python3.11/dist-packages (from requests<3,>=2.17.3->mlflow-skinny==2.21.3->mlflow) (2025.1.31)\n",
            "Requirement already satisfied: h11>=0.8 in /usr/local/lib/python3.11/dist-packages (from uvicorn<1->mlflow-skinny==2.21.3->mlflow) (0.14.0)\n",
            "Requirement already satisfied: wrapt<2,>=1.10 in /usr/local/lib/python3.11/dist-packages (from deprecated>=1.2.6->opentelemetry-api<3,>=1.9.0->mlflow-skinny==2.21.3->mlflow) (1.17.2)\n",
            "Requirement already satisfied: smmap<6,>=3.0.1 in /usr/local/lib/python3.11/dist-packages (from gitdb<5,>=4.0.1->gitpython<4,>=3.1.9->mlflow-skinny==2.21.3->mlflow) (5.0.2)\n",
            "Requirement already satisfied: pyasn1-modules>=0.2.1 in /usr/local/lib/python3.11/dist-packages (from google-auth~=2.0->databricks-sdk<1,>=0.20.0->mlflow-skinny==2.21.3->mlflow) (0.4.2)\n",
            "Requirement already satisfied: rsa<5,>=3.1.4 in /usr/local/lib/python3.11/dist-packages (from google-auth~=2.0->databricks-sdk<1,>=0.20.0->mlflow-skinny==2.21.3->mlflow) (4.9.1)\n",
            "Requirement already satisfied: anyio<5,>=3.6.2 in /usr/local/lib/python3.11/dist-packages (from starlette<0.47.0,>=0.40.0->fastapi<1->mlflow-skinny==2.21.3->mlflow) (4.9.0)\n",
            "Requirement already satisfied: sniffio>=1.1 in /usr/local/lib/python3.11/dist-packages (from anyio<5,>=3.6.2->starlette<0.47.0,>=0.40.0->fastapi<1->mlflow-skinny==2.21.3->mlflow) (1.3.1)\n",
            "Requirement already satisfied: pyasn1<0.7.0,>=0.6.1 in /usr/local/lib/python3.11/dist-packages (from pyasn1-modules>=0.2.1->google-auth~=2.0->databricks-sdk<1,>=0.20.0->mlflow-skinny==2.21.3->mlflow) (0.6.1)\n",
            "Downloading mlflow-2.21.3-py3-none-any.whl (28.2 MB)\n",
            "\u001b[2K   \u001b[90m━━━━━━━━━━━━━━━━━━━━━━━━━━━━━━━━━━━━━━━━\u001b[0m \u001b[32m28.2/28.2 MB\u001b[0m \u001b[31m69.3 MB/s\u001b[0m eta \u001b[36m0:00:00\u001b[0m\n",
            "\u001b[?25hDownloading mlflow_skinny-2.21.3-py3-none-any.whl (6.1 MB)\n",
            "\u001b[2K   \u001b[90m━━━━━━━━━━━━━━━━━━━━━━━━━━━━━━━━━━━━━━━━\u001b[0m \u001b[32m6.1/6.1 MB\u001b[0m \u001b[31m89.2 MB/s\u001b[0m eta \u001b[36m0:00:00\u001b[0m\n",
            "\u001b[?25hDownloading alembic-1.15.2-py3-none-any.whl (231 kB)\n",
            "\u001b[2K   \u001b[90m━━━━━━━━━━━━━━━━━━━━━━━━━━━━━━━━━━━━━━━━\u001b[0m \u001b[32m231.9/231.9 kB\u001b[0m \u001b[31m15.8 MB/s\u001b[0m eta \u001b[36m0:00:00\u001b[0m\n",
            "\u001b[?25hDownloading docker-7.1.0-py3-none-any.whl (147 kB)\n",
            "\u001b[2K   \u001b[90m━━━━━━━━━━━━━━━━━━━━━━━━━━━━━━━━━━━━━━━━\u001b[0m \u001b[32m147.8/147.8 kB\u001b[0m \u001b[31m11.1 MB/s\u001b[0m eta \u001b[36m0:00:00\u001b[0m\n",
            "\u001b[?25hDownloading graphene-3.4.3-py2.py3-none-any.whl (114 kB)\n",
            "\u001b[2K   \u001b[90m━━━━━━━━━━━━━━━━━━━━━━━━━━━━━━━━━━━━━━━━\u001b[0m \u001b[32m114.9/114.9 kB\u001b[0m \u001b[31m10.0 MB/s\u001b[0m eta \u001b[36m0:00:00\u001b[0m\n",
            "\u001b[?25hDownloading gunicorn-23.0.0-py3-none-any.whl (85 kB)\n",
            "\u001b[2K   \u001b[90m━━━━━━━━━━━━━━━━━━━━━━━━━━━━━━━━━━━━━━━━\u001b[0m \u001b[32m85.0/85.0 kB\u001b[0m \u001b[31m5.9 MB/s\u001b[0m eta \u001b[36m0:00:00\u001b[0m\n",
            "\u001b[?25hDownloading databricks_sdk-0.50.0-py3-none-any.whl (692 kB)\n",
            "\u001b[2K   \u001b[90m━━━━━━━━━━━━━━━━━━━━━━━━━━━━━━━━━━━━━━━━\u001b[0m \u001b[32m692.3/692.3 kB\u001b[0m \u001b[31m38.2 MB/s\u001b[0m eta \u001b[36m0:00:00\u001b[0m\n",
            "\u001b[?25hDownloading fastapi-0.115.12-py3-none-any.whl (95 kB)\n",
            "\u001b[2K   \u001b[90m━━━━━━━━━━━━━━━━━━━━━━━━━━━━━━━━━━━━━━━━\u001b[0m \u001b[32m95.2/95.2 kB\u001b[0m \u001b[31m5.4 MB/s\u001b[0m eta \u001b[36m0:00:00\u001b[0m\n",
            "\u001b[?25hDownloading graphql_core-3.2.6-py3-none-any.whl (203 kB)\n",
            "\u001b[2K   \u001b[90m━━━━━━━━━━━━━━━━━━━━━━━━━━━━━━━━━━━━━━━━\u001b[0m \u001b[32m203.4/203.4 kB\u001b[0m \u001b[31m13.9 MB/s\u001b[0m eta \u001b[36m0:00:00\u001b[0m\n",
            "\u001b[?25hDownloading graphql_relay-3.2.0-py3-none-any.whl (16 kB)\n",
            "Downloading uvicorn-0.34.2-py3-none-any.whl (62 kB)\n",
            "\u001b[2K   \u001b[90m━━━━━━━━━━━━━━━━━━━━━━━━━━━━━━━━━━━━━━━━\u001b[0m \u001b[32m62.5/62.5 kB\u001b[0m \u001b[31m5.1 MB/s\u001b[0m eta \u001b[36m0:00:00\u001b[0m\n",
            "\u001b[?25hDownloading starlette-0.46.2-py3-none-any.whl (72 kB)\n",
            "\u001b[2K   \u001b[90m━━━━━━━━━━━━━━━━━━━━━━━━━━━━━━━━━━━━━━━━\u001b[0m \u001b[32m72.0/72.0 kB\u001b[0m \u001b[31m5.4 MB/s\u001b[0m eta \u001b[36m0:00:00\u001b[0m\n",
            "\u001b[?25hInstalling collected packages: uvicorn, gunicorn, graphql-core, starlette, graphql-relay, docker, alembic, graphene, fastapi, databricks-sdk, mlflow-skinny, mlflow\n",
            "Successfully installed alembic-1.15.2 databricks-sdk-0.50.0 docker-7.1.0 fastapi-0.115.12 graphene-3.4.3 graphql-core-3.2.6 graphql-relay-3.2.0 gunicorn-23.0.0 mlflow-2.21.3 mlflow-skinny-2.21.3 starlette-0.46.2 uvicorn-0.34.2\n"
          ]
        }
      ]
    },
    {
      "cell_type": "code",
      "source": [
        "import numpy as np\n",
        "import pandas as pd\n",
        "import matplotlib.pyplot as plt\n",
        "import tensorflow as tf\n",
        "\n",
        "from tensorflow.keras.models import Sequential\n",
        "from tensorflow.keras.layers import LSTM, Dense, Dropout\n",
        "from tensorflow.keras.callbacks import Callback\n",
        "from sklearn.preprocessing import MinMaxScaler, StandardScaler\n",
        "from sklearn.metrics import mean_squared_error, mean_absolute_error, r2_score\n",
        "import holidays\n",
        "from workalendar.usa import UnitedStates  # can change\n",
        "from datetime import datetime, timedelta\n",
        "import pickle\n",
        "\n",
        "from google.colab import drive, files, userdata\n",
        "import os\n",
        "\n",
        "import mlflow\n",
        "import mlflow.tensorflow\n",
        "from pyngrok import ngrok\n",
        "\n",
        "from huggingface_hub import login, HfApi, HfFolder, Repository, create_repo, upload_folder"
      ],
      "metadata": {
        "id": "o0y1wXxnvJNY"
      },
      "execution_count": 2,
      "outputs": []
    },
    {
      "cell_type": "code",
      "source": [
        "HF_TOKEN = userdata.get(\"HF_TOKEN\")\n",
        "NGROK_AUTH_TOKEN = userdata.get('NGROK_AUTH_TOKEN')\n",
        "GITHUB_PAT = userdata.get('GITHUB_PAT')"
      ],
      "metadata": {
        "id": "mWmQnmnfQlA7"
      },
      "execution_count": 3,
      "outputs": []
    },
    {
      "cell_type": "code",
      "source": [
        "login(token=HF_TOKEN)"
      ],
      "metadata": {
        "id": "faGzBwxrQiLb"
      },
      "execution_count": 4,
      "outputs": []
    },
    {
      "cell_type": "code",
      "source": [
        "# load dataset\n",
        "drive.mount('/content/drive')\n",
        "drive_base_path = '/content/drive/My Drive/503Nproj/datasets'\n",
        "file_path = os.path.join(drive_base_path, 'player_count_history.csv')\n",
        "df = pd.read_csv(file_path, parse_dates=['date'])"
      ],
      "metadata": {
        "colab": {
          "base_uri": "https://localhost:8080/"
        },
        "id": "_k0YTx2MvUOL",
        "outputId": "a467ff79-15b7-4c55-c0bf-e7f6e3eb0507"
      },
      "execution_count": 6,
      "outputs": [
        {
          "output_type": "stream",
          "name": "stdout",
          "text": [
            "Drive already mounted at /content/drive; to attempt to forcibly remount, call drive.mount(\"/content/drive\", force_remount=True).\n"
          ]
        }
      ]
    },
    {
      "cell_type": "code",
      "source": [
        "# feature engineering\n",
        "us_holidays = holidays.US()\n",
        "cal = UnitedStates()\n",
        "df['is_holiday_holidays_lib'] = df['date'].apply(lambda x: int(x in us_holidays))\n",
        "df['is_holiday_workalendar'] = df['date'].apply(lambda x: int(cal.is_holiday(x)))\n",
        "df['day_of_week'] = df['date'].dt.dayofweek  # i.e., monday=0, tuesday=1, ..., sunday=6"
      ],
      "metadata": {
        "id": "fFvQWpEnvQh6"
      },
      "execution_count": 7,
      "outputs": []
    },
    {
      "cell_type": "code",
      "source": [
        "# target column & features\n",
        "target_col = 'total players'\n",
        "feature_cols = [col for col in df.columns if col not in ['date', target_col]]"
      ],
      "metadata": {
        "id": "26l3ZXQvvoLr"
      },
      "execution_count": 8,
      "outputs": []
    },
    {
      "cell_type": "code",
      "source": [
        "# scaling\n",
        "scaler_players = MinMaxScaler()\n",
        "df[[target_col]] = scaler_players.fit_transform(df[[target_col]])  # train only on total players\n",
        "with open('scaler_players.pkl', 'wb') as f:\n",
        "    pickle.dump(scaler_players, f)\n",
        "print(f\"Scaler was trained on {scaler_players.n_features_in_} features\")\n",
        "\n",
        "\n",
        "scaler_features = MinMaxScaler()\n",
        "df[feature_cols] = scaler_features.fit_transform(df[feature_cols])\n"
      ],
      "metadata": {
        "id": "NMJmgd_FvsGr",
        "colab": {
          "base_uri": "https://localhost:8080/"
        },
        "outputId": "160c39ea-e773-4444-d083-da77456abcf9"
      },
      "execution_count": 9,
      "outputs": [
        {
          "output_type": "stream",
          "name": "stdout",
          "text": [
            "Scaler was trained on 1 features\n"
          ]
        }
      ]
    },
    {
      "cell_type": "code",
      "source": [
        "print(df.isnull().sum()) # get number of missing values\n",
        "df.fillna(df.mean(), inplace=True)"
      ],
      "metadata": {
        "colab": {
          "base_uri": "https://localhost:8080/"
        },
        "id": "67HkMV1PFbVK",
        "outputId": "ce43796e-b900-4260-aa4d-2f82a75ac8d0"
      },
      "execution_count": 10,
      "outputs": [
        {
          "output_type": "stream",
          "name": "stdout",
          "text": [
            "date                       0\n",
            "570                        0\n",
            "730                        0\n",
            "578080                     0\n",
            "1172470                    0\n",
            "                          ..\n",
            "1086940                    0\n",
            "total players              0\n",
            "is_holiday_holidays_lib    0\n",
            "is_holiday_workalendar     0\n",
            "day_of_week                0\n",
            "Length: 102, dtype: int64\n"
          ]
        }
      ]
    },
    {
      "cell_type": "code",
      "source": [
        "print(df.dtypes)\n"
      ],
      "metadata": {
        "colab": {
          "base_uri": "https://localhost:8080/"
        },
        "id": "Ahahj23xFkcA",
        "outputId": "78e89147-be17-4f54-8cf5-f702eeca5a5a"
      },
      "execution_count": 11,
      "outputs": [
        {
          "output_type": "stream",
          "name": "stdout",
          "text": [
            "date                       datetime64[ns]\n",
            "570                               float64\n",
            "730                               float64\n",
            "578080                            float64\n",
            "1172470                           float64\n",
            "                                ...      \n",
            "1086940                           float64\n",
            "total players                     float64\n",
            "is_holiday_holidays_lib           float64\n",
            "is_holiday_workalendar            float64\n",
            "day_of_week                       float64\n",
            "Length: 102, dtype: object\n"
          ]
        }
      ]
    },
    {
      "cell_type": "code",
      "source": [
        "# sequence preparation\n",
        "def create_sequences(data, seq_length):\n",
        "    X, y = [], []\n",
        "    for i in range(len(data) - seq_length):\n",
        "        X.append(data[i:i + seq_length, :-1])  # features\n",
        "        y.append(data[i + seq_length, -1])  # target variable i.e., total players\n",
        "    return np.array(X), np.array(y)\n",
        "\n",
        "seq_length = 30  # use last 30 days to predict\n",
        "data = df[feature_cols].values\n",
        "X, y = create_sequences(data, seq_length)\n",
        "\n",
        "# train-validation-test split (0.7-0.15-0.15)\n",
        "train_size = int(0.7 * len(X))\n",
        "val_size = int(0.15 * len(X))\n",
        "test_size = len(X) - train_size - val_size\n",
        "X_train, y_train = X[:train_size], y[:train_size]\n",
        "X_val, y_val = X[train_size:train_size+val_size], y[train_size:train_size+val_size]\n",
        "X_test, y_test = X[train_size+val_size:], y[train_size+val_size:]\n"
      ],
      "metadata": {
        "id": "h8wdQeCTF8BO"
      },
      "execution_count": 12,
      "outputs": []
    },
    {
      "cell_type": "code",
      "source": [
        "print(f\"X_train shape: {X_train.shape}, y_train shape: {y_train.shape}\") #verify that X train & test shapes make sense\n",
        "print(f\"X_test shape: {X_test.shape}, y_test shape: {y_test.shape}\")"
      ],
      "metadata": {
        "colab": {
          "base_uri": "https://localhost:8080/"
        },
        "id": "F2bR6E02GSAf",
        "outputId": "6e1143d9-e958-4e3b-d302-f7767d1c520b"
      },
      "execution_count": 13,
      "outputs": [
        {
          "output_type": "stream",
          "name": "stdout",
          "text": [
            "X_train shape: (489, 30, 99), y_train shape: (489,)\n",
            "X_test shape: (106, 30, 99), y_test shape: (106,)\n"
          ]
        }
      ]
    },
    {
      "cell_type": "code",
      "source": [
        "mlflow.tensorflow.autolog(disable=True)\n",
        "\n",
        "class MLflowLoggingCallback(Callback):\n",
        "    def on_epoch_end(self, epoch, logs=None):\n",
        "        logs = logs or {}\n",
        "        print(f\"\\nEpoch {epoch} logs: {logs}\\n\")\n",
        "        for key, value in logs.items():\n",
        "            mlflow.log_metric(key, value, step=epoch)"
      ],
      "metadata": {
        "id": "QAAN1fUpRpx3"
      },
      "execution_count": 15,
      "outputs": []
    },
    {
      "cell_type": "code",
      "source": [
        "# LSTM model training\n",
        "model = Sequential([\n",
        "    LSTM(100, return_sequences=True, input_shape=(seq_length, X.shape[2])),\n",
        "    Dropout(0.2),\n",
        "    LSTM(100, return_sequences=False),\n",
        "    Dropout(0.2),\n",
        "    Dense(50, activation='relu'),\n",
        "    Dense(1)\n",
        "])\n",
        "\n",
        "model.compile(optimizer='adam', loss='mse', metrics=['mae', 'mse'])\n",
        "\n",
        "with mlflow.start_run():\n",
        "  model.fit(X_train, y_train,\n",
        "            epochs=30,\n",
        "            batch_size=16,\n",
        "            validation_data=(X_test, y_test),\n",
        "            callbacks=[MLflowLoggingCallback()])"
      ],
      "metadata": {
        "colab": {
          "base_uri": "https://localhost:8080/"
        },
        "id": "udmwPWumvzgq",
        "outputId": "b76ffd4d-1873-48a9-ca35-d9c1b360c655"
      },
      "execution_count": 16,
      "outputs": [
        {
          "output_type": "stream",
          "name": "stdout",
          "text": [
            "Epoch 1/30\n"
          ]
        },
        {
          "output_type": "stream",
          "name": "stderr",
          "text": [
            "/usr/local/lib/python3.11/dist-packages/keras/src/layers/rnn/rnn.py:200: UserWarning: Do not pass an `input_shape`/`input_dim` argument to a layer. When using Sequential models, prefer using an `Input(shape)` object as the first layer in the model instead.\n",
            "  super().__init__(**kwargs)\n"
          ]
        },
        {
          "output_type": "stream",
          "name": "stdout",
          "text": [
            "\u001b[1m31/31\u001b[0m \u001b[32m━━━━━━━━━━━━━━━━━━━━\u001b[0m\u001b[37m\u001b[0m \u001b[1m0s\u001b[0m 61ms/step - loss: 0.1545 - mae: 0.3250 - mse: 0.1545\n",
            "Epoch 0 logs: {'loss': 0.13649490475654602, 'mae': 0.3100874722003937, 'mse': 0.13649490475654602, 'val_loss': 0.13236171007156372, 'val_mae': 0.30828821659088135, 'val_mse': 0.13236171007156372}\n",
            "\n",
            "\u001b[1m31/31\u001b[0m \u001b[32m━━━━━━━━━━━━━━━━━━━━\u001b[0m\u001b[37m\u001b[0m \u001b[1m7s\u001b[0m 88ms/step - loss: 0.1539 - mae: 0.3245 - mse: 0.1539 - val_loss: 0.1324 - val_mae: 0.3083 - val_mse: 0.1324\n",
            "Epoch 2/30\n",
            "\u001b[1m31/31\u001b[0m \u001b[32m━━━━━━━━━━━━━━━━━━━━\u001b[0m\u001b[37m\u001b[0m \u001b[1m0s\u001b[0m 37ms/step - loss: 0.1348 - mae: 0.3216 - mse: 0.1348\n",
            "Epoch 1 logs: {'loss': 0.12237020581960678, 'mae': 0.3005273938179016, 'mse': 0.12237020581960678, 'val_loss': 0.11113360524177551, 'val_mae': 0.2888152599334717, 'val_mse': 0.11113360524177551}\n",
            "\n",
            "\u001b[1m31/31\u001b[0m \u001b[32m━━━━━━━━━━━━━━━━━━━━\u001b[0m\u001b[37m\u001b[0m \u001b[1m1s\u001b[0m 42ms/step - loss: 0.1344 - mae: 0.3210 - mse: 0.1344 - val_loss: 0.1111 - val_mae: 0.2888 - val_mse: 0.1111\n",
            "Epoch 3/30\n",
            "\u001b[1m31/31\u001b[0m \u001b[32m━━━━━━━━━━━━━━━━━━━━\u001b[0m\u001b[37m\u001b[0m \u001b[1m0s\u001b[0m 41ms/step - loss: 0.1209 - mae: 0.2999 - mse: 0.1209\n",
            "Epoch 2 logs: {'loss': 0.11853128671646118, 'mae': 0.2968214154243469, 'mse': 0.11853128671646118, 'val_loss': 0.10948717594146729, 'val_mae': 0.2850364148616791, 'val_mse': 0.10948717594146729}\n",
            "\n",
            "\u001b[1m31/31\u001b[0m \u001b[32m━━━━━━━━━━━━━━━━━━━━\u001b[0m\u001b[37m\u001b[0m \u001b[1m3s\u001b[0m 47ms/step - loss: 0.1209 - mae: 0.2998 - mse: 0.1209 - val_loss: 0.1095 - val_mae: 0.2850 - val_mse: 0.1095\n",
            "Epoch 4/30\n",
            "\u001b[1m31/31\u001b[0m \u001b[32m━━━━━━━━━━━━━━━━━━━━\u001b[0m\u001b[37m\u001b[0m \u001b[1m0s\u001b[0m 38ms/step - loss: 0.1279 - mae: 0.3043 - mse: 0.1279\n",
            "Epoch 3 logs: {'loss': 0.12345626205205917, 'mae': 0.30023762583732605, 'mse': 0.12345626205205917, 'val_loss': 0.10852883011102676, 'val_mae': 0.28416764736175537, 'val_mse': 0.10852883011102676}\n",
            "\n",
            "\u001b[1m31/31\u001b[0m \u001b[32m━━━━━━━━━━━━━━━━━━━━\u001b[0m\u001b[37m\u001b[0m \u001b[1m2s\u001b[0m 43ms/step - loss: 0.1277 - mae: 0.3042 - mse: 0.1277 - val_loss: 0.1085 - val_mae: 0.2842 - val_mse: 0.1085\n",
            "Epoch 5/30\n",
            "\u001b[1m31/31\u001b[0m \u001b[32m━━━━━━━━━━━━━━━━━━━━\u001b[0m\u001b[37m\u001b[0m \u001b[1m0s\u001b[0m 41ms/step - loss: 0.1201 - mae: 0.2979 - mse: 0.1201\n",
            "Epoch 4 logs: {'loss': 0.11546342074871063, 'mae': 0.29153090715408325, 'mse': 0.11546342074871063, 'val_loss': 0.10787670314311981, 'val_mae': 0.2835305631160736, 'val_mse': 0.10787670314311981}\n",
            "\n",
            "\u001b[1m31/31\u001b[0m \u001b[32m━━━━━━━━━━━━━━━━━━━━\u001b[0m\u001b[37m\u001b[0m \u001b[1m3s\u001b[0m 46ms/step - loss: 0.1200 - mae: 0.2977 - mse: 0.1200 - val_loss: 0.1079 - val_mae: 0.2835 - val_mse: 0.1079\n",
            "Epoch 6/30\n",
            "\u001b[1m31/31\u001b[0m \u001b[32m━━━━━━━━━━━━━━━━━━━━\u001b[0m\u001b[37m\u001b[0m \u001b[1m0s\u001b[0m 60ms/step - loss: 0.1092 - mae: 0.2770 - mse: 0.1092\n",
            "Epoch 5 logs: {'loss': 0.11274927109479904, 'mae': 0.286862313747406, 'mse': 0.11274927109479904, 'val_loss': 0.11283721029758453, 'val_mae': 0.28840574622154236, 'val_mse': 0.11283721029758453}\n",
            "\n",
            "\u001b[1m31/31\u001b[0m \u001b[32m━━━━━━━━━━━━━━━━━━━━\u001b[0m\u001b[37m\u001b[0m \u001b[1m3s\u001b[0m 68ms/step - loss: 0.1093 - mae: 0.2773 - mse: 0.1093 - val_loss: 0.1128 - val_mae: 0.2884 - val_mse: 0.1128\n",
            "Epoch 7/30\n",
            "\u001b[1m31/31\u001b[0m \u001b[32m━━━━━━━━━━━━━━━━━━━━\u001b[0m\u001b[37m\u001b[0m \u001b[1m0s\u001b[0m 37ms/step - loss: 0.1116 - mae: 0.2909 - mse: 0.1116\n",
            "Epoch 6 logs: {'loss': 0.10753854364156723, 'mae': 0.28090813755989075, 'mse': 0.10753854364156723, 'val_loss': 0.1025920882821083, 'val_mae': 0.27295351028442383, 'val_mse': 0.1025920882821083}\n",
            "\n",
            "\u001b[1m31/31\u001b[0m \u001b[32m━━━━━━━━━━━━━━━━━━━━\u001b[0m\u001b[37m\u001b[0m \u001b[1m2s\u001b[0m 44ms/step - loss: 0.1115 - mae: 0.2906 - mse: 0.1115 - val_loss: 0.1026 - val_mae: 0.2730 - val_mse: 0.1026\n",
            "Epoch 8/30\n",
            "\u001b[1m30/31\u001b[0m \u001b[32m━━━━━━━━━━━━━━━━━━━\u001b[0m\u001b[37m━\u001b[0m \u001b[1m0s\u001b[0m 37ms/step - loss: 0.1138 - mae: 0.2910 - mse: 0.1138\n",
            "Epoch 7 logs: {'loss': 0.10857006162405014, 'mae': 0.2803279757499695, 'mse': 0.10857006162405014, 'val_loss': 0.10534107685089111, 'val_mae': 0.265968382358551, 'val_mse': 0.10534107685089111}\n",
            "\n",
            "\u001b[1m31/31\u001b[0m \u001b[32m━━━━━━━━━━━━━━━━━━━━\u001b[0m\u001b[37m\u001b[0m \u001b[1m2s\u001b[0m 42ms/step - loss: 0.1134 - mae: 0.2903 - mse: 0.1134 - val_loss: 0.1053 - val_mae: 0.2660 - val_mse: 0.1053\n",
            "Epoch 9/30\n",
            "\u001b[1m31/31\u001b[0m \u001b[32m━━━━━━━━━━━━━━━━━━━━\u001b[0m\u001b[37m\u001b[0m \u001b[1m0s\u001b[0m 37ms/step - loss: 0.0967 - mae: 0.2613 - mse: 0.0967\n",
            "Epoch 8 logs: {'loss': 0.09034229069948196, 'mae': 0.24793218076229095, 'mse': 0.09034229069948196, 'val_loss': 0.0841575488448143, 'val_mae': 0.2204081118106842, 'val_mse': 0.0841575488448143}\n",
            "\n",
            "\u001b[1m31/31\u001b[0m \u001b[32m━━━━━━━━━━━━━━━━━━━━\u001b[0m\u001b[37m\u001b[0m \u001b[1m3s\u001b[0m 41ms/step - loss: 0.0965 - mae: 0.2609 - mse: 0.0965 - val_loss: 0.0842 - val_mae: 0.2204 - val_mse: 0.0842\n",
            "Epoch 10/30\n",
            "\u001b[1m30/31\u001b[0m \u001b[32m━━━━━━━━━━━━━━━━━━━\u001b[0m\u001b[37m━\u001b[0m \u001b[1m0s\u001b[0m 37ms/step - loss: 0.0671 - mae: 0.1995 - mse: 0.0671\n",
            "Epoch 9 logs: {'loss': 0.060074687004089355, 'mae': 0.18789872527122498, 'mse': 0.060074687004089355, 'val_loss': 0.06434187293052673, 'val_mae': 0.1846763789653778, 'val_mse': 0.06434187293052673}\n",
            "\n",
            "\u001b[1m31/31\u001b[0m \u001b[32m━━━━━━━━━━━━━━━━━━━━\u001b[0m\u001b[37m\u001b[0m \u001b[1m1s\u001b[0m 42ms/step - loss: 0.0667 - mae: 0.1988 - mse: 0.0667 - val_loss: 0.0643 - val_mae: 0.1847 - val_mse: 0.0643\n",
            "Epoch 11/30\n",
            "\u001b[1m31/31\u001b[0m \u001b[32m━━━━━━━━━━━━━━━━━━━━\u001b[0m\u001b[37m\u001b[0m \u001b[1m0s\u001b[0m 42ms/step - loss: 0.0431 - mae: 0.1613 - mse: 0.0431\n",
            "Epoch 10 logs: {'loss': 0.04274681210517883, 'mae': 0.16031354665756226, 'mse': 0.04274681210517883, 'val_loss': 0.0385173037648201, 'val_mae': 0.13329659402370453, 'val_mse': 0.0385173037648201}\n",
            "\n",
            "\u001b[1m31/31\u001b[0m \u001b[32m━━━━━━━━━━━━━━━━━━━━\u001b[0m\u001b[37m\u001b[0m \u001b[1m3s\u001b[0m 49ms/step - loss: 0.0430 - mae: 0.1612 - mse: 0.0430 - val_loss: 0.0385 - val_mae: 0.1333 - val_mse: 0.0385\n",
            "Epoch 12/30\n",
            "\u001b[1m31/31\u001b[0m \u001b[32m━━━━━━━━━━━━━━━━━━━━\u001b[0m\u001b[37m\u001b[0m \u001b[1m0s\u001b[0m 71ms/step - loss: 0.0382 - mae: 0.1471 - mse: 0.0382\n",
            "Epoch 11 logs: {'loss': 0.03303029388189316, 'mae': 0.13699102401733398, 'mse': 0.03303029388189316, 'val_loss': 0.024850433692336082, 'val_mae': 0.11256531625986099, 'val_mse': 0.024850433692336082}\n",
            "\n",
            "\u001b[1m31/31\u001b[0m \u001b[32m━━━━━━━━━━━━━━━━━━━━\u001b[0m\u001b[37m\u001b[0m \u001b[1m2s\u001b[0m 78ms/step - loss: 0.0380 - mae: 0.1468 - mse: 0.0380 - val_loss: 0.0249 - val_mae: 0.1126 - val_mse: 0.0249\n",
            "Epoch 13/30\n",
            "\u001b[1m31/31\u001b[0m \u001b[32m━━━━━━━━━━━━━━━━━━━━\u001b[0m\u001b[37m\u001b[0m \u001b[1m0s\u001b[0m 54ms/step - loss: 0.0219 - mae: 0.1104 - mse: 0.0219\n",
            "Epoch 12 logs: {'loss': 0.01951022632420063, 'mae': 0.10173972696065903, 'mse': 0.01951022632420063, 'val_loss': 0.016613343730568886, 'val_mae': 0.076297327876091, 'val_mse': 0.016613343730568886}\n",
            "\n",
            "\u001b[1m31/31\u001b[0m \u001b[32m━━━━━━━━━━━━━━━━━━━━\u001b[0m\u001b[37m\u001b[0m \u001b[1m2s\u001b[0m 60ms/step - loss: 0.0218 - mae: 0.1102 - mse: 0.0218 - val_loss: 0.0166 - val_mae: 0.0763 - val_mse: 0.0166\n",
            "Epoch 14/30\n",
            "\u001b[1m31/31\u001b[0m \u001b[32m━━━━━━━━━━━━━━━━━━━━\u001b[0m\u001b[37m\u001b[0m \u001b[1m0s\u001b[0m 57ms/step - loss: 0.0090 - mae: 0.0671 - mse: 0.0090\n",
            "Epoch 13 logs: {'loss': 0.008455589413642883, 'mae': 0.06534437835216522, 'mse': 0.008455589413642883, 'val_loss': 0.007739170454442501, 'val_mae': 0.05455981194972992, 'val_mse': 0.007739170454442501}\n",
            "\n",
            "\u001b[1m31/31\u001b[0m \u001b[32m━━━━━━━━━━━━━━━━━━━━\u001b[0m\u001b[37m\u001b[0m \u001b[1m3s\u001b[0m 76ms/step - loss: 0.0090 - mae: 0.0670 - mse: 0.0090 - val_loss: 0.0077 - val_mae: 0.0546 - val_mse: 0.0077\n",
            "Epoch 15/30\n",
            "\u001b[1m31/31\u001b[0m \u001b[32m━━━━━━━━━━━━━━━━━━━━\u001b[0m\u001b[37m\u001b[0m \u001b[1m0s\u001b[0m 86ms/step - loss: 0.0045 - mae: 0.0527 - mse: 0.0045\n",
            "Epoch 14 logs: {'loss': 0.004303612746298313, 'mae': 0.05026303976774216, 'mse': 0.004303612746298313, 'val_loss': 0.012602673843502998, 'val_mae': 0.06329136341810226, 'val_mse': 0.012602673843502998}\n",
            "\n",
            "\u001b[1m31/31\u001b[0m \u001b[32m━━━━━━━━━━━━━━━━━━━━\u001b[0m\u001b[37m\u001b[0m \u001b[1m3s\u001b[0m 99ms/step - loss: 0.0045 - mae: 0.0526 - mse: 0.0045 - val_loss: 0.0126 - val_mae: 0.0633 - val_mse: 0.0126\n",
            "Epoch 16/30\n",
            "\u001b[1m30/31\u001b[0m \u001b[32m━━━━━━━━━━━━━━━━━━━\u001b[0m\u001b[37m━\u001b[0m \u001b[1m0s\u001b[0m 53ms/step - loss: 0.0043 - mae: 0.0518 - mse: 0.0043\n",
            "Epoch 15 logs: {'loss': 0.004259781911969185, 'mae': 0.05084514245390892, 'mse': 0.004259781911969185, 'val_loss': 0.02381282113492489, 'val_mae': 0.08244408667087555, 'val_mse': 0.02381282113492489}\n",
            "\n",
            "\u001b[1m31/31\u001b[0m \u001b[32m━━━━━━━━━━━━━━━━━━━━\u001b[0m\u001b[37m\u001b[0m \u001b[1m2s\u001b[0m 59ms/step - loss: 0.0043 - mae: 0.0517 - mse: 0.0043 - val_loss: 0.0238 - val_mae: 0.0824 - val_mse: 0.0238\n",
            "Epoch 17/30\n",
            "\u001b[1m31/31\u001b[0m \u001b[32m━━━━━━━━━━━━━━━━━━━━\u001b[0m\u001b[37m\u001b[0m \u001b[1m0s\u001b[0m 50ms/step - loss: 0.0163 - mae: 0.0793 - mse: 0.0163\n",
            "Epoch 16 logs: {'loss': 0.011928107589483261, 'mae': 0.06885852664709091, 'mse': 0.011928107589483261, 'val_loss': 0.014188217930495739, 'val_mae': 0.06563819944858551, 'val_mse': 0.014188217930495739}\n",
            "\n",
            "\u001b[1m31/31\u001b[0m \u001b[32m━━━━━━━━━━━━━━━━━━━━\u001b[0m\u001b[37m\u001b[0m \u001b[1m2s\u001b[0m 57ms/step - loss: 0.0162 - mae: 0.0790 - mse: 0.0162 - val_loss: 0.0142 - val_mae: 0.0656 - val_mse: 0.0142\n",
            "Epoch 18/30\n",
            "\u001b[1m30/31\u001b[0m \u001b[32m━━━━━━━━━━━━━━━━━━━\u001b[0m\u001b[37m━\u001b[0m \u001b[1m0s\u001b[0m 62ms/step - loss: 0.0044 - mae: 0.0474 - mse: 0.0044\n",
            "Epoch 17 logs: {'loss': 0.004915252327919006, 'mae': 0.049440085887908936, 'mse': 0.004915252327919006, 'val_loss': 0.004470124375075102, 'val_mae': 0.04337349161505699, 'val_mse': 0.004470124375075102}\n",
            "\n",
            "\u001b[1m31/31\u001b[0m \u001b[32m━━━━━━━━━━━━━━━━━━━━\u001b[0m\u001b[37m\u001b[0m \u001b[1m2s\u001b[0m 70ms/step - loss: 0.0044 - mae: 0.0475 - mse: 0.0044 - val_loss: 0.0045 - val_mae: 0.0434 - val_mse: 0.0045\n",
            "Epoch 19/30\n",
            "\u001b[1m30/31\u001b[0m \u001b[32m━━━━━━━━━━━━━━━━━━━\u001b[0m\u001b[37m━\u001b[0m \u001b[1m0s\u001b[0m 49ms/step - loss: 0.0040 - mae: 0.0482 - mse: 0.0040\n",
            "Epoch 18 logs: {'loss': 0.003807454602792859, 'mae': 0.045725613832473755, 'mse': 0.003807454602792859, 'val_loss': 0.006124510429799557, 'val_mae': 0.05037306994199753, 'val_mse': 0.006124510429799557}\n",
            "\n",
            "\u001b[1m31/31\u001b[0m \u001b[32m━━━━━━━━━━━━━━━━━━━━\u001b[0m\u001b[37m\u001b[0m \u001b[1m2s\u001b[0m 53ms/step - loss: 0.0040 - mae: 0.0480 - mse: 0.0040 - val_loss: 0.0061 - val_mae: 0.0504 - val_mse: 0.0061\n",
            "Epoch 20/30\n",
            "\u001b[1m31/31\u001b[0m \u001b[32m━━━━━━━━━━━━━━━━━━━━\u001b[0m\u001b[37m\u001b[0m \u001b[1m0s\u001b[0m 37ms/step - loss: 0.0023 - mae: 0.0377 - mse: 0.0023\n",
            "Epoch 19 logs: {'loss': 0.002452980726957321, 'mae': 0.03809928894042969, 'mse': 0.002452980726957321, 'val_loss': 0.0052619269117712975, 'val_mae': 0.05252949520945549, 'val_mse': 0.0052619269117712975}\n",
            "\n",
            "\u001b[1m31/31\u001b[0m \u001b[32m━━━━━━━━━━━━━━━━━━━━\u001b[0m\u001b[37m\u001b[0m \u001b[1m2s\u001b[0m 44ms/step - loss: 0.0023 - mae: 0.0377 - mse: 0.0023 - val_loss: 0.0053 - val_mae: 0.0525 - val_mse: 0.0053\n",
            "Epoch 21/30\n",
            "\u001b[1m31/31\u001b[0m \u001b[32m━━━━━━━━━━━━━━━━━━━━\u001b[0m\u001b[37m\u001b[0m \u001b[1m0s\u001b[0m 38ms/step - loss: 0.0035 - mae: 0.0437 - mse: 0.0035\n",
            "Epoch 20 logs: {'loss': 0.002969815395772457, 'mae': 0.04038190096616745, 'mse': 0.002969815395772457, 'val_loss': 0.004139878321439028, 'val_mae': 0.04651893302798271, 'val_mse': 0.004139878321439028}\n",
            "\n",
            "\u001b[1m31/31\u001b[0m \u001b[32m━━━━━━━━━━━━━━━━━━━━\u001b[0m\u001b[37m\u001b[0m \u001b[1m1s\u001b[0m 42ms/step - loss: 0.0035 - mae: 0.0436 - mse: 0.0035 - val_loss: 0.0041 - val_mae: 0.0465 - val_mse: 0.0041\n",
            "Epoch 22/30\n",
            "\u001b[1m31/31\u001b[0m \u001b[32m━━━━━━━━━━━━━━━━━━━━\u001b[0m\u001b[37m\u001b[0m \u001b[1m0s\u001b[0m 54ms/step - loss: 0.0023 - mae: 0.0375 - mse: 0.0023\n",
            "Epoch 21 logs: {'loss': 0.00215319381095469, 'mae': 0.035215020179748535, 'mse': 0.00215319381095469, 'val_loss': 0.002555321669206023, 'val_mae': 0.03333059698343277, 'val_mse': 0.002555321669206023}\n",
            "\n",
            "\u001b[1m31/31\u001b[0m \u001b[32m━━━━━━━━━━━━━━━━━━━━\u001b[0m\u001b[37m\u001b[0m \u001b[1m3s\u001b[0m 68ms/step - loss: 0.0023 - mae: 0.0374 - mse: 0.0023 - val_loss: 0.0026 - val_mae: 0.0333 - val_mse: 0.0026\n",
            "Epoch 23/30\n",
            "\u001b[1m31/31\u001b[0m \u001b[32m━━━━━━━━━━━━━━━━━━━━\u001b[0m\u001b[37m\u001b[0m \u001b[1m0s\u001b[0m 37ms/step - loss: 0.0022 - mae: 0.0363 - mse: 0.0022\n",
            "Epoch 22 logs: {'loss': 0.0022509826812893152, 'mae': 0.035910457372665405, 'mse': 0.0022509826812893152, 'val_loss': 0.004543706309050322, 'val_mae': 0.04664256423711777, 'val_mse': 0.004543706309050322}\n",
            "\n",
            "\u001b[1m31/31\u001b[0m \u001b[32m━━━━━━━━━━━━━━━━━━━━\u001b[0m\u001b[37m\u001b[0m \u001b[1m2s\u001b[0m 42ms/step - loss: 0.0022 - mae: 0.0362 - mse: 0.0022 - val_loss: 0.0045 - val_mae: 0.0466 - val_mse: 0.0045\n",
            "Epoch 24/30\n",
            "\u001b[1m31/31\u001b[0m \u001b[32m━━━━━━━━━━━━━━━━━━━━\u001b[0m\u001b[37m\u001b[0m \u001b[1m0s\u001b[0m 61ms/step - loss: 0.0023 - mae: 0.0362 - mse: 0.0023\n",
            "Epoch 23 logs: {'loss': 0.002081232378259301, 'mae': 0.034720681607723236, 'mse': 0.002081232378259301, 'val_loss': 0.0030936994589865208, 'val_mae': 0.04109351709485054, 'val_mse': 0.0030936994589865208}\n",
            "\n",
            "\u001b[1m31/31\u001b[0m \u001b[32m━━━━━━━━━━━━━━━━━━━━\u001b[0m\u001b[37m\u001b[0m \u001b[1m3s\u001b[0m 68ms/step - loss: 0.0023 - mae: 0.0362 - mse: 0.0023 - val_loss: 0.0031 - val_mae: 0.0411 - val_mse: 0.0031\n",
            "Epoch 25/30\n",
            "\u001b[1m30/31\u001b[0m \u001b[32m━━━━━━━━━━━━━━━━━━━\u001b[0m\u001b[37m━\u001b[0m \u001b[1m0s\u001b[0m 47ms/step - loss: 0.0021 - mae: 0.0335 - mse: 0.0021\n",
            "Epoch 24 logs: {'loss': 0.0022547654807567596, 'mae': 0.035590797662734985, 'mse': 0.0022547654807567596, 'val_loss': 0.003805431304499507, 'val_mae': 0.04858032241463661, 'val_mse': 0.003805431304499507}\n",
            "\n",
            "\u001b[1m31/31\u001b[0m \u001b[32m━━━━━━━━━━━━━━━━━━━━\u001b[0m\u001b[37m\u001b[0m \u001b[1m2s\u001b[0m 51ms/step - loss: 0.0021 - mae: 0.0336 - mse: 0.0021 - val_loss: 0.0038 - val_mae: 0.0486 - val_mse: 0.0038\n",
            "Epoch 26/30\n",
            "\u001b[1m30/31\u001b[0m \u001b[32m━━━━━━━━━━━━━━━━━━━\u001b[0m\u001b[37m━\u001b[0m \u001b[1m0s\u001b[0m 38ms/step - loss: 0.0019 - mae: 0.0335 - mse: 0.0019\n",
            "Epoch 25 logs: {'loss': 0.002145254984498024, 'mae': 0.03505861386656761, 'mse': 0.002145254984498024, 'val_loss': 0.0031238242518156767, 'val_mae': 0.03756304457783699, 'val_mse': 0.0031238242518156767}\n",
            "\n",
            "\u001b[1m31/31\u001b[0m \u001b[32m━━━━━━━━━━━━━━━━━━━━\u001b[0m\u001b[37m\u001b[0m \u001b[1m2s\u001b[0m 42ms/step - loss: 0.0019 - mae: 0.0336 - mse: 0.0019 - val_loss: 0.0031 - val_mae: 0.0376 - val_mse: 0.0031\n",
            "Epoch 27/30\n",
            "\u001b[1m31/31\u001b[0m \u001b[32m━━━━━━━━━━━━━━━━━━━━\u001b[0m\u001b[37m\u001b[0m \u001b[1m0s\u001b[0m 63ms/step - loss: 0.0025 - mae: 0.0370 - mse: 0.0025\n",
            "Epoch 26 logs: {'loss': 0.0019942540675401688, 'mae': 0.034468892961740494, 'mse': 0.0019942540675401688, 'val_loss': 0.0024894936941564083, 'val_mae': 0.03271482139825821, 'val_mse': 0.0024894936941564083}\n",
            "\n",
            "\u001b[1m31/31\u001b[0m \u001b[32m━━━━━━━━━━━━━━━━━━━━\u001b[0m\u001b[37m\u001b[0m \u001b[1m2s\u001b[0m 68ms/step - loss: 0.0024 - mae: 0.0369 - mse: 0.0024 - val_loss: 0.0025 - val_mae: 0.0327 - val_mse: 0.0025\n",
            "Epoch 28/30\n",
            "\u001b[1m31/31\u001b[0m \u001b[32m━━━━━━━━━━━━━━━━━━━━\u001b[0m\u001b[37m\u001b[0m \u001b[1m0s\u001b[0m 57ms/step - loss: 0.0017 - mae: 0.0314 - mse: 0.0017\n",
            "Epoch 27 logs: {'loss': 0.0017620850121602416, 'mae': 0.03215246647596359, 'mse': 0.0017620850121602416, 'val_loss': 0.002418245654553175, 'val_mae': 0.03495415672659874, 'val_mse': 0.002418245654553175}\n",
            "\n",
            "\u001b[1m31/31\u001b[0m \u001b[32m━━━━━━━━━━━━━━━━━━━━\u001b[0m\u001b[37m\u001b[0m \u001b[1m3s\u001b[0m 73ms/step - loss: 0.0017 - mae: 0.0314 - mse: 0.0017 - val_loss: 0.0024 - val_mae: 0.0350 - val_mse: 0.0024\n",
            "Epoch 29/30\n",
            "\u001b[1m31/31\u001b[0m \u001b[32m━━━━━━━━━━━━━━━━━━━━\u001b[0m\u001b[37m\u001b[0m \u001b[1m0s\u001b[0m 44ms/step - loss: 0.0018 - mae: 0.0317 - mse: 0.0018\n",
            "Epoch 28 logs: {'loss': 0.0018864732701331377, 'mae': 0.03214056044816971, 'mse': 0.0018864732701331377, 'val_loss': 0.001963050337508321, 'val_mae': 0.02832486480474472, 'val_mse': 0.001963050337508321}\n",
            "\n",
            "\u001b[1m31/31\u001b[0m \u001b[32m━━━━━━━━━━━━━━━━━━━━\u001b[0m\u001b[37m\u001b[0m \u001b[1m2s\u001b[0m 51ms/step - loss: 0.0018 - mae: 0.0317 - mse: 0.0018 - val_loss: 0.0020 - val_mae: 0.0283 - val_mse: 0.0020\n",
            "Epoch 30/30\n",
            "\u001b[1m31/31\u001b[0m \u001b[32m━━━━━━━━━━━━━━━━━━━━\u001b[0m\u001b[37m\u001b[0m \u001b[1m0s\u001b[0m 90ms/step - loss: 0.0016 - mae: 0.0307 - mse: 0.0016\n",
            "Epoch 29 logs: {'loss': 0.001691710320301354, 'mae': 0.03140004724264145, 'mse': 0.001691710320301354, 'val_loss': 0.001062910188920796, 'val_mae': 0.0235461238771677, 'val_mse': 0.001062910188920796}\n",
            "\n",
            "\u001b[1m31/31\u001b[0m \u001b[32m━━━━━━━━━━━━━━━━━━━━\u001b[0m\u001b[37m\u001b[0m \u001b[1m3s\u001b[0m 97ms/step - loss: 0.0016 - mae: 0.0307 - mse: 0.0016 - val_loss: 0.0011 - val_mae: 0.0235 - val_mse: 0.0011\n"
          ]
        }
      ]
    },
    {
      "cell_type": "code",
      "source": [
        "# model evaluation\n",
        "y_pred = model.predict(X_test)\n",
        "\n",
        "plt.plot(np.arange(len(y_test)), y_test, label=\"True\")\n",
        "plt.plot(np.arange(len(y_pred)), y_pred, label=\"Predicted\")\n",
        "plt.legend()\n",
        "plt.title(\"LSTM Prediction vs True\")\n",
        "\n",
        "plt.savefig(\"prediction_plot.png\")"
      ],
      "metadata": {
        "colab": {
          "base_uri": "https://localhost:8080/",
          "height": 470
        },
        "id": "FMD-kJUnv4fH",
        "outputId": "9d6c845f-50a4-41f8-b5ba-8885fd780b24"
      },
      "execution_count": 17,
      "outputs": [
        {
          "output_type": "stream",
          "name": "stdout",
          "text": [
            "\u001b[1m4/4\u001b[0m \u001b[32m━━━━━━━━━━━━━━━━━━━━\u001b[0m\u001b[37m\u001b[0m \u001b[1m1s\u001b[0m 115ms/step\n"
          ]
        },
        {
          "output_type": "display_data",
          "data": {
            "text/plain": [
              "<Figure size 640x480 with 1 Axes>"
            ],
            "image/png": "[encoded data removed]"
          },
          "metadata": {}
        }
      ]
    },
    {
      "cell_type": "code",
      "source": [
        "print(model.input_shape)  # expecting: (None, sequence_length, feature_size)\n"
      ],
      "metadata": {
        "colab": {
          "base_uri": "https://localhost:8080/"
        },
        "id": "7yL3fLCKK3ch",
        "outputId": "be93976e-7af4-4b4a-c9b3-bdf7e1197172"
      },
      "execution_count": 18,
      "outputs": [
        {
          "output_type": "stream",
          "name": "stdout",
          "text": [
            "(None, 30, 99)\n"
          ]
        }
      ]
    },
    {
      "cell_type": "code",
      "source": [
        "def predict_future(date):\n",
        "    date = pd.to_datetime(date)\n",
        "    day_of_week = date.weekday()\n",
        "    is_holiday_holidays = int(date in us_holidays)\n",
        "    is_holiday_workalendar = int(cal.is_holiday(date))\n",
        "\n",
        "    last_seq = df[feature_cols].values[-seq_length:]  # ensure the shape is correct\n",
        "\n",
        "    # ensure extra_features has same number of columns as features\n",
        "    extra_features = np.zeros(len(feature_cols))  # replace null values w/ zeros\n",
        "    extra_features[-3:] = [day_of_week / 6.0, is_holiday_holidays, is_holiday_workalendar]  # normalization\n",
        "\n",
        "    # stack last_seq w/ extra_features\n",
        "    last_seq = np.vstack([last_seq[1:], extra_features])  # (seq_length, num_features)\n",
        "\n",
        "    # reshape sequence to (1, seq_length, num_features)\n",
        "    last_seq = np.expand_dims(last_seq, axis=0)  # shape (1, seq_length, num_features)\n",
        "\n",
        "    # ensure input shape matches model's expected input (99 features)\n",
        "    last_seq = last_seq[:, :, :99]  # trim/select first 99 features\n",
        "\n",
        "    print(f\"last_seq shape before prediction: {last_seq.shape}\")  # ensure last sequence shape is what we expect\n",
        "    print(f\"Last input sequence:\\n{last_seq}\")\n",
        "\n",
        "    # prediction\n",
        "    prediction = model.predict(last_seq)\n",
        "    print(f\"Raw model output: {prediction[0][0]}\")  # debugging\n",
        "\n",
        "    # check inverse transformation\n",
        "    predicted_players_scaled = np.array([[prediction[0][0]]])  # shape should be (1, 1)\n",
        "\n",
        "    predicted_players = scaler_players.inverse_transform(predicted_players_scaled)[0][0]\n",
        "\n",
        "    print(f\"Predicted total players (scaled): {prediction[0][0]}\")\n",
        "    print(f\"Predicted total players after inverse transform: {predicted_players}\")\n",
        "\n",
        "    # debugging\n",
        "    print(\"Scaler Min:\", scaler_players.data_min_)\n",
        "    print(\"Scaler Max:\", scaler_players.data_max_)\n",
        "\n",
        "    # manual computation of inverse transformation\n",
        "    min_val = scaler_players.data_min_[0]  # min value used in training\n",
        "    max_val = scaler_players.data_max_[0]  # max value used in training\n",
        "    predicted_manual = min_val + (max_val - min_val) * prediction[0][0]\n",
        "\n",
        "    print(\"Manually-calculated inverse transform:\", predicted_manual)\n",
        "\n",
        "    # extra debugging\n",
        "    print(f\"Day of week (normalized): {day_of_week / 6.0}\")\n",
        "    print(f\"Holiday feature 1: {is_holiday_holidays}\")\n",
        "    print(f\"Holiday feature 2: {is_holiday_workalendar}\")\n",
        "\n",
        "    return predicted_players\n",
        "\n",
        "# test w/ future date\n",
        "future_date = \"2025-04-18\"\n",
        "predict_future(future_date)"
      ],
      "metadata": {
        "colab": {
          "base_uri": "https://localhost:8080/"
        },
        "id": "MoDI906gwWvF",
        "outputId": "4c416f45-d907-4158-ef4d-65c5621384a0"
      },
      "execution_count": 19,
      "outputs": [
        {
          "output_type": "stream",
          "name": "stdout",
          "text": [
            "last_seq shape before prediction: (1, 30, 99)\n",
            "Last input sequence:\n",
            "[[[0.32600305 0.8271795  0.76030521 ... 0.10815171 0.         0.        ]\n",
            "  [0.36596354 0.91537016 0.8116333  ... 0.12318548 0.         0.        ]\n",
            "  [0.13071803 0.71624328 0.75790826 ... 0.10026211 1.         1.        ]\n",
            "  ...\n",
            "  [0.06112511 0.90901566 0.91060804 ... 0.07094232 0.         0.        ]\n",
            "  [0.2081065  1.         0.95082665 ... 0.09067778 0.         0.        ]\n",
            "  [0.         0.         0.         ... 0.         0.66666667 0.        ]]]\n",
            "\u001b[1m1/1\u001b[0m \u001b[32m━━━━━━━━━━━━━━━━━━━━\u001b[0m\u001b[37m\u001b[0m \u001b[1m0s\u001b[0m 62ms/step\n",
            "Raw model output: 0.5050724148750305\n",
            "Predicted total players (scaled): 0.5050724148750305\n",
            "Predicted total players after inverse transform: 6047498.0\n",
            "Scaler Min: [4719905.]\n",
            "Scaler Max: [7348425.]\n",
            "Manually-calculated inverse transform: 6047497.943947315\n",
            "Day of week (normalized): 0.6666666666666666\n",
            "Holiday feature 1: 0\n",
            "Holiday feature 2: 0\n"
          ]
        },
        {
          "output_type": "execute_result",
          "data": {
            "text/plain": [
              "np.float32(6047498.0)"
            ]
          },
          "metadata": {},
          "execution_count": 19
        }
      ]
    },
    {
      "cell_type": "code",
      "source": [
        "model.export(\"player_count_model\")"
      ],
      "metadata": {
        "id": "ENqi2_XMAbtt",
        "colab": {
          "base_uri": "https://localhost:8080/"
        },
        "outputId": "9ec55a18-526e-4f6f-88f7-49d9914608fd"
      },
      "execution_count": 20,
      "outputs": [
        {
          "output_type": "stream",
          "name": "stdout",
          "text": [
            "Saved artifact at 'player_count_model'. The following endpoints are available:\n",
            "\n",
            "* Endpoint 'serve'\n",
            "  args_0 (POSITIONAL_ONLY): TensorSpec(shape=(None, 30, 99), dtype=tf.float32, name='keras_tensor_7')\n",
            "Output Type:\n",
            "  TensorSpec(shape=(None, 1), dtype=tf.float32, name=None)\n",
            "Captures:\n",
            "  135048232620240: TensorSpec(shape=(), dtype=tf.resource, name=None)\n",
            "  135048232622160: TensorSpec(shape=(), dtype=tf.resource, name=None)\n",
            "  135048232622736: TensorSpec(shape=(), dtype=tf.resource, name=None)\n",
            "  135048232621392: TensorSpec(shape=(), dtype=tf.resource, name=None)\n",
            "  135048232624464: TensorSpec(shape=(), dtype=tf.resource, name=None)\n",
            "  135048232625040: TensorSpec(shape=(), dtype=tf.resource, name=None)\n",
            "  135048232624080: TensorSpec(shape=(), dtype=tf.resource, name=None)\n",
            "  135048232625424: TensorSpec(shape=(), dtype=tf.resource, name=None)\n",
            "  135048232623504: TensorSpec(shape=(), dtype=tf.resource, name=None)\n",
            "  135048232626000: TensorSpec(shape=(), dtype=tf.resource, name=None)\n"
          ]
        }
      ]
    },
    {
      "cell_type": "code",
      "source": [
        "! pkill -f \"mlflow ui\"\n",
        "\n",
        "get_ipython().system_raw(\"mlflow ui --port 5000 &\") # run tracking UI in the background"
      ],
      "metadata": {
        "id": "UrFzIDgaSHql"
      },
      "execution_count": 21,
      "outputs": []
    },
    {
      "cell_type": "code",
      "source": [
        "# terminate any open tunnels\n",
        "ngrok.kill()\n",
        "\n",
        "ngrok.set_auth_token(NGROK_AUTH_TOKEN)\n",
        "\n",
        "# open HTTP tunnel on port 5000 = http://localhost:5000\n",
        "public_url = ngrok.connect(5000, proto=\"http\")\n",
        "\n",
        "print(f\" * Ngrok tunnel: {public_url}\")"
      ],
      "metadata": {
        "colab": {
          "base_uri": "https://localhost:8080/"
        },
        "id": "7PNANlnlSJ5P",
        "outputId": "0fd95085-c918-4f42-a312-26da65a50080"
      },
      "execution_count": 22,
      "outputs": [
        {
          "output_type": "stream",
          "name": "stdout",
          "text": [
            " * Ngrok tunnel: NgrokTunnel: \"https://4f73-35-237-135-32.ngrok-free.app\" -> \"http://localhost:5000\"\n"
          ]
        }
      ]
    },
    {
      "cell_type": "code",
      "source": [
        "upload_folder (\n",
        "    repo_id=\"reemchaaban/player-count-prediction\",\n",
        "    folder_path=\"player_count_model\",\n",
        "    path_in_repo=\"player_count_model\",\n",
        "    commit_message=\"Initial commit from Google Colab\"\n",
        ")\n"
      ],
      "metadata": {
        "colab": {
          "base_uri": "https://localhost:8080/",
          "height": 200,
          "referenced_widgets": [
            "35d43d2abac4465cbc4f7b9bbebcee91",
            "326ab0082f3a4d6697a0a3fe376879bc",
            "dac9ee67234d4f5990d29fa7e3ab6650",
            "db5ad6b2eec94b2680902a0bf1ae2d43",
            "1017d9d1adfd44ec89a12e9420003b62",
            "4a012cda066f40cdba7e278041428b6d",
            "552da7a0a29845159e1e917f12eeeef8",
            "3f6d88997142431a8d57ca5827313126",
            "a1d687869c7c4492a1bc454ae1668fd2",
            "fbaef41fdabe4ea58ac4c73f1812123a",
            "56e2f7e1feba4edeb316b3efbbba0cb1",
            "e7c66b98cc2748069ec8f7cb296befb3",
            "641c11b22f0d41deaaee7db19b2b3622",
            "c754a40d68a74f89b2d562c451bb514f",
            "740aebcfb04448fba4f0261426aacb68",
            "d0cde1be6b264a02b75504660ba4ad3f",
            "219dcd9ddae446c59deffcd456980b04",
            "dde887ecac5342bbb4ae8a31843c9a57",
            "eaa79a983ada4f24a7022124962bbfb2",
            "6c6b18a1226e4fd98f65b510bc51aa64",
            "9f94378641e6408489f433944901cb1f",
            "e523bc20328d4d0ca5d388824556e58c",
            "62def8b327774d8798c93dbc5cbd19b4",
            "d8c71d2024504ff2a5ce5b14c21ce68e",
            "73feb9d1a70b44c9a8906537493b7dd6",
            "c96136e9a8e34e2197fcf42fc2e66205",
            "777d6f8b2f8c4bee9f6f5d907c6e993c",
            "6b2c9b64d7964b1ca842988247998af4",
            "0f7669117bf74f1ead7aa28395a72431",
            "0f7345fe19ec4d498dbaffdad56f2509",
            "4c85b336e9264123a5c11f7bf814212a",
            "7e95681b5c4f45e8b39cdf057d476b64",
            "52ba02e39f264e7f8ccc08db28d17caa",
            "eb02d88dd3014c3a8a482e5342dd752b",
            "54f8b3b62f32449fbafab50455c99f98",
            "38475e47e4114bb8bc0e695e636caa97",
            "44ca09e5e7a6408199bce06a28c15d06",
            "5e9fffaaed0d4fd8a0774c6064d24aea",
            "e30696bc1f7a46b3a84e3ad6a82b404f",
            "24d1c0a844854213974767ac7a7c9a0c",
            "69bb2d9737fd4f4380d1eb316def098c",
            "3e7a44dd195b41ab9e7bfbf6382dd572",
            "3e10dc65e0ed46b0b71d21969f330d83",
            "5d665ff320914c95a4f38a39946bd197"
          ]
        },
        "id": "NND1uGm1CE37",
        "outputId": "e1f1fc13-67f5-4d05-c88d-74494c0ea95e"
      },
      "execution_count": 23,
      "outputs": [
        {
          "output_type": "display_data",
          "data": {
            "text/plain": [
              "Upload 3 LFS files:   0%|          | 0/3 [00:00<?, ?it/s]"
            ],
            "application/vnd.jupyter.widget-view+json": {
              "version_major": 2,
              "version_minor": 0,
              "model_id": "35d43d2abac4465cbc4f7b9bbebcee91"
            }
          },
          "metadata": {}
        },
        {
          "output_type": "display_data",
          "data": {
            "text/plain": [
              "fingerprint.pb:   0%|          | 0.00/56.0 [00:00<?, ?B/s]"
            ],
            "application/vnd.jupyter.widget-view+json": {
              "version_major": 2,
              "version_minor": 0,
              "model_id": "e7c66b98cc2748069ec8f7cb296befb3"
            }
          },
          "metadata": {}
        },
        {
          "output_type": "display_data",
          "data": {
            "text/plain": [
              "variables.data-00000-of-00001:   0%|          | 0.00/1.33M [00:00<?, ?B/s]"
            ],
            "application/vnd.jupyter.widget-view+json": {
              "version_major": 2,
              "version_minor": 0,
              "model_id": "62def8b327774d8798c93dbc5cbd19b4"
            }
          },
          "metadata": {}
        },
        {
          "output_type": "display_data",
          "data": {
            "text/plain": [
              "saved_model.pb:   0%|          | 0.00/129k [00:00<?, ?B/s]"
            ],
            "application/vnd.jupyter.widget-view+json": {
              "version_major": 2,
              "version_minor": 0,
              "model_id": "eb02d88dd3014c3a8a482e5342dd752b"
            }
          },
          "metadata": {}
        },
        {
          "output_type": "execute_result",
          "data": {
            "text/plain": [
              "CommitInfo(commit_url='https://huggingface.co/reemchaaban/player-count-prediction/commit/524b5a12a8045d9e0786148f62df2c21fcbf0c8b', commit_message='Initial commit from Google Colab', commit_description='', oid='524b5a12a8045d9e0786148f62df2c21fcbf0c8b', pr_url=None, repo_url=RepoUrl('https://huggingface.co/reemchaaban/player-count-prediction', endpoint='https://huggingface.co', repo_type='model', repo_id='reemchaaban/player-count-prediction'), pr_revision=None, pr_num=None)"
            ],
            "application/vnd.google.colaboratory.intrinsic+json": {
              "type": "string"
            }
          },
          "metadata": {},
          "execution_count": 23
        }
      ]
    },
    {
      "cell_type": "code",
      "source": [
        "GITHUB_USERNAME = \"reemchaaban\"\n",
        "GITHUB_EMAIL = \"reem.chaabann@gmail.com\"\n",
        "REPO_NAME = \"game_system\"\n",
        "BRANCH = \"main\"\n",
        "TARGET_SUBDIR = \"IEP1\"\n",
        "\n",
        "token = userdata.get('GITHUB_PAT')\n",
        "\n",
        "!git config --global user.email \"{GITHUB_EMAIL}\"\n",
        "!git config --global user.name \"{GITHUB_USERNAME}\"\n",
        "\n",
        "!rm -rf {REPO_NAME}\n",
        "!git clone https://{token}@github.com/{GITHUB_USERNAME}/{REPO_NAME}.git\n",
        "\n",
        "!rm -rf {REPO_NAME}/{TARGET_SUBDIR}/model\n",
        "!mkdir -p {REPO_NAME}/{TARGET_SUBDIR}/model\n",
        "!ls\n",
        "!cp player_count_model/fingerprint.pb {REPO_NAME}/{TARGET_SUBDIR}/model/\n",
        "!cp player_count_model/saved_model.pb {REPO_NAME}/{TARGET_SUBDIR}/model/\n",
        "!cp -r player_count_model/variables {REPO_NAME}/{TARGET_SUBDIR}/model/\n",
        "\n",
        "!cp scaler_players.pkl {REPO_NAME}/{TARGET_SUBDIR}/utils/scaler_players.pkl\n",
        "\n",
        "%cd {REPO_NAME}\n",
        "!git add .\n",
        "!git commit -m \"Update IEP1 model and scaler from Colab\"\n",
        "!git push origin {BRANCH}\n",
        "%cd .."
      ],
      "metadata": {
        "id": "1CroXY2bhCRa",
        "colab": {
          "base_uri": "https://localhost:8080/"
        },
        "outputId": "da186afd-19a2-44e9-a959-f856d384d1ff"
      },
      "execution_count": 24,
      "outputs": [
        {
          "output_type": "stream",
          "name": "stdout",
          "text": [
            "Cloning into 'game_system'...\n",
            "remote: Enumerating objects: 135, done.\u001b[K\n",
            "remote: Counting objects: 100% (21/21), done.\u001b[K\n",
            "remote: Compressing objects: 100% (21/21), done.\u001b[K\n",
            "remote: Total 135 (delta 9), reused 0 (delta 0), pack-reused 114 (from 1)\u001b[K\n",
            "Receiving objects: 100% (135/135), 14.44 MiB | 27.84 MiB/s, done.\n",
            "Resolving deltas: 100% (46/46), done.\n",
            "drive\t     mlruns\t\t prediction_plot.png  scaler_players.pkl\n",
            "game_system  player_count_model  sample_data\n",
            "/content/game_system\n",
            "[main ed52b40] Update IEP1 model and scaler from Colab\n",
            " 4 files changed, 1 insertion(+), 1 deletion(-)\n",
            " rewrite IEP1/model/variables/variables.data-00000-of-00001 (91%)\n",
            " rewrite IEP1/model/variables/variables.index (98%)\n",
            "Enumerating objects: 17, done.\n",
            "Counting objects: 100% (17/17), done.\n",
            "Delta compression using up to 2 threads\n",
            "Compressing objects: 100% (9/9), done.\n",
            "Writing objects: 100% (9/9), 1.18 MiB | 4.46 MiB/s, done.\n",
            "Total 9 (delta 4), reused 0 (delta 0), pack-reused 0\n",
            "remote: Resolving deltas: 100% (4/4), completed with 4 local objects.\u001b[K\n",
            "To https://github.com/reemchaaban/game_system.git\n",
            "   2551071..ed52b40  main -> main\n",
            "/content\n"
          ]
        }
      ]
    }
  ]
}
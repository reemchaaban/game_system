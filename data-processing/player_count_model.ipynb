{
  "nbformat": 4,
  "nbformat_minor": 0,
  "metadata": {
    "colab": {
      "provenance": [],
      "include_colab_link": true
    },
    "kernelspec": {
      "name": "python3",
      "display_name": "Python 3"
    },
    "language_info": {
      "name": "python"
    }
  },
  "cells": [
    {
      "cell_type": "markdown",
      "metadata": {
        "id": "view-in-github",
        "colab_type": "text"
      },
      "source": [
        "<a href=\"https://colab.research.google.com/github/reemchaaban/game_system/blob/main/data-processing/player_count_model.ipynb\" target=\"_parent\"><img src=\"https://colab.research.google.com/assets/colab-badge.svg\" alt=\"Open In Colab\"/></a>"
      ]
    },
    {
      "cell_type": "markdown",
      "source": [
        "# PLAYER COUNT PREDICTION MODEL"
      ],
      "metadata": {
        "id": "Yo05-v_xN2M5"
      }
    },
    {
      "cell_type": "markdown",
      "source": [
        "Installing needed packages"
      ],
      "metadata": {
        "id": "lqwF6SEeNvxc"
      }
    },
    {
      "cell_type": "code",
      "source": [
        "!pip install workalendar --quiet\n",
        "!pip install huggingface_hub transformers --quiet\n",
        "!pip install mlflow --quiet\n",
        "!pip install pyngrok --quiet\n",
        "!pip install prometheus_client --quiet"
      ],
      "metadata": {
        "colab": {
          "base_uri": "https://localhost:8080/"
        },
        "id": "th5mx-gdQFiF",
        "outputId": "e1207653-b859-4f52-f81d-4e1e70d3a19f"
      },
      "execution_count": 1,
      "outputs": [
        {
          "output_type": "stream",
          "name": "stdout",
          "text": [
            "\u001b[2K     \u001b[90m━━━━━━━━━━━━━━━━━━━━━━━━━━━━━━━━━━━━━━━━\u001b[0m \u001b[32m5.8/5.8 MB\u001b[0m \u001b[31m23.0 MB/s\u001b[0m eta \u001b[36m0:00:00\u001b[0m\n",
            "\u001b[?25h  Preparing metadata (setup.py) ... \u001b[?25l\u001b[?25hdone\n",
            "\u001b[2K   \u001b[90m━━━━━━━━━━━━━━━━━━━━━━━━━━━━━━━━━━━━━━━━\u001b[0m \u001b[32m210.7/210.7 kB\u001b[0m \u001b[31m3.1 MB/s\u001b[0m eta \u001b[36m0:00:00\u001b[0m\n",
            "\u001b[2K   \u001b[90m━━━━━━━━━━━━━━━━━━━━━━━━━━━━━━━━━━━━━━━━\u001b[0m \u001b[32m47.9/47.9 kB\u001b[0m \u001b[31m2.1 MB/s\u001b[0m eta \u001b[36m0:00:00\u001b[0m\n",
            "\u001b[?25h  Building wheel for pymeeus (setup.py) ... \u001b[?25l\u001b[?25hdone\n",
            "\u001b[2K   \u001b[90m━━━━━━━━━━━━━━━━━━━━━━━━━━━━━━━━━━━━━━━━\u001b[0m \u001b[32m28.2/28.2 MB\u001b[0m \u001b[31m72.6 MB/s\u001b[0m eta \u001b[36m0:00:00\u001b[0m\n",
            "\u001b[2K   \u001b[90m━━━━━━━━━━━━━━━━━━━━━━━━━━━━━━━━━━━━━━━━\u001b[0m \u001b[32m6.1/6.1 MB\u001b[0m \u001b[31m79.7 MB/s\u001b[0m eta \u001b[36m0:00:00\u001b[0m\n",
            "\u001b[2K   \u001b[90m━━━━━━━━━━━━━━━━━━━━━━━━━━━━━━━━━━━━━━━━\u001b[0m \u001b[32m231.9/231.9 kB\u001b[0m \u001b[31m12.9 MB/s\u001b[0m eta \u001b[36m0:00:00\u001b[0m\n",
            "\u001b[2K   \u001b[90m━━━━━━━━━━━━━━━━━━━━━━━━━━━━━━━━━━━━━━━━\u001b[0m \u001b[32m147.8/147.8 kB\u001b[0m \u001b[31m12.2 MB/s\u001b[0m eta \u001b[36m0:00:00\u001b[0m\n",
            "\u001b[2K   \u001b[90m━━━━━━━━━━━━━━━━━━━━━━━━━━━━━━━━━━━━━━━━\u001b[0m \u001b[32m114.9/114.9 kB\u001b[0m \u001b[31m7.2 MB/s\u001b[0m eta \u001b[36m0:00:00\u001b[0m\n",
            "\u001b[2K   \u001b[90m━━━━━━━━━━━━━━━━━━━━━━━━━━━━━━━━━━━━━━━━\u001b[0m \u001b[32m85.0/85.0 kB\u001b[0m \u001b[31m7.0 MB/s\u001b[0m eta \u001b[36m0:00:00\u001b[0m\n",
            "\u001b[2K   \u001b[90m━━━━━━━━━━━━━━━━━━━━━━━━━━━━━━━━━━━━━━━━\u001b[0m \u001b[32m692.3/692.3 kB\u001b[0m \u001b[31m39.2 MB/s\u001b[0m eta \u001b[36m0:00:00\u001b[0m\n",
            "\u001b[2K   \u001b[90m━━━━━━━━━━━━━━━━━━━━━━━━━━━━━━━━━━━━━━━━\u001b[0m \u001b[32m95.2/95.2 kB\u001b[0m \u001b[31m8.0 MB/s\u001b[0m eta \u001b[36m0:00:00\u001b[0m\n",
            "\u001b[2K   \u001b[90m━━━━━━━━━━━━━━━━━━━━━━━━━━━━━━━━━━━━━━━━\u001b[0m \u001b[32m203.4/203.4 kB\u001b[0m \u001b[31m17.1 MB/s\u001b[0m eta \u001b[36m0:00:00\u001b[0m\n",
            "\u001b[2K   \u001b[90m━━━━━━━━━━━━━━━━━━━━━━━━━━━━━━━━━━━━━━━━\u001b[0m \u001b[32m62.5/62.5 kB\u001b[0m \u001b[31m5.1 MB/s\u001b[0m eta \u001b[36m0:00:00\u001b[0m\n",
            "\u001b[2K   \u001b[90m━━━━━━━━━━━━━━━━━━━━━━━━━━━━━━━━━━━━━━━━\u001b[0m \u001b[32m72.0/72.0 kB\u001b[0m \u001b[31m6.3 MB/s\u001b[0m eta \u001b[36m0:00:00\u001b[0m\n",
            "\u001b[?25h"
          ]
        }
      ]
    },
    {
      "cell_type": "markdown",
      "source": [
        "Importing needed libraries"
      ],
      "metadata": {
        "id": "e2weYOe9N6th"
      }
    },
    {
      "cell_type": "code",
      "source": [
        "import numpy as np\n",
        "import pandas as pd\n",
        "import matplotlib.pyplot as plt\n",
        "import tensorflow as tf\n",
        "\n",
        "from tensorflow.keras.models import Sequential\n",
        "from tensorflow.keras.layers import LSTM, Dense, Dropout\n",
        "from tensorflow.keras.callbacks import Callback\n",
        "from sklearn.preprocessing import MinMaxScaler\n",
        "from sklearn.metrics import mean_squared_error, mean_absolute_error, r2_score\n",
        "import holidays\n",
        "from workalendar.usa import UnitedStates  # US public holidays\n",
        "from datetime import datetime, timedelta\n",
        "import pickle\n",
        "\n",
        "from google.colab import drive, files, userdata\n",
        "import os\n",
        "\n",
        "import mlflow\n",
        "import mlflow.tensorflow\n",
        "from pyngrok import ngrok\n",
        "\n",
        "from prometheus_client import start_http_server, Gauge, REGISTRY\n",
        "\n",
        "import time\n",
        "import threading\n",
        "import psutil\n",
        "\n",
        "from huggingface_hub import login, upload_folder"
      ],
      "metadata": {
        "id": "o0y1wXxnvJNY"
      },
      "execution_count": 2,
      "outputs": []
    },
    {
      "cell_type": "markdown",
      "source": [
        "Authenticating Hugging Face, ngrok, and GitHub using tokens from Secrets"
      ],
      "metadata": {
        "id": "-oIz54HLN93B"
      }
    },
    {
      "cell_type": "code",
      "source": [
        "HF_TOKEN = userdata.get(\"HF_TOKEN\")\n",
        "NGROK_AUTH_TOKEN = userdata.get('NGROK_AUTH_TOKEN')\n",
        "GITHUB_PAT = userdata.get('GITHUB_PAT')"
      ],
      "metadata": {
        "id": "mWmQnmnfQlA7"
      },
      "execution_count": 3,
      "outputs": []
    },
    {
      "cell_type": "code",
      "source": [
        "login(token=HF_TOKEN)"
      ],
      "metadata": {
        "id": "faGzBwxrQiLb"
      },
      "execution_count": 4,
      "outputs": []
    },
    {
      "cell_type": "markdown",
      "source": [
        "Loading dataset from drive"
      ],
      "metadata": {
        "id": "ZqwWAxAAOD6i"
      }
    },
    {
      "cell_type": "code",
      "source": [
        "drive.mount('/content/drive')\n",
        "drive_base_path = '/content/drive/My Drive/503Nproj/datasets'\n",
        "file_path = os.path.join(drive_base_path, 'player_count_history.csv')\n",
        "df = pd.read_csv(file_path, parse_dates=['date'])"
      ],
      "metadata": {
        "colab": {
          "base_uri": "https://localhost:8080/"
        },
        "id": "_k0YTx2MvUOL",
        "outputId": "eb268375-8e06-4f32-a3fe-05d432ff20a6"
      },
      "execution_count": 5,
      "outputs": [
        {
          "output_type": "stream",
          "name": "stdout",
          "text": [
            "Mounted at /content/drive\n"
          ]
        }
      ]
    },
    {
      "cell_type": "markdown",
      "source": [
        "Feature engineering"
      ],
      "metadata": {
        "id": "aL1A5zpmUr9W"
      }
    },
    {
      "cell_type": "code",
      "source": [
        "us_holidays = holidays.US()\n",
        "cal = UnitedStates()\n",
        "df['is_holiday_holidays_lib'] = df['date'].apply(lambda x: int(x in us_holidays)) #holiday package detects US holidays\n",
        "df['is_holiday_workalendar'] = df['date'].apply(lambda x: int(cal.is_holiday(x))) #workalendar for US holiday calendar\n",
        "df['day_of_week'] = df['date'].dt.dayofweek  # i.e., monday=0, tuesday=1, ..., sunday=6"
      ],
      "metadata": {
        "id": "fFvQWpEnvQh6"
      },
      "execution_count": 6,
      "outputs": []
    },
    {
      "cell_type": "code",
      "source": [
        "# target column & features\n",
        "target_col = 'total players'\n",
        "feature_cols = [col for col in df.columns if col not in ['date', target_col]]"
      ],
      "metadata": {
        "id": "26l3ZXQvvoLr"
      },
      "execution_count": 7,
      "outputs": []
    },
    {
      "cell_type": "markdown",
      "source": [
        "Scaling"
      ],
      "metadata": {
        "id": "xeI9U6LsUwSb"
      }
    },
    {
      "cell_type": "code",
      "source": [
        "scaler_players = MinMaxScaler()\n",
        "df[[target_col]] = scaler_players.fit_transform(df[[target_col]])  # train only on total players\n",
        "with open('scaler_players.pkl', 'wb') as f:\n",
        "    pickle.dump(scaler_players, f)\n",
        "\n",
        "scaler_features = MinMaxScaler()\n",
        "df[feature_cols] = scaler_features.fit_transform(df[feature_cols])\n",
        "print(df.isnull().sum()) # get number of missing values\n",
        "df.fillna(df.mean(), inplace=True)\n"
      ],
      "metadata": {
        "id": "NMJmgd_FvsGr",
        "colab": {
          "base_uri": "https://localhost:8080/"
        },
        "outputId": "f45cc2cf-1d5c-4861-95fb-bb24e6db710f"
      },
      "execution_count": 8,
      "outputs": [
        {
          "output_type": "stream",
          "name": "stdout",
          "text": [
            "date                       0\n",
            "570                        0\n",
            "730                        0\n",
            "578080                     0\n",
            "1172470                    0\n",
            "                          ..\n",
            "1086940                    0\n",
            "total players              0\n",
            "is_holiday_holidays_lib    0\n",
            "is_holiday_workalendar     0\n",
            "day_of_week                0\n",
            "Length: 102, dtype: int64\n"
          ]
        }
      ]
    },
    {
      "cell_type": "markdown",
      "source": [
        "Sequence preparation"
      ],
      "metadata": {
        "id": "Ba3zk2xVUy2h"
      }
    },
    {
      "cell_type": "code",
      "source": [
        "def create_sequences(data, seq_length):\n",
        "    X, y = [], []\n",
        "    for i in range(len(data) - seq_length):\n",
        "        X.append(data[i:i + seq_length, :-1])  # features\n",
        "        y.append(data[i + seq_length, -1])  # target variable i.e., total players\n",
        "    return np.array(X), np.array(y)\n",
        "\n",
        "seq_length = 30  # use last 30 days to predict\n",
        "data = df[feature_cols].values\n",
        "X, y = create_sequences(data, seq_length)"
      ],
      "metadata": {
        "id": "h8wdQeCTF8BO"
      },
      "execution_count": 10,
      "outputs": []
    },
    {
      "cell_type": "markdown",
      "source": [
        "Train-Validation-Test split\n"
      ],
      "metadata": {
        "id": "76kwgPReVA9-"
      }
    },
    {
      "cell_type": "code",
      "source": [
        "# train-validation-test split (0.7-0.15-0.15)\n",
        "train_size = int(0.7 * len(X))\n",
        "val_size = int(0.15 * len(X))\n",
        "test_size = len(X) - train_size - val_size\n",
        "X_train, y_train = X[:train_size], y[:train_size]\n",
        "X_val, y_val = X[train_size:train_size+val_size], y[train_size:train_size+val_size]\n",
        "X_test, y_test = X[train_size+val_size:], y[train_size+val_size:]\n",
        "print(f\"X_train shape: {X_train.shape}, y_train shape: {y_train.shape}\") #verify that X train & test shapes make sense\n",
        "print(f\"X_test shape: {X_test.shape}, y_test shape: {y_test.shape}\")"
      ],
      "metadata": {
        "colab": {
          "base_uri": "https://localhost:8080/"
        },
        "id": "s0qv6VJ7VC0-",
        "outputId": "0c8d3813-4d81-4c45-c39d-5092fb1f7d0f"
      },
      "execution_count": 11,
      "outputs": [
        {
          "output_type": "stream",
          "name": "stdout",
          "text": [
            "X_train shape: (489, 30, 99), y_train shape: (489,)\n",
            "X_test shape: (106, 30, 99), y_test shape: (106,)\n"
          ]
        }
      ]
    },
    {
      "cell_type": "markdown",
      "source": [
        "Prometheus server"
      ],
      "metadata": {
        "id": "oLYzS0RvVXuz"
      }
    },
    {
      "cell_type": "code",
      "source": [
        "for collector in list(REGISTRY._collector_to_names.keys()):\n",
        "    REGISTRY.unregister(collector)"
      ],
      "metadata": {
        "id": "V7B9kUH5oo7r"
      },
      "execution_count": 25,
      "outputs": []
    },
    {
      "cell_type": "code",
      "source": [
        "def start_prometheus_server():\n",
        "    start_http_server(8000)\n",
        "    print(\"Prometheus server started on http://localhost:8000/\")\n",
        "\n",
        "threading.Thread(target=start_prometheus_server).start()"
      ],
      "metadata": {
        "colab": {
          "base_uri": "https://localhost:8080/"
        },
        "id": "R6Iq7S9eyZcf",
        "outputId": "5aa6b503-18c0-4e45-86cf-e51ef905722d"
      },
      "execution_count": 16,
      "outputs": [
        {
          "output_type": "stream",
          "name": "stdout",
          "text": [
            "Prometheus server started on http://localhost:8000/\n"
          ]
        }
      ]
    },
    {
      "cell_type": "code",
      "source": [
        "# terminate any open tunnels\n",
        "ngrok.kill()"
      ],
      "metadata": {
        "id": "bu_59Bzt3MrA"
      },
      "execution_count": 17,
      "outputs": []
    },
    {
      "cell_type": "code",
      "source": [
        "ngrok.set_auth_token(NGROK_AUTH_TOKEN)\n",
        "prometheus_url = ngrok.connect(8000, proto=\"http\")\n",
        "\n",
        "print(f\" * Ngrok tunnel: {prometheus_url}\")"
      ],
      "metadata": {
        "colab": {
          "base_uri": "https://localhost:8080/"
        },
        "id": "bdV2A5ax1q6W",
        "outputId": "f1e46121-697f-41b4-96bf-4228c7c7386e"
      },
      "execution_count": 18,
      "outputs": [
        {
          "output_type": "stream",
          "name": "stdout",
          "text": [
            " * Ngrok tunnel: NgrokTunnel: \"https://9218-35-237-132-58.ngrok-free.app\" -> \"http://localhost:8000\"\n"
          ]
        }
      ]
    },
    {
      "cell_type": "markdown",
      "source": [
        "Metrics callback"
      ],
      "metadata": {
        "id": "hl0kLZZAVhCI"
      }
    },
    {
      "cell_type": "code",
      "source": [
        "mlflow.tensorflow.autolog(disable=True)\n",
        "\n",
        "cpu_usage_metric = Gauge('cpu_usage_percent', 'CPU usage (%)')\n",
        "memory_usage_metric = Gauge('memory_usage_percent', 'Memory usage (%)')\n",
        "epoch_duration_metric = Gauge('epoch_duration_seconds', 'Time to complete 1 epoch')\n",
        "\n",
        "class MLflowAndPrometheusCallback(Callback):\n",
        "    def on_epoch_begin(self, epoch, logs=None):\n",
        "        self.epoch_start_time = time.time()\n",
        "\n",
        "    def on_epoch_end(self, epoch, logs=None):\n",
        "        logs = logs or {}\n",
        "        print(f\"\\nEpoch {epoch} logs: {logs}\\n\")\n",
        "        for key, value in logs.items():\n",
        "            mlflow.log_metric(key, value, step=epoch)\n",
        "        cpu = psutil.cpu_percent()\n",
        "        mem = psutil.virtual_memory().percent\n",
        "        duration = time.time() - self.epoch_start_time\n",
        "        cpu_usage_metric.set(cpu)\n",
        "        memory_usage_metric.set(mem)\n",
        "        epoch_duration_metric.set(duration)\n",
        "        print(f\"Epoch {epoch}: Duration {duration:.2f}s | CPU {cpu}% | Memory {mem}%\")\n",
        ""
      ],
      "metadata": {
        "id": "QAAN1fUpRpx3"
      },
      "execution_count": 12,
      "outputs": []
    },
    {
      "cell_type": "markdown",
      "source": [
        "LSTM model training"
      ],
      "metadata": {
        "id": "lWb5oFDOVnen"
      }
    },
    {
      "cell_type": "code",
      "source": [
        "model = Sequential([\n",
        "    LSTM(100, return_sequences=True, input_shape=(seq_length, X.shape[2])),\n",
        "    Dropout(0.2),\n",
        "    LSTM(100, return_sequences=False),\n",
        "    Dropout(0.2),\n",
        "    Dense(50, activation='relu'),\n",
        "    Dense(1)\n",
        "])\n",
        "\n",
        "model.compile(optimizer='adam', loss='mse', metrics=['mae', 'mse'])\n",
        "\n",
        "with mlflow.start_run(run_name=\"player-count-predictor\"):\n",
        "    model.fit(X_train, y_train,\n",
        "              epochs=30,\n",
        "              batch_size=16,\n",
        "              validation_data=(X_test, y_test),\n",
        "              callbacks=[MLflowAndPrometheusCallback()])"
      ],
      "metadata": {
        "colab": {
          "base_uri": "https://localhost:8080/"
        },
        "id": "udmwPWumvzgq",
        "outputId": "f2cfb047-0d51-445e-d24f-c1b9b28b3a0e"
      },
      "execution_count": 13,
      "outputs": [
        {
          "output_type": "stream",
          "name": "stderr",
          "text": [
            "/usr/local/lib/python3.11/dist-packages/keras/src/layers/rnn/rnn.py:200: UserWarning: Do not pass an `input_shape`/`input_dim` argument to a layer. When using Sequential models, prefer using an `Input(shape)` object as the first layer in the model instead.\n",
            "  super().__init__(**kwargs)\n"
          ]
        },
        {
          "output_type": "stream",
          "name": "stdout",
          "text": [
            "Epoch 1/30\n",
            "\u001b[1m30/31\u001b[0m \u001b[32m━━━━━━━━━━━━━━━━━━━\u001b[0m\u001b[37m━\u001b[0m \u001b[1m0s\u001b[0m 37ms/step - loss: 0.1447 - mae: 0.3235 - mse: 0.1447\n",
            "Epoch 0 logs: {'loss': 0.13584837317466736, 'mae': 0.3115274906158447, 'mse': 0.13584837317466736, 'val_loss': 0.1483250856399536, 'val_mae': 0.32095563411712646, 'val_mse': 0.1483250856399536}\n",
            "\n",
            "Epoch 0: Duration 7.15s | CPU 42.3% | Memory 14.0%\n",
            "\u001b[1m31/31\u001b[0m \u001b[32m━━━━━━━━━━━━━━━━━━━━\u001b[0m\u001b[37m\u001b[0m \u001b[1m7s\u001b[0m 69ms/step - loss: 0.1441 - mae: 0.3228 - mse: 0.1441 - val_loss: 0.1483 - val_mae: 0.3210 - val_mse: 0.1483\n",
            "Epoch 2/30\n",
            "\u001b[1m30/31\u001b[0m \u001b[32m━━━━━━━━━━━━━━━━━━━\u001b[0m\u001b[37m━\u001b[0m \u001b[1m0s\u001b[0m 37ms/step - loss: 0.1101 - mae: 0.2776 - mse: 0.1101\n",
            "Epoch 1 logs: {'loss': 0.11538448184728622, 'mae': 0.2907589077949524, 'mse': 0.11538448184728622, 'val_loss': 0.11222474277019501, 'val_mae': 0.2912381589412689, 'val_mse': 0.11222474277019501}\n",
            "\n",
            "Epoch 1: Duration 1.36s | CPU 88.3% | Memory 14.1%\n",
            "\u001b[1m31/31\u001b[0m \u001b[32m━━━━━━━━━━━━━━━━━━━━\u001b[0m\u001b[37m\u001b[0m \u001b[1m1s\u001b[0m 43ms/step - loss: 0.1104 - mae: 0.2784 - mse: 0.1104 - val_loss: 0.1122 - val_mae: 0.2912 - val_mse: 0.1122\n",
            "Epoch 3/30\n",
            "\u001b[1m31/31\u001b[0m \u001b[32m━━━━━━━━━━━━━━━━━━━━\u001b[0m\u001b[37m\u001b[0m \u001b[1m0s\u001b[0m 37ms/step - loss: 0.1157 - mae: 0.2925 - mse: 0.1157\n",
            "Epoch 2 logs: {'loss': 0.12268216162919998, 'mae': 0.29784679412841797, 'mse': 0.12268216162919998, 'val_loss': 0.11302004009485245, 'val_mae': 0.29197803139686584, 'val_mse': 0.11302004009485245}\n",
            "\n",
            "Epoch 2: Duration 2.54s | CPU 48.2% | Memory 14.1%\n",
            "\u001b[1m31/31\u001b[0m \u001b[32m━━━━━━━━━━━━━━━━━━━━\u001b[0m\u001b[37m\u001b[0m \u001b[1m3s\u001b[0m 44ms/step - loss: 0.1159 - mae: 0.2926 - mse: 0.1159 - val_loss: 0.1130 - val_mae: 0.2920 - val_mse: 0.1130\n",
            "Epoch 4/30\n",
            "\u001b[1m30/31\u001b[0m \u001b[32m━━━━━━━━━━━━━━━━━━━\u001b[0m\u001b[37m━\u001b[0m \u001b[1m0s\u001b[0m 37ms/step - loss: 0.1220 - mae: 0.3040 - mse: 0.1220\n",
            "Epoch 3 logs: {'loss': 0.11341013014316559, 'mae': 0.28985753655433655, 'mse': 0.11341013014316559, 'val_loss': 0.1097460389137268, 'val_mae': 0.28512904047966003, 'val_mse': 0.1097460389137268}\n",
            "\n",
            "Epoch 3: Duration 1.37s | CPU 86.7% | Memory 14.1%\n",
            "\u001b[1m31/31\u001b[0m \u001b[32m━━━━━━━━━━━━━━━━━━━━\u001b[0m\u001b[37m\u001b[0m \u001b[1m1s\u001b[0m 43ms/step - loss: 0.1214 - mae: 0.3031 - mse: 0.1214 - val_loss: 0.1097 - val_mae: 0.2851 - val_mse: 0.1097\n",
            "Epoch 5/30\n",
            "\u001b[1m31/31\u001b[0m \u001b[32m━━━━━━━━━━━━━━━━━━━━\u001b[0m\u001b[37m\u001b[0m \u001b[1m0s\u001b[0m 37ms/step - loss: 0.1130 - mae: 0.2895 - mse: 0.1130\n",
            "Epoch 4 logs: {'loss': 0.11177042126655579, 'mae': 0.287524551153183, 'mse': 0.11177042126655579, 'val_loss': 0.11273995041847229, 'val_mae': 0.29147210717201233, 'val_mse': 0.11273995041847229}\n",
            "\n",
            "Epoch 4: Duration 1.33s | CPU 90.9% | Memory 14.1%\n",
            "\u001b[1m31/31\u001b[0m \u001b[32m━━━━━━━━━━━━━━━━━━━━\u001b[0m\u001b[37m\u001b[0m \u001b[1m1s\u001b[0m 42ms/step - loss: 0.1130 - mae: 0.2895 - mse: 0.1130 - val_loss: 0.1127 - val_mae: 0.2915 - val_mse: 0.1127\n",
            "Epoch 6/30\n",
            "\u001b[1m31/31\u001b[0m \u001b[32m━━━━━━━━━━━━━━━━━━━━\u001b[0m\u001b[37m\u001b[0m \u001b[1m0s\u001b[0m 61ms/step - loss: 0.1054 - mae: 0.2775 - mse: 0.1054\n",
            "Epoch 5 logs: {'loss': 0.11263249814510345, 'mae': 0.29038581252098083, 'mse': 0.11263249814510345, 'val_loss': 0.10815171152353287, 'val_mae': 0.28267642855644226, 'val_mse': 0.10815171152353287}\n",
            "\n",
            "Epoch 5: Duration 3.31s | CPU 82.8% | Memory 14.2%\n",
            "\u001b[1m31/31\u001b[0m \u001b[32m━━━━━━━━━━━━━━━━━━━━\u001b[0m\u001b[37m\u001b[0m \u001b[1m3s\u001b[0m 67ms/step - loss: 0.1056 - mae: 0.2779 - mse: 0.1056 - val_loss: 0.1082 - val_mae: 0.2827 - val_mse: 0.1082\n",
            "Epoch 7/30\n",
            "\u001b[1m31/31\u001b[0m \u001b[32m━━━━━━━━━━━━━━━━━━━━\u001b[0m\u001b[37m\u001b[0m \u001b[1m0s\u001b[0m 37ms/step - loss: 0.1179 - mae: 0.2979 - mse: 0.1179\n",
            "Epoch 6 logs: {'loss': 0.11390916258096695, 'mae': 0.2919739782810211, 'mse': 0.11390916258096695, 'val_loss': 0.10606836527585983, 'val_mae': 0.2816018760204315, 'val_mse': 0.10606836527585983}\n",
            "\n",
            "Epoch 6: Duration 1.31s | CPU 91.2% | Memory 14.2%\n",
            "\u001b[1m31/31\u001b[0m \u001b[32m━━━━━━━━━━━━━━━━━━━━\u001b[0m\u001b[37m\u001b[0m \u001b[1m1s\u001b[0m 42ms/step - loss: 0.1178 - mae: 0.2977 - mse: 0.1178 - val_loss: 0.1061 - val_mae: 0.2816 - val_mse: 0.1061\n",
            "Epoch 8/30\n",
            "\u001b[1m31/31\u001b[0m \u001b[32m━━━━━━━━━━━━━━━━━━━━\u001b[0m\u001b[37m\u001b[0m \u001b[1m0s\u001b[0m 37ms/step - loss: 0.1124 - mae: 0.2880 - mse: 0.1124\n",
            "Epoch 7 logs: {'loss': 0.11314192414283752, 'mae': 0.28625303506851196, 'mse': 0.11314192414283752, 'val_loss': 0.11004966497421265, 'val_mae': 0.28280171751976013, 'val_mse': 0.11004966497421265}\n",
            "\n",
            "Epoch 7: Duration 2.54s | CPU 47.6% | Memory 14.2%\n",
            "\u001b[1m31/31\u001b[0m \u001b[32m━━━━━━━━━━━━━━━━━━━━\u001b[0m\u001b[37m\u001b[0m \u001b[1m3s\u001b[0m 42ms/step - loss: 0.1124 - mae: 0.2880 - mse: 0.1124 - val_loss: 0.1100 - val_mae: 0.2828 - val_mse: 0.1100\n",
            "Epoch 9/30\n",
            "\u001b[1m30/31\u001b[0m \u001b[32m━━━━━━━━━━━━━━━━━━━\u001b[0m\u001b[37m━\u001b[0m \u001b[1m0s\u001b[0m 38ms/step - loss: 0.1049 - mae: 0.2727 - mse: 0.1049\n",
            "Epoch 8 logs: {'loss': 0.10896055400371552, 'mae': 0.28322896361351013, 'mse': 0.10896055400371552, 'val_loss': 0.10479498654603958, 'val_mae': 0.27254801988601685, 'val_mse': 0.10479498654603958}\n",
            "\n",
            "Epoch 8: Duration 2.55s | CPU 48.4% | Memory 14.2%\n",
            "\u001b[1m31/31\u001b[0m \u001b[32m━━━━━━━━━━━━━━━━━━━━\u001b[0m\u001b[37m\u001b[0m \u001b[1m3s\u001b[0m 42ms/step - loss: 0.1051 - mae: 0.2734 - mse: 0.1051 - val_loss: 0.1048 - val_mae: 0.2725 - val_mse: 0.1048\n",
            "Epoch 10/30\n",
            "\u001b[1m30/31\u001b[0m \u001b[32m━━━━━━━━━━━━━━━━━━━\u001b[0m\u001b[37m━\u001b[0m \u001b[1m0s\u001b[0m 38ms/step - loss: 0.1083 - mae: 0.2810 - mse: 0.1083\n",
            "Epoch 9 logs: {'loss': 0.10202041268348694, 'mae': 0.2704777121543884, 'mse': 0.10202041268348694, 'val_loss': 0.12127027660608292, 'val_mae': 0.2771737575531006, 'val_mse': 0.12127027660608292}\n",
            "\n",
            "Epoch 9: Duration 1.32s | CPU 90.5% | Memory 14.2%\n",
            "\u001b[1m31/31\u001b[0m \u001b[32m━━━━━━━━━━━━━━━━━━━━\u001b[0m\u001b[37m\u001b[0m \u001b[1m1s\u001b[0m 42ms/step - loss: 0.1079 - mae: 0.2804 - mse: 0.1079 - val_loss: 0.1213 - val_mae: 0.2772 - val_mse: 0.1213\n",
            "Epoch 11/30\n",
            "\u001b[1m31/31\u001b[0m \u001b[32m━━━━━━━━━━━━━━━━━━━━\u001b[0m\u001b[37m\u001b[0m \u001b[1m0s\u001b[0m 42ms/step - loss: 0.0880 - mae: 0.2455 - mse: 0.0880\n",
            "Epoch 10 logs: {'loss': 0.07988263666629791, 'mae': 0.22833462059497833, 'mse': 0.07988263666629791, 'val_loss': 0.05365085229277611, 'val_mae': 0.15900640189647675, 'val_mse': 0.05365085229277611}\n",
            "\n",
            "Epoch 10: Duration 2.77s | CPU 55.0% | Memory 14.3%\n",
            "\u001b[1m31/31\u001b[0m \u001b[32m━━━━━━━━━━━━━━━━━━━━\u001b[0m\u001b[37m\u001b[0m \u001b[1m3s\u001b[0m 50ms/step - loss: 0.0878 - mae: 0.2450 - mse: 0.0878 - val_loss: 0.0537 - val_mae: 0.1590 - val_mse: 0.0537\n",
            "Epoch 12/30\n",
            "\u001b[1m31/31\u001b[0m \u001b[32m━━━━━━━━━━━━━━━━━━━━\u001b[0m\u001b[37m\u001b[0m \u001b[1m0s\u001b[0m 60ms/step - loss: 0.0451 - mae: 0.1609 - mse: 0.0451\n",
            "Epoch 11 logs: {'loss': 0.045804213732481, 'mae': 0.1643882840871811, 'mse': 0.045804213732481, 'val_loss': 0.030056996271014214, 'val_mae': 0.1389121413230896, 'val_mse': 0.030056996271014214}\n",
            "\n",
            "Epoch 11: Duration 2.09s | CPU 99.5% | Memory 14.2%\n",
            "\u001b[1m31/31\u001b[0m \u001b[32m━━━━━━━━━━━━━━━━━━━━\u001b[0m\u001b[37m\u001b[0m \u001b[1m2s\u001b[0m 67ms/step - loss: 0.0451 - mae: 0.1610 - mse: 0.0451 - val_loss: 0.0301 - val_mae: 0.1389 - val_mse: 0.0301\n",
            "Epoch 13/30\n",
            "\u001b[1m31/31\u001b[0m \u001b[32m━━━━━━━━━━━━━━━━━━━━\u001b[0m\u001b[37m\u001b[0m \u001b[1m0s\u001b[0m 58ms/step - loss: 0.0368 - mae: 0.1466 - mse: 0.0368\n",
            "Epoch 12 logs: {'loss': 0.030448894947767258, 'mae': 0.12916195392608643, 'mse': 0.030448894947767258, 'val_loss': 0.019581837579607964, 'val_mae': 0.09225121140480042, 'val_mse': 0.019581837579607964}\n",
            "\n",
            "Epoch 12: Duration 2.03s | CPU 95.3% | Memory 14.0%\n",
            "\u001b[1m31/31\u001b[0m \u001b[32m━━━━━━━━━━━━━━━━━━━━\u001b[0m\u001b[37m\u001b[0m \u001b[1m2s\u001b[0m 65ms/step - loss: 0.0366 - mae: 0.1460 - mse: 0.0366 - val_loss: 0.0196 - val_mae: 0.0923 - val_mse: 0.0196\n",
            "Epoch 14/30\n",
            "\u001b[1m31/31\u001b[0m \u001b[32m━━━━━━━━━━━━━━━━━━━━\u001b[0m\u001b[37m\u001b[0m \u001b[1m0s\u001b[0m 37ms/step - loss: 0.0175 - mae: 0.0992 - mse: 0.0175\n",
            "Epoch 13 logs: {'loss': 0.015070621855556965, 'mae': 0.09162170439958572, 'mse': 0.015070621855556965, 'val_loss': 0.012501094490289688, 'val_mae': 0.07353649288415909, 'val_mse': 0.012501094490289688}\n",
            "\n",
            "Epoch 13: Duration 1.84s | CPU 66.0% | Memory 14.1%\n",
            "\u001b[1m31/31\u001b[0m \u001b[32m━━━━━━━━━━━━━━━━━━━━\u001b[0m\u001b[37m\u001b[0m \u001b[1m2s\u001b[0m 42ms/step - loss: 0.0174 - mae: 0.0990 - mse: 0.0174 - val_loss: 0.0125 - val_mae: 0.0735 - val_mse: 0.0125\n",
            "Epoch 15/30\n",
            "\u001b[1m31/31\u001b[0m \u001b[32m━━━━━━━━━━━━━━━━━━━━\u001b[0m\u001b[37m\u001b[0m \u001b[1m0s\u001b[0m 37ms/step - loss: 0.0084 - mae: 0.0704 - mse: 0.0084\n",
            "Epoch 14 logs: {'loss': 0.008208595216274261, 'mae': 0.06930539011955261, 'mse': 0.008208595216274261, 'val_loss': 0.0040247272700071335, 'val_mae': 0.04730667546391487, 'val_mse': 0.0040247272700071335}\n",
            "\n",
            "Epoch 14: Duration 1.38s | CPU 87.4% | Memory 14.1%\n",
            "\u001b[1m31/31\u001b[0m \u001b[32m━━━━━━━━━━━━━━━━━━━━\u001b[0m\u001b[37m\u001b[0m \u001b[1m1s\u001b[0m 44ms/step - loss: 0.0084 - mae: 0.0703 - mse: 0.0084 - val_loss: 0.0040 - val_mae: 0.0473 - val_mse: 0.0040\n",
            "Epoch 16/30\n",
            "\u001b[1m30/31\u001b[0m \u001b[32m━━━━━━━━━━━━━━━━━━━\u001b[0m\u001b[37m━\u001b[0m \u001b[1m0s\u001b[0m 38ms/step - loss: 0.0054 - mae: 0.0569 - mse: 0.0054\n",
            "Epoch 15 logs: {'loss': 0.00562973041087389, 'mae': 0.05820081755518913, 'mse': 0.00562973041087389, 'val_loss': 0.003668969264253974, 'val_mae': 0.04006810486316681, 'val_mse': 0.003668969264253974}\n",
            "\n",
            "Epoch 15: Duration 2.49s | CPU 49.4% | Memory 14.1%\n",
            "\u001b[1m31/31\u001b[0m \u001b[32m━━━━━━━━━━━━━━━━━━━━\u001b[0m\u001b[37m\u001b[0m \u001b[1m2s\u001b[0m 43ms/step - loss: 0.0055 - mae: 0.0570 - mse: 0.0055 - val_loss: 0.0037 - val_mae: 0.0401 - val_mse: 0.0037\n",
            "Epoch 17/30\n",
            "\u001b[1m31/31\u001b[0m \u001b[32m━━━━━━━━━━━━━━━━━━━━\u001b[0m\u001b[37m\u001b[0m \u001b[1m0s\u001b[0m 38ms/step - loss: 0.0053 - mae: 0.0544 - mse: 0.0053\n",
            "Epoch 16 logs: {'loss': 0.005195721983909607, 'mae': 0.05438048392534256, 'mse': 0.005195721983909607, 'val_loss': 0.00612335279583931, 'val_mae': 0.062954843044281, 'val_mse': 0.00612335279583931}\n",
            "\n",
            "Epoch 16: Duration 2.60s | CPU 48.0% | Memory 14.1%\n",
            "\u001b[1m31/31\u001b[0m \u001b[32m━━━━━━━━━━━━━━━━━━━━\u001b[0m\u001b[37m\u001b[0m \u001b[1m3s\u001b[0m 45ms/step - loss: 0.0053 - mae: 0.0544 - mse: 0.0053 - val_loss: 0.0061 - val_mae: 0.0630 - val_mse: 0.0061\n",
            "Epoch 18/30\n",
            "\u001b[1m30/31\u001b[0m \u001b[32m━━━━━━━━━━━━━━━━━━━\u001b[0m\u001b[37m━\u001b[0m \u001b[1m0s\u001b[0m 38ms/step - loss: 0.0045 - mae: 0.0490 - mse: 0.0045\n",
            "Epoch 17 logs: {'loss': 0.004484264180064201, 'mae': 0.049159176647663116, 'mse': 0.004484264180064201, 'val_loss': 0.003749227849766612, 'val_mae': 0.036846306174993515, 'val_mse': 0.003749227849766612}\n",
            "\n",
            "Epoch 17: Duration 1.38s | CPU 92.3% | Memory 14.2%\n",
            "\u001b[1m31/31\u001b[0m \u001b[32m━━━━━━━━━━━━━━━━━━━━\u001b[0m\u001b[37m\u001b[0m \u001b[1m1s\u001b[0m 44ms/step - loss: 0.0045 - mae: 0.0490 - mse: 0.0045 - val_loss: 0.0037 - val_mae: 0.0368 - val_mse: 0.0037\n",
            "Epoch 19/30\n",
            "\u001b[1m30/31\u001b[0m \u001b[32m━━━━━━━━━━━━━━━━━━━\u001b[0m\u001b[37m━\u001b[0m \u001b[1m0s\u001b[0m 63ms/step - loss: 0.0046 - mae: 0.0504 - mse: 0.0046\n",
            "Epoch 18 logs: {'loss': 0.004256702493876219, 'mae': 0.049350555986166, 'mse': 0.004256702493876219, 'val_loss': 0.005994478706270456, 'val_mae': 0.06160205230116844, 'val_mse': 0.005994478706270456}\n",
            "\n",
            "Epoch 18: Duration 3.30s | CPU 81.4% | Memory 14.2%\n",
            "\u001b[1m31/31\u001b[0m \u001b[32m━━━━━━━━━━━━━━━━━━━━\u001b[0m\u001b[37m\u001b[0m \u001b[1m3s\u001b[0m 69ms/step - loss: 0.0046 - mae: 0.0503 - mse: 0.0046 - val_loss: 0.0060 - val_mae: 0.0616 - val_mse: 0.0060\n",
            "Epoch 20/30\n",
            "\u001b[1m30/31\u001b[0m \u001b[32m━━━━━━━━━━━━━━━━━━━\u001b[0m\u001b[37m━\u001b[0m \u001b[1m0s\u001b[0m 38ms/step - loss: 0.0044 - mae: 0.0507 - mse: 0.0044\n",
            "Epoch 19 logs: {'loss': 0.004109400324523449, 'mae': 0.048820167779922485, 'mse': 0.004109400324523449, 'val_loss': 0.002708549378439784, 'val_mae': 0.038222793489694595, 'val_mse': 0.002708549378439784}\n",
            "\n",
            "Epoch 19: Duration 1.32s | CPU 90.2% | Memory 14.2%\n",
            "\u001b[1m31/31\u001b[0m \u001b[32m━━━━━━━━━━━━━━━━━━━━\u001b[0m\u001b[37m\u001b[0m \u001b[1m1s\u001b[0m 42ms/step - loss: 0.0044 - mae: 0.0506 - mse: 0.0044 - val_loss: 0.0027 - val_mae: 0.0382 - val_mse: 0.0027\n",
            "Epoch 21/30\n",
            "\u001b[1m31/31\u001b[0m \u001b[32m━━━━━━━━━━━━━━━━━━━━\u001b[0m\u001b[37m\u001b[0m \u001b[1m0s\u001b[0m 37ms/step - loss: 0.0035 - mae: 0.0436 - mse: 0.0035\n",
            "Epoch 20 logs: {'loss': 0.003888376522809267, 'mae': 0.046451129019260406, 'mse': 0.003888376522809267, 'val_loss': 0.0027382588014006615, 'val_mae': 0.04273442178964615, 'val_mse': 0.0027382588014006615}\n",
            "\n",
            "Epoch 20: Duration 2.59s | CPU 48.0% | Memory 14.2%\n",
            "\u001b[1m31/31\u001b[0m \u001b[32m━━━━━━━━━━━━━━━━━━━━\u001b[0m\u001b[37m\u001b[0m \u001b[1m3s\u001b[0m 44ms/step - loss: 0.0036 - mae: 0.0437 - mse: 0.0036 - val_loss: 0.0027 - val_mae: 0.0427 - val_mse: 0.0027\n",
            "Epoch 22/30\n",
            "\u001b[1m30/31\u001b[0m \u001b[32m━━━━━━━━━━━━━━━━━━━\u001b[0m\u001b[37m━\u001b[0m \u001b[1m0s\u001b[0m 37ms/step - loss: 0.0032 - mae: 0.0428 - mse: 0.0032\n",
            "Epoch 21 logs: {'loss': 0.0031198642682284117, 'mae': 0.0418042354285717, 'mse': 0.0031198642682284117, 'val_loss': 0.003033984452486038, 'val_mae': 0.03405965119600296, 'val_mse': 0.003033984452486038}\n",
            "\n",
            "Epoch 21: Duration 1.36s | CPU 86.9% | Memory 14.2%\n",
            "\u001b[1m31/31\u001b[0m \u001b[32m━━━━━━━━━━━━━━━━━━━━\u001b[0m\u001b[37m\u001b[0m \u001b[1m1s\u001b[0m 43ms/step - loss: 0.0032 - mae: 0.0428 - mse: 0.0032 - val_loss: 0.0030 - val_mae: 0.0341 - val_mse: 0.0030\n",
            "Epoch 23/30\n",
            "\u001b[1m31/31\u001b[0m \u001b[32m━━━━━━━━━━━━━━━━━━━━\u001b[0m\u001b[37m\u001b[0m \u001b[1m0s\u001b[0m 37ms/step - loss: 0.0034 - mae: 0.0441 - mse: 0.0034\n",
            "Epoch 22 logs: {'loss': 0.002874915488064289, 'mae': 0.04049581289291382, 'mse': 0.002874915488064289, 'val_loss': 0.0015123843913897872, 'val_mae': 0.02779395692050457, 'val_mse': 0.0015123843913897872}\n",
            "\n",
            "Epoch 22: Duration 1.37s | CPU 89.0% | Memory 14.2%\n",
            "\u001b[1m31/31\u001b[0m \u001b[32m━━━━━━━━━━━━━━━━━━━━\u001b[0m\u001b[37m\u001b[0m \u001b[1m1s\u001b[0m 44ms/step - loss: 0.0034 - mae: 0.0440 - mse: 0.0034 - val_loss: 0.0015 - val_mae: 0.0278 - val_mse: 0.0015\n",
            "Epoch 24/30\n",
            "\u001b[1m30/31\u001b[0m \u001b[32m━━━━━━━━━━━━━━━━━━━\u001b[0m\u001b[37m━\u001b[0m \u001b[1m0s\u001b[0m 38ms/step - loss: 0.0028 - mae: 0.0393 - mse: 0.0028\n",
            "Epoch 23 logs: {'loss': 0.0025778678245842457, 'mae': 0.038681548088788986, 'mse': 0.0025778678245842457, 'val_loss': 0.0028146652039140463, 'val_mae': 0.04030909761786461, 'val_mse': 0.0028146652039140463}\n",
            "\n",
            "Epoch 23: Duration 2.49s | CPU 49.5% | Memory 14.2%\n",
            "\u001b[1m31/31\u001b[0m \u001b[32m━━━━━━━━━━━━━━━━━━━━\u001b[0m\u001b[37m\u001b[0m \u001b[1m2s\u001b[0m 42ms/step - loss: 0.0028 - mae: 0.0393 - mse: 0.0028 - val_loss: 0.0028 - val_mae: 0.0403 - val_mse: 0.0028\n",
            "Epoch 25/30\n",
            "\u001b[1m31/31\u001b[0m \u001b[32m━━━━━━━━━━━━━━━━━━━━\u001b[0m\u001b[37m\u001b[0m \u001b[1m0s\u001b[0m 50ms/step - loss: 0.0032 - mae: 0.0427 - mse: 0.0032\n",
            "Epoch 24 logs: {'loss': 0.0027722446247935295, 'mae': 0.040297895669937134, 'mse': 0.0027722446247935295, 'val_loss': 0.0013960276264697313, 'val_mae': 0.02869935892522335, 'val_mse': 0.0013960276264697313}\n",
            "\n",
            "Epoch 24: Duration 1.83s | CPU 97.3% | Memory 14.2%\n",
            "\u001b[1m31/31\u001b[0m \u001b[32m━━━━━━━━━━━━━━━━━━━━\u001b[0m\u001b[37m\u001b[0m \u001b[1m2s\u001b[0m 59ms/step - loss: 0.0032 - mae: 0.0427 - mse: 0.0032 - val_loss: 0.0014 - val_mae: 0.0287 - val_mse: 0.0014\n",
            "Epoch 26/30\n",
            "\u001b[1m31/31\u001b[0m \u001b[32m━━━━━━━━━━━━━━━━━━━━\u001b[0m\u001b[37m\u001b[0m \u001b[1m0s\u001b[0m 61ms/step - loss: 0.0024 - mae: 0.0362 - mse: 0.0024\n",
            "Epoch 25 logs: {'loss': 0.0024066083133220673, 'mae': 0.036542344838380814, 'mse': 0.0024066083133220673, 'val_loss': 0.002356970449909568, 'val_mae': 0.03832387924194336, 'val_mse': 0.002356970449909568}\n",
            "\n",
            "Epoch 25: Duration 2.76s | CPU 86.3% | Memory 14.2%\n",
            "\u001b[1m31/31\u001b[0m \u001b[32m━━━━━━━━━━━━━━━━━━━━\u001b[0m\u001b[37m\u001b[0m \u001b[1m3s\u001b[0m 66ms/step - loss: 0.0024 - mae: 0.0362 - mse: 0.0024 - val_loss: 0.0024 - val_mae: 0.0383 - val_mse: 0.0024\n",
            "Epoch 27/30\n",
            "\u001b[1m30/31\u001b[0m \u001b[32m━━━━━━━━━━━━━━━━━━━\u001b[0m\u001b[37m━\u001b[0m \u001b[1m0s\u001b[0m 38ms/step - loss: 0.0021 - mae: 0.0352 - mse: 0.0021\n",
            "Epoch 26 logs: {'loss': 0.0022457994055002928, 'mae': 0.03537096828222275, 'mse': 0.0022457994055002928, 'val_loss': 0.00186981784645468, 'val_mae': 0.031876303255558014, 'val_mse': 0.00186981784645468}\n",
            "\n",
            "Epoch 26: Duration 1.89s | CPU 65.8% | Memory 14.2%\n",
            "\u001b[1m31/31\u001b[0m \u001b[32m━━━━━━━━━━━━━━━━━━━━\u001b[0m\u001b[37m\u001b[0m \u001b[1m2s\u001b[0m 45ms/step - loss: 0.0021 - mae: 0.0352 - mse: 0.0021 - val_loss: 0.0019 - val_mae: 0.0319 - val_mse: 0.0019\n",
            "Epoch 28/30\n",
            "\u001b[1m31/31\u001b[0m \u001b[32m━━━━━━━━━━━━━━━━━━━━\u001b[0m\u001b[37m\u001b[0m \u001b[1m0s\u001b[0m 38ms/step - loss: 0.0022 - mae: 0.0364 - mse: 0.0022\n",
            "Epoch 27 logs: {'loss': 0.0021664537489414215, 'mae': 0.03523603826761246, 'mse': 0.0021664537489414215, 'val_loss': 0.003108054166659713, 'val_mae': 0.04556410759687424, 'val_mse': 0.003108054166659713}\n",
            "\n",
            "Epoch 27: Duration 1.33s | CPU 90.9% | Memory 14.2%\n",
            "\u001b[1m31/31\u001b[0m \u001b[32m━━━━━━━━━━━━━━━━━━━━\u001b[0m\u001b[37m\u001b[0m \u001b[1m1s\u001b[0m 42ms/step - loss: 0.0022 - mae: 0.0364 - mse: 0.0022 - val_loss: 0.0031 - val_mae: 0.0456 - val_mse: 0.0031\n",
            "Epoch 29/30\n",
            "\u001b[1m31/31\u001b[0m \u001b[32m━━━━━━━━━━━━━━━━━━━━\u001b[0m\u001b[37m\u001b[0m \u001b[1m0s\u001b[0m 38ms/step - loss: 0.0021 - mae: 0.0356 - mse: 0.0021\n",
            "Epoch 28 logs: {'loss': 0.002167575992643833, 'mae': 0.03595506772398949, 'mse': 0.002167575992643833, 'val_loss': 0.003308475250378251, 'val_mae': 0.043377723544836044, 'val_mse': 0.003308475250378251}\n",
            "\n",
            "Epoch 28: Duration 2.55s | CPU 49.5% | Memory 14.2%\n",
            "\u001b[1m31/31\u001b[0m \u001b[32m━━━━━━━━━━━━━━━━━━━━\u001b[0m\u001b[37m\u001b[0m \u001b[1m3s\u001b[0m 43ms/step - loss: 0.0021 - mae: 0.0356 - mse: 0.0021 - val_loss: 0.0033 - val_mae: 0.0434 - val_mse: 0.0033\n",
            "Epoch 30/30\n",
            "\u001b[1m30/31\u001b[0m \u001b[32m━━━━━━━━━━━━━━━━━━━\u001b[0m\u001b[37m━\u001b[0m \u001b[1m0s\u001b[0m 38ms/step - loss: 0.0019 - mae: 0.0318 - mse: 0.0019\n",
            "Epoch 29 logs: {'loss': 0.0020844056271016598, 'mae': 0.03325961157679558, 'mse': 0.0020844056271016598, 'val_loss': 0.002933610463514924, 'val_mae': 0.03704189509153366, 'val_mse': 0.002933610463514924}\n",
            "\n",
            "Epoch 29: Duration 2.59s | CPU 48.2% | Memory 14.2%\n",
            "\u001b[1m31/31\u001b[0m \u001b[32m━━━━━━━━━━━━━━━━━━━━\u001b[0m\u001b[37m\u001b[0m \u001b[1m3s\u001b[0m 44ms/step - loss: 0.0019 - mae: 0.0319 - mse: 0.0019 - val_loss: 0.0029 - val_mae: 0.0370 - val_mse: 0.0029\n"
          ]
        }
      ]
    },
    {
      "cell_type": "markdown",
      "source": [
        "Model evaluation"
      ],
      "metadata": {
        "id": "jvb-OHgwWGcK"
      }
    },
    {
      "cell_type": "code",
      "source": [
        "y_pred = model.predict(X_test)\n",
        "\n",
        "plt.plot(np.arange(len(y_test)), y_test, label=\"True\")\n",
        "plt.plot(np.arange(len(y_pred)), y_pred, label=\"Predicted\")\n",
        "plt.legend()\n",
        "plt.title(\"LSTM Prediction vs True\")\n",
        "\n",
        "plt.savefig(\"prediction_plot.png\")"
      ],
      "metadata": {
        "colab": {
          "base_uri": "https://localhost:8080/",
          "height": 470
        },
        "id": "FMD-kJUnv4fH",
        "outputId": "d4a322a8-8e17-4f1a-81f5-32c35849d0ee"
      },
      "execution_count": 14,
      "outputs": [
        {
          "output_type": "stream",
          "name": "stdout",
          "text": [
            "\u001b[1m4/4\u001b[0m \u001b[32m━━━━━━━━━━━━━━━━━━━━\u001b[0m\u001b[37m\u001b[0m \u001b[1m2s\u001b[0m 326ms/step\n"
          ]
        },
        {
          "output_type": "display_data",
          "data": {
            "text/plain": [
              "<Figure size 640x480 with 1 Axes>"
            ],
            "image/png": "[encoded data removed]"
          },
          "metadata": {}
        }
      ]
    },
    {
      "cell_type": "markdown",
      "source": [
        "Future prediction function"
      ],
      "metadata": {
        "id": "f3J_j_KrWRv-"
      }
    },
    {
      "cell_type": "code",
      "source": [
        "def predict_future(date):\n",
        "    date = pd.to_datetime(date)\n",
        "    day_of_week = date.weekday()\n",
        "    is_holiday_holidays = int(date in us_holidays)\n",
        "    is_holiday_workalendar = int(cal.is_holiday(date))\n",
        "\n",
        "    last_seq = df[feature_cols].values[-seq_length:]  # ensure the shape is correct\n",
        "\n",
        "    # ensure extra_features has same number of columns as features\n",
        "    extra_features = np.zeros(len(feature_cols))  # replace null values w/ zeros\n",
        "    extra_features[-3:] = [day_of_week / 6.0, is_holiday_holidays, is_holiday_workalendar]  # normalization\n",
        "\n",
        "    # stack last_seq w/ extra_features\n",
        "    last_seq = np.vstack([last_seq[1:], extra_features])  # (seq_length, num_features)\n",
        "\n",
        "    # reshape sequence to (1, seq_length, num_features)\n",
        "    last_seq = np.expand_dims(last_seq, axis=0)  # shape (1, seq_length, num_features)\n",
        "\n",
        "    # ensure input shape matches model's expected input (99 features)\n",
        "    last_seq = last_seq[:, :, :99]  # trim/select first 99 features\n",
        "\n",
        "    # prediction\n",
        "    prediction = model.predict(last_seq)\n",
        "\n",
        "    # check inverse transformation\n",
        "    predicted_players_scaled = np.array([[prediction[0][0]]])  # shape should be (1, 1)\n",
        "\n",
        "    predicted_players = scaler_players.inverse_transform(predicted_players_scaled)[0][0]\n",
        "\n",
        "    print(f\"Predicted total players (scaled): {prediction[0][0]}\")\n",
        "    print(f\"Predicted total players after inverse transform: {predicted_players}\")\n",
        "\n",
        "    # debugging\n",
        "    print(\"Scaler Min:\", scaler_players.data_min_)\n",
        "    print(\"Scaler Max:\", scaler_players.data_max_)\n",
        "\n",
        "    # manual computation of inverse transformation\n",
        "    min_val = scaler_players.data_min_[0]  # min value used in training\n",
        "    max_val = scaler_players.data_max_[0]  # max value used in training\n",
        "    predicted_manual = min_val + (max_val - min_val) * prediction[0][0]\n",
        "\n",
        "    print(\"Manually-calculated inverse transform:\", predicted_manual)\n",
        "\n",
        "    # extra debugging\n",
        "    print(f\"Day of week (normalized): {day_of_week / 6.0}\")\n",
        "    print(f\"Holiday feature 1: {is_holiday_holidays}\")\n",
        "    print(f\"Holiday feature 2: {is_holiday_workalendar}\")\n",
        "\n",
        "    return predicted_players\n",
        "\n",
        "# test w/ future date\n",
        "future_date = \"2025-06-21\"\n",
        "predict_future(future_date)"
      ],
      "metadata": {
        "colab": {
          "base_uri": "https://localhost:8080/"
        },
        "id": "MoDI906gwWvF",
        "outputId": "ff286763-547e-4142-d45d-084c224314b9"
      },
      "execution_count": 15,
      "outputs": [
        {
          "output_type": "stream",
          "name": "stdout",
          "text": [
            "\u001b[1m1/1\u001b[0m \u001b[32m━━━━━━━━━━━━━━━━━━━━\u001b[0m\u001b[37m\u001b[0m \u001b[1m0s\u001b[0m 45ms/step\n",
            "Predicted total players (scaled): 0.4354063868522644\n",
            "Predicted total players after inverse transform: 5864379.5\n",
            "Scaler Min: [4719905.]\n",
            "Scaler Max: [7348425.]\n",
            "Manually-calculated inverse transform: 5864379.395968914\n",
            "Day of week (normalized): 0.8333333333333334\n",
            "Holiday feature 1: 0\n",
            "Holiday feature 2: 0\n"
          ]
        },
        {
          "output_type": "execute_result",
          "data": {
            "text/plain": [
              "np.float32(5864379.5)"
            ]
          },
          "metadata": {},
          "execution_count": 15
        }
      ]
    },
    {
      "cell_type": "markdown",
      "source": [
        "Launch MLflow UI locally on port 5000"
      ],
      "metadata": {
        "id": "n4IUU-_2XVHe"
      }
    },
    {
      "cell_type": "code",
      "source": [
        "! pkill -f \"mlflow ui\"\n",
        "\n",
        "get_ipython().system_raw(\"mlflow ui --port 5000 &\") # run tracking UI in the background"
      ],
      "metadata": {
        "id": "UrFzIDgaSHql"
      },
      "execution_count": 23,
      "outputs": []
    },
    {
      "cell_type": "markdown",
      "source": [
        "Expose using ngrok"
      ],
      "metadata": {
        "id": "nztX1-wTXYHl"
      }
    },
    {
      "cell_type": "code",
      "source": [
        "ngrok.set_auth_token(NGROK_AUTH_TOKEN)\n",
        "\n",
        "mlflow_url = ngrok.connect(5000, proto=\"http\")\n",
        "\n",
        "print(f\" * Ngrok tunnel: {mlflow_url}\")"
      ],
      "metadata": {
        "colab": {
          "base_uri": "https://localhost:8080/"
        },
        "id": "7PNANlnlSJ5P",
        "outputId": "b2c62e1a-eb2e-4e3d-994e-2c8072004ac0"
      },
      "execution_count": 24,
      "outputs": [
        {
          "output_type": "stream",
          "name": "stdout",
          "text": [
            " * Ngrok tunnel: NgrokTunnel: \"https://64a6-35-243-176-77.ngrok-free.app\" -> \"http://localhost:5000\"\n"
          ]
        }
      ]
    },
    {
      "cell_type": "markdown",
      "source": [
        "Save trained model"
      ],
      "metadata": {
        "id": "Tg65q0vbXiiT"
      }
    },
    {
      "cell_type": "code",
      "source": [
        "model.export(\"player_count_model\")"
      ],
      "metadata": {
        "id": "ENqi2_XMAbtt",
        "colab": {
          "base_uri": "https://localhost:8080/"
        },
        "outputId": "f33e3d0a-f0e4-4d64-fe36-44d8fc73f602"
      },
      "execution_count": 22,
      "outputs": [
        {
          "output_type": "stream",
          "name": "stdout",
          "text": [
            "Saved artifact at 'player_count_model'. The following endpoints are available:\n",
            "\n",
            "* Endpoint 'serve'\n",
            "  args_0 (POSITIONAL_ONLY): TensorSpec(shape=(None, 30, 99), dtype=tf.float32, name='keras_tensor')\n",
            "Output Type:\n",
            "  TensorSpec(shape=(None, 1), dtype=tf.float32, name=None)\n",
            "Captures:\n",
            "  134436259900176: TensorSpec(shape=(), dtype=tf.resource, name=None)\n",
            "  134436259902288: TensorSpec(shape=(), dtype=tf.resource, name=None)\n",
            "  134436259902096: TensorSpec(shape=(), dtype=tf.resource, name=None)\n",
            "  134436259899792: TensorSpec(shape=(), dtype=tf.resource, name=None)\n",
            "  134436259901328: TensorSpec(shape=(), dtype=tf.resource, name=None)\n",
            "  134436259904784: TensorSpec(shape=(), dtype=tf.resource, name=None)\n",
            "  134436259904016: TensorSpec(shape=(), dtype=tf.resource, name=None)\n",
            "  134436259905168: TensorSpec(shape=(), dtype=tf.resource, name=None)\n",
            "  134436259899408: TensorSpec(shape=(), dtype=tf.resource, name=None)\n",
            "  134436259897872: TensorSpec(shape=(), dtype=tf.resource, name=None)\n"
          ]
        }
      ]
    },
    {
      "cell_type": "code",
      "source": [
        "upload_folder (\n",
        "    repo_id=\"reemchaaban/player-count-prediction\",\n",
        "    folder_path=\"player_count_model\",\n",
        "    path_in_repo=\"player_count_model\",\n",
        "    commit_message=\"Initial commit from Google Colab\"\n",
        ")\n"
      ],
      "metadata": {
        "colab": {
          "base_uri": "https://localhost:8080/",
          "height": 236,
          "referenced_widgets": [
            "2869f2de75c94f739b56af02cb0913f8",
            "d9795472216340f094c4fa7e49034775",
            "4bfcdc5824a64ec4a9ab40833479f738",
            "f60bdedea96444fa9796b8efa9afa96d",
            "00196996e08648ca84e119cd8173f7f2",
            "79d4181ae6cb456b967839719051b11b",
            "a18a1291162746a390c92fa6d23af680",
            "ee199c723b4e479fb9cedd857314e8e2",
            "0d1711b022cf4ca2b9c646bf9b5fdc14",
            "97c69bcc384840839bbd731ff5654866",
            "84e6fe35cfe6448ba744bae8758135e0",
            "6354fa2a049c4f34bc0a423cb9421c1b",
            "4765e6dd59e64c8995abcbe46f7e9187",
            "d2c838dd12544e33b7b9e6ca3fd5dc1a",
            "ed79bdbf0594491a845e53600b4aca4b",
            "ed11f28eef904067a6dc3ac2f6b4c071",
            "85324456dd1b4ec1985392b7259df0fd",
            "9b55a0f32d1e46ea9f4623364128d0a0",
            "35b5e7c2c3324f258dee160bfa993d4e",
            "353c7572d2b342eeb1e3866c92be7878",
            "3b9ebe8a0e554ac4ba785bf144ba6986",
            "24c326d548ea4727816a993b9e5af387",
            "1a59c2c0255b49b4a7772a1a7da8a580",
            "9b547ab768b84e63acca2d2e1605d958",
            "69b8a3a476e64e7287aebdcf90266365",
            "2e18ee292cd7415194b66ecd2a84f242",
            "56fbebe81b224b289d819a7873671fbd",
            "2ac35a6a6f1b43f1ae3481ef7d3d9b99",
            "592dae030c8f41a5a322548a4506d470",
            "f5ea91d5d34c476292fbfe42d5265853",
            "4b4a58f81dc64d2e8220f8a39cae2190",
            "a7dee90335b247479f289657e9042123",
            "e7a02549eadc4fac9ab09e1eeebd0d50",
            "48ebdb094bde4eddbcd9fe9fd2ab5615",
            "fac42257e1574b11957c3fabd5e12b01",
            "39956f66612a43ea8410818df1bb0c2d",
            "9488ef73b994487bb81ac96240a4aa86",
            "446fdecca5ba47bda25c830f75551c16",
            "f3a0712b11884f34b70536cb58afd09a",
            "edd8058fc2534882bba37de28e8a2b48",
            "a532a494922749dd88c84a5569ba9d4c",
            "5e24af6222954c84a5c59fc702ab3fce",
            "9576cbbb3cc641fba765275385d34365",
            "56feecaba5c946c8ba11ee144bc7aaab"
          ]
        },
        "id": "NND1uGm1CE37",
        "outputId": "cd7a1ef2-5a6f-4923-c856-f11b27450f85"
      },
      "execution_count": 28,
      "outputs": [
        {
          "output_type": "display_data",
          "data": {
            "text/plain": [
              "Upload 3 LFS files:   0%|          | 0/3 [00:00<?, ?it/s]"
            ],
            "application/vnd.jupyter.widget-view+json": {
              "version_major": 2,
              "version_minor": 0,
              "model_id": "2869f2de75c94f739b56af02cb0913f8"
            }
          },
          "metadata": {}
        },
        {
          "output_type": "display_data",
          "data": {
            "text/plain": [
              "fingerprint.pb:   0%|          | 0.00/55.0 [00:00<?, ?B/s]"
            ],
            "application/vnd.jupyter.widget-view+json": {
              "version_major": 2,
              "version_minor": 0,
              "model_id": "6354fa2a049c4f34bc0a423cb9421c1b"
            }
          },
          "metadata": {}
        },
        {
          "output_type": "display_data",
          "data": {
            "text/plain": [
              "saved_model.pb:   0%|          | 0.00/126k [00:00<?, ?B/s]"
            ],
            "application/vnd.jupyter.widget-view+json": {
              "version_major": 2,
              "version_minor": 0,
              "model_id": "1a59c2c0255b49b4a7772a1a7da8a580"
            }
          },
          "metadata": {}
        },
        {
          "output_type": "display_data",
          "data": {
            "text/plain": [
              "variables.data-00000-of-00001:   0%|          | 0.00/1.33M [00:00<?, ?B/s]"
            ],
            "application/vnd.jupyter.widget-view+json": {
              "version_major": 2,
              "version_minor": 0,
              "model_id": "48ebdb094bde4eddbcd9fe9fd2ab5615"
            }
          },
          "metadata": {}
        },
        {
          "output_type": "execute_result",
          "data": {
            "text/plain": [
              "CommitInfo(commit_url='https://huggingface.co/reemchaaban/player-count-prediction/commit/75ecf44044b171009a3cf80073d33845d4d34fcd', commit_message='Initial commit from Google Colab', commit_description='', oid='75ecf44044b171009a3cf80073d33845d4d34fcd', pr_url=None, repo_url=RepoUrl('https://huggingface.co/reemchaaban/player-count-prediction', endpoint='https://huggingface.co', repo_type='model', repo_id='reemchaaban/player-count-prediction'), pr_revision=None, pr_num=None)"
            ],
            "application/vnd.google.colaboratory.intrinsic+json": {
              "type": "string"
            }
          },
          "metadata": {},
          "execution_count": 28
        }
      ]
    },
    {
      "cell_type": "markdown",
      "source": [
        "Automating update of model & scaler files in IEP1 folder after retraining"
      ],
      "metadata": {
        "id": "-plgqDT9XnBq"
      }
    },
    {
      "cell_type": "code",
      "source": [
        "GITHUB_USERNAME = \"reemchaaban\"\n",
        "GITHUB_EMAIL = \"reem.chaabann@gmail.com\"\n",
        "REPO_NAME = \"game_system\"\n",
        "BRANCH = \"main\"\n",
        "TARGET_SUBDIR = \"IEP1\"\n",
        "\n",
        "token = userdata.get('GITHUB_PAT')\n",
        "\n",
        "!git config --global user.email \"{GITHUB_EMAIL}\"\n",
        "!git config --global user.name \"{GITHUB_USERNAME}\"\n",
        "\n",
        "!rm -rf {REPO_NAME}\n",
        "!git clone https://{token}@github.com/{GITHUB_USERNAME}/{REPO_NAME}.git\n",
        "\n",
        "!rm -rf {REPO_NAME}/{TARGET_SUBDIR}/model\n",
        "!mkdir -p {REPO_NAME}/{TARGET_SUBDIR}/model\n",
        "!ls\n",
        "!cp player_count_model/fingerprint.pb {REPO_NAME}/{TARGET_SUBDIR}/model/\n",
        "!cp player_count_model/saved_model.pb {REPO_NAME}/{TARGET_SUBDIR}/model/\n",
        "!cp -r player_count_model/variables {REPO_NAME}/{TARGET_SUBDIR}/model/\n",
        "\n",
        "!cp scaler_players.pkl {REPO_NAME}/{TARGET_SUBDIR}/utils/scaler_players.pkl\n",
        "\n",
        "%cd {REPO_NAME}\n",
        "!git add .\n",
        "!git commit -m \"Update IEP1 model and scaler from Colab\"\n",
        "!git push origin {BRANCH}\n",
        "%cd .."
      ],
      "metadata": {
        "id": "1CroXY2bhCRa",
        "colab": {
          "base_uri": "https://localhost:8080/"
        },
        "outputId": "d5374a98-8891-435c-964c-c80aa0f39ecd"
      },
      "execution_count": 29,
      "outputs": [
        {
          "output_type": "stream",
          "name": "stdout",
          "text": [
            "Cloning into 'game_system'...\n",
            "remote: Enumerating objects: 172, done.\u001b[K\n",
            "remote: Counting objects: 100% (58/58), done.\u001b[K\n",
            "remote: Compressing objects: 100% (52/52), done.\u001b[K\n",
            "remote: Total 172 (delta 24), reused 20 (delta 6), pack-reused 114 (from 1)\u001b[K\n",
            "Receiving objects: 100% (172/172), 20.97 MiB | 8.88 MiB/s, done.\n",
            "Resolving deltas: 100% (61/61), done.\n",
            "drive\t     mlruns\t\t prediction_plot.png  scaler_players.pkl\n",
            "game_system  player_count_model  sample_data\n",
            "/content/game_system\n",
            "[main 9c8fa26] Update IEP1 model and scaler from Colab\n",
            " 4 files changed, 1 insertion(+), 1 deletion(-)\n",
            " rewrite IEP1/model/variables/variables.data-00000-of-00001 (91%)\n",
            " rewrite IEP1/model/variables/variables.index (98%)\n",
            "Enumerating objects: 17, done.\n",
            "Counting objects: 100% (17/17), done.\n",
            "Delta compression using up to 2 threads\n",
            "Compressing objects: 100% (9/9), done.\n",
            "Writing objects: 100% (9/9), 1.18 MiB | 2.60 MiB/s, done.\n",
            "Total 9 (delta 4), reused 0 (delta 0), pack-reused 0\n",
            "remote: Resolving deltas: 100% (4/4), completed with 4 local objects.\u001b[K\n",
            "To https://github.com/reemchaaban/game_system.git\n",
            "   6d90673..9c8fa26  main -> main\n",
            "/content\n"
          ]
        }
      ]
    }
  ]
}

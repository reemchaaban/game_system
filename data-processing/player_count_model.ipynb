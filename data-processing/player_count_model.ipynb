{
  "nbformat": 4,
  "nbformat_minor": 0,
  "metadata": {
    "colab": {
      "provenance": [],
      "include_colab_link": true
    },
    "kernelspec": {
      "name": "python3",
      "display_name": "Python 3"
    },
    "language_info": {
      "name": "python"
    },
    "widgets": {
      "application/vnd.jupyter.widget-state+json": {
        "fb2a20915b3c4372b8cd56e0207d2ca5": {
          "model_module": "@jupyter-widgets/controls",
          "model_name": "HBoxModel",
          "model_module_version": "1.5.0",
          "state": {
            "_dom_classes": [],
            "_model_module": "@jupyter-widgets/controls",
            "_model_module_version": "1.5.0",
            "_model_name": "HBoxModel",
            "_view_count": null,
            "_view_module": "@jupyter-widgets/controls",
            "_view_module_version": "1.5.0",
            "_view_name": "HBoxView",
            "box_style": "",
            "children": [
              "IPY_MODEL_8c530f359cc9418c976c70508f824916",
              "IPY_MODEL_9038a9f7d96d468497ac3d70c43ae94e",
              "IPY_MODEL_28278947b30c47089cc709cd42161dbc"
            ],
            "layout": "IPY_MODEL_a33bed1e46404c5c93a9035f514e207c"
          }
        },
        "8c530f359cc9418c976c70508f824916": {
          "model_module": "@jupyter-widgets/controls",
          "model_name": "HTMLModel",
          "model_module_version": "1.5.0",
          "state": {
            "_dom_classes": [],
            "_model_module": "@jupyter-widgets/controls",
            "_model_module_version": "1.5.0",
            "_model_name": "HTMLModel",
            "_view_count": null,
            "_view_module": "@jupyter-widgets/controls",
            "_view_module_version": "1.5.0",
            "_view_name": "HTMLView",
            "description": "",
            "description_tooltip": null,
            "layout": "IPY_MODEL_4306179c2b6640018a482545795b81dd",
            "placeholder": "​",
            "style": "IPY_MODEL_5b53a13a94814aff8ec176630d66406c",
            "value": "fingerprint.pb: 100%"
          }
        },
        "9038a9f7d96d468497ac3d70c43ae94e": {
          "model_module": "@jupyter-widgets/controls",
          "model_name": "FloatProgressModel",
          "model_module_version": "1.5.0",
          "state": {
            "_dom_classes": [],
            "_model_module": "@jupyter-widgets/controls",
            "_model_module_version": "1.5.0",
            "_model_name": "FloatProgressModel",
            "_view_count": null,
            "_view_module": "@jupyter-widgets/controls",
            "_view_module_version": "1.5.0",
            "_view_name": "ProgressView",
            "bar_style": "success",
            "description": "",
            "description_tooltip": null,
            "layout": "IPY_MODEL_45bdde27434d46fbb1d33a8a4c68dcab",
            "max": 57,
            "min": 0,
            "orientation": "horizontal",
            "style": "IPY_MODEL_9ea7ac73437040dcb29247bcd0c24e66",
            "value": 57
          }
        },
        "28278947b30c47089cc709cd42161dbc": {
          "model_module": "@jupyter-widgets/controls",
          "model_name": "HTMLModel",
          "model_module_version": "1.5.0",
          "state": {
            "_dom_classes": [],
            "_model_module": "@jupyter-widgets/controls",
            "_model_module_version": "1.5.0",
            "_model_name": "HTMLModel",
            "_view_count": null,
            "_view_module": "@jupyter-widgets/controls",
            "_view_module_version": "1.5.0",
            "_view_name": "HTMLView",
            "description": "",
            "description_tooltip": null,
            "layout": "IPY_MODEL_5699ee4ff7014c75925f3f659260f0ee",
            "placeholder": "​",
            "style": "IPY_MODEL_343a1846d13045c9b39882e5cabc6f21",
            "value": " 57.0/57.0 [00:00&lt;00:00, 478B/s]"
          }
        },
        "a33bed1e46404c5c93a9035f514e207c": {
          "model_module": "@jupyter-widgets/base",
          "model_name": "LayoutModel",
          "model_module_version": "1.2.0",
          "state": {
            "_model_module": "@jupyter-widgets/base",
            "_model_module_version": "1.2.0",
            "_model_name": "LayoutModel",
            "_view_count": null,
            "_view_module": "@jupyter-widgets/base",
            "_view_module_version": "1.2.0",
            "_view_name": "LayoutView",
            "align_content": null,
            "align_items": null,
            "align_self": null,
            "border": null,
            "bottom": null,
            "display": null,
            "flex": null,
            "flex_flow": null,
            "grid_area": null,
            "grid_auto_columns": null,
            "grid_auto_flow": null,
            "grid_auto_rows": null,
            "grid_column": null,
            "grid_gap": null,
            "grid_row": null,
            "grid_template_areas": null,
            "grid_template_columns": null,
            "grid_template_rows": null,
            "height": null,
            "justify_content": null,
            "justify_items": null,
            "left": null,
            "margin": null,
            "max_height": null,
            "max_width": null,
            "min_height": null,
            "min_width": null,
            "object_fit": null,
            "object_position": null,
            "order": null,
            "overflow": null,
            "overflow_x": null,
            "overflow_y": null,
            "padding": null,
            "right": null,
            "top": null,
            "visibility": null,
            "width": null
          }
        },
        "4306179c2b6640018a482545795b81dd": {
          "model_module": "@jupyter-widgets/base",
          "model_name": "LayoutModel",
          "model_module_version": "1.2.0",
          "state": {
            "_model_module": "@jupyter-widgets/base",
            "_model_module_version": "1.2.0",
            "_model_name": "LayoutModel",
            "_view_count": null,
            "_view_module": "@jupyter-widgets/base",
            "_view_module_version": "1.2.0",
            "_view_name": "LayoutView",
            "align_content": null,
            "align_items": null,
            "align_self": null,
            "border": null,
            "bottom": null,
            "display": null,
            "flex": null,
            "flex_flow": null,
            "grid_area": null,
            "grid_auto_columns": null,
            "grid_auto_flow": null,
            "grid_auto_rows": null,
            "grid_column": null,
            "grid_gap": null,
            "grid_row": null,
            "grid_template_areas": null,
            "grid_template_columns": null,
            "grid_template_rows": null,
            "height": null,
            "justify_content": null,
            "justify_items": null,
            "left": null,
            "margin": null,
            "max_height": null,
            "max_width": null,
            "min_height": null,
            "min_width": null,
            "object_fit": null,
            "object_position": null,
            "order": null,
            "overflow": null,
            "overflow_x": null,
            "overflow_y": null,
            "padding": null,
            "right": null,
            "top": null,
            "visibility": null,
            "width": null
          }
        },
        "5b53a13a94814aff8ec176630d66406c": {
          "model_module": "@jupyter-widgets/controls",
          "model_name": "DescriptionStyleModel",
          "model_module_version": "1.5.0",
          "state": {
            "_model_module": "@jupyter-widgets/controls",
            "_model_module_version": "1.5.0",
            "_model_name": "DescriptionStyleModel",
            "_view_count": null,
            "_view_module": "@jupyter-widgets/base",
            "_view_module_version": "1.2.0",
            "_view_name": "StyleView",
            "description_width": ""
          }
        },
        "45bdde27434d46fbb1d33a8a4c68dcab": {
          "model_module": "@jupyter-widgets/base",
          "model_name": "LayoutModel",
          "model_module_version": "1.2.0",
          "state": {
            "_model_module": "@jupyter-widgets/base",
            "_model_module_version": "1.2.0",
            "_model_name": "LayoutModel",
            "_view_count": null,
            "_view_module": "@jupyter-widgets/base",
            "_view_module_version": "1.2.0",
            "_view_name": "LayoutView",
            "align_content": null,
            "align_items": null,
            "align_self": null,
            "border": null,
            "bottom": null,
            "display": null,
            "flex": null,
            "flex_flow": null,
            "grid_area": null,
            "grid_auto_columns": null,
            "grid_auto_flow": null,
            "grid_auto_rows": null,
            "grid_column": null,
            "grid_gap": null,
            "grid_row": null,
            "grid_template_areas": null,
            "grid_template_columns": null,
            "grid_template_rows": null,
            "height": null,
            "justify_content": null,
            "justify_items": null,
            "left": null,
            "margin": null,
            "max_height": null,
            "max_width": null,
            "min_height": null,
            "min_width": null,
            "object_fit": null,
            "object_position": null,
            "order": null,
            "overflow": null,
            "overflow_x": null,
            "overflow_y": null,
            "padding": null,
            "right": null,
            "top": null,
            "visibility": null,
            "width": null
          }
        },
        "9ea7ac73437040dcb29247bcd0c24e66": {
          "model_module": "@jupyter-widgets/controls",
          "model_name": "ProgressStyleModel",
          "model_module_version": "1.5.0",
          "state": {
            "_model_module": "@jupyter-widgets/controls",
            "_model_module_version": "1.5.0",
            "_model_name": "ProgressStyleModel",
            "_view_count": null,
            "_view_module": "@jupyter-widgets/base",
            "_view_module_version": "1.2.0",
            "_view_name": "StyleView",
            "bar_color": null,
            "description_width": ""
          }
        },
        "5699ee4ff7014c75925f3f659260f0ee": {
          "model_module": "@jupyter-widgets/base",
          "model_name": "LayoutModel",
          "model_module_version": "1.2.0",
          "state": {
            "_model_module": "@jupyter-widgets/base",
            "_model_module_version": "1.2.0",
            "_model_name": "LayoutModel",
            "_view_count": null,
            "_view_module": "@jupyter-widgets/base",
            "_view_module_version": "1.2.0",
            "_view_name": "LayoutView",
            "align_content": null,
            "align_items": null,
            "align_self": null,
            "border": null,
            "bottom": null,
            "display": null,
            "flex": null,
            "flex_flow": null,
            "grid_area": null,
            "grid_auto_columns": null,
            "grid_auto_flow": null,
            "grid_auto_rows": null,
            "grid_column": null,
            "grid_gap": null,
            "grid_row": null,
            "grid_template_areas": null,
            "grid_template_columns": null,
            "grid_template_rows": null,
            "height": null,
            "justify_content": null,
            "justify_items": null,
            "left": null,
            "margin": null,
            "max_height": null,
            "max_width": null,
            "min_height": null,
            "min_width": null,
            "object_fit": null,
            "object_position": null,
            "order": null,
            "overflow": null,
            "overflow_x": null,
            "overflow_y": null,
            "padding": null,
            "right": null,
            "top": null,
            "visibility": null,
            "width": null
          }
        },
        "343a1846d13045c9b39882e5cabc6f21": {
          "model_module": "@jupyter-widgets/controls",
          "model_name": "DescriptionStyleModel",
          "model_module_version": "1.5.0",
          "state": {
            "_model_module": "@jupyter-widgets/controls",
            "_model_module_version": "1.5.0",
            "_model_name": "DescriptionStyleModel",
            "_view_count": null,
            "_view_module": "@jupyter-widgets/base",
            "_view_module_version": "1.2.0",
            "_view_name": "StyleView",
            "description_width": ""
          }
        },
        "06000fff4de04113982a5d554f9e14ac": {
          "model_module": "@jupyter-widgets/controls",
          "model_name": "HBoxModel",
          "model_module_version": "1.5.0",
          "state": {
            "_dom_classes": [],
            "_model_module": "@jupyter-widgets/controls",
            "_model_module_version": "1.5.0",
            "_model_name": "HBoxModel",
            "_view_count": null,
            "_view_module": "@jupyter-widgets/controls",
            "_view_module_version": "1.5.0",
            "_view_name": "HBoxView",
            "box_style": "",
            "children": [
              "IPY_MODEL_491b3b46181e42d0b6637c6c74b919ff",
              "IPY_MODEL_1c585ab53a1e4f8e8685b9ec9f9e06f7",
              "IPY_MODEL_86ee694bafe34941be88f6b476085c28"
            ],
            "layout": "IPY_MODEL_d21583f9213b4941ae6d412800c180c8"
          }
        },
        "491b3b46181e42d0b6637c6c74b919ff": {
          "model_module": "@jupyter-widgets/controls",
          "model_name": "HTMLModel",
          "model_module_version": "1.5.0",
          "state": {
            "_dom_classes": [],
            "_model_module": "@jupyter-widgets/controls",
            "_model_module_version": "1.5.0",
            "_model_name": "HTMLModel",
            "_view_count": null,
            "_view_module": "@jupyter-widgets/controls",
            "_view_module_version": "1.5.0",
            "_view_name": "HTMLView",
            "description": "",
            "description_tooltip": null,
            "layout": "IPY_MODEL_6ff03560c84947e19e44b4a195383dea",
            "placeholder": "​",
            "style": "IPY_MODEL_f7cbde4bb4fe4aae8022c2d929325f6d",
            "value": "saved_model.pb: 100%"
          }
        },
        "1c585ab53a1e4f8e8685b9ec9f9e06f7": {
          "model_module": "@jupyter-widgets/controls",
          "model_name": "FloatProgressModel",
          "model_module_version": "1.5.0",
          "state": {
            "_dom_classes": [],
            "_model_module": "@jupyter-widgets/controls",
            "_model_module_version": "1.5.0",
            "_model_name": "FloatProgressModel",
            "_view_count": null,
            "_view_module": "@jupyter-widgets/controls",
            "_view_module_version": "1.5.0",
            "_view_name": "ProgressView",
            "bar_style": "success",
            "description": "",
            "description_tooltip": null,
            "layout": "IPY_MODEL_3b94c38c67314975a0b961580784aed8",
            "max": 129261,
            "min": 0,
            "orientation": "horizontal",
            "style": "IPY_MODEL_7d35bd1069a04e2a90a635beeefb083c",
            "value": 129261
          }
        },
        "86ee694bafe34941be88f6b476085c28": {
          "model_module": "@jupyter-widgets/controls",
          "model_name": "HTMLModel",
          "model_module_version": "1.5.0",
          "state": {
            "_dom_classes": [],
            "_model_module": "@jupyter-widgets/controls",
            "_model_module_version": "1.5.0",
            "_model_name": "HTMLModel",
            "_view_count": null,
            "_view_module": "@jupyter-widgets/controls",
            "_view_module_version": "1.5.0",
            "_view_name": "HTMLView",
            "description": "",
            "description_tooltip": null,
            "layout": "IPY_MODEL_580c168510d5463dbdc130f2fb8f6599",
            "placeholder": "​",
            "style": "IPY_MODEL_fbf5fbd079a84cf085199399de6c92cb",
            "value": " 129k/129k [00:00&lt;00:00, 119kB/s]"
          }
        },
        "d21583f9213b4941ae6d412800c180c8": {
          "model_module": "@jupyter-widgets/base",
          "model_name": "LayoutModel",
          "model_module_version": "1.2.0",
          "state": {
            "_model_module": "@jupyter-widgets/base",
            "_model_module_version": "1.2.0",
            "_model_name": "LayoutModel",
            "_view_count": null,
            "_view_module": "@jupyter-widgets/base",
            "_view_module_version": "1.2.0",
            "_view_name": "LayoutView",
            "align_content": null,
            "align_items": null,
            "align_self": null,
            "border": null,
            "bottom": null,
            "display": null,
            "flex": null,
            "flex_flow": null,
            "grid_area": null,
            "grid_auto_columns": null,
            "grid_auto_flow": null,
            "grid_auto_rows": null,
            "grid_column": null,
            "grid_gap": null,
            "grid_row": null,
            "grid_template_areas": null,
            "grid_template_columns": null,
            "grid_template_rows": null,
            "height": null,
            "justify_content": null,
            "justify_items": null,
            "left": null,
            "margin": null,
            "max_height": null,
            "max_width": null,
            "min_height": null,
            "min_width": null,
            "object_fit": null,
            "object_position": null,
            "order": null,
            "overflow": null,
            "overflow_x": null,
            "overflow_y": null,
            "padding": null,
            "right": null,
            "top": null,
            "visibility": null,
            "width": null
          }
        },
        "6ff03560c84947e19e44b4a195383dea": {
          "model_module": "@jupyter-widgets/base",
          "model_name": "LayoutModel",
          "model_module_version": "1.2.0",
          "state": {
            "_model_module": "@jupyter-widgets/base",
            "_model_module_version": "1.2.0",
            "_model_name": "LayoutModel",
            "_view_count": null,
            "_view_module": "@jupyter-widgets/base",
            "_view_module_version": "1.2.0",
            "_view_name": "LayoutView",
            "align_content": null,
            "align_items": null,
            "align_self": null,
            "border": null,
            "bottom": null,
            "display": null,
            "flex": null,
            "flex_flow": null,
            "grid_area": null,
            "grid_auto_columns": null,
            "grid_auto_flow": null,
            "grid_auto_rows": null,
            "grid_column": null,
            "grid_gap": null,
            "grid_row": null,
            "grid_template_areas": null,
            "grid_template_columns": null,
            "grid_template_rows": null,
            "height": null,
            "justify_content": null,
            "justify_items": null,
            "left": null,
            "margin": null,
            "max_height": null,
            "max_width": null,
            "min_height": null,
            "min_width": null,
            "object_fit": null,
            "object_position": null,
            "order": null,
            "overflow": null,
            "overflow_x": null,
            "overflow_y": null,
            "padding": null,
            "right": null,
            "top": null,
            "visibility": null,
            "width": null
          }
        },
        "f7cbde4bb4fe4aae8022c2d929325f6d": {
          "model_module": "@jupyter-widgets/controls",
          "model_name": "DescriptionStyleModel",
          "model_module_version": "1.5.0",
          "state": {
            "_model_module": "@jupyter-widgets/controls",
            "_model_module_version": "1.5.0",
            "_model_name": "DescriptionStyleModel",
            "_view_count": null,
            "_view_module": "@jupyter-widgets/base",
            "_view_module_version": "1.2.0",
            "_view_name": "StyleView",
            "description_width": ""
          }
        },
        "3b94c38c67314975a0b961580784aed8": {
          "model_module": "@jupyter-widgets/base",
          "model_name": "LayoutModel",
          "model_module_version": "1.2.0",
          "state": {
            "_model_module": "@jupyter-widgets/base",
            "_model_module_version": "1.2.0",
            "_model_name": "LayoutModel",
            "_view_count": null,
            "_view_module": "@jupyter-widgets/base",
            "_view_module_version": "1.2.0",
            "_view_name": "LayoutView",
            "align_content": null,
            "align_items": null,
            "align_self": null,
            "border": null,
            "bottom": null,
            "display": null,
            "flex": null,
            "flex_flow": null,
            "grid_area": null,
            "grid_auto_columns": null,
            "grid_auto_flow": null,
            "grid_auto_rows": null,
            "grid_column": null,
            "grid_gap": null,
            "grid_row": null,
            "grid_template_areas": null,
            "grid_template_columns": null,
            "grid_template_rows": null,
            "height": null,
            "justify_content": null,
            "justify_items": null,
            "left": null,
            "margin": null,
            "max_height": null,
            "max_width": null,
            "min_height": null,
            "min_width": null,
            "object_fit": null,
            "object_position": null,
            "order": null,
            "overflow": null,
            "overflow_x": null,
            "overflow_y": null,
            "padding": null,
            "right": null,
            "top": null,
            "visibility": null,
            "width": null
          }
        },
        "7d35bd1069a04e2a90a635beeefb083c": {
          "model_module": "@jupyter-widgets/controls",
          "model_name": "ProgressStyleModel",
          "model_module_version": "1.5.0",
          "state": {
            "_model_module": "@jupyter-widgets/controls",
            "_model_module_version": "1.5.0",
            "_model_name": "ProgressStyleModel",
            "_view_count": null,
            "_view_module": "@jupyter-widgets/base",
            "_view_module_version": "1.2.0",
            "_view_name": "StyleView",
            "bar_color": null,
            "description_width": ""
          }
        },
        "580c168510d5463dbdc130f2fb8f6599": {
          "model_module": "@jupyter-widgets/base",
          "model_name": "LayoutModel",
          "model_module_version": "1.2.0",
          "state": {
            "_model_module": "@jupyter-widgets/base",
            "_model_module_version": "1.2.0",
            "_model_name": "LayoutModel",
            "_view_count": null,
            "_view_module": "@jupyter-widgets/base",
            "_view_module_version": "1.2.0",
            "_view_name": "LayoutView",
            "align_content": null,
            "align_items": null,
            "align_self": null,
            "border": null,
            "bottom": null,
            "display": null,
            "flex": null,
            "flex_flow": null,
            "grid_area": null,
            "grid_auto_columns": null,
            "grid_auto_flow": null,
            "grid_auto_rows": null,
            "grid_column": null,
            "grid_gap": null,
            "grid_row": null,
            "grid_template_areas": null,
            "grid_template_columns": null,
            "grid_template_rows": null,
            "height": null,
            "justify_content": null,
            "justify_items": null,
            "left": null,
            "margin": null,
            "max_height": null,
            "max_width": null,
            "min_height": null,
            "min_width": null,
            "object_fit": null,
            "object_position": null,
            "order": null,
            "overflow": null,
            "overflow_x": null,
            "overflow_y": null,
            "padding": null,
            "right": null,
            "top": null,
            "visibility": null,
            "width": null
          }
        },
        "fbf5fbd079a84cf085199399de6c92cb": {
          "model_module": "@jupyter-widgets/controls",
          "model_name": "DescriptionStyleModel",
          "model_module_version": "1.5.0",
          "state": {
            "_model_module": "@jupyter-widgets/controls",
            "_model_module_version": "1.5.0",
            "_model_name": "DescriptionStyleModel",
            "_view_count": null,
            "_view_module": "@jupyter-widgets/base",
            "_view_module_version": "1.2.0",
            "_view_name": "StyleView",
            "description_width": ""
          }
        },
        "b99ed21e40ca4ede9bf20430e9163c11": {
          "model_module": "@jupyter-widgets/controls",
          "model_name": "HBoxModel",
          "model_module_version": "1.5.0",
          "state": {
            "_dom_classes": [],
            "_model_module": "@jupyter-widgets/controls",
            "_model_module_version": "1.5.0",
            "_model_name": "HBoxModel",
            "_view_count": null,
            "_view_module": "@jupyter-widgets/controls",
            "_view_module_version": "1.5.0",
            "_view_name": "HBoxView",
            "box_style": "",
            "children": [
              "IPY_MODEL_b54658d88b784820933afa46964ece78",
              "IPY_MODEL_798139f07bdc44daaa084661ade431ee",
              "IPY_MODEL_f7b31a332eae463ca6ddf50570594ff5"
            ],
            "layout": "IPY_MODEL_810fcffafee84b56b4e408cb6a7b1e27"
          }
        },
        "b54658d88b784820933afa46964ece78": {
          "model_module": "@jupyter-widgets/controls",
          "model_name": "HTMLModel",
          "model_module_version": "1.5.0",
          "state": {
            "_dom_classes": [],
            "_model_module": "@jupyter-widgets/controls",
            "_model_module_version": "1.5.0",
            "_model_name": "HTMLModel",
            "_view_count": null,
            "_view_module": "@jupyter-widgets/controls",
            "_view_module_version": "1.5.0",
            "_view_name": "HTMLView",
            "description": "",
            "description_tooltip": null,
            "layout": "IPY_MODEL_2c7d4fc12eae4c7284e7bf2f071a383d",
            "placeholder": "​",
            "style": "IPY_MODEL_ca64323035c24b088d7fc1380bbf2f4a",
            "value": "Upload 3 LFS files: 100%"
          }
        },
        "798139f07bdc44daaa084661ade431ee": {
          "model_module": "@jupyter-widgets/controls",
          "model_name": "FloatProgressModel",
          "model_module_version": "1.5.0",
          "state": {
            "_dom_classes": [],
            "_model_module": "@jupyter-widgets/controls",
            "_model_module_version": "1.5.0",
            "_model_name": "FloatProgressModel",
            "_view_count": null,
            "_view_module": "@jupyter-widgets/controls",
            "_view_module_version": "1.5.0",
            "_view_name": "ProgressView",
            "bar_style": "success",
            "description": "",
            "description_tooltip": null,
            "layout": "IPY_MODEL_e221023b7cf84aa49ba01021034a7e61",
            "max": 3,
            "min": 0,
            "orientation": "horizontal",
            "style": "IPY_MODEL_daeeb91e2c6e4119ba39a576716742d7",
            "value": 3
          }
        },
        "f7b31a332eae463ca6ddf50570594ff5": {
          "model_module": "@jupyter-widgets/controls",
          "model_name": "HTMLModel",
          "model_module_version": "1.5.0",
          "state": {
            "_dom_classes": [],
            "_model_module": "@jupyter-widgets/controls",
            "_model_module_version": "1.5.0",
            "_model_name": "HTMLModel",
            "_view_count": null,
            "_view_module": "@jupyter-widgets/controls",
            "_view_module_version": "1.5.0",
            "_view_name": "HTMLView",
            "description": "",
            "description_tooltip": null,
            "layout": "IPY_MODEL_68aa10fa11b5480a95637da4ee430db8",
            "placeholder": "​",
            "style": "IPY_MODEL_d9d45df7ca8a46b39069f16456ee11ec",
            "value": " 3/3 [00:00&lt;00:00,  5.99it/s]"
          }
        },
        "810fcffafee84b56b4e408cb6a7b1e27": {
          "model_module": "@jupyter-widgets/base",
          "model_name": "LayoutModel",
          "model_module_version": "1.2.0",
          "state": {
            "_model_module": "@jupyter-widgets/base",
            "_model_module_version": "1.2.0",
            "_model_name": "LayoutModel",
            "_view_count": null,
            "_view_module": "@jupyter-widgets/base",
            "_view_module_version": "1.2.0",
            "_view_name": "LayoutView",
            "align_content": null,
            "align_items": null,
            "align_self": null,
            "border": null,
            "bottom": null,
            "display": null,
            "flex": null,
            "flex_flow": null,
            "grid_area": null,
            "grid_auto_columns": null,
            "grid_auto_flow": null,
            "grid_auto_rows": null,
            "grid_column": null,
            "grid_gap": null,
            "grid_row": null,
            "grid_template_areas": null,
            "grid_template_columns": null,
            "grid_template_rows": null,
            "height": null,
            "justify_content": null,
            "justify_items": null,
            "left": null,
            "margin": null,
            "max_height": null,
            "max_width": null,
            "min_height": null,
            "min_width": null,
            "object_fit": null,
            "object_position": null,
            "order": null,
            "overflow": null,
            "overflow_x": null,
            "overflow_y": null,
            "padding": null,
            "right": null,
            "top": null,
            "visibility": null,
            "width": null
          }
        },
        "2c7d4fc12eae4c7284e7bf2f071a383d": {
          "model_module": "@jupyter-widgets/base",
          "model_name": "LayoutModel",
          "model_module_version": "1.2.0",
          "state": {
            "_model_module": "@jupyter-widgets/base",
            "_model_module_version": "1.2.0",
            "_model_name": "LayoutModel",
            "_view_count": null,
            "_view_module": "@jupyter-widgets/base",
            "_view_module_version": "1.2.0",
            "_view_name": "LayoutView",
            "align_content": null,
            "align_items": null,
            "align_self": null,
            "border": null,
            "bottom": null,
            "display": null,
            "flex": null,
            "flex_flow": null,
            "grid_area": null,
            "grid_auto_columns": null,
            "grid_auto_flow": null,
            "grid_auto_rows": null,
            "grid_column": null,
            "grid_gap": null,
            "grid_row": null,
            "grid_template_areas": null,
            "grid_template_columns": null,
            "grid_template_rows": null,
            "height": null,
            "justify_content": null,
            "justify_items": null,
            "left": null,
            "margin": null,
            "max_height": null,
            "max_width": null,
            "min_height": null,
            "min_width": null,
            "object_fit": null,
            "object_position": null,
            "order": null,
            "overflow": null,
            "overflow_x": null,
            "overflow_y": null,
            "padding": null,
            "right": null,
            "top": null,
            "visibility": null,
            "width": null
          }
        },
        "ca64323035c24b088d7fc1380bbf2f4a": {
          "model_module": "@jupyter-widgets/controls",
          "model_name": "DescriptionStyleModel",
          "model_module_version": "1.5.0",
          "state": {
            "_model_module": "@jupyter-widgets/controls",
            "_model_module_version": "1.5.0",
            "_model_name": "DescriptionStyleModel",
            "_view_count": null,
            "_view_module": "@jupyter-widgets/base",
            "_view_module_version": "1.2.0",
            "_view_name": "StyleView",
            "description_width": ""
          }
        },
        "e221023b7cf84aa49ba01021034a7e61": {
          "model_module": "@jupyter-widgets/base",
          "model_name": "LayoutModel",
          "model_module_version": "1.2.0",
          "state": {
            "_model_module": "@jupyter-widgets/base",
            "_model_module_version": "1.2.0",
            "_model_name": "LayoutModel",
            "_view_count": null,
            "_view_module": "@jupyter-widgets/base",
            "_view_module_version": "1.2.0",
            "_view_name": "LayoutView",
            "align_content": null,
            "align_items": null,
            "align_self": null,
            "border": null,
            "bottom": null,
            "display": null,
            "flex": null,
            "flex_flow": null,
            "grid_area": null,
            "grid_auto_columns": null,
            "grid_auto_flow": null,
            "grid_auto_rows": null,
            "grid_column": null,
            "grid_gap": null,
            "grid_row": null,
            "grid_template_areas": null,
            "grid_template_columns": null,
            "grid_template_rows": null,
            "height": null,
            "justify_content": null,
            "justify_items": null,
            "left": null,
            "margin": null,
            "max_height": null,
            "max_width": null,
            "min_height": null,
            "min_width": null,
            "object_fit": null,
            "object_position": null,
            "order": null,
            "overflow": null,
            "overflow_x": null,
            "overflow_y": null,
            "padding": null,
            "right": null,
            "top": null,
            "visibility": null,
            "width": null
          }
        },
        "daeeb91e2c6e4119ba39a576716742d7": {
          "model_module": "@jupyter-widgets/controls",
          "model_name": "ProgressStyleModel",
          "model_module_version": "1.5.0",
          "state": {
            "_model_module": "@jupyter-widgets/controls",
            "_model_module_version": "1.5.0",
            "_model_name": "ProgressStyleModel",
            "_view_count": null,
            "_view_module": "@jupyter-widgets/base",
            "_view_module_version": "1.2.0",
            "_view_name": "StyleView",
            "bar_color": null,
            "description_width": ""
          }
        },
        "68aa10fa11b5480a95637da4ee430db8": {
          "model_module": "@jupyter-widgets/base",
          "model_name": "LayoutModel",
          "model_module_version": "1.2.0",
          "state": {
            "_model_module": "@jupyter-widgets/base",
            "_model_module_version": "1.2.0",
            "_model_name": "LayoutModel",
            "_view_count": null,
            "_view_module": "@jupyter-widgets/base",
            "_view_module_version": "1.2.0",
            "_view_name": "LayoutView",
            "align_content": null,
            "align_items": null,
            "align_self": null,
            "border": null,
            "bottom": null,
            "display": null,
            "flex": null,
            "flex_flow": null,
            "grid_area": null,
            "grid_auto_columns": null,
            "grid_auto_flow": null,
            "grid_auto_rows": null,
            "grid_column": null,
            "grid_gap": null,
            "grid_row": null,
            "grid_template_areas": null,
            "grid_template_columns": null,
            "grid_template_rows": null,
            "height": null,
            "justify_content": null,
            "justify_items": null,
            "left": null,
            "margin": null,
            "max_height": null,
            "max_width": null,
            "min_height": null,
            "min_width": null,
            "object_fit": null,
            "object_position": null,
            "order": null,
            "overflow": null,
            "overflow_x": null,
            "overflow_y": null,
            "padding": null,
            "right": null,
            "top": null,
            "visibility": null,
            "width": null
          }
        },
        "d9d45df7ca8a46b39069f16456ee11ec": {
          "model_module": "@jupyter-widgets/controls",
          "model_name": "DescriptionStyleModel",
          "model_module_version": "1.5.0",
          "state": {
            "_model_module": "@jupyter-widgets/controls",
            "_model_module_version": "1.5.0",
            "_model_name": "DescriptionStyleModel",
            "_view_count": null,
            "_view_module": "@jupyter-widgets/base",
            "_view_module_version": "1.2.0",
            "_view_name": "StyleView",
            "description_width": ""
          }
        },
        "9e478404dd0443fb93e7b8e6285cd354": {
          "model_module": "@jupyter-widgets/controls",
          "model_name": "HBoxModel",
          "model_module_version": "1.5.0",
          "state": {
            "_dom_classes": [],
            "_model_module": "@jupyter-widgets/controls",
            "_model_module_version": "1.5.0",
            "_model_name": "HBoxModel",
            "_view_count": null,
            "_view_module": "@jupyter-widgets/controls",
            "_view_module_version": "1.5.0",
            "_view_name": "HBoxView",
            "box_style": "",
            "children": [
              "IPY_MODEL_7234ebe7d7cc4bb1a1c95cdfdc7a11e6",
              "IPY_MODEL_3d4c5453b9d049118a138a405da19297",
              "IPY_MODEL_861b0dfa086a4af980f95b7fa4b9a737"
            ],
            "layout": "IPY_MODEL_18dc27f4d85845c5ba47bdb14bfa215d"
          }
        },
        "7234ebe7d7cc4bb1a1c95cdfdc7a11e6": {
          "model_module": "@jupyter-widgets/controls",
          "model_name": "HTMLModel",
          "model_module_version": "1.5.0",
          "state": {
            "_dom_classes": [],
            "_model_module": "@jupyter-widgets/controls",
            "_model_module_version": "1.5.0",
            "_model_name": "HTMLModel",
            "_view_count": null,
            "_view_module": "@jupyter-widgets/controls",
            "_view_module_version": "1.5.0",
            "_view_name": "HTMLView",
            "description": "",
            "description_tooltip": null,
            "layout": "IPY_MODEL_0759c0ac49e042bba0e5b1bbd24eae80",
            "placeholder": "​",
            "style": "IPY_MODEL_442244d1bce6475d9a03c5646b3162f1",
            "value": "variables.data-00000-of-00001: 100%"
          }
        },
        "3d4c5453b9d049118a138a405da19297": {
          "model_module": "@jupyter-widgets/controls",
          "model_name": "FloatProgressModel",
          "model_module_version": "1.5.0",
          "state": {
            "_dom_classes": [],
            "_model_module": "@jupyter-widgets/controls",
            "_model_module_version": "1.5.0",
            "_model_name": "FloatProgressModel",
            "_view_count": null,
            "_view_module": "@jupyter-widgets/controls",
            "_view_module_version": "1.5.0",
            "_view_name": "ProgressView",
            "bar_style": "success",
            "description": "",
            "description_tooltip": null,
            "layout": "IPY_MODEL_9d50030136294667915fdd4051865bb8",
            "max": 1327042,
            "min": 0,
            "orientation": "horizontal",
            "style": "IPY_MODEL_8b889679113d492c8989b2d9bf5548d3",
            "value": 1327042
          }
        },
        "861b0dfa086a4af980f95b7fa4b9a737": {
          "model_module": "@jupyter-widgets/controls",
          "model_name": "HTMLModel",
          "model_module_version": "1.5.0",
          "state": {
            "_dom_classes": [],
            "_model_module": "@jupyter-widgets/controls",
            "_model_module_version": "1.5.0",
            "_model_name": "HTMLModel",
            "_view_count": null,
            "_view_module": "@jupyter-widgets/controls",
            "_view_module_version": "1.5.0",
            "_view_name": "HTMLView",
            "description": "",
            "description_tooltip": null,
            "layout": "IPY_MODEL_6725ba9281a34a9f8d92601b565f94c9",
            "placeholder": "​",
            "style": "IPY_MODEL_b1728773c3744d0cb413984998e9316f",
            "value": " 1.33M/1.33M [00:00&lt;00:00, 970kB/s]"
          }
        },
        "18dc27f4d85845c5ba47bdb14bfa215d": {
          "model_module": "@jupyter-widgets/base",
          "model_name": "LayoutModel",
          "model_module_version": "1.2.0",
          "state": {
            "_model_module": "@jupyter-widgets/base",
            "_model_module_version": "1.2.0",
            "_model_name": "LayoutModel",
            "_view_count": null,
            "_view_module": "@jupyter-widgets/base",
            "_view_module_version": "1.2.0",
            "_view_name": "LayoutView",
            "align_content": null,
            "align_items": null,
            "align_self": null,
            "border": null,
            "bottom": null,
            "display": null,
            "flex": null,
            "flex_flow": null,
            "grid_area": null,
            "grid_auto_columns": null,
            "grid_auto_flow": null,
            "grid_auto_rows": null,
            "grid_column": null,
            "grid_gap": null,
            "grid_row": null,
            "grid_template_areas": null,
            "grid_template_columns": null,
            "grid_template_rows": null,
            "height": null,
            "justify_content": null,
            "justify_items": null,
            "left": null,
            "margin": null,
            "max_height": null,
            "max_width": null,
            "min_height": null,
            "min_width": null,
            "object_fit": null,
            "object_position": null,
            "order": null,
            "overflow": null,
            "overflow_x": null,
            "overflow_y": null,
            "padding": null,
            "right": null,
            "top": null,
            "visibility": null,
            "width": null
          }
        },
        "0759c0ac49e042bba0e5b1bbd24eae80": {
          "model_module": "@jupyter-widgets/base",
          "model_name": "LayoutModel",
          "model_module_version": "1.2.0",
          "state": {
            "_model_module": "@jupyter-widgets/base",
            "_model_module_version": "1.2.0",
            "_model_name": "LayoutModel",
            "_view_count": null,
            "_view_module": "@jupyter-widgets/base",
            "_view_module_version": "1.2.0",
            "_view_name": "LayoutView",
            "align_content": null,
            "align_items": null,
            "align_self": null,
            "border": null,
            "bottom": null,
            "display": null,
            "flex": null,
            "flex_flow": null,
            "grid_area": null,
            "grid_auto_columns": null,
            "grid_auto_flow": null,
            "grid_auto_rows": null,
            "grid_column": null,
            "grid_gap": null,
            "grid_row": null,
            "grid_template_areas": null,
            "grid_template_columns": null,
            "grid_template_rows": null,
            "height": null,
            "justify_content": null,
            "justify_items": null,
            "left": null,
            "margin": null,
            "max_height": null,
            "max_width": null,
            "min_height": null,
            "min_width": null,
            "object_fit": null,
            "object_position": null,
            "order": null,
            "overflow": null,
            "overflow_x": null,
            "overflow_y": null,
            "padding": null,
            "right": null,
            "top": null,
            "visibility": null,
            "width": null
          }
        },
        "442244d1bce6475d9a03c5646b3162f1": {
          "model_module": "@jupyter-widgets/controls",
          "model_name": "DescriptionStyleModel",
          "model_module_version": "1.5.0",
          "state": {
            "_model_module": "@jupyter-widgets/controls",
            "_model_module_version": "1.5.0",
            "_model_name": "DescriptionStyleModel",
            "_view_count": null,
            "_view_module": "@jupyter-widgets/base",
            "_view_module_version": "1.2.0",
            "_view_name": "StyleView",
            "description_width": ""
          }
        },
        "9d50030136294667915fdd4051865bb8": {
          "model_module": "@jupyter-widgets/base",
          "model_name": "LayoutModel",
          "model_module_version": "1.2.0",
          "state": {
            "_model_module": "@jupyter-widgets/base",
            "_model_module_version": "1.2.0",
            "_model_name": "LayoutModel",
            "_view_count": null,
            "_view_module": "@jupyter-widgets/base",
            "_view_module_version": "1.2.0",
            "_view_name": "LayoutView",
            "align_content": null,
            "align_items": null,
            "align_self": null,
            "border": null,
            "bottom": null,
            "display": null,
            "flex": null,
            "flex_flow": null,
            "grid_area": null,
            "grid_auto_columns": null,
            "grid_auto_flow": null,
            "grid_auto_rows": null,
            "grid_column": null,
            "grid_gap": null,
            "grid_row": null,
            "grid_template_areas": null,
            "grid_template_columns": null,
            "grid_template_rows": null,
            "height": null,
            "justify_content": null,
            "justify_items": null,
            "left": null,
            "margin": null,
            "max_height": null,
            "max_width": null,
            "min_height": null,
            "min_width": null,
            "object_fit": null,
            "object_position": null,
            "order": null,
            "overflow": null,
            "overflow_x": null,
            "overflow_y": null,
            "padding": null,
            "right": null,
            "top": null,
            "visibility": null,
            "width": null
          }
        },
        "8b889679113d492c8989b2d9bf5548d3": {
          "model_module": "@jupyter-widgets/controls",
          "model_name": "ProgressStyleModel",
          "model_module_version": "1.5.0",
          "state": {
            "_model_module": "@jupyter-widgets/controls",
            "_model_module_version": "1.5.0",
            "_model_name": "ProgressStyleModel",
            "_view_count": null,
            "_view_module": "@jupyter-widgets/base",
            "_view_module_version": "1.2.0",
            "_view_name": "StyleView",
            "bar_color": null,
            "description_width": ""
          }
        },
        "6725ba9281a34a9f8d92601b565f94c9": {
          "model_module": "@jupyter-widgets/base",
          "model_name": "LayoutModel",
          "model_module_version": "1.2.0",
          "state": {
            "_model_module": "@jupyter-widgets/base",
            "_model_module_version": "1.2.0",
            "_model_name": "LayoutModel",
            "_view_count": null,
            "_view_module": "@jupyter-widgets/base",
            "_view_module_version": "1.2.0",
            "_view_name": "LayoutView",
            "align_content": null,
            "align_items": null,
            "align_self": null,
            "border": null,
            "bottom": null,
            "display": null,
            "flex": null,
            "flex_flow": null,
            "grid_area": null,
            "grid_auto_columns": null,
            "grid_auto_flow": null,
            "grid_auto_rows": null,
            "grid_column": null,
            "grid_gap": null,
            "grid_row": null,
            "grid_template_areas": null,
            "grid_template_columns": null,
            "grid_template_rows": null,
            "height": null,
            "justify_content": null,
            "justify_items": null,
            "left": null,
            "margin": null,
            "max_height": null,
            "max_width": null,
            "min_height": null,
            "min_width": null,
            "object_fit": null,
            "object_position": null,
            "order": null,
            "overflow": null,
            "overflow_x": null,
            "overflow_y": null,
            "padding": null,
            "right": null,
            "top": null,
            "visibility": null,
            "width": null
          }
        },
        "b1728773c3744d0cb413984998e9316f": {
          "model_module": "@jupyter-widgets/controls",
          "model_name": "DescriptionStyleModel",
          "model_module_version": "1.5.0",
          "state": {
            "_model_module": "@jupyter-widgets/controls",
            "_model_module_version": "1.5.0",
            "_model_name": "DescriptionStyleModel",
            "_view_count": null,
            "_view_module": "@jupyter-widgets/base",
            "_view_module_version": "1.2.0",
            "_view_name": "StyleView",
            "description_width": ""
          }
        }
      }
    }
  },
  "cells": [
    {
      "cell_type": "markdown",
      "metadata": {
        "id": "view-in-github",
        "colab_type": "text"
      },
      "source": [
        "<a href=\"https://colab.research.google.com/github/reemchaaban/game_system/blob/main/data-processing/player_count_model.ipynb\" target=\"_parent\"><img src=\"https://colab.research.google.com/assets/colab-badge.svg\" alt=\"Open In Colab\"/></a>"
      ]
    },
    {
      "cell_type": "code",
      "source": [
        "!pip install workalendar\n",
        "!pip install huggingface_hub transformers\n",
        "!pip install mlflow\n",
        "!pip install pyngrok --quiet"
      ],
      "metadata": {
        "colab": {
          "base_uri": "https://localhost:8080/"
        },
        "id": "th5mx-gdQFiF",
        "outputId": "2a5e19d0-7813-4f3f-de62-e816071559ad"
      },
      "execution_count": 1,
      "outputs": [
        {
          "output_type": "stream",
          "name": "stdout",
          "text": [
            "Collecting workalendar\n",
            "  Downloading workalendar-17.0.0-py3-none-any.whl.metadata (8.4 kB)\n",
            "Requirement already satisfied: python-dateutil in /usr/local/lib/python3.11/dist-packages (from workalendar) (2.8.2)\n",
            "Collecting lunardate (from workalendar)\n",
            "  Downloading lunardate-0.2.2-py3-none-any.whl.metadata (3.6 kB)\n",
            "Collecting convertdate (from workalendar)\n",
            "  Downloading convertdate-2.4.0-py3-none-any.whl.metadata (8.3 kB)\n",
            "Collecting pyluach (from workalendar)\n",
            "  Downloading pyluach-2.2.0-py3-none-any.whl.metadata (4.3 kB)\n",
            "Collecting pymeeus<=1,>=0.3.13 (from convertdate->workalendar)\n",
            "  Downloading PyMeeus-0.5.12.tar.gz (5.8 MB)\n",
            "\u001b[2K     \u001b[90m━━━━━━━━━━━━━━━━━━━━━━━━━━━━━━━━━━━━━━━━\u001b[0m \u001b[32m5.8/5.8 MB\u001b[0m \u001b[31m14.3 MB/s\u001b[0m eta \u001b[36m0:00:00\u001b[0m\n",
            "\u001b[?25h  Preparing metadata (setup.py) ... \u001b[?25l\u001b[?25hdone\n",
            "Requirement already satisfied: six>=1.5 in /usr/local/lib/python3.11/dist-packages (from python-dateutil->workalendar) (1.17.0)\n",
            "Downloading workalendar-17.0.0-py3-none-any.whl (210 kB)\n",
            "\u001b[2K   \u001b[90m━━━━━━━━━━━━━━━━━━━━━━━━━━━━━━━━━━━━━━━━\u001b[0m \u001b[32m210.7/210.7 kB\u001b[0m \u001b[31m1.6 MB/s\u001b[0m eta \u001b[36m0:00:00\u001b[0m\n",
            "\u001b[?25hDownloading convertdate-2.4.0-py3-none-any.whl (47 kB)\n",
            "\u001b[2K   \u001b[90m━━━━━━━━━━━━━━━━━━━━━━━━━━━━━━━━━━━━━━━━\u001b[0m \u001b[32m47.9/47.9 kB\u001b[0m \u001b[31m1.5 MB/s\u001b[0m eta \u001b[36m0:00:00\u001b[0m\n",
            "\u001b[?25hDownloading lunardate-0.2.2-py3-none-any.whl (18 kB)\n",
            "Downloading pyluach-2.2.0-py3-none-any.whl (25 kB)\n",
            "Building wheels for collected packages: pymeeus\n",
            "  Building wheel for pymeeus (setup.py) ... \u001b[?25l\u001b[?25hdone\n",
            "  Created wheel for pymeeus: filename=PyMeeus-0.5.12-py3-none-any.whl size=732000 sha256=60d6d8ac4a38a97ce4bcf2d40ce28d790e2aaa8ee42c02e2ee13792978062508\n",
            "  Stored in directory: /root/.cache/pip/wheels/8f/bd/f9/5c4c39b529e0322b08979e1c465e203218bc2cca75d20f7df5\n",
            "Successfully built pymeeus\n",
            "Installing collected packages: pymeeus, lunardate, pyluach, convertdate, workalendar\n",
            "Successfully installed convertdate-2.4.0 lunardate-0.2.2 pyluach-2.2.0 pymeeus-0.5.12 workalendar-17.0.0\n",
            "Requirement already satisfied: huggingface_hub in /usr/local/lib/python3.11/dist-packages (0.30.2)\n",
            "Requirement already satisfied: transformers in /usr/local/lib/python3.11/dist-packages (4.51.3)\n",
            "Requirement already satisfied: filelock in /usr/local/lib/python3.11/dist-packages (from huggingface_hub) (3.18.0)\n",
            "Requirement already satisfied: fsspec>=2023.5.0 in /usr/local/lib/python3.11/dist-packages (from huggingface_hub) (2025.3.2)\n",
            "Requirement already satisfied: packaging>=20.9 in /usr/local/lib/python3.11/dist-packages (from huggingface_hub) (24.2)\n",
            "Requirement already satisfied: pyyaml>=5.1 in /usr/local/lib/python3.11/dist-packages (from huggingface_hub) (6.0.2)\n",
            "Requirement already satisfied: requests in /usr/local/lib/python3.11/dist-packages (from huggingface_hub) (2.32.3)\n",
            "Requirement already satisfied: tqdm>=4.42.1 in /usr/local/lib/python3.11/dist-packages (from huggingface_hub) (4.67.1)\n",
            "Requirement already satisfied: typing-extensions>=3.7.4.3 in /usr/local/lib/python3.11/dist-packages (from huggingface_hub) (4.13.2)\n",
            "Requirement already satisfied: numpy>=1.17 in /usr/local/lib/python3.11/dist-packages (from transformers) (2.0.2)\n",
            "Requirement already satisfied: regex!=2019.12.17 in /usr/local/lib/python3.11/dist-packages (from transformers) (2024.11.6)\n",
            "Requirement already satisfied: tokenizers<0.22,>=0.21 in /usr/local/lib/python3.11/dist-packages (from transformers) (0.21.1)\n",
            "Requirement already satisfied: safetensors>=0.4.3 in /usr/local/lib/python3.11/dist-packages (from transformers) (0.5.3)\n",
            "Requirement already satisfied: charset-normalizer<4,>=2 in /usr/local/lib/python3.11/dist-packages (from requests->huggingface_hub) (3.4.1)\n",
            "Requirement already satisfied: idna<4,>=2.5 in /usr/local/lib/python3.11/dist-packages (from requests->huggingface_hub) (3.10)\n",
            "Requirement already satisfied: urllib3<3,>=1.21.1 in /usr/local/lib/python3.11/dist-packages (from requests->huggingface_hub) (2.3.0)\n",
            "Requirement already satisfied: certifi>=2017.4.17 in /usr/local/lib/python3.11/dist-packages (from requests->huggingface_hub) (2025.1.31)\n",
            "Collecting mlflow\n",
            "  Downloading mlflow-2.21.3-py3-none-any.whl.metadata (30 kB)\n",
            "Collecting mlflow-skinny==2.21.3 (from mlflow)\n",
            "  Downloading mlflow_skinny-2.21.3-py3-none-any.whl.metadata (31 kB)\n",
            "Requirement already satisfied: Flask<4 in /usr/local/lib/python3.11/dist-packages (from mlflow) (3.1.0)\n",
            "Requirement already satisfied: Jinja2<4,>=2.11 in /usr/local/lib/python3.11/dist-packages (from mlflow) (3.1.6)\n",
            "Collecting alembic!=1.10.0,<2 (from mlflow)\n",
            "  Downloading alembic-1.15.2-py3-none-any.whl.metadata (7.3 kB)\n",
            "Collecting docker<8,>=4.0.0 (from mlflow)\n",
            "  Downloading docker-7.1.0-py3-none-any.whl.metadata (3.8 kB)\n",
            "Collecting graphene<4 (from mlflow)\n",
            "  Downloading graphene-3.4.3-py2.py3-none-any.whl.metadata (6.9 kB)\n",
            "Collecting gunicorn<24 (from mlflow)\n",
            "  Downloading gunicorn-23.0.0-py3-none-any.whl.metadata (4.4 kB)\n",
            "Requirement already satisfied: markdown<4,>=3.3 in /usr/local/lib/python3.11/dist-packages (from mlflow) (3.8)\n",
            "Requirement already satisfied: matplotlib<4 in /usr/local/lib/python3.11/dist-packages (from mlflow) (3.10.0)\n",
            "Requirement already satisfied: numpy<3 in /usr/local/lib/python3.11/dist-packages (from mlflow) (2.0.2)\n",
            "Requirement already satisfied: pandas<3 in /usr/local/lib/python3.11/dist-packages (from mlflow) (2.2.2)\n",
            "Requirement already satisfied: pyarrow<20,>=4.0.0 in /usr/local/lib/python3.11/dist-packages (from mlflow) (18.1.0)\n",
            "Requirement already satisfied: scikit-learn<2 in /usr/local/lib/python3.11/dist-packages (from mlflow) (1.6.1)\n",
            "Requirement already satisfied: scipy<2 in /usr/local/lib/python3.11/dist-packages (from mlflow) (1.14.1)\n",
            "Requirement already satisfied: sqlalchemy<3,>=1.4.0 in /usr/local/lib/python3.11/dist-packages (from mlflow) (2.0.40)\n",
            "Requirement already satisfied: cachetools<6,>=5.0.0 in /usr/local/lib/python3.11/dist-packages (from mlflow-skinny==2.21.3->mlflow) (5.5.2)\n",
            "Requirement already satisfied: click<9,>=7.0 in /usr/local/lib/python3.11/dist-packages (from mlflow-skinny==2.21.3->mlflow) (8.1.8)\n",
            "Requirement already satisfied: cloudpickle<4 in /usr/local/lib/python3.11/dist-packages (from mlflow-skinny==2.21.3->mlflow) (3.1.1)\n",
            "Collecting databricks-sdk<1,>=0.20.0 (from mlflow-skinny==2.21.3->mlflow)\n",
            "  Downloading databricks_sdk-0.50.0-py3-none-any.whl.metadata (38 kB)\n",
            "Collecting fastapi<1 (from mlflow-skinny==2.21.3->mlflow)\n",
            "  Downloading fastapi-0.115.12-py3-none-any.whl.metadata (27 kB)\n",
            "Requirement already satisfied: gitpython<4,>=3.1.9 in /usr/local/lib/python3.11/dist-packages (from mlflow-skinny==2.21.3->mlflow) (3.1.44)\n",
            "Requirement already satisfied: importlib_metadata!=4.7.0,<9,>=3.7.0 in /usr/local/lib/python3.11/dist-packages (from mlflow-skinny==2.21.3->mlflow) (8.6.1)\n",
            "Requirement already satisfied: opentelemetry-api<3,>=1.9.0 in /usr/local/lib/python3.11/dist-packages (from mlflow-skinny==2.21.3->mlflow) (1.32.1)\n",
            "Requirement already satisfied: opentelemetry-sdk<3,>=1.9.0 in /usr/local/lib/python3.11/dist-packages (from mlflow-skinny==2.21.3->mlflow) (1.32.1)\n",
            "Requirement already satisfied: packaging<25 in /usr/local/lib/python3.11/dist-packages (from mlflow-skinny==2.21.3->mlflow) (24.2)\n",
            "Requirement already satisfied: protobuf<6,>=3.12.0 in /usr/local/lib/python3.11/dist-packages (from mlflow-skinny==2.21.3->mlflow) (5.29.4)\n",
            "Requirement already satisfied: pydantic<3,>=1.10.8 in /usr/local/lib/python3.11/dist-packages (from mlflow-skinny==2.21.3->mlflow) (2.11.3)\n",
            "Requirement already satisfied: pyyaml<7,>=5.1 in /usr/local/lib/python3.11/dist-packages (from mlflow-skinny==2.21.3->mlflow) (6.0.2)\n",
            "Requirement already satisfied: requests<3,>=2.17.3 in /usr/local/lib/python3.11/dist-packages (from mlflow-skinny==2.21.3->mlflow) (2.32.3)\n",
            "Requirement already satisfied: sqlparse<1,>=0.4.0 in /usr/local/lib/python3.11/dist-packages (from mlflow-skinny==2.21.3->mlflow) (0.5.3)\n",
            "Requirement already satisfied: typing-extensions<5,>=4.0.0 in /usr/local/lib/python3.11/dist-packages (from mlflow-skinny==2.21.3->mlflow) (4.13.2)\n",
            "Collecting uvicorn<1 (from mlflow-skinny==2.21.3->mlflow)\n",
            "  Downloading uvicorn-0.34.2-py3-none-any.whl.metadata (6.5 kB)\n",
            "Requirement already satisfied: Mako in /usr/lib/python3/dist-packages (from alembic!=1.10.0,<2->mlflow) (1.1.3)\n",
            "Requirement already satisfied: urllib3>=1.26.0 in /usr/local/lib/python3.11/dist-packages (from docker<8,>=4.0.0->mlflow) (2.3.0)\n",
            "Requirement already satisfied: Werkzeug>=3.1 in /usr/local/lib/python3.11/dist-packages (from Flask<4->mlflow) (3.1.3)\n",
            "Requirement already satisfied: itsdangerous>=2.2 in /usr/local/lib/python3.11/dist-packages (from Flask<4->mlflow) (2.2.0)\n",
            "Requirement already satisfied: blinker>=1.9 in /usr/local/lib/python3.11/dist-packages (from Flask<4->mlflow) (1.9.0)\n",
            "Collecting graphql-core<3.3,>=3.1 (from graphene<4->mlflow)\n",
            "  Downloading graphql_core-3.2.6-py3-none-any.whl.metadata (11 kB)\n",
            "Collecting graphql-relay<3.3,>=3.1 (from graphene<4->mlflow)\n",
            "  Downloading graphql_relay-3.2.0-py3-none-any.whl.metadata (12 kB)\n",
            "Requirement already satisfied: python-dateutil<3,>=2.7.0 in /usr/local/lib/python3.11/dist-packages (from graphene<4->mlflow) (2.8.2)\n",
            "Requirement already satisfied: MarkupSafe>=2.0 in /usr/local/lib/python3.11/dist-packages (from Jinja2<4,>=2.11->mlflow) (3.0.2)\n",
            "Requirement already satisfied: contourpy>=1.0.1 in /usr/local/lib/python3.11/dist-packages (from matplotlib<4->mlflow) (1.3.2)\n",
            "Requirement already satisfied: cycler>=0.10 in /usr/local/lib/python3.11/dist-packages (from matplotlib<4->mlflow) (0.12.1)\n",
            "Requirement already satisfied: fonttools>=4.22.0 in /usr/local/lib/python3.11/dist-packages (from matplotlib<4->mlflow) (4.57.0)\n",
            "Requirement already satisfied: kiwisolver>=1.3.1 in /usr/local/lib/python3.11/dist-packages (from matplotlib<4->mlflow) (1.4.8)\n",
            "Requirement already satisfied: pillow>=8 in /usr/local/lib/python3.11/dist-packages (from matplotlib<4->mlflow) (11.1.0)\n",
            "Requirement already satisfied: pyparsing>=2.3.1 in /usr/local/lib/python3.11/dist-packages (from matplotlib<4->mlflow) (3.2.3)\n",
            "Requirement already satisfied: pytz>=2020.1 in /usr/local/lib/python3.11/dist-packages (from pandas<3->mlflow) (2025.2)\n",
            "Requirement already satisfied: tzdata>=2022.7 in /usr/local/lib/python3.11/dist-packages (from pandas<3->mlflow) (2025.2)\n",
            "Requirement already satisfied: joblib>=1.2.0 in /usr/local/lib/python3.11/dist-packages (from scikit-learn<2->mlflow) (1.4.2)\n",
            "Requirement already satisfied: threadpoolctl>=3.1.0 in /usr/local/lib/python3.11/dist-packages (from scikit-learn<2->mlflow) (3.6.0)\n",
            "Requirement already satisfied: greenlet>=1 in /usr/local/lib/python3.11/dist-packages (from sqlalchemy<3,>=1.4.0->mlflow) (3.2.0)\n",
            "Requirement already satisfied: google-auth~=2.0 in /usr/local/lib/python3.11/dist-packages (from databricks-sdk<1,>=0.20.0->mlflow-skinny==2.21.3->mlflow) (2.38.0)\n",
            "Collecting starlette<0.47.0,>=0.40.0 (from fastapi<1->mlflow-skinny==2.21.3->mlflow)\n",
            "  Downloading starlette-0.46.2-py3-none-any.whl.metadata (6.2 kB)\n",
            "Requirement already satisfied: gitdb<5,>=4.0.1 in /usr/local/lib/python3.11/dist-packages (from gitpython<4,>=3.1.9->mlflow-skinny==2.21.3->mlflow) (4.0.12)\n",
            "Requirement already satisfied: zipp>=3.20 in /usr/local/lib/python3.11/dist-packages (from importlib_metadata!=4.7.0,<9,>=3.7.0->mlflow-skinny==2.21.3->mlflow) (3.21.0)\n",
            "Requirement already satisfied: deprecated>=1.2.6 in /usr/local/lib/python3.11/dist-packages (from opentelemetry-api<3,>=1.9.0->mlflow-skinny==2.21.3->mlflow) (1.2.18)\n",
            "Requirement already satisfied: opentelemetry-semantic-conventions==0.53b1 in /usr/local/lib/python3.11/dist-packages (from opentelemetry-sdk<3,>=1.9.0->mlflow-skinny==2.21.3->mlflow) (0.53b1)\n",
            "Requirement already satisfied: annotated-types>=0.6.0 in /usr/local/lib/python3.11/dist-packages (from pydantic<3,>=1.10.8->mlflow-skinny==2.21.3->mlflow) (0.7.0)\n",
            "Requirement already satisfied: pydantic-core==2.33.1 in /usr/local/lib/python3.11/dist-packages (from pydantic<3,>=1.10.8->mlflow-skinny==2.21.3->mlflow) (2.33.1)\n",
            "Requirement already satisfied: typing-inspection>=0.4.0 in /usr/local/lib/python3.11/dist-packages (from pydantic<3,>=1.10.8->mlflow-skinny==2.21.3->mlflow) (0.4.0)\n",
            "Requirement already satisfied: six>=1.5 in /usr/local/lib/python3.11/dist-packages (from python-dateutil<3,>=2.7.0->graphene<4->mlflow) (1.17.0)\n",
            "Requirement already satisfied: charset-normalizer<4,>=2 in /usr/local/lib/python3.11/dist-packages (from requests<3,>=2.17.3->mlflow-skinny==2.21.3->mlflow) (3.4.1)\n",
            "Requirement already satisfied: idna<4,>=2.5 in /usr/local/lib/python3.11/dist-packages (from requests<3,>=2.17.3->mlflow-skinny==2.21.3->mlflow) (3.10)\n",
            "Requirement already satisfied: certifi>=2017.4.17 in /usr/local/lib/python3.11/dist-packages (from requests<3,>=2.17.3->mlflow-skinny==2.21.3->mlflow) (2025.1.31)\n",
            "Requirement already satisfied: h11>=0.8 in /usr/local/lib/python3.11/dist-packages (from uvicorn<1->mlflow-skinny==2.21.3->mlflow) (0.14.0)\n",
            "Requirement already satisfied: wrapt<2,>=1.10 in /usr/local/lib/python3.11/dist-packages (from deprecated>=1.2.6->opentelemetry-api<3,>=1.9.0->mlflow-skinny==2.21.3->mlflow) (1.17.2)\n",
            "Requirement already satisfied: smmap<6,>=3.0.1 in /usr/local/lib/python3.11/dist-packages (from gitdb<5,>=4.0.1->gitpython<4,>=3.1.9->mlflow-skinny==2.21.3->mlflow) (5.0.2)\n",
            "Requirement already satisfied: pyasn1-modules>=0.2.1 in /usr/local/lib/python3.11/dist-packages (from google-auth~=2.0->databricks-sdk<1,>=0.20.0->mlflow-skinny==2.21.3->mlflow) (0.4.2)\n",
            "Requirement already satisfied: rsa<5,>=3.1.4 in /usr/local/lib/python3.11/dist-packages (from google-auth~=2.0->databricks-sdk<1,>=0.20.0->mlflow-skinny==2.21.3->mlflow) (4.9.1)\n",
            "Requirement already satisfied: anyio<5,>=3.6.2 in /usr/local/lib/python3.11/dist-packages (from starlette<0.47.0,>=0.40.0->fastapi<1->mlflow-skinny==2.21.3->mlflow) (4.9.0)\n",
            "Requirement already satisfied: sniffio>=1.1 in /usr/local/lib/python3.11/dist-packages (from anyio<5,>=3.6.2->starlette<0.47.0,>=0.40.0->fastapi<1->mlflow-skinny==2.21.3->mlflow) (1.3.1)\n",
            "Requirement already satisfied: pyasn1<0.7.0,>=0.6.1 in /usr/local/lib/python3.11/dist-packages (from pyasn1-modules>=0.2.1->google-auth~=2.0->databricks-sdk<1,>=0.20.0->mlflow-skinny==2.21.3->mlflow) (0.6.1)\n",
            "Downloading mlflow-2.21.3-py3-none-any.whl (28.2 MB)\n",
            "\u001b[2K   \u001b[90m━━━━━━━━━━━━━━━━━━━━━━━━━━━━━━━━━━━━━━━━\u001b[0m \u001b[32m28.2/28.2 MB\u001b[0m \u001b[31m69.3 MB/s\u001b[0m eta \u001b[36m0:00:00\u001b[0m\n",
            "\u001b[?25hDownloading mlflow_skinny-2.21.3-py3-none-any.whl (6.1 MB)\n",
            "\u001b[2K   \u001b[90m━━━━━━━━━━━━━━━━━━━━━━━━━━━━━━━━━━━━━━━━\u001b[0m \u001b[32m6.1/6.1 MB\u001b[0m \u001b[31m89.2 MB/s\u001b[0m eta \u001b[36m0:00:00\u001b[0m\n",
            "\u001b[?25hDownloading alembic-1.15.2-py3-none-any.whl (231 kB)\n",
            "\u001b[2K   \u001b[90m━━━━━━━━━━━━━━━━━━━━━━━━━━━━━━━━━━━━━━━━\u001b[0m \u001b[32m231.9/231.9 kB\u001b[0m \u001b[31m15.8 MB/s\u001b[0m eta \u001b[36m0:00:00\u001b[0m\n",
            "\u001b[?25hDownloading docker-7.1.0-py3-none-any.whl (147 kB)\n",
            "\u001b[2K   \u001b[90m━━━━━━━━━━━━━━━━━━━━━━━━━━━━━━━━━━━━━━━━\u001b[0m \u001b[32m147.8/147.8 kB\u001b[0m \u001b[31m11.1 MB/s\u001b[0m eta \u001b[36m0:00:00\u001b[0m\n",
            "\u001b[?25hDownloading graphene-3.4.3-py2.py3-none-any.whl (114 kB)\n",
            "\u001b[2K   \u001b[90m━━━━━━━━━━━━━━━━━━━━━━━━━━━━━━━━━━━━━━━━\u001b[0m \u001b[32m114.9/114.9 kB\u001b[0m \u001b[31m10.0 MB/s\u001b[0m eta \u001b[36m0:00:00\u001b[0m\n",
            "\u001b[?25hDownloading gunicorn-23.0.0-py3-none-any.whl (85 kB)\n",
            "\u001b[2K   \u001b[90m━━━━━━━━━━━━━━━━━━━━━━━━━━━━━━━━━━━━━━━━\u001b[0m \u001b[32m85.0/85.0 kB\u001b[0m \u001b[31m5.9 MB/s\u001b[0m eta \u001b[36m0:00:00\u001b[0m\n",
            "\u001b[?25hDownloading databricks_sdk-0.50.0-py3-none-any.whl (692 kB)\n",
            "\u001b[2K   \u001b[90m━━━━━━━━━━━━━━━━━━━━━━━━━━━━━━━━━━━━━━━━\u001b[0m \u001b[32m692.3/692.3 kB\u001b[0m \u001b[31m38.2 MB/s\u001b[0m eta \u001b[36m0:00:00\u001b[0m\n",
            "\u001b[?25hDownloading fastapi-0.115.12-py3-none-any.whl (95 kB)\n",
            "\u001b[2K   \u001b[90m━━━━━━━━━━━━━━━━━━━━━━━━━━━━━━━━━━━━━━━━\u001b[0m \u001b[32m95.2/95.2 kB\u001b[0m \u001b[31m5.4 MB/s\u001b[0m eta \u001b[36m0:00:00\u001b[0m\n",
            "\u001b[?25hDownloading graphql_core-3.2.6-py3-none-any.whl (203 kB)\n",
            "\u001b[2K   \u001b[90m━━━━━━━━━━━━━━━━━━━━━━━━━━━━━━━━━━━━━━━━\u001b[0m \u001b[32m203.4/203.4 kB\u001b[0m \u001b[31m13.9 MB/s\u001b[0m eta \u001b[36m0:00:00\u001b[0m\n",
            "\u001b[?25hDownloading graphql_relay-3.2.0-py3-none-any.whl (16 kB)\n",
            "Downloading uvicorn-0.34.2-py3-none-any.whl (62 kB)\n",
            "\u001b[2K   \u001b[90m━━━━━━━━━━━━━━━━━━━━━━━━━━━━━━━━━━━━━━━━\u001b[0m \u001b[32m62.5/62.5 kB\u001b[0m \u001b[31m5.1 MB/s\u001b[0m eta \u001b[36m0:00:00\u001b[0m\n",
            "\u001b[?25hDownloading starlette-0.46.2-py3-none-any.whl (72 kB)\n",
            "\u001b[2K   \u001b[90m━━━━━━━━━━━━━━━━━━━━━━━━━━━━━━━━━━━━━━━━\u001b[0m \u001b[32m72.0/72.0 kB\u001b[0m \u001b[31m5.4 MB/s\u001b[0m eta \u001b[36m0:00:00\u001b[0m\n",
            "\u001b[?25hInstalling collected packages: uvicorn, gunicorn, graphql-core, starlette, graphql-relay, docker, alembic, graphene, fastapi, databricks-sdk, mlflow-skinny, mlflow\n",
            "Successfully installed alembic-1.15.2 databricks-sdk-0.50.0 docker-7.1.0 fastapi-0.115.12 graphene-3.4.3 graphql-core-3.2.6 graphql-relay-3.2.0 gunicorn-23.0.0 mlflow-2.21.3 mlflow-skinny-2.21.3 starlette-0.46.2 uvicorn-0.34.2\n"
          ]
        }
      ]
    },
    {
      "cell_type": "code",
      "source": [
        "import numpy as np\n",
        "import pandas as pd\n",
        "import matplotlib.pyplot as plt\n",
        "import tensorflow as tf\n",
        "\n",
        "from tensorflow.keras.models import Sequential\n",
        "from tensorflow.keras.layers import LSTM, Dense, Dropout\n",
        "from tensorflow.keras.callbacks import Callback\n",
        "from sklearn.preprocessing import MinMaxScaler, StandardScaler\n",
        "from sklearn.metrics import mean_squared_error, mean_absolute_error, r2_score\n",
        "import holidays\n",
        "from workalendar.usa import UnitedStates  # can change\n",
        "from datetime import datetime, timedelta\n",
        "import pickle\n",
        "\n",
        "from google.colab import drive, files, userdata\n",
        "import os\n",
        "\n",
        "import mlflow\n",
        "import mlflow.tensorflow\n",
        "from pyngrok import ngrok\n",
        "\n",
        "from huggingface_hub import login, HfApi, HfFolder, Repository, create_repo, upload_folder"
      ],
      "metadata": {
        "id": "o0y1wXxnvJNY"
      },
      "execution_count": 2,
      "outputs": []
    },
    {
      "cell_type": "code",
      "source": [
        "HF_TOKEN = userdata.get(\"HF_TOKEN\")\n",
        "NGROK_AUTH_TOKEN = userdata.get('NGROK_AUTH_TOKEN')\n",
        "GITHUB_PAT = userdata.get('GITHUB_PAT')"
      ],
      "metadata": {
        "id": "mWmQnmnfQlA7"
      },
      "execution_count": 3,
      "outputs": []
    },
    {
      "cell_type": "code",
      "source": [
        "login(token=HF_TOKEN)"
      ],
      "metadata": {
        "id": "faGzBwxrQiLb"
      },
      "execution_count": 4,
      "outputs": []
    },
    {
      "cell_type": "code",
      "source": [
        "# load dataset\n",
        "drive.mount('/content/drive')\n",
        "drive_base_path = '/content/drive/My Drive/503Nproj/datasets'\n",
        "file_path = os.path.join(drive_base_path, 'player_count_history.csv')\n",
        "df = pd.read_csv(file_path, parse_dates=['date'])"
      ],
      "metadata": {
        "colab": {
          "base_uri": "https://localhost:8080/"
        },
        "id": "_k0YTx2MvUOL",
        "outputId": "a467ff79-15b7-4c55-c0bf-e7f6e3eb0507"
      },
      "execution_count": 6,
      "outputs": [
        {
          "output_type": "stream",
          "name": "stdout",
          "text": [
            "Drive already mounted at /content/drive; to attempt to forcibly remount, call drive.mount(\"/content/drive\", force_remount=True).\n"
          ]
        }
      ]
    },
    {
      "cell_type": "code",
      "source": [
        "# feature engineering\n",
        "us_holidays = holidays.US()\n",
        "cal = UnitedStates()\n",
        "df['is_holiday_holidays_lib'] = df['date'].apply(lambda x: int(x in us_holidays))\n",
        "df['is_holiday_workalendar'] = df['date'].apply(lambda x: int(cal.is_holiday(x)))\n",
        "df['day_of_week'] = df['date'].dt.dayofweek  # i.e., monday=0, tuesday=1, ..., sunday=6"
      ],
      "metadata": {
        "id": "fFvQWpEnvQh6"
      },
      "execution_count": 7,
      "outputs": []
    },
    {
      "cell_type": "code",
      "source": [
        "# target column & features\n",
        "target_col = 'total players'\n",
        "feature_cols = [col for col in df.columns if col not in ['date', target_col]]"
      ],
      "metadata": {
        "id": "26l3ZXQvvoLr"
      },
      "execution_count": 8,
      "outputs": []
    },
    {
      "cell_type": "code",
      "source": [
        "# scaling\n",
        "scaler_players = MinMaxScaler()\n",
        "df[[target_col]] = scaler_players.fit_transform(df[[target_col]])  # train only on total players\n",
        "with open('scaler_players.pkl', 'wb') as f:\n",
        "    pickle.dump(scaler_players, f)\n",
        "print(f\"Scaler was trained on {scaler_players.n_features_in_} features\")\n",
        "\n",
        "\n",
        "scaler_features = MinMaxScaler()\n",
        "df[feature_cols] = scaler_features.fit_transform(df[feature_cols])\n"
      ],
      "metadata": {
        "id": "NMJmgd_FvsGr",
        "colab": {
          "base_uri": "https://localhost:8080/"
        },
        "outputId": "160c39ea-e773-4444-d083-da77456abcf9"
      },
      "execution_count": 9,
      "outputs": [
        {
          "output_type": "stream",
          "name": "stdout",
          "text": [
            "Scaler was trained on 1 features\n"
          ]
        }
      ]
    },
    {
      "cell_type": "code",
      "source": [
        "print(df.isnull().sum()) # get number of missing values\n",
        "df.fillna(df.mean(), inplace=True)"
      ],
      "metadata": {
        "colab": {
          "base_uri": "https://localhost:8080/"
        },
        "id": "67HkMV1PFbVK",
        "outputId": "ce43796e-b900-4260-aa4d-2f82a75ac8d0"
      },
      "execution_count": 10,
      "outputs": [
        {
          "output_type": "stream",
          "name": "stdout",
          "text": [
            "date                       0\n",
            "570                        0\n",
            "730                        0\n",
            "578080                     0\n",
            "1172470                    0\n",
            "                          ..\n",
            "1086940                    0\n",
            "total players              0\n",
            "is_holiday_holidays_lib    0\n",
            "is_holiday_workalendar     0\n",
            "day_of_week                0\n",
            "Length: 102, dtype: int64\n"
          ]
        }
      ]
    },
    {
      "cell_type": "code",
      "source": [
        "print(df.dtypes)\n"
      ],
      "metadata": {
        "colab": {
          "base_uri": "https://localhost:8080/"
        },
        "id": "Ahahj23xFkcA",
        "outputId": "78e89147-be17-4f54-8cf5-f702eeca5a5a"
      },
      "execution_count": 11,
      "outputs": [
        {
          "output_type": "stream",
          "name": "stdout",
          "text": [
            "date                       datetime64[ns]\n",
            "570                               float64\n",
            "730                               float64\n",
            "578080                            float64\n",
            "1172470                           float64\n",
            "                                ...      \n",
            "1086940                           float64\n",
            "total players                     float64\n",
            "is_holiday_holidays_lib           float64\n",
            "is_holiday_workalendar            float64\n",
            "day_of_week                       float64\n",
            "Length: 102, dtype: object\n"
          ]
        }
      ]
    },
    {
      "cell_type": "code",
      "source": [
        "# sequence preparation\n",
        "def create_sequences(data, seq_length):\n",
        "    X, y = [], []\n",
        "    for i in range(len(data) - seq_length):\n",
        "        X.append(data[i:i + seq_length, :-1])  # features\n",
        "        y.append(data[i + seq_length, -1])  # target variable i.e., total players\n",
        "    return np.array(X), np.array(y)\n",
        "\n",
        "seq_length = 30  # use last 30 days to predict\n",
        "data = df[feature_cols].values\n",
        "X, y = create_sequences(data, seq_length)\n",
        "\n",
        "# train-validation-test split (0.7-0.15-0.15)\n",
        "train_size = int(0.7 * len(X))\n",
        "val_size = int(0.15 * len(X))\n",
        "test_size = len(X) - train_size - val_size\n",
        "X_train, y_train = X[:train_size], y[:train_size]\n",
        "X_val, y_val = X[train_size:train_size+val_size], y[train_size:train_size+val_size]\n",
        "X_test, y_test = X[train_size+val_size:], y[train_size+val_size:]\n"
      ],
      "metadata": {
        "id": "h8wdQeCTF8BO"
      },
      "execution_count": 12,
      "outputs": []
    },
    {
      "cell_type": "code",
      "source": [
        "print(f\"X_train shape: {X_train.shape}, y_train shape: {y_train.shape}\") #verify that X train & test shapes make sense\n",
        "print(f\"X_test shape: {X_test.shape}, y_test shape: {y_test.shape}\")"
      ],
      "metadata": {
        "colab": {
          "base_uri": "https://localhost:8080/"
        },
        "id": "F2bR6E02GSAf",
        "outputId": "6e1143d9-e958-4e3b-d302-f7767d1c520b"
      },
      "execution_count": 13,
      "outputs": [
        {
          "output_type": "stream",
          "name": "stdout",
          "text": [
            "X_train shape: (489, 30, 99), y_train shape: (489,)\n",
            "X_test shape: (106, 30, 99), y_test shape: (106,)\n"
          ]
        }
      ]
    },
    {
      "cell_type": "code",
      "source": [
        "mlflow.tensorflow.autolog(disable=True)\n",
        "\n",
        "class MLflowLoggingCallback(Callback):\n",
        "    def on_epoch_end(self, epoch, logs=None):\n",
        "        logs = logs or {}\n",
        "        print(f\"\\nEpoch {epoch} logs: {logs}\\n\")\n",
        "        for key, value in logs.items():\n",
        "            mlflow.log_metric(key, value, step=epoch)"
      ],
      "metadata": {
        "id": "QAAN1fUpRpx3"
      },
      "execution_count": 15,
      "outputs": []
    },
    {
      "cell_type": "code",
      "source": [
        "# LSTM model training\n",
        "model = Sequential([\n",
        "    LSTM(100, return_sequences=True, input_shape=(seq_length, X.shape[2])),\n",
        "    Dropout(0.2),\n",
        "    LSTM(100, return_sequences=False),\n",
        "    Dropout(0.2),\n",
        "    Dense(50, activation='relu'),\n",
        "    Dense(1)\n",
        "])\n",
        "\n",
        "model.compile(optimizer='adam', loss='mse', metrics=['mae', 'mse'])\n",
        "\n",
        "with mlflow.start_run(run_name=\"player-count-predictor\"):\n",
        "  model.fit(X_train, y_train,\n",
        "            epochs=30,\n",
        "            batch_size=16,\n",
        "            validation_data=(X_test, y_test),\n",
        "            callbacks=[MLflowLoggingCallback()])"
      ],
      "metadata": {
        "colab": {
          "base_uri": "https://localhost:8080/"
        },
        "id": "udmwPWumvzgq",
        "outputId": "31ba8aa9-18e3-40f2-f9cd-435fa8bed4ab"
      },
      "execution_count": 25,
      "outputs": [
        {
          "output_type": "stream",
          "name": "stdout",
          "text": [
            "Epoch 1/30\n"
          ]
        },
        {
          "output_type": "stream",
          "name": "stderr",
          "text": [
            "/usr/local/lib/python3.11/dist-packages/keras/src/layers/rnn/rnn.py:200: UserWarning: Do not pass an `input_shape`/`input_dim` argument to a layer. When using Sequential models, prefer using an `Input(shape)` object as the first layer in the model instead.\n",
            "  super().__init__(**kwargs)\n"
          ]
        },
        {
          "output_type": "stream",
          "name": "stdout",
          "text": [
            "\u001b[1m30/31\u001b[0m \u001b[32m━━━━━━━━━━━━━━━━━━━\u001b[0m\u001b[37m━\u001b[0m \u001b[1m0s\u001b[0m 38ms/step - loss: 0.1538 - mae: 0.3309 - mse: 0.1538\n",
            "Epoch 0 logs: {'loss': 0.1316794455051422, 'mae': 0.3089166581630707, 'mse': 0.1316794455051422, 'val_loss': 0.11134225130081177, 'val_mae': 0.28843727707862854, 'val_mse': 0.11134225130081177}\n",
            "\n",
            "\u001b[1m31/31\u001b[0m \u001b[32m━━━━━━━━━━━━━━━━━━━━\u001b[0m\u001b[37m\u001b[0m \u001b[1m6s\u001b[0m 60ms/step - loss: 0.1524 - mae: 0.3295 - mse: 0.1524 - val_loss: 0.1113 - val_mae: 0.2884 - val_mse: 0.1113\n",
            "Epoch 2/30\n",
            "\u001b[1m31/31\u001b[0m \u001b[32m━━━━━━━━━━━━━━━━━━━━\u001b[0m\u001b[37m\u001b[0m \u001b[1m0s\u001b[0m 38ms/step - loss: 0.1161 - mae: 0.2921 - mse: 0.1161\n",
            "Epoch 1 logs: {'loss': 0.12164680659770966, 'mae': 0.2978580594062805, 'mse': 0.12164680659770966, 'val_loss': 0.11006203293800354, 'val_mae': 0.2869580388069153, 'val_mse': 0.11006203293800354}\n",
            "\n",
            "\u001b[1m31/31\u001b[0m \u001b[32m━━━━━━━━━━━━━━━━━━━━\u001b[0m\u001b[37m\u001b[0m \u001b[1m1s\u001b[0m 43ms/step - loss: 0.1163 - mae: 0.2923 - mse: 0.1163 - val_loss: 0.1101 - val_mae: 0.2870 - val_mse: 0.1101\n",
            "Epoch 3/30\n",
            "\u001b[1m31/31\u001b[0m \u001b[32m━━━━━━━━━━━━━━━━━━━━\u001b[0m\u001b[37m\u001b[0m \u001b[1m0s\u001b[0m 47ms/step - loss: 0.1245 - mae: 0.3036 - mse: 0.1245\n",
            "Epoch 2 logs: {'loss': 0.12042395025491714, 'mae': 0.29712438583374023, 'mse': 0.12042395025491714, 'val_loss': 0.10920104384422302, 'val_mae': 0.28486183285713196, 'val_mse': 0.10920104384422302}\n",
            "\n",
            "\u001b[1m31/31\u001b[0m \u001b[32m━━━━━━━━━━━━━━━━━━━━\u001b[0m\u001b[37m\u001b[0m \u001b[1m3s\u001b[0m 60ms/step - loss: 0.1244 - mae: 0.3034 - mse: 0.1244 - val_loss: 0.1092 - val_mae: 0.2849 - val_mse: 0.1092\n",
            "Epoch 4/30\n",
            "\u001b[1m30/31\u001b[0m \u001b[32m━━━━━━━━━━━━━━━━━━━\u001b[0m\u001b[37m━\u001b[0m \u001b[1m0s\u001b[0m 62ms/step - loss: 0.1090 - mae: 0.2823 - mse: 0.1090\n",
            "Epoch 3 logs: {'loss': 0.11164236068725586, 'mae': 0.2890218198299408, 'mse': 0.11164236068725586, 'val_loss': 0.12278474122285843, 'val_mae': 0.2975429892539978, 'val_mse': 0.12278474122285843}\n",
            "\n",
            "\u001b[1m31/31\u001b[0m \u001b[32m━━━━━━━━━━━━━━━━━━━━\u001b[0m\u001b[37m\u001b[0m \u001b[1m2s\u001b[0m 75ms/step - loss: 0.1092 - mae: 0.2827 - mse: 0.1092 - val_loss: 0.1228 - val_mae: 0.2975 - val_mse: 0.1228\n",
            "Epoch 5/30\n",
            "\u001b[1m31/31\u001b[0m \u001b[32m━━━━━━━━━━━━━━━━━━━━\u001b[0m\u001b[37m\u001b[0m \u001b[1m0s\u001b[0m 46ms/step - loss: 0.1124 - mae: 0.2891 - mse: 0.1124\n",
            "Epoch 4 logs: {'loss': 0.1147681474685669, 'mae': 0.29148781299591064, 'mse': 0.1147681474685669, 'val_loss': 0.11338411271572113, 'val_mae': 0.28537243604660034, 'val_mse': 0.11338411271572113}\n",
            "\n",
            "\u001b[1m31/31\u001b[0m \u001b[32m━━━━━━━━━━━━━━━━━━━━\u001b[0m\u001b[37m\u001b[0m \u001b[1m2s\u001b[0m 53ms/step - loss: 0.1125 - mae: 0.2891 - mse: 0.1125 - val_loss: 0.1134 - val_mae: 0.2854 - val_mse: 0.1134\n",
            "Epoch 6/30\n",
            "\u001b[1m31/31\u001b[0m \u001b[32m━━━━━━━━━━━━━━━━━━━━\u001b[0m\u001b[37m\u001b[0m \u001b[1m0s\u001b[0m 38ms/step - loss: 0.1138 - mae: 0.2907 - mse: 0.1138\n",
            "Epoch 5 logs: {'loss': 0.11375711858272552, 'mae': 0.2881532311439514, 'mse': 0.11375711858272552, 'val_loss': 0.11310894042253494, 'val_mae': 0.2785893678665161, 'val_mse': 0.11310894042253494}\n",
            "\n",
            "\u001b[1m31/31\u001b[0m \u001b[32m━━━━━━━━━━━━━━━━━━━━\u001b[0m\u001b[37m\u001b[0m \u001b[1m2s\u001b[0m 44ms/step - loss: 0.1138 - mae: 0.2906 - mse: 0.1138 - val_loss: 0.1131 - val_mae: 0.2786 - val_mse: 0.1131\n",
            "Epoch 7/30\n",
            "\u001b[1m30/31\u001b[0m \u001b[32m━━━━━━━━━━━━━━━━━━━\u001b[0m\u001b[37m━\u001b[0m \u001b[1m0s\u001b[0m 38ms/step - loss: 0.0972 - mae: 0.2615 - mse: 0.0972\n",
            "Epoch 6 logs: {'loss': 0.09973139315843582, 'mae': 0.26676300168037415, 'mse': 0.09973139315843582, 'val_loss': 0.0962563082575798, 'val_mae': 0.2470778524875641, 'val_mse': 0.0962563082575798}\n",
            "\n",
            "\u001b[1m31/31\u001b[0m \u001b[32m━━━━━━━━━━━━━━━━━━━━\u001b[0m\u001b[37m\u001b[0m \u001b[1m1s\u001b[0m 42ms/step - loss: 0.0973 - mae: 0.2619 - mse: 0.0973 - val_loss: 0.0963 - val_mae: 0.2471 - val_mse: 0.0963\n",
            "Epoch 8/30\n",
            "\u001b[1m30/31\u001b[0m \u001b[32m━━━━━━━━━━━━━━━━━━━\u001b[0m\u001b[37m━\u001b[0m \u001b[1m0s\u001b[0m 38ms/step - loss: 0.0820 - mae: 0.2326 - mse: 0.0820\n",
            "Epoch 7 logs: {'loss': 0.07339181005954742, 'mae': 0.21540763974189758, 'mse': 0.07339181005954742, 'val_loss': 0.06666885316371918, 'val_mae': 0.17635612189769745, 'val_mse': 0.06666885316371918}\n",
            "\n",
            "\u001b[1m31/31\u001b[0m \u001b[32m━━━━━━━━━━━━━━━━━━━━\u001b[0m\u001b[37m\u001b[0m \u001b[1m1s\u001b[0m 44ms/step - loss: 0.0814 - mae: 0.2316 - mse: 0.0814 - val_loss: 0.0667 - val_mae: 0.1764 - val_mse: 0.0667\n",
            "Epoch 9/30\n",
            "\u001b[1m30/31\u001b[0m \u001b[32m━━━━━━━━━━━━━━━━━━━\u001b[0m\u001b[37m━\u001b[0m \u001b[1m0s\u001b[0m 39ms/step - loss: 0.0659 - mae: 0.1947 - mse: 0.0659\n",
            "Epoch 8 logs: {'loss': 0.05883987247943878, 'mae': 0.18527564406394958, 'mse': 0.05883987247943878, 'val_loss': 0.048540372401475906, 'val_mae': 0.16650328040122986, 'val_mse': 0.048540372401475906}\n",
            "\n",
            "\u001b[1m31/31\u001b[0m \u001b[32m━━━━━━━━━━━━━━━━━━━━\u001b[0m\u001b[37m\u001b[0m \u001b[1m1s\u001b[0m 43ms/step - loss: 0.0655 - mae: 0.1941 - mse: 0.0655 - val_loss: 0.0485 - val_mae: 0.1665 - val_mse: 0.0485\n",
            "Epoch 10/30\n",
            "\u001b[1m30/31\u001b[0m \u001b[32m━━━━━━━━━━━━━━━━━━━\u001b[0m\u001b[37m━\u001b[0m \u001b[1m0s\u001b[0m 38ms/step - loss: 0.0446 - mae: 0.1588 - mse: 0.0446\n",
            "Epoch 9 logs: {'loss': 0.040775712579488754, 'mae': 0.1531120240688324, 'mse': 0.040775712579488754, 'val_loss': 0.02837136574089527, 'val_mae': 0.13091982901096344, 'val_mse': 0.02837136574089527}\n",
            "\n",
            "\u001b[1m31/31\u001b[0m \u001b[32m━━━━━━━━━━━━━━━━━━━━\u001b[0m\u001b[37m\u001b[0m \u001b[1m3s\u001b[0m 44ms/step - loss: 0.0444 - mae: 0.1585 - mse: 0.0444 - val_loss: 0.0284 - val_mae: 0.1309 - val_mse: 0.0284\n",
            "Epoch 11/30\n",
            "\u001b[1m31/31\u001b[0m \u001b[32m━━━━━━━━━━━━━━━━━━━━\u001b[0m\u001b[37m\u001b[0m \u001b[1m0s\u001b[0m 62ms/step - loss: 0.0268 - mae: 0.1278 - mse: 0.0268\n",
            "Epoch 10 logs: {'loss': 0.02496742643415928, 'mae': 0.11975062638521194, 'mse': 0.02496742643415928, 'val_loss': 0.017519472166895866, 'val_mae': 0.10010240972042084, 'val_mse': 0.017519472166895866}\n",
            "\n",
            "\u001b[1m31/31\u001b[0m \u001b[32m━━━━━━━━━━━━━━━━━━━━\u001b[0m\u001b[37m\u001b[0m \u001b[1m2s\u001b[0m 69ms/step - loss: 0.0268 - mae: 0.1276 - mse: 0.0268 - val_loss: 0.0175 - val_mae: 0.1001 - val_mse: 0.0175\n",
            "Epoch 12/30\n",
            "\u001b[1m31/31\u001b[0m \u001b[32m━━━━━━━━━━━━━━━━━━━━\u001b[0m\u001b[37m\u001b[0m \u001b[1m0s\u001b[0m 64ms/step - loss: 0.0171 - mae: 0.0953 - mse: 0.0171\n",
            "Epoch 11 logs: {'loss': 0.014617668464779854, 'mae': 0.08898544311523438, 'mse': 0.014617668464779854, 'val_loss': 0.01836915872991085, 'val_mae': 0.09246587753295898, 'val_mse': 0.01836915872991085}\n",
            "\n",
            "\u001b[1m31/31\u001b[0m \u001b[32m━━━━━━━━━━━━━━━━━━━━\u001b[0m\u001b[37m\u001b[0m \u001b[1m2s\u001b[0m 71ms/step - loss: 0.0171 - mae: 0.0951 - mse: 0.0171 - val_loss: 0.0184 - val_mae: 0.0925 - val_mse: 0.0184\n",
            "Epoch 13/30\n",
            "\u001b[1m30/31\u001b[0m \u001b[32m━━━━━━━━━━━━━━━━━━━\u001b[0m\u001b[37m━\u001b[0m \u001b[1m0s\u001b[0m 46ms/step - loss: 0.0101 - mae: 0.0695 - mse: 0.0101\n",
            "Epoch 12 logs: {'loss': 0.0077582839876413345, 'mae': 0.06450440734624863, 'mse': 0.0077582839876413345, 'val_loss': 0.006079195067286491, 'val_mae': 0.05822494626045227, 'val_mse': 0.006079195067286491}\n",
            "\n",
            "\u001b[1m31/31\u001b[0m \u001b[32m━━━━━━━━━━━━━━━━━━━━\u001b[0m\u001b[37m\u001b[0m \u001b[1m2s\u001b[0m 50ms/step - loss: 0.0099 - mae: 0.0692 - mse: 0.0099 - val_loss: 0.0061 - val_mae: 0.0582 - val_mse: 0.0061\n",
            "Epoch 14/30\n",
            "\u001b[1m30/31\u001b[0m \u001b[32m━━━━━━━━━━━━━━━━━━━\u001b[0m\u001b[37m━\u001b[0m \u001b[1m0s\u001b[0m 38ms/step - loss: 0.0069 - mae: 0.0601 - mse: 0.0069\n",
            "Epoch 13 logs: {'loss': 0.007174750789999962, 'mae': 0.0616016648709774, 'mse': 0.007174750789999962, 'val_loss': 0.022477785125374794, 'val_mae': 0.10428321361541748, 'val_mse': 0.022477785125374794}\n",
            "\n",
            "\u001b[1m31/31\u001b[0m \u001b[32m━━━━━━━━━━━━━━━━━━━━\u001b[0m\u001b[37m\u001b[0m \u001b[1m2s\u001b[0m 43ms/step - loss: 0.0069 - mae: 0.0602 - mse: 0.0069 - val_loss: 0.0225 - val_mae: 0.1043 - val_mse: 0.0225\n",
            "Epoch 15/30\n",
            "\u001b[1m30/31\u001b[0m \u001b[32m━━━━━━━━━━━━━━━━━━━\u001b[0m\u001b[37m━\u001b[0m \u001b[1m0s\u001b[0m 38ms/step - loss: 0.0066 - mae: 0.0604 - mse: 0.0066\n",
            "Epoch 14 logs: {'loss': 0.007062063552439213, 'mae': 0.06031079590320587, 'mse': 0.007062063552439213, 'val_loss': 0.011351363733410835, 'val_mae': 0.07035370171070099, 'val_mse': 0.011351363733410835}\n",
            "\n",
            "\u001b[1m31/31\u001b[0m \u001b[32m━━━━━━━━━━━━━━━━━━━━\u001b[0m\u001b[37m\u001b[0m \u001b[1m1s\u001b[0m 43ms/step - loss: 0.0066 - mae: 0.0603 - mse: 0.0066 - val_loss: 0.0114 - val_mae: 0.0704 - val_mse: 0.0114\n",
            "Epoch 16/30\n",
            "\u001b[1m31/31\u001b[0m \u001b[32m━━━━━━━━━━━━━━━━━━━━\u001b[0m\u001b[37m\u001b[0m \u001b[1m0s\u001b[0m 38ms/step - loss: 0.0056 - mae: 0.0534 - mse: 0.0056\n",
            "Epoch 15 logs: {'loss': 0.006547537632286549, 'mae': 0.056752029806375504, 'mse': 0.006547537632286549, 'val_loss': 0.001780949649401009, 'val_mae': 0.03129459172487259, 'val_mse': 0.001780949649401009}\n",
            "\n",
            "\u001b[1m31/31\u001b[0m \u001b[32m━━━━━━━━━━━━━━━━━━━━\u001b[0m\u001b[37m\u001b[0m \u001b[1m3s\u001b[0m 45ms/step - loss: 0.0057 - mae: 0.0535 - mse: 0.0057 - val_loss: 0.0018 - val_mae: 0.0313 - val_mse: 0.0018\n",
            "Epoch 17/30\n",
            "\u001b[1m31/31\u001b[0m \u001b[32m━━━━━━━━━━━━━━━━━━━━\u001b[0m\u001b[37m\u001b[0m \u001b[1m0s\u001b[0m 38ms/step - loss: 0.0042 - mae: 0.0470 - mse: 0.0042\n",
            "Epoch 16 logs: {'loss': 0.004719202872365713, 'mae': 0.04972013458609581, 'mse': 0.004719202872365713, 'val_loss': 0.010012570768594742, 'val_mae': 0.06582719087600708, 'val_mse': 0.010012570768594742}\n",
            "\n",
            "\u001b[1m31/31\u001b[0m \u001b[32m━━━━━━━━━━━━━━━━━━━━\u001b[0m\u001b[37m\u001b[0m \u001b[1m1s\u001b[0m 43ms/step - loss: 0.0042 - mae: 0.0471 - mse: 0.0042 - val_loss: 0.0100 - val_mae: 0.0658 - val_mse: 0.0100\n",
            "Epoch 18/30\n",
            "\u001b[1m31/31\u001b[0m \u001b[32m━━━━━━━━━━━━━━━━━━━━\u001b[0m\u001b[37m\u001b[0m \u001b[1m0s\u001b[0m 58ms/step - loss: 0.0034 - mae: 0.0449 - mse: 0.0034\n",
            "Epoch 17 logs: {'loss': 0.0033854872453957796, 'mae': 0.044049959629774094, 'mse': 0.0033854872453957796, 'val_loss': 0.003313157008960843, 'val_mae': 0.039078544825315475, 'val_mse': 0.003313157008960843}\n",
            "\n",
            "\u001b[1m31/31\u001b[0m \u001b[32m━━━━━━━━━━━━━━━━━━━━\u001b[0m\u001b[37m\u001b[0m \u001b[1m3s\u001b[0m 65ms/step - loss: 0.0034 - mae: 0.0449 - mse: 0.0034 - val_loss: 0.0033 - val_mae: 0.0391 - val_mse: 0.0033\n",
            "Epoch 19/30\n",
            "\u001b[1m30/31\u001b[0m \u001b[32m━━━━━━━━━━━━━━━━━━━\u001b[0m\u001b[37m━\u001b[0m \u001b[1m0s\u001b[0m 62ms/step - loss: 0.0034 - mae: 0.0425 - mse: 0.0034\n",
            "Epoch 18 logs: {'loss': 0.0035217348486185074, 'mae': 0.043903011828660965, 'mse': 0.0035217348486185074, 'val_loss': 0.0032792973797768354, 'val_mae': 0.040638621896505356, 'val_mse': 0.0032792973797768354}\n",
            "\n",
            "\u001b[1m31/31\u001b[0m \u001b[32m━━━━━━━━━━━━━━━━━━━━\u001b[0m\u001b[37m\u001b[0m \u001b[1m2s\u001b[0m 69ms/step - loss: 0.0034 - mae: 0.0426 - mse: 0.0034 - val_loss: 0.0033 - val_mae: 0.0406 - val_mse: 0.0033\n",
            "Epoch 20/30\n",
            "\u001b[1m31/31\u001b[0m \u001b[32m━━━━━━━━━━━━━━━━━━━━\u001b[0m\u001b[37m\u001b[0m \u001b[1m0s\u001b[0m 50ms/step - loss: 0.0031 - mae: 0.0423 - mse: 0.0031\n",
            "Epoch 19 logs: {'loss': 0.0029455546755343676, 'mae': 0.04160740599036217, 'mse': 0.0029455546755343676, 'val_loss': 0.001925997668877244, 'val_mae': 0.03242291510105133, 'val_mse': 0.001925997668877244}\n",
            "\n",
            "\u001b[1m31/31\u001b[0m \u001b[32m━━━━━━━━━━━━━━━━━━━━\u001b[0m\u001b[37m\u001b[0m \u001b[1m2s\u001b[0m 55ms/step - loss: 0.0031 - mae: 0.0422 - mse: 0.0031 - val_loss: 0.0019 - val_mae: 0.0324 - val_mse: 0.0019\n",
            "Epoch 21/30\n",
            "\u001b[1m31/31\u001b[0m \u001b[32m━━━━━━━━━━━━━━━━━━━━\u001b[0m\u001b[37m\u001b[0m \u001b[1m0s\u001b[0m 38ms/step - loss: 0.0031 - mae: 0.0410 - mse: 0.0031\n",
            "Epoch 20 logs: {'loss': 0.003405950963497162, 'mae': 0.04328925907611847, 'mse': 0.003405950963497162, 'val_loss': 0.0051927464082837105, 'val_mae': 0.04566808417439461, 'val_mse': 0.0051927464082837105}\n",
            "\n",
            "\u001b[1m31/31\u001b[0m \u001b[32m━━━━━━━━━━━━━━━━━━━━\u001b[0m\u001b[37m\u001b[0m \u001b[1m1s\u001b[0m 43ms/step - loss: 0.0031 - mae: 0.0411 - mse: 0.0031 - val_loss: 0.0052 - val_mae: 0.0457 - val_mse: 0.0052\n",
            "Epoch 22/30\n",
            "\u001b[1m30/31\u001b[0m \u001b[32m━━━━━━━━━━━━━━━━━━━\u001b[0m\u001b[37m━\u001b[0m \u001b[1m0s\u001b[0m 38ms/step - loss: 0.0031 - mae: 0.0414 - mse: 0.0031\n",
            "Epoch 21 logs: {'loss': 0.003130463883280754, 'mae': 0.04173905402421951, 'mse': 0.003130463883280754, 'val_loss': 0.004309084732085466, 'val_mae': 0.03884105756878853, 'val_mse': 0.004309084732085466}\n",
            "\n",
            "\u001b[1m31/31\u001b[0m \u001b[32m━━━━━━━━━━━━━━━━━━━━\u001b[0m\u001b[37m\u001b[0m \u001b[1m3s\u001b[0m 44ms/step - loss: 0.0031 - mae: 0.0414 - mse: 0.0031 - val_loss: 0.0043 - val_mae: 0.0388 - val_mse: 0.0043\n",
            "Epoch 23/30\n",
            "\u001b[1m30/31\u001b[0m \u001b[32m━━━━━━━━━━━━━━━━━━━\u001b[0m\u001b[37m━\u001b[0m \u001b[1m0s\u001b[0m 38ms/step - loss: 0.0026 - mae: 0.0384 - mse: 0.0026\n",
            "Epoch 22 logs: {'loss': 0.0026984098367393017, 'mae': 0.039498697966337204, 'mse': 0.0026984098367393017, 'val_loss': 0.0022292588837444782, 'val_mae': 0.03450142592191696, 'val_mse': 0.0022292588837444782}\n",
            "\n",
            "\u001b[1m31/31\u001b[0m \u001b[32m━━━━━━━━━━━━━━━━━━━━\u001b[0m\u001b[37m\u001b[0m \u001b[1m1s\u001b[0m 42ms/step - loss: 0.0026 - mae: 0.0385 - mse: 0.0026 - val_loss: 0.0022 - val_mae: 0.0345 - val_mse: 0.0022\n",
            "Epoch 24/30\n",
            "\u001b[1m30/31\u001b[0m \u001b[32m━━━━━━━━━━━━━━━━━━━\u001b[0m\u001b[37m━\u001b[0m \u001b[1m0s\u001b[0m 38ms/step - loss: 0.0026 - mae: 0.0378 - mse: 0.0026\n",
            "Epoch 23 logs: {'loss': 0.002341894432902336, 'mae': 0.03672619163990021, 'mse': 0.002341894432902336, 'val_loss': 0.00198789918795228, 'val_mae': 0.03266417607665062, 'val_mse': 0.00198789918795228}\n",
            "\n",
            "\u001b[1m31/31\u001b[0m \u001b[32m━━━━━━━━━━━━━━━━━━━━\u001b[0m\u001b[37m\u001b[0m \u001b[1m3s\u001b[0m 43ms/step - loss: 0.0025 - mae: 0.0378 - mse: 0.0025 - val_loss: 0.0020 - val_mae: 0.0327 - val_mse: 0.0020\n",
            "Epoch 25/30\n",
            "\u001b[1m31/31\u001b[0m \u001b[32m━━━━━━━━━━━━━━━━━━━━\u001b[0m\u001b[37m\u001b[0m \u001b[1m0s\u001b[0m 58ms/step - loss: 0.0024 - mae: 0.0373 - mse: 0.0024\n",
            "Epoch 24 logs: {'loss': 0.0022092086728662252, 'mae': 0.03612064942717552, 'mse': 0.0022092086728662252, 'val_loss': 0.0032005191314965487, 'val_mae': 0.045344382524490356, 'val_mse': 0.0032005191314965487}\n",
            "\n",
            "\u001b[1m31/31\u001b[0m \u001b[32m━━━━━━━━━━━━━━━━━━━━\u001b[0m\u001b[37m\u001b[0m \u001b[1m3s\u001b[0m 65ms/step - loss: 0.0024 - mae: 0.0373 - mse: 0.0024 - val_loss: 0.0032 - val_mae: 0.0453 - val_mse: 0.0032\n",
            "Epoch 26/30\n",
            "\u001b[1m30/31\u001b[0m \u001b[32m━━━━━━━━━━━━━━━━━━━\u001b[0m\u001b[37m━\u001b[0m \u001b[1m0s\u001b[0m 63ms/step - loss: 0.0026 - mae: 0.0381 - mse: 0.0026\n",
            "Epoch 25 logs: {'loss': 0.0027551075909286737, 'mae': 0.03859095275402069, 'mse': 0.0027551075909286737, 'val_loss': 0.0016594231128692627, 'val_mae': 0.031989872455596924, 'val_mse': 0.0016594231128692627}\n",
            "\n",
            "\u001b[1m31/31\u001b[0m \u001b[32m━━━━━━━━━━━━━━━━━━━━\u001b[0m\u001b[37m\u001b[0m \u001b[1m2s\u001b[0m 69ms/step - loss: 0.0026 - mae: 0.0381 - mse: 0.0026 - val_loss: 0.0017 - val_mae: 0.0320 - val_mse: 0.0017\n",
            "Epoch 27/30\n",
            "\u001b[1m30/31\u001b[0m \u001b[32m━━━━━━━━━━━━━━━━━━━\u001b[0m\u001b[37m━\u001b[0m \u001b[1m0s\u001b[0m 51ms/step - loss: 0.0029 - mae: 0.0390 - mse: 0.0029\n",
            "Epoch 26 logs: {'loss': 0.0031230654567480087, 'mae': 0.04010477289557457, 'mse': 0.0031230654567480087, 'val_loss': 0.003979887813329697, 'val_mae': 0.039677686989307404, 'val_mse': 0.003979887813329697}\n",
            "\n",
            "\u001b[1m31/31\u001b[0m \u001b[32m━━━━━━━━━━━━━━━━━━━━\u001b[0m\u001b[37m\u001b[0m \u001b[1m2s\u001b[0m 55ms/step - loss: 0.0030 - mae: 0.0391 - mse: 0.0030 - val_loss: 0.0040 - val_mae: 0.0397 - val_mse: 0.0040\n",
            "Epoch 28/30\n",
            "\u001b[1m30/31\u001b[0m \u001b[32m━━━━━━━━━━━━━━━━━━━\u001b[0m\u001b[37m━\u001b[0m \u001b[1m0s\u001b[0m 38ms/step - loss: 0.0023 - mae: 0.0357 - mse: 0.0023\n",
            "Epoch 27 logs: {'loss': 0.002215986605733633, 'mae': 0.03489818423986435, 'mse': 0.002215986605733633, 'val_loss': 0.002608250128105283, 'val_mae': 0.038746144622564316, 'val_mse': 0.002608250128105283}\n",
            "\n",
            "\u001b[1m31/31\u001b[0m \u001b[32m━━━━━━━━━━━━━━━━━━━━\u001b[0m\u001b[37m\u001b[0m \u001b[1m1s\u001b[0m 42ms/step - loss: 0.0023 - mae: 0.0357 - mse: 0.0023 - val_loss: 0.0026 - val_mae: 0.0387 - val_mse: 0.0026\n",
            "Epoch 29/30\n",
            "\u001b[1m31/31\u001b[0m \u001b[32m━━━━━━━━━━━━━━━━━━━━\u001b[0m\u001b[37m\u001b[0m \u001b[1m0s\u001b[0m 38ms/step - loss: 0.0025 - mae: 0.0365 - mse: 0.0025\n",
            "Epoch 28 logs: {'loss': 0.002624010667204857, 'mae': 0.0377783328294754, 'mse': 0.002624010667204857, 'val_loss': 0.0017672843532636762, 'val_mae': 0.033055853098630905, 'val_mse': 0.0017672843532636762}\n",
            "\n",
            "\u001b[1m31/31\u001b[0m \u001b[32m━━━━━━━━━━━━━━━━━━━━\u001b[0m\u001b[37m\u001b[0m \u001b[1m3s\u001b[0m 46ms/step - loss: 0.0025 - mae: 0.0365 - mse: 0.0025 - val_loss: 0.0018 - val_mae: 0.0331 - val_mse: 0.0018\n",
            "Epoch 30/30\n",
            "\u001b[1m30/31\u001b[0m \u001b[32m━━━━━━━━━━━━━━━━━━━\u001b[0m\u001b[37m━\u001b[0m \u001b[1m0s\u001b[0m 38ms/step - loss: 0.0020 - mae: 0.0342 - mse: 0.0020\n",
            "Epoch 29 logs: {'loss': 0.0019531224388629198, 'mae': 0.033482626080513, 'mse': 0.0019531224388629198, 'val_loss': 0.0023850740399211645, 'val_mae': 0.03859817609190941, 'val_mse': 0.0023850740399211645}\n",
            "\n",
            "\u001b[1m31/31\u001b[0m \u001b[32m━━━━━━━━━━━━━━━━━━━━\u001b[0m\u001b[37m\u001b[0m \u001b[1m2s\u001b[0m 43ms/step - loss: 0.0020 - mae: 0.0342 - mse: 0.0020 - val_loss: 0.0024 - val_mae: 0.0386 - val_mse: 0.0024\n"
          ]
        }
      ]
    },
    {
      "cell_type": "code",
      "source": [
        "# model evaluation\n",
        "y_pred = model.predict(X_test)\n",
        "\n",
        "plt.plot(np.arange(len(y_test)), y_test, label=\"True\")\n",
        "plt.plot(np.arange(len(y_pred)), y_pred, label=\"Predicted\")\n",
        "plt.legend()\n",
        "plt.title(\"LSTM Prediction vs True\")\n",
        "\n",
        "plt.savefig(\"prediction_plot.png\")"
      ],
      "metadata": {
        "colab": {
          "base_uri": "https://localhost:8080/",
          "height": 470
        },
        "id": "FMD-kJUnv4fH",
        "outputId": "53ea1d63-6bc1-4c77-ac40-9e55c35e5bef"
      },
      "execution_count": 26,
      "outputs": [
        {
          "output_type": "stream",
          "name": "stdout",
          "text": [
            "\u001b[1m4/4\u001b[0m \u001b[32m━━━━━━━━━━━━━━━━━━━━\u001b[0m\u001b[37m\u001b[0m \u001b[1m1s\u001b[0m 222ms/step\n"
          ]
        },
        {
          "output_type": "display_data",
          "data": {
            "text/plain": [
              "<Figure size 640x480 with 1 Axes>"
            ],
            "image/png": "[encoded data removed]"
          },
          "metadata": {}
        }
      ]
    },
    {
      "cell_type": "code",
      "source": [
        "print(model.input_shape)  # expecting: (None, sequence_length, feature_size)\n"
      ],
      "metadata": {
        "colab": {
          "base_uri": "https://localhost:8080/"
        },
        "id": "7yL3fLCKK3ch",
        "outputId": "2f1d4397-fc55-4208-f152-677f214ec9f9"
      },
      "execution_count": 27,
      "outputs": [
        {
          "output_type": "stream",
          "name": "stdout",
          "text": [
            "(None, 30, 99)\n"
          ]
        }
      ]
    },
    {
      "cell_type": "code",
      "source": [
        "def predict_future(date):\n",
        "    date = pd.to_datetime(date)\n",
        "    day_of_week = date.weekday()\n",
        "    is_holiday_holidays = int(date in us_holidays)\n",
        "    is_holiday_workalendar = int(cal.is_holiday(date))\n",
        "\n",
        "    last_seq = df[feature_cols].values[-seq_length:]  # ensure the shape is correct\n",
        "\n",
        "    # ensure extra_features has same number of columns as features\n",
        "    extra_features = np.zeros(len(feature_cols))  # replace null values w/ zeros\n",
        "    extra_features[-3:] = [day_of_week / 6.0, is_holiday_holidays, is_holiday_workalendar]  # normalization\n",
        "\n",
        "    # stack last_seq w/ extra_features\n",
        "    last_seq = np.vstack([last_seq[1:], extra_features])  # (seq_length, num_features)\n",
        "\n",
        "    # reshape sequence to (1, seq_length, num_features)\n",
        "    last_seq = np.expand_dims(last_seq, axis=0)  # shape (1, seq_length, num_features)\n",
        "\n",
        "    # ensure input shape matches model's expected input (99 features)\n",
        "    last_seq = last_seq[:, :, :99]  # trim/select first 99 features\n",
        "\n",
        "    print(f\"last_seq shape before prediction: {last_seq.shape}\")  # ensure last sequence shape is what we expect\n",
        "    print(f\"Last input sequence:\\n{last_seq}\")\n",
        "\n",
        "    # prediction\n",
        "    prediction = model.predict(last_seq)\n",
        "    print(f\"Raw model output: {prediction[0][0]}\")  # debugging\n",
        "\n",
        "    # check inverse transformation\n",
        "    predicted_players_scaled = np.array([[prediction[0][0]]])  # shape should be (1, 1)\n",
        "\n",
        "    predicted_players = scaler_players.inverse_transform(predicted_players_scaled)[0][0]\n",
        "\n",
        "    print(f\"Predicted total players (scaled): {prediction[0][0]}\")\n",
        "    print(f\"Predicted total players after inverse transform: {predicted_players}\")\n",
        "\n",
        "    # debugging\n",
        "    print(\"Scaler Min:\", scaler_players.data_min_)\n",
        "    print(\"Scaler Max:\", scaler_players.data_max_)\n",
        "\n",
        "    # manual computation of inverse transformation\n",
        "    min_val = scaler_players.data_min_[0]  # min value used in training\n",
        "    max_val = scaler_players.data_max_[0]  # max value used in training\n",
        "    predicted_manual = min_val + (max_val - min_val) * prediction[0][0]\n",
        "\n",
        "    print(\"Manually-calculated inverse transform:\", predicted_manual)\n",
        "\n",
        "    # extra debugging\n",
        "    print(f\"Day of week (normalized): {day_of_week / 6.0}\")\n",
        "    print(f\"Holiday feature 1: {is_holiday_holidays}\")\n",
        "    print(f\"Holiday feature 2: {is_holiday_workalendar}\")\n",
        "\n",
        "    return predicted_players\n",
        "\n",
        "# test w/ future date\n",
        "future_date = \"2025-04-18\"\n",
        "predict_future(future_date)"
      ],
      "metadata": {
        "colab": {
          "base_uri": "https://localhost:8080/"
        },
        "id": "MoDI906gwWvF",
        "outputId": "772e6800-4433-45d9-e862-5de8c11dcf95"
      },
      "execution_count": 28,
      "outputs": [
        {
          "output_type": "stream",
          "name": "stdout",
          "text": [
            "last_seq shape before prediction: (1, 30, 99)\n",
            "Last input sequence:\n",
            "[[[0.32600305 0.8271795  0.76030521 ... 0.10815171 0.         0.        ]\n",
            "  [0.36596354 0.91537016 0.8116333  ... 0.12318548 0.         0.        ]\n",
            "  [0.13071803 0.71624328 0.75790826 ... 0.10026211 1.         1.        ]\n",
            "  ...\n",
            "  [0.06112511 0.90901566 0.91060804 ... 0.07094232 0.         0.        ]\n",
            "  [0.2081065  1.         0.95082665 ... 0.09067778 0.         0.        ]\n",
            "  [0.         0.         0.         ... 0.         0.66666667 0.        ]]]\n",
            "\u001b[1m1/1\u001b[0m \u001b[32m━━━━━━━━━━━━━━━━━━━━\u001b[0m\u001b[37m\u001b[0m \u001b[1m0s\u001b[0m 43ms/step\n",
            "Raw model output: 0.5731843709945679\n",
            "Predicted total players (scaled): 0.5731843709945679\n",
            "Predicted total players after inverse transform: 6226531.5\n",
            "Scaler Min: [4719905.]\n",
            "Scaler Max: [7348425.]\n",
            "Manually-calculated inverse transform: 6226531.582846642\n",
            "Day of week (normalized): 0.6666666666666666\n",
            "Holiday feature 1: 0\n",
            "Holiday feature 2: 0\n"
          ]
        },
        {
          "output_type": "execute_result",
          "data": {
            "text/plain": [
              "np.float32(6226531.5)"
            ]
          },
          "metadata": {},
          "execution_count": 28
        }
      ]
    },
    {
      "cell_type": "code",
      "source": [
        "model.export(\"player_count_model\")"
      ],
      "metadata": {
        "id": "ENqi2_XMAbtt",
        "colab": {
          "base_uri": "https://localhost:8080/"
        },
        "outputId": "df001c33-769e-422f-b134-04b2b492a6e6"
      },
      "execution_count": 29,
      "outputs": [
        {
          "output_type": "stream",
          "name": "stdout",
          "text": [
            "Saved artifact at 'player_count_model'. The following endpoints are available:\n",
            "\n",
            "* Endpoint 'serve'\n",
            "  args_0 (POSITIONAL_ONLY): TensorSpec(shape=(None, 30, 99), dtype=tf.float32, name='keras_tensor_14')\n",
            "Output Type:\n",
            "  TensorSpec(shape=(None, 1), dtype=tf.float32, name=None)\n",
            "Captures:\n",
            "  135048205484112: TensorSpec(shape=(), dtype=tf.resource, name=None)\n",
            "  135048205486032: TensorSpec(shape=(), dtype=tf.resource, name=None)\n",
            "  135048205486608: TensorSpec(shape=(), dtype=tf.resource, name=None)\n",
            "  135048205485648: TensorSpec(shape=(), dtype=tf.resource, name=None)\n",
            "  135048205487184: TensorSpec(shape=(), dtype=tf.resource, name=None)\n",
            "  135048205487760: TensorSpec(shape=(), dtype=tf.resource, name=None)\n",
            "  135048205485072: TensorSpec(shape=(), dtype=tf.resource, name=None)\n",
            "  135048205488144: TensorSpec(shape=(), dtype=tf.resource, name=None)\n",
            "  135048205486992: TensorSpec(shape=(), dtype=tf.resource, name=None)\n",
            "  135048205488912: TensorSpec(shape=(), dtype=tf.resource, name=None)\n"
          ]
        }
      ]
    },
    {
      "cell_type": "code",
      "source": [
        "! pkill -f \"mlflow ui\"\n",
        "\n",
        "get_ipython().system_raw(\"mlflow ui --port 5000 &\") # run tracking UI in the background"
      ],
      "metadata": {
        "id": "UrFzIDgaSHql"
      },
      "execution_count": 30,
      "outputs": []
    },
    {
      "cell_type": "code",
      "source": [
        "# terminate any open tunnels\n",
        "ngrok.kill()\n",
        "\n",
        "ngrok.set_auth_token(NGROK_AUTH_TOKEN)\n",
        "\n",
        "# open HTTP tunnel on port 5000 = http://localhost:5000\n",
        "public_url = ngrok.connect(5000, proto=\"http\")\n",
        "\n",
        "print(f\" * Ngrok tunnel: {public_url}\")"
      ],
      "metadata": {
        "colab": {
          "base_uri": "https://localhost:8080/"
        },
        "id": "7PNANlnlSJ5P",
        "outputId": "dff63568-22be-48c7-9290-c4752ce72a3f"
      },
      "execution_count": 31,
      "outputs": [
        {
          "output_type": "stream",
          "name": "stdout",
          "text": [
            " * Ngrok tunnel: NgrokTunnel: \"https://0110-35-237-135-32.ngrok-free.app\" -> \"http://localhost:5000\"\n"
          ]
        }
      ]
    },
    {
      "cell_type": "code",
      "source": [
        "upload_folder (\n",
        "    repo_id=\"reemchaaban/player-count-prediction\",\n",
        "    folder_path=\"player_count_model\",\n",
        "    path_in_repo=\"player_count_model\",\n",
        "    commit_message=\"Initial commit from Google Colab\"\n",
        ")\n"
      ],
      "metadata": {
        "colab": {
          "base_uri": "https://localhost:8080/",
          "height": 200,
          "referenced_widgets": [
            "fb2a20915b3c4372b8cd56e0207d2ca5",
            "8c530f359cc9418c976c70508f824916",
            "9038a9f7d96d468497ac3d70c43ae94e",
            "28278947b30c47089cc709cd42161dbc",
            "a33bed1e46404c5c93a9035f514e207c",
            "4306179c2b6640018a482545795b81dd",
            "5b53a13a94814aff8ec176630d66406c",
            "45bdde27434d46fbb1d33a8a4c68dcab",
            "9ea7ac73437040dcb29247bcd0c24e66",
            "5699ee4ff7014c75925f3f659260f0ee",
            "343a1846d13045c9b39882e5cabc6f21",
            "06000fff4de04113982a5d554f9e14ac",
            "491b3b46181e42d0b6637c6c74b919ff",
            "1c585ab53a1e4f8e8685b9ec9f9e06f7",
            "86ee694bafe34941be88f6b476085c28",
            "d21583f9213b4941ae6d412800c180c8",
            "6ff03560c84947e19e44b4a195383dea",
            "f7cbde4bb4fe4aae8022c2d929325f6d",
            "3b94c38c67314975a0b961580784aed8",
            "7d35bd1069a04e2a90a635beeefb083c",
            "580c168510d5463dbdc130f2fb8f6599",
            "fbf5fbd079a84cf085199399de6c92cb",
            "b99ed21e40ca4ede9bf20430e9163c11",
            "b54658d88b784820933afa46964ece78",
            "798139f07bdc44daaa084661ade431ee",
            "f7b31a332eae463ca6ddf50570594ff5",
            "810fcffafee84b56b4e408cb6a7b1e27",
            "2c7d4fc12eae4c7284e7bf2f071a383d",
            "ca64323035c24b088d7fc1380bbf2f4a",
            "e221023b7cf84aa49ba01021034a7e61",
            "daeeb91e2c6e4119ba39a576716742d7",
            "68aa10fa11b5480a95637da4ee430db8",
            "d9d45df7ca8a46b39069f16456ee11ec",
            "9e478404dd0443fb93e7b8e6285cd354",
            "7234ebe7d7cc4bb1a1c95cdfdc7a11e6",
            "3d4c5453b9d049118a138a405da19297",
            "861b0dfa086a4af980f95b7fa4b9a737",
            "18dc27f4d85845c5ba47bdb14bfa215d",
            "0759c0ac49e042bba0e5b1bbd24eae80",
            "442244d1bce6475d9a03c5646b3162f1",
            "9d50030136294667915fdd4051865bb8",
            "8b889679113d492c8989b2d9bf5548d3",
            "6725ba9281a34a9f8d92601b565f94c9",
            "b1728773c3744d0cb413984998e9316f"
          ]
        },
        "id": "NND1uGm1CE37",
        "outputId": "d33ee479-6d8b-4f6a-866e-59015d46798f"
      },
      "execution_count": 32,
      "outputs": [
        {
          "output_type": "display_data",
          "data": {
            "text/plain": [
              "fingerprint.pb:   0%|          | 0.00/57.0 [00:00<?, ?B/s]"
            ],
            "application/vnd.jupyter.widget-view+json": {
              "version_major": 2,
              "version_minor": 0,
              "model_id": "fb2a20915b3c4372b8cd56e0207d2ca5"
            }
          },
          "metadata": {}
        },
        {
          "output_type": "display_data",
          "data": {
            "text/plain": [
              "saved_model.pb:   0%|          | 0.00/129k [00:00<?, ?B/s]"
            ],
            "application/vnd.jupyter.widget-view+json": {
              "version_major": 2,
              "version_minor": 0,
              "model_id": "06000fff4de04113982a5d554f9e14ac"
            }
          },
          "metadata": {}
        },
        {
          "output_type": "display_data",
          "data": {
            "text/plain": [
              "Upload 3 LFS files:   0%|          | 0/3 [00:00<?, ?it/s]"
            ],
            "application/vnd.jupyter.widget-view+json": {
              "version_major": 2,
              "version_minor": 0,
              "model_id": "b99ed21e40ca4ede9bf20430e9163c11"
            }
          },
          "metadata": {}
        },
        {
          "output_type": "display_data",
          "data": {
            "text/plain": [
              "variables.data-00000-of-00001:   0%|          | 0.00/1.33M [00:00<?, ?B/s]"
            ],
            "application/vnd.jupyter.widget-view+json": {
              "version_major": 2,
              "version_minor": 0,
              "model_id": "9e478404dd0443fb93e7b8e6285cd354"
            }
          },
          "metadata": {}
        },
        {
          "output_type": "execute_result",
          "data": {
            "text/plain": [
              "CommitInfo(commit_url='https://huggingface.co/reemchaaban/player-count-prediction/commit/7d1d7c285ce6ac110ac738caa342ccd970863154', commit_message='Initial commit from Google Colab', commit_description='', oid='7d1d7c285ce6ac110ac738caa342ccd970863154', pr_url=None, repo_url=RepoUrl('https://huggingface.co/reemchaaban/player-count-prediction', endpoint='https://huggingface.co', repo_type='model', repo_id='reemchaaban/player-count-prediction'), pr_revision=None, pr_num=None)"
            ],
            "application/vnd.google.colaboratory.intrinsic+json": {
              "type": "string"
            }
          },
          "metadata": {},
          "execution_count": 32
        }
      ]
    },
    {
      "cell_type": "code",
      "source": [
        "GITHUB_USERNAME = \"reemchaaban\"\n",
        "GITHUB_EMAIL = \"reem.chaabann@gmail.com\"\n",
        "REPO_NAME = \"game_system\"\n",
        "BRANCH = \"main\"\n",
        "TARGET_SUBDIR = \"IEP1\"\n",
        "\n",
        "token = userdata.get('GITHUB_PAT')\n",
        "\n",
        "!git config --global user.email \"{GITHUB_EMAIL}\"\n",
        "!git config --global user.name \"{GITHUB_USERNAME}\"\n",
        "\n",
        "!rm -rf {REPO_NAME}\n",
        "!git clone https://{token}@github.com/{GITHUB_USERNAME}/{REPO_NAME}.git\n",
        "\n",
        "!rm -rf {REPO_NAME}/{TARGET_SUBDIR}/model\n",
        "!mkdir -p {REPO_NAME}/{TARGET_SUBDIR}/model\n",
        "!ls\n",
        "!cp player_count_model/fingerprint.pb {REPO_NAME}/{TARGET_SUBDIR}/model/\n",
        "!cp player_count_model/saved_model.pb {REPO_NAME}/{TARGET_SUBDIR}/model/\n",
        "!cp -r player_count_model/variables {REPO_NAME}/{TARGET_SUBDIR}/model/\n",
        "\n",
        "!cp scaler_players.pkl {REPO_NAME}/{TARGET_SUBDIR}/utils/scaler_players.pkl\n",
        "\n",
        "%cd {REPO_NAME}\n",
        "!git add .\n",
        "!git commit -m \"Update IEP1 model and scaler from Colab\"\n",
        "!git push origin {BRANCH}\n",
        "%cd .."
      ],
      "metadata": {
        "id": "1CroXY2bhCRa",
        "colab": {
          "base_uri": "https://localhost:8080/"
        },
        "outputId": "3e01dab5-0281-4cae-c51b-41c284d92da0"
      },
      "execution_count": 33,
      "outputs": [
        {
          "output_type": "stream",
          "name": "stdout",
          "text": [
            "Cloning into 'game_system'...\n",
            "remote: Enumerating objects: 148, done.\u001b[K\n",
            "remote: Counting objects: 100% (34/34), done.\u001b[K\n",
            "remote: Compressing objects: 100% (33/33), done.\u001b[K\n",
            "remote: Total 148 (delta 13), reused 6 (delta 1), pack-reused 114 (from 1)\u001b[K\n",
            "Receiving objects: 100% (148/148), 15.70 MiB | 27.15 MiB/s, done.\n",
            "Resolving deltas: 100% (50/50), done.\n",
            "drive\t     mlruns\t\t prediction_plot.png  scaler_players.pkl\n",
            "game_system  player_count_model  sample_data\n",
            "/content/game_system\n",
            "[main 14f9336] Update IEP1 model and scaler from Colab\n",
            " 4 files changed, 1 insertion(+), 1 deletion(-)\n",
            " rewrite IEP1/model/variables/variables.data-00000-of-00001 (91%)\n",
            " rewrite IEP1/model/variables/variables.index (98%)\n",
            "Enumerating objects: 17, done.\n",
            "Counting objects: 100% (17/17), done.\n",
            "Delta compression using up to 2 threads\n",
            "Compressing objects: 100% (9/9), done.\n",
            "Writing objects: 100% (9/9), 1.17 MiB | 4.54 MiB/s, done.\n",
            "Total 9 (delta 4), reused 0 (delta 0), pack-reused 0\n",
            "remote: Resolving deltas: 100% (4/4), completed with 4 local objects.\u001b[K\n",
            "To https://github.com/reemchaaban/game_system.git\n",
            "   b254ed3..14f9336  main -> main\n",
            "/content\n"
          ]
        }
      ]
    }
  ]
}
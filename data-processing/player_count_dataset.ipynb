{
  "nbformat": 4,
  "nbformat_minor": 0,
  "metadata": {
    "colab": {
      "provenance": [],
      "include_colab_link": true
    },
    "kernelspec": {
      "name": "python3",
      "display_name": "Python 3"
    },
    "language_info": {
      "name": "python"
    }
  },
  "cells": [
    {
      "cell_type": "markdown",
      "metadata": {
        "id": "view-in-github",
        "colab_type": "text"
      },
      "source": [
        "<a href=\"https://colab.research.google.com/github/reemchaaban/game_system/blob/main/data-processing/player_count_dataset.ipynb\" target=\"_parent\"><img src=\"https://colab.research.google.com/assets/colab-badge.svg\" alt=\"Open In Colab\"/></a>"
      ]
    },
    {
      "cell_type": "markdown",
      "source": [
        "## Preparation"
      ],
      "metadata": {
        "id": "SKICWX0Hhcku"
      }
    },
    {
      "cell_type": "code",
      "execution_count": null,
      "metadata": {
        "id": "Uf1kJQCDcakC"
      },
      "outputs": [],
      "source": [
        "import pandas as pd\n",
        "import requests\n",
        "import json\n",
        "import time\n",
        "from datetime import datetime, timedelta\n",
        "from google.colab import drive, userdata, files"
      ]
    },
    {
      "cell_type": "markdown",
      "source": [
        "### Import all games from game library file"
      ],
      "metadata": {
        "id": "E3Q_O9j3i35H"
      }
    },
    {
      "cell_type": "code",
      "source": [
        "df = pd.read_csv(\"game_library_data.csv\")"
      ],
      "metadata": {
        "id": "bnLt53uMi8fG"
      },
      "execution_count": null,
      "outputs": []
    },
    {
      "cell_type": "markdown",
      "source": [
        "## Get player count since start date"
      ],
      "metadata": {
        "id": "BHREw6zLlG2n"
      }
    },
    {
      "cell_type": "markdown",
      "source": [
        "### JSON file containing API respones from SteamDB of player count data per game over time\n"
      ],
      "metadata": {
        "id": "qB4FkW_4OEc_"
      }
    },
    {
      "cell_type": "code",
      "source": [
        "with open(\"steamdb_api_responses.json\", \"r\") as f:\n",
        "    api_responses = json.load(f)"
      ],
      "metadata": {
        "id": "NVN_x6BI0bNu"
      },
      "execution_count": null,
      "outputs": []
    },
    {
      "cell_type": "markdown",
      "source": [
        "### Based on SteamDB data, pick"
      ],
      "metadata": {
        "id": "Fubo4m9rONW4"
      }
    },
    {
      "cell_type": "code",
      "source": [
        "# calculate earliest date no earlier than 2 years from today (ensure sufficient data)\n",
        "two_years_ago = datetime.today() - timedelta(days=2 * 365)\n",
        "earliest_valid_date = min(\n",
        "    [datetime.utcfromtimestamp(data['data']['start']) for data in api_responses.values() if data.get('success')],\n",
        "    default=two_years_ago  # fallback if no valid data\n",
        ")\n",
        "\n",
        "# ensure start date is at least 2 years ago\n",
        "start_date = max(earliest_valid_date, two_years_ago)\n",
        "\n",
        "# formatting\n",
        "start_date = start_date.replace(hour=0, minute=0, second=0, microsecond=0)\n",
        "\n",
        "# list to store game data\n",
        "game_data = []\n",
        "\n",
        "# loop through each game in API responses JSON\n",
        "for game_id, data in api_responses.items():\n",
        "    if data.get('success'):\n",
        "        release_timestamp = data['data']['start']\n",
        "        release_date = datetime.utcfromtimestamp(release_timestamp).strftime(\"%Y-%m-%d\")  # Convert to readable date\n",
        "\n",
        "        # append to list\n",
        "        game_data.append({\"game_id\": game_id, \"game_name\": f\"Game {game_id}\", \"release_date\": release_date})\n",
        "\n",
        "game_df = pd.DataFrame(game_data)\n",
        "\n",
        "# convert release_date to datetime format (for sorting)\n",
        "game_df[\"release_date\"] = pd.to_datetime(game_df[\"release_date\"])\n",
        "\n",
        "# sort by most recent release date\n",
        "game_df = game_df.sort_values(by=\"release_date\", ascending=False)\n",
        "\n",
        "pd.set_option('display.max_rows', None)\n",
        "pd.set_option('display.max_columns', None)\n",
        "print(game_df)"
      ],
      "metadata": {
        "colab": {
          "base_uri": "https://localhost:8080/"
        },
        "id": "-XvBJMAOK5cf",
        "outputId": "aa4d557a-9ef2-4442-fdcc-e7d98f387586"
      },
      "execution_count": null,
      "outputs": [
        {
          "output_type": "stream",
          "name": "stdout",
          "text": [
            "    game_id     game_name release_date\n",
            "97  2358720  Game 2358720   2024-08-20\n",
            "99  1623730  Game 1623730   2024-01-19\n",
            "49  1966720  Game 1966720   2023-10-23\n",
            "84  1326470  Game 1326470   2023-02-23\n",
            "44   990080   Game 990080   2023-02-08\n",
            "5   1938090  Game 1938090   2022-10-20\n",
            "95  1811260  Game 1811260   2022-09-29\n",
            "12  1245620  Game 1245620   2022-02-24\n",
            "50  1517290  Game 1517290   2021-11-19\n",
            "51  1240440  Game 1240440   2021-11-15\n",
            "4   1063730  Game 1063730   2021-09-27\n",
            "29  1203220  Game 1203220   2021-08-12\n",
            "9   1599340  Game 1599340   2021-06-11\n",
            "22   892970   Game 892970   2021-02-02\n",
            "58  1468810  Game 1468810   2021-01-27\n",
            "23  1091500  Game 1091500   2020-12-10\n",
            "3   1172470  Game 1172470   2020-11-05\n",
            "98  1086940  Game 1086940   2020-10-06\n",
            "43   739630   Game 739630   2020-09-18\n",
            "35  1097150  Game 1097150   2020-08-04\n",
            "70  1222670  Game 1222670   2020-06-18\n",
            "87  1238810  Game 1238810   2020-06-11\n",
            "61  1174180  Game 1174180   2019-12-05\n",
            "19  1085660  Game 1085660   2019-10-01\n",
            "90  1089350  Game 1089350   2019-09-05\n",
            "30   899770   Game 899770   2019-04-30\n",
            "69   814380   Game 814380   2019-03-21\n",
            "34   945360   Game 945360   2018-11-16\n",
            "60   755790   Game 755790   2018-09-19\n",
            "52   582010   Game 582010   2017-08-14\n",
            "82   532210   Game 532210   2017-08-14\n",
            "57   648800   Game 648800   2017-08-14\n",
            "39   552990   Game 552990   2017-08-14\n",
            "73   594650   Game 594650   2017-08-14\n",
            "8    553850   Game 553850   2017-08-14\n",
            "92   632360   Game 632360   2017-08-14\n",
            "86   526870   Game 526870   2017-08-13\n",
            "63   550650   Game 550650   2017-05-12\n",
            "2    578080   Game 578080   2017-02-01\n",
            "40   438100   Game 438100   2017-01-01\n",
            "64   367520   Game 367520   2016-12-01\n",
            "77   261550   Game 261550   2016-10-01\n",
            "59   444200   Game 444200   2016-10-01\n",
            "38   444090   Game 444090   2016-09-01\n",
            "16   431960   Game 431960   2016-09-01\n",
            "67   477160   Game 477160   2016-06-01\n",
            "85   289070   Game 289070   2016-05-11\n",
            "33   381210   Game 381210   2016-02-04\n",
            "72   433850   Game 433850   2016-02-01\n",
            "71   417910   Game 417910   2016-01-01\n",
            "94   275850   Game 275850   2015-12-24\n",
            "31   413150   Game 413150   2015-12-01\n",
            "55   386360   Game 386360   2015-09-01\n",
            "81   377160   Game 377160   2015-08-26\n",
            "79   304050   Game 304050   2015-06-01\n",
            "18   359550   Game 359550   2015-05-25\n",
            "21   346110   Game 346110   2015-05-01\n",
            "36   292030   Game 292030   2015-04-27\n",
            "6    271590   Game 271590   2015-04-01\n",
            "96   322170   Game 322170   2014-12-01\n",
            "28   322330   Game 322330   2014-12-01\n",
            "62   250900   Game 250900   2014-11-01\n",
            "83   255710   Game 255710   2014-08-01\n",
            "65   301520   Game 301520   2014-07-01\n",
            "10   304930   Game 304930   2014-06-01\n",
            "27   242760   Game 242760   2014-05-01\n",
            "15   291550   Game 291550   2014-04-01\n",
            "66   239140   Game 239140   2014-01-07\n",
            "48   252950   Game 252950   2014-01-07\n",
            "42   272060   Game 272060   2014-01-01\n",
            "89   221100   Game 221100   2013-12-17\n",
            "68   251570   Game 251570   2013-12-01\n",
            "20   252490   Game 252490   2013-12-01\n",
            "76   219990   Game 219990   2013-11-01\n",
            "54   108600   Game 108600   2013-11-01\n",
            "26   238960   Game 238960   2013-10-01\n",
            "11   236390   Game 236390   2013-04-01\n",
            "46   227940   Game 227940   2013-03-01\n",
            "80   107410   Game 107410   2013-03-01\n",
            "75   230410   Game 230410   2013-02-01\n",
            "24   218620   Game 218620   2013-01-01\n",
            "37   227300   Game 227300   2013-01-01\n",
            "91   204360   Game 204360   2012-09-01\n",
            "93    96000    Game 96000   2012-07-01\n",
            "1       730      Game 730   2011-11-30\n",
            "0       570      Game 570   2011-09-22\n",
            "13   105600   Game 105600   2011-05-15\n",
            "45      620      Game 620   2011-04-18\n",
            "78     8930     Game 8930   2010-09-20\n",
            "7       550      Game 550   2009-11-24\n",
            "25    12210    Game 12210   2008-12-06\n",
            "41      320      Game 320   2008-09-07\n",
            "74      220      Game 220   2008-09-07\n",
            "32      340      Game 340   2008-09-07\n",
            "47       70       Game 70   2008-09-07\n",
            "14      440      Game 440   2007-09-19\n",
            "17     4000     Game 4000   2005-01-20\n",
            "53      240      Game 240   2004-10-11\n",
            "88       60       Game 60   2004-01-14\n",
            "56       10       Game 10   2004-01-14\n"
          ]
        }
      ]
    },
    {
      "cell_type": "code",
      "source": [
        "# find game IDs of games released LESS than 2 years ago\n",
        "recent_game_ids = game_df[game_df[\"release_date\"] > pd.to_datetime(start_date)][\"game_id\"].astype(str).tolist()\n",
        "\n",
        "# remove those recent games\n",
        "df = df[~df[\"game_id\"].astype(str).isin(recent_game_ids)]\n",
        "\n",
        "print(f\"Removed {len(recent_game_ids)} games released after {start_date}.\")"
      ],
      "metadata": {
        "colab": {
          "base_uri": "https://localhost:8080/"
        },
        "id": "xfHfxP9xOyWG",
        "outputId": "492ee929-efc6-4312-97a9-08a08419f1e4"
      },
      "execution_count": null,
      "outputs": [
        {
          "output_type": "stream",
          "name": "stdout",
          "text": [
            "Removed 3 games released after 2023-03-17 00:00:00.\n"
          ]
        }
      ]
    },
    {
      "cell_type": "code",
      "source": [
        "all_game_data = {}\n",
        "player_count_history = pd.DataFrame()\n",
        "\n",
        "# Loop through each game in the api_responses dictionary\n",
        "for game_id, data in api_responses.items():\n",
        "    print(f\"Processing game ID: {game_id}\")\n",
        "\n",
        "    if data == {}:\n",
        "      print(f\"Missing data from the JSON for game ID {game_id} !\")\n",
        "      continue\n",
        "\n",
        "    if data['success']:\n",
        "        start_timestamp = data['data']['start']\n",
        "        step_seconds = data['data']['step']\n",
        "        player_counts = data['data']['values']\n",
        "\n",
        "        # convert start timestamp to datetime\n",
        "        game_start_date = datetime.utcfromtimestamp(start_timestamp)\n",
        "\n",
        "        # calculate index to start from based on start_date\n",
        "        if start_date >= game_start_date:\n",
        "            days_diff = (start_date - game_start_date).days\n",
        "            start_index = days_diff\n",
        "        else:\n",
        "            # if the game's data starts after goal start_date, skip this game\n",
        "            print(f\"Skipping game ID {game_id}, no data before {start_date}\")\n",
        "            continue\n",
        "\n",
        "        # prepare list of dates starting from provided start_date\n",
        "        dates = [start_date + timedelta(days=i) for i in range(len(player_counts) - start_index)]\n",
        "\n",
        "        # trim player counts to start from goal start_date\n",
        "        trimmed_player_counts = player_counts[start_index:]\n",
        "\n",
        "        # replace \"None\" with 0\n",
        "        trimmed_player_counts = [0 if count is None else count for count in trimmed_player_counts]\n",
        "\n",
        "        # store trimmed data\n",
        "        all_game_data[game_id] = trimmed_player_counts\n",
        "\n",
        "# create df from data\n",
        "player_count_history = pd.DataFrame(all_game_data, index=dates)\n",
        "player_count_history.index.name = 'date'\n",
        "\n",
        "# sort df by date\n",
        "player_count_history.sort_index(inplace=True)"
      ],
      "metadata": {
        "colab": {
          "base_uri": "https://localhost:8080/"
        },
        "id": "jdRsgCYglY6C",
        "outputId": "67aeac45-becf-4264-91b7-96ce5a45d545"
      },
      "execution_count": null,
      "outputs": [
        {
          "output_type": "stream",
          "name": "stdout",
          "text": [
            "Processing game ID: 570\n",
            "Processing game ID: 730\n",
            "Processing game ID: 578080\n",
            "Processing game ID: 1172470\n",
            "Processing game ID: 1063730\n",
            "Processing game ID: 1938090\n",
            "Processing game ID: 271590\n",
            "Processing game ID: 550\n",
            "Processing game ID: 553850\n",
            "Processing game ID: 1599340\n",
            "Processing game ID: 304930\n",
            "Processing game ID: 236390\n",
            "Processing game ID: 1245620\n",
            "Processing game ID: 105600\n",
            "Processing game ID: 440\n",
            "Processing game ID: 291550\n",
            "Processing game ID: 431960\n",
            "Processing game ID: 4000\n",
            "Processing game ID: 359550\n",
            "Processing game ID: 1085660\n",
            "Processing game ID: 252490\n",
            "Processing game ID: 346110\n",
            "Processing game ID: 892970\n",
            "Processing game ID: 1091500\n",
            "Processing game ID: 218620\n",
            "Processing game ID: 12210\n",
            "Processing game ID: 238960\n",
            "Processing game ID: 242760\n",
            "Processing game ID: 322330\n",
            "Processing game ID: 1203220\n",
            "Processing game ID: 899770\n",
            "Processing game ID: 413150\n",
            "Processing game ID: 340\n",
            "Processing game ID: 381210\n",
            "Processing game ID: 945360\n",
            "Processing game ID: 1097150\n",
            "Processing game ID: 292030\n",
            "Processing game ID: 227300\n",
            "Processing game ID: 444090\n",
            "Processing game ID: 552990\n",
            "Processing game ID: 438100\n",
            "Processing game ID: 320\n",
            "Processing game ID: 272060\n",
            "Processing game ID: 739630\n",
            "Processing game ID: 990080\n",
            "Processing game ID: 620\n",
            "Processing game ID: 227940\n",
            "Processing game ID: 70\n",
            "Processing game ID: 252950\n",
            "Processing game ID: 1966720\n",
            "Skipping game ID 1966720, no data before 2023-03-17 00:00:00\n",
            "Processing game ID: 1517290\n",
            "Processing game ID: 1240440\n",
            "Processing game ID: 582010\n",
            "Processing game ID: 240\n",
            "Processing game ID: 108600\n",
            "Processing game ID: 386360\n",
            "Processing game ID: 10\n",
            "Processing game ID: 648800\n",
            "Processing game ID: 1468810\n",
            "Processing game ID: 444200\n",
            "Processing game ID: 755790\n",
            "Processing game ID: 1174180\n",
            "Processing game ID: 250900\n",
            "Processing game ID: 550650\n",
            "Processing game ID: 367520\n",
            "Processing game ID: 301520\n",
            "Processing game ID: 239140\n",
            "Processing game ID: 477160\n",
            "Processing game ID: 251570\n",
            "Processing game ID: 814380\n",
            "Processing game ID: 1222670\n",
            "Processing game ID: 417910\n",
            "Processing game ID: 433850\n",
            "Processing game ID: 594650\n",
            "Processing game ID: 220\n",
            "Processing game ID: 230410\n",
            "Processing game ID: 219990\n",
            "Processing game ID: 261550\n",
            "Processing game ID: 8930\n",
            "Processing game ID: 304050\n",
            "Processing game ID: 107410\n",
            "Processing game ID: 377160\n",
            "Processing game ID: 532210\n",
            "Processing game ID: 255710\n",
            "Processing game ID: 1326470\n",
            "Processing game ID: 289070\n",
            "Processing game ID: 526870\n",
            "Processing game ID: 1238810\n",
            "Processing game ID: 60\n",
            "Processing game ID: 221100\n",
            "Processing game ID: 1089350\n",
            "Processing game ID: 204360\n",
            "Processing game ID: 632360\n",
            "Processing game ID: 96000\n",
            "Processing game ID: 275850\n",
            "Processing game ID: 1811260\n",
            "Processing game ID: 322170\n",
            "Processing game ID: 2358720\n",
            "Skipping game ID 2358720, no data before 2023-03-17 00:00:00\n",
            "Processing game ID: 1086940\n",
            "Processing game ID: 1623730\n",
            "Skipping game ID 1623730, no data before 2023-03-17 00:00:00\n"
          ]
        }
      ]
    },
    {
      "cell_type": "code",
      "source": [
        "player_count_history[\"total players\"] = player_count_history.sum(axis=1)\n",
        "\n",
        "player_count_history.to_csv(\"player_count_history.csv\")"
      ],
      "metadata": {
        "id": "ZzMHNXE-RLuT"
      },
      "execution_count": null,
      "outputs": []
    }
  ]
}